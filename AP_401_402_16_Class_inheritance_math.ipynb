{
  "cells": [
    {
      "cell_type": "markdown",
      "metadata": {
        "id": "view-in-github",
        "colab_type": "text"
      },
      "source": [
        "<a href=\"https://colab.research.google.com/github/uiacap/UIAC_AP_4012/blob/main/AP_401_402_16_Class_inheritance_math.ipynb\" target=\"_parent\"><img src=\"https://colab.research.google.com/assets/colab-badge.svg\" alt=\"Open In Colab\"/></a>"
      ]
    },
    {
      "cell_type": "markdown",
      "metadata": {
        "id": "b0VB6EaMF4-L"
      },
      "source": [
        "<div dir=rtl>\n",
        "در ارث‌بری یک کلاس می‌تواند تمام ویژگی‌ها، شامل توابع و متغیرهایی که در یک کلاس دیگر تعریف شده‌اند را به خودش انتقال دهد. در این عملیات به کلاسی که ويژگی‌ها را می‌گیرد فرزند و به کلاسی که ویژگی‌ها را می‌دهد پدر می‌گویند.\n",
        "</br>\n",
        "در کد زیر، Person کلاس پدر است و کلاس Student از آن ارث برده است.\n",
        "</br>\n",
        "برای ارث‌بری در پایتون کافی‌ست در زمان تعریف کلاس فرزند، نام کلاس پدر را به عنوان ورودی به فرزند بدهیم. توجه کنید که برای این کار کلاس پدر حتما باید قبل از کلاس فرزند تعریف شده‌‌باشد. همچنین اگر برای یک کلاس پدری مشخص نکنیم، به طور پیش‌فرض object به‌عنوان پدرش در نظر گرفته می‌شود.\n",
        "</dir>"
      ]
    },
    {
      "cell_type": "code",
      "execution_count": null,
      "metadata": {
        "id": "fBEiGCdnFwkM"
      },
      "outputs": [],
      "source": [
        "class Person:\n",
        "    def __init__(self, name=\"no name\"):\n",
        "        self.name = name\n",
        "\n",
        "class Student(Person):\n",
        "  pass\n",
        "    #def __init__(self, stnumber):\n",
        "    #    self.st_number = stnumber\n",
        "    #    Person.__init__(self)\n",
        "\n",
        "st = Student(\"1234\")\n",
        "print(st.name)\n"
      ]
    },
    {
      "cell_type": "markdown",
      "metadata": {
        "id": "EKx8ap8IF4ZN"
      },
      "source": [
        "<div dir=rtl>\n",
        "برای مثال فرض کنید می‌خواهیم کلاس‌های مربوط به دانشجو، استاد، کارمند را پیاده‌سازی کنیم. این سه تعدادی ویژگی یکسان مانند کدملی و نام دارند. اگر بخواهیم به ازای هر کدام این ویژگی ها را تعریف کنیم، باعث می‌شود کد تا حد زیادی تکراری شود و در صورتی که بخواهیم یک تکه از کد را تغییر دهیم، مجبوریم چند جا از کد را تغییر دهیم؛ همچنین کدی که نوشته‌ایم، استانداردهای کد تمیز (clean-code) را نخواهد داشت. به همین علت بهتر است که ابتدا یک کلاس ‍‍Person داشته‌باشیم که شامل ویژگی‌های مشترک باشد که کلاس‌های Employee و Professor و Student از آن ارث ببرند.\n",
        "هر سه کلاس از آن ارث می‌برند. ‍‍‍\n",
        "</div>"
      ]
    },
    {
      "cell_type": "code",
      "execution_count": null,
      "metadata": {
        "id": "k9i41KnhIEDa"
      },
      "outputs": [],
      "source": []
    },
    {
      "cell_type": "code",
      "execution_count": null,
      "metadata": {
        "colab": {
          "base_uri": "https://localhost:8080/"
        },
        "id": "fxosyPAoIR9J",
        "outputId": "9a0bd5fc-cbb5-44e6-83d7-fab16fc1c8c1"
      },
      "outputs": [
        {
          "name": "stdout",
          "output_type": "stream",
          "text": [
            "1234\n",
            "no name\n"
          ]
        }
      ],
      "source": [
        "class Person:\n",
        "    def __init__(self, name=\"no name\"):\n",
        "        self.name = name\n",
        "\n",
        "class Student(Person):\n",
        "    def __init__(self, stnumber):\n",
        "        self.st_number = stnumber\n",
        "        \n",
        "\n",
        "st = Student(\"1234\")\n",
        "print(st.st_number)\n",
        "print(st.name)"
      ]
    },
    {
      "cell_type": "markdown",
      "metadata": {
        "id": "yWIr4hWfj-_2"
      },
      "source": [
        "<div dir = rtl>\n",
        "چهار کلاس ، UniversityMember, Student, Employee و Professor را پیاده سازی کنید.\n",
        "</br>\n",
        "Studentو Professor , ٍEmployee هر سه نوعی UniversityMember هستند.\n",
        "</br>\n",
        "Professor نوعی Employee است.\n",
        "</br>\n",
        "UniversityMember دو ویژگی نام و کدملی دارد. \n",
        "</br>\n",
        "ٍEmployee ویژگی pnum, base_salary  دارد\n",
        "</br>\n",
        "ُStudent ویژگی snum دارد\n",
        "</br>\n",
        "در تمام کلاس ها متدی به نام who_are_you داریم که بسته به نوع کلاس، عبارتی چاپ می کند \n",
        "</br>\n",
        "در کلاس Employee و Professor متد calc_salary را داریم که به عنوان خروجی حقوق را بر می گرداند\n",
        "</br>\n",
        "در کلاس Student متد is_international() را داریم که بر اساس کدملی مشخص می کند که دانشجو internationl هست یا خیر.\n",
        "</br>\n",
        "\n",
        "\n",
        "\n",
        "</div>\n"
      ]
    },
    {
      "cell_type": "code",
      "execution_count": null,
      "metadata": {
        "colab": {
          "base_uri": "https://localhost:8080/"
        },
        "id": "8ZGbTJojm7Vk",
        "outputId": "09d1fae0-37fb-4135-fbd2-6a60ea11a58f"
      },
      "outputs": [
        {
          "name": "stdout",
          "output_type": "stream",
          "text": [
            "I am a UniversityMember\n",
            "I am a Employee\n",
            "I am a professor\n"
          ]
        }
      ],
      "source": [
        "class UniversityMember :\n",
        "  def __init__(self, name, icode):\n",
        "    self.name = name\n",
        "    self.icode = icode\n",
        "    UniversityMember.who_are_you()\n",
        "  def who_are_you() :\n",
        "    print(\"I am a UniversityMember\")\n",
        "\n",
        "class Student(UniversityMember) :\n",
        "  def __init__(self, name, icode, snum) :\n",
        "    self.snum = snum\n",
        "    UniversityMember.__init__(self, name, icode)\n",
        "    Student.who_are_you()\n",
        "\n",
        "  def is_international(self) :\n",
        "    pass\n",
        "\n",
        "  def who_are_you() :\n",
        "    print(\"I am a student\")\n",
        "\n",
        "class Employee(UniversityMember) :\n",
        "  def __init__(self, name, icode, pnum, base_salary):\n",
        "    self.pnum = pnum\n",
        "    self.base_salary = base_salary\n",
        "    UniversityMember.__init__(self, name, icode)\n",
        "    Employee.who_are_you()\n",
        "\n",
        "  def who_are_you() :\n",
        "    print(\"I am a Employee\")\n",
        "\n",
        "  def calc_salary(self) :\n",
        "    return (self.base_salary * 1.2)\n",
        "\n",
        "class Professor(Employee) :\n",
        "  def __init__(self, name, icode, pnum, base_salary):\n",
        "    Employee.__init__(self,name, icode, pnum, base_salary)\n",
        "    Professor.who_are_you()\n",
        "\n",
        "  def who_are_you() :\n",
        "    print(\"I am a professor\")\n",
        "\n",
        "  def cals_salary(self) :\n",
        "    return (self.base_salary*1.8)\n",
        "\n",
        "p = Professor(\"Ali\", \"1234\", \"74\", 1000)"
      ]
    },
    {
      "cell_type": "markdown",
      "metadata": {
        "id": "PjoZ1gAeI-E-"
      },
      "source": [
        "<div dir=rtl>\n",
        "مشکل در ارث بری چندگانه\n",
        "</br>\n",
        "فرض کنید در کلاس های بالا یک کلاس Assistant داریم که هم نوعی professor است و هم نوعی دانشجو\n",
        "</div>"
      ]
    },
    {
      "cell_type": "code",
      "execution_count": null,
      "metadata": {
        "colab": {
          "base_uri": "https://localhost:8080/"
        },
        "id": "KgEhVt13z3S3",
        "outputId": "6b311135-8d25-4cbc-fea4-1c95d53f3667"
      },
      "outputs": [
        {
          "name": "stdout",
          "output_type": "stream",
          "text": [
            "I am a UniversityMember\n",
            "I am a student\n",
            "I am a UniversityMember\n",
            "I am a Employee\n",
            "I am a professor\n"
          ]
        }
      ],
      "source": [
        "class Assistant(Student, Professor) :\n",
        "  def __init__(self, name, icode, snum, pnum, base_salary) :\n",
        "    Student.__init__(self,name,icode,snum)\n",
        "    Professor.__init__(self,name,icode,pnum,base_salary)\n",
        "\n",
        "\n",
        "a1 = Assistant('Ali','1234','1402','7400',1000)\n",
        "\n",
        "\n"
      ]
    },
    {
      "cell_type": "markdown",
      "metadata": {
        "id": "nI9R1tSH2j_T"
      },
      "source": [
        "<div dir=rtl>\n",
        "استفاده از super()\n",
        "</div>"
      ]
    },
    {
      "cell_type": "code",
      "execution_count": null,
      "metadata": {
        "colab": {
          "base_uri": "https://localhost:8080/"
        },
        "id": "FEzRmPz12wF8",
        "outputId": "2b544b31-59cd-41d5-da5b-70e4f7309e03"
      },
      "outputs": [
        {
          "name": "stdout",
          "output_type": "stream",
          "text": [
            "I am a UniversityMember\n",
            "I am an Student\n",
            "I am a UniversityMember\n",
            "I am an Employee\n",
            "I am a Professor\n",
            "I am an Assistant Professor\n"
          ]
        }
      ],
      "source": [
        "class UniversityMember :\n",
        "  def __init__(self):\n",
        "    print(\"I am a UniversityMember\")\n",
        "\n",
        "class Student(UniversityMember) :\n",
        "  def __init__(self) :\n",
        "    UniversityMember.__init__(self)\n",
        "    print(\"I am an Student\")\n",
        "\n",
        "class Employee(UniversityMember) :\n",
        "  def __init__(self) :\n",
        "    UniversityMember.__init__(self)\n",
        "    print(\"I am an Employee\")\n",
        "\n",
        "class Professor(Employee) :\n",
        "  def __init__(self) :\n",
        "    Employee.__init__(self)\n",
        "    print(\"I am a Professor\")\n",
        "\n",
        "class Assistant(Student, Professor) :\n",
        "  def __init__(self) :\n",
        "    Student.__init__(self)\n",
        "    Professor.__init__(self)\n",
        "    print(\"I am an Assistant Professor\")\n",
        "\n",
        "a = Assistant()"
      ]
    },
    {
      "cell_type": "code",
      "execution_count": null,
      "metadata": {
        "id": "LR7zdxS530CW"
      },
      "outputs": [],
      "source": [
        "class UniversityMember :\n",
        "  def __init__(self):\n",
        "    print(\"I am a UniversityMember\")\n",
        "\n",
        "class Student(UniversityMember) :\n",
        "  def __init__(self) :\n",
        "    super().__init__()\n",
        "    print(\"I am an Student\")\n",
        "\n",
        "class Employee(UniversityMember) :\n",
        "  def __init__(self) :\n",
        "    super().__init__()\n",
        "    print(\"I am an Employee\")\n",
        "\n",
        "class Professor(Employee) :\n",
        "  def __init__(self) :\n",
        "    super().__init__()\n",
        "    print(\"I am a Professor\")\n",
        "\n",
        "class Assistant(Student, Professor) :\n",
        "  def __init__(self) :\n",
        "    super().__init__()\n",
        "    print(\"I am an Assistant Professor\")\n",
        "\n",
        "a = Assistant()\n",
        "print(Assistant.__mro__)"
      ]
    },
    {
      "cell_type": "markdown",
      "metadata": {
        "id": "smrchjz5925J"
      },
      "source": [
        "<div dir =rtl>\n",
        "کلاس های قبلی را با استفاده از super بنویسید.\n",
        "</div>"
      ]
    },
    {
      "cell_type": "code",
      "execution_count": null,
      "metadata": {
        "id": "-QWMSDYY69mW"
      },
      "outputs": [],
      "source": [
        "class UniversityMember :\n",
        "  def __init__(self, name, icode):\n",
        "    self.name = name\n",
        "    self.icode = icode\n",
        "    UniversityMember.who_are_you()\n",
        "  def who_are_you() :\n",
        "    print(\"I am a UniversityMember\")\n",
        "\n",
        "class Student(UniversityMember) :\n",
        "  def __init__(self, name, icode, snum) :\n",
        "    self.snum = snum\n",
        "    super().__init__(name, icode)\n",
        "    Student.who_are_you()\n",
        "\n",
        "  def is_international(self) :\n",
        "    pass\n",
        "\n",
        "  def who_are_you() :\n",
        "    print(\"I am a student\")\n",
        "\n",
        "class Employee(UniversityMember) :\n",
        "  def __init__(self, name, icode, pnum, base_salary):\n",
        "    self.pnum = pnum\n",
        "    self.base_salary = base_salary\n",
        "    super().__init__(name, icode)\n",
        "    Employee.who_are_you()\n",
        "\n",
        "  def who_are_you() :\n",
        "    print(\"I am a Employee\")\n",
        "\n",
        "  def calc_salary(self) :\n",
        "    return (self.base_salary * 1.2)\n",
        "\n",
        "class Professor(Employee) :\n",
        "  def __init__(self, name, icode, pnum, base_salary):\n",
        "    super().__init__(name, icode, pnum, base_salary)\n",
        "    Professor.who_are_you()\n",
        "\n",
        "  def who_are_you() :\n",
        "    print(\"I am a professor\")\n",
        "\n",
        "  def cals_salary(self) :\n",
        "    return (self.base_salary*1.8)\n",
        "\n",
        "class Assistant(Student, Professor) :\n",
        "  def __init__(self, name, icode, snum, pnum, base_salary) :\n",
        "    super().__init__(name,icode,snum)\n",
        "    \n",
        "\n",
        "\n",
        "a1 = Assistant('Ali','1234','1402','7400',1000)\n",
        "\n",
        "#p = Professor(\"Ali\", \"1234\", \"74\", 1000)"
      ]
    },
    {
      "cell_type": "code",
      "execution_count": null,
      "metadata": {
        "colab": {
          "base_uri": "https://localhost:8080/"
        },
        "id": "8tBLBgOEY9Ko",
        "outputId": "33428a08-6110-4d6e-f73e-5202459a5b8c"
      },
      "outputs": [
        {
          "output_type": "stream",
          "name": "stdout",
          "text": [
            "I am a UniversityMember\n",
            "I am a Employee\n",
            "I am a professor\n",
            "I am a student\n",
            "Ali\n",
            "1000\n"
          ]
        }
      ],
      "source": [
        "class UniversityMember :\n",
        "  def __init__(self, **kargs):\n",
        "    self.name = kargs['name']\n",
        "    self.icode = kargs['icode']\n",
        "    UniversityMember.who_are_you()\n",
        "  def who_are_you() :\n",
        "    print(\"I am a UniversityMember\")\n",
        "\n",
        "class Student(UniversityMember) :\n",
        "  def __init__(self, **kargs) :\n",
        "    self.snum = kargs['snum']\n",
        "    super().__init__(**kargs)\n",
        "    Student.who_are_you()\n",
        "\n",
        "  def is_international(self) :\n",
        "    pass\n",
        "\n",
        "  def who_are_you() :\n",
        "    print(\"I am a student\")\n",
        "\n",
        "class Employee(UniversityMember) :\n",
        "  def __init__(self, **kargs):\n",
        "    self.pnum = kargs['pnum']\n",
        "    self.base_salary = kargs['base_salary']\n",
        "    super().__init__(**kargs)\n",
        "    Employee.who_are_you()\n",
        "\n",
        "  def who_are_you() :\n",
        "    print(\"I am a Employee\")\n",
        "\n",
        "  def calc_salary(self) :\n",
        "    return (self.base_salary * 1.2)\n",
        "\n",
        "class Professor(Employee) :\n",
        "  def __init__(self, **kargs):\n",
        "    super().__init__(**kargs)\n",
        "    Professor.who_are_you()\n",
        "\n",
        "  def who_are_you() :\n",
        "    print(\"I am a professor\")\n",
        "\n",
        "  def cals_salary(self) :\n",
        "    return (self.base_salary*1.8)\n",
        "\n",
        "class Assistant(Student, Professor) :\n",
        "  def __init__(self, **kargs) :\n",
        "    super().__init__(**kargs)\n",
        "    \n",
        "\n",
        "\n",
        "a1 = Assistant(name='Ali',icode='1234',snum='1402',pnum='7400',base_salary=1000)\n",
        "print(a1.name)\n",
        "print(a1.base_salary)\n",
        "#p = Professor(\"Ali\", \"1234\", \"74\", 1000)"
      ]
    }
  ],
  "metadata": {
    "colab": {
      "provenance": [],
      "authorship_tag": "ABX9TyOAvPfKcYfHk85g1jJoQH7M",
      "include_colab_link": true
    },
    "kernelspec": {
      "display_name": "Python 3",
      "name": "python3"
    },
    "language_info": {
      "name": "python"
    }
  },
  "nbformat": 4,
  "nbformat_minor": 0
}