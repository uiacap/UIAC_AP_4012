{
  "nbformat": 4,
  "nbformat_minor": 0,
  "metadata": {
    "colab": {
      "provenance": [],
      "authorship_tag": "ABX9TyMCEX4GSS2hqkyi2YMwQEx5",
      "include_colab_link": true
    },
    "kernelspec": {
      "name": "python3",
      "display_name": "Python 3"
    },
    "language_info": {
      "name": "python"
    }
  },
  "cells": [
    {
      "cell_type": "markdown",
      "metadata": {
        "id": "view-in-github",
        "colab_type": "text"
      },
      "source": [
        "<a href=\"https://colab.research.google.com/github/uiacap/UIAC_AP_4012/blob/main/Notes/AP_401_402_17_Class_Exception_math.ipynb\" target=\"_parent\"><img src=\"https://colab.research.google.com/assets/colab-badge.svg\" alt=\"Open In Colab\"/></a>"
      ]
    },
    {
      "cell_type": "markdown",
      "source": [
        "<div dir=rtl>\n",
        "برای مدیریت استثنا ها از بخش try except استفاده می کنیم\n",
        "</br>\n",
        "بخش try مانند یک بلوک کد عادی اجرا می شود.\n",
        "اگر در این بلاک خطایی رخ داد بلافاصله وارد بخش excpet می شود.\n",
        "</div>"
      ],
      "metadata": {
        "id": "giJdjXL7x4q8"
      }
    },
    {
      "cell_type": "code",
      "source": [
        "x = int(input())\n",
        "y = 5/x\n",
        "\n",
        "z = y + 1\n",
        "print(z)\n",
        "\n",
        "\n"
      ],
      "metadata": {
        "id": "SWVsex5Hs51h"
      },
      "execution_count": null,
      "outputs": []
    },
    {
      "cell_type": "code",
      "execution_count": null,
      "metadata": {
        "id": "do121QoLxv1u",
        "colab": {
          "base_uri": "https://localhost:8080/"
        },
        "outputId": "a66248c2-2a1f-4abc-ca13-c5a7a103c354"
      },
      "outputs": [
        {
          "output_type": "stream",
          "name": "stdout",
          "text": [
            "0\n",
            "The error\n",
            "1\n"
          ]
        }
      ],
      "source": [
        "try :\n",
        "  x = int(input())\n",
        "  y = 5/x\n",
        "  z = 1\n",
        "  w = 2\n",
        "except :\n",
        "  print(\"The error\")\n",
        "  y = 0\n",
        "\n",
        "z = y+1\n",
        "print(z)"
      ]
    },
    {
      "cell_type": "code",
      "source": [
        "try:\n",
        "    x = int(input())\n",
        "    print(\"It's a int number!\")\n",
        "except:\n",
        "    print(\"It's not a int number!\")"
      ],
      "metadata": {
        "id": "NpxbUapDzD16"
      },
      "execution_count": null,
      "outputs": []
    },
    {
      "cell_type": "markdown",
      "source": [
        "<div dir=rtl>\n",
        "یک دستور try می‌تواند چندین except داشته باشد و استثنا‌های مختلفی را مدیریت کند. برای این کار نوع استثنا مقابل except نوشته می‌شود.\n",
        "</br>\n",
        "در ساختار try و except، ابتدا درون بخش try اجرا شده و اگر خطایی رخ دهد مفسر به exceptها توجه می‌کند؛ اگر در یکی از except‍ها خطایی از همان کلاس خطای رخ داده شده (و یا کلاسی که خطای رخ داده شده از آن ارث برده باشد) پیش‌بینی شده باشد، بخش درون آن except اجرا می‌شود. اگر چند except با این خاصیت وجود داشت؛ مفسر اولین (بالاترین از لحاظ متنی) except را انتخاب و بخش درون آن را اجرا می‌کند.\n",
        "\n",
        "مدیریت‌کننده‌ی (except)ها فقط می‌توانند استثنا‌هایی که در محدوده try رخ می‌دهد را مدیریت کنند و نمی‌توانند به استثنا‌های درون محدوده همدیگر دسترسی داشته باشند.\n",
        "\n",
        "اگر جلوی هیچ exceptای خطای رخ داده شده پیش‌بینی نشده باشد unhandled exception رخ می‌دهد و اجرای برنامه متوقف می‌شود.\n",
        "</div>"
      ],
      "metadata": {
        "id": "801DOTiRzRn1"
      }
    },
    {
      "cell_type": "code",
      "source": [
        "for i in range(3):\n",
        "  try:\n",
        "    if i == 0:\n",
        "      1/0\n",
        "    if i == 1:\n",
        "      int(\"salam\")\n",
        "    if i == 2:\n",
        "      \"salam\" + 1\n",
        "  except ZeroDivisionError:\n",
        "    print(\"ZeroDivisionError called\") # 1/0\n",
        "  except TypeError:\n",
        "    print(\"TypeError called\") # \"salam\" + 1\n",
        "  except ValueError:\n",
        "    print(\"ValueError called\") # int(\"salam\")\n",
        "  except (ZeroDivisionError, TypeError, ValueError):\n",
        "    print(\"all of them\")\n",
        "  \n",
        "\n",
        "  \n",
        "  z = 1"
      ],
      "metadata": {
        "id": "iZnYjUEUzko4",
        "colab": {
          "base_uri": "https://localhost:8080/"
        },
        "outputId": "035d7d82-b8cd-4090-af1c-2ba9c257c117"
      },
      "execution_count": null,
      "outputs": [
        {
          "output_type": "stream",
          "name": "stdout",
          "text": [
            "error\n",
            "error\n",
            "error\n"
          ]
        }
      ]
    },
    {
      "cell_type": "markdown",
      "source": [
        "<div dir =rtl>\n",
        "<strong>\n",
        "پرتاب کردن استثنا\n",
        "</strong>\n",
        "\n",
        "با دستور raise می‌توان یک استثنا را پرتاب کرد (یعنی کاری کنیم که یک استثنایی که خودمان می‌خواهیم داده شود).\n",
        "</br>\n",
        "بعد از دستور raise باید یک شی از کلاس Exception یا یک کلاس Exception ( یا کلاسی که از Exception ارث برده است) بیاید. اگر یک کلاس به دستور raise داده شود یک شی با سازنده بدون آرگومان ساخته و آن را صدا می‌کند.\n",
        "</div>"
      ],
      "metadata": {
        "id": "4S5INMjA0urn"
      }
    },
    {
      "cell_type": "code",
      "source": [
        "raise NameError # 'raise NameError()'\n"
      ],
      "metadata": {
        "id": "FWyKl_ZE1S0q"
      },
      "execution_count": null,
      "outputs": []
    },
    {
      "cell_type": "markdown",
      "source": [
        "<div dir=rtl>\n",
        "برای تعریف استثناهای‌ خود می‌توانیم یک کلاس تعریف کنیم که مستقیم یا غیرمستقیم از کلاس Exception ارث ببرد.\n",
        "\n",
        "کلاس‌های استثنا می‌توانند مانند بقیه کلاس‌ها خصوصیات مختلفی داشته باشند ولی معمولا ساده تعریف می‌شوند .\n",
        "</div>"
      ],
      "metadata": {
        "id": "pFTUKFew1r8d"
      }
    },
    {
      "cell_type": "code",
      "source": [
        "class NameException(Exception) :\n",
        "  pass\n",
        "\n",
        "\n",
        "def set_name(name) :\n",
        "  if name==\"\" :\n",
        "    raise NameException(\"name is empty\")\n",
        "  name = name + \";\"\n",
        "  return name\n",
        "\n",
        "\n",
        "name = input()\n",
        "set_name(name)\n",
        "try :\n",
        "  n = set_name(name)\n",
        "  2/0\n",
        "except :\n",
        "  n = \"no name\"\n",
        "\n",
        "print(n)"
      ],
      "metadata": {
        "colab": {
          "base_uri": "https://localhost:8080/"
        },
        "id": "ISObxfj2wqO1",
        "outputId": "2b89d8fb-dcd9-427c-c703-e886135c6bd7"
      },
      "execution_count": null,
      "outputs": [
        {
          "output_type": "stream",
          "name": "stdout",
          "text": [
            "b\n",
            "no name\n"
          ]
        }
      ]
    },
    {
      "cell_type": "markdown",
      "source": [],
      "metadata": {
        "id": "qjD7akPLx3rH"
      }
    }
  ]
}