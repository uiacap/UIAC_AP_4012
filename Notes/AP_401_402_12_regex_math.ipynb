{
  "nbformat": 4,
  "nbformat_minor": 0,
  "metadata": {
    "colab": {
      "provenance": [],
      "authorship_tag": "ABX9TyNxK4rvlWbsJ/1nWzeOJmR0",
      "include_colab_link": true
    },
    "kernelspec": {
      "name": "python3",
      "display_name": "Python 3"
    },
    "language_info": {
      "name": "python"
    }
  },
  "cells": [
    {
      "cell_type": "markdown",
      "metadata": {
        "id": "view-in-github",
        "colab_type": "text"
      },
      "source": [
        "<a href=\"https://colab.research.google.com/github/uiacap/UIAC_AP_4012/blob/main/Notes/AP_401_402_12_regex_math.ipynb\" target=\"_parent\"><img src=\"https://colab.research.google.com/assets/colab-badge.svg\" alt=\"Open In Colab\"/></a>"
      ]
    },
    {
      "cell_type": "markdown",
      "source": [
        "<div dir=rtl>\n",
        "رجکس \n",
        "</br>\n",
        "رجکس مخفف regular expression یا عبارت منظم است.\n",
        "</br>\n",
        "عبارت منظم الگویی است که توسط آن مجموعه ای از رشته ها مشخص می شوند.\n",
        "</br>\n",
        "برای مثال برای ثبت نام در یک سایت لازم است که آدرس ایمیل خود را وارد کنید. برای چک کردن درستی آدرس ایمیل وارد شده، الگویی برای آدرس های ایمیل درست معرفی می کنیم و سپس بررسی می کنیم آیا آدرس ایمیل مشخص شده عضوی از مجموعه رشته های مشخص شده توسط الگو هست یا خیر. \n",
        "</br>\n",
        "برای مشخص کردن الگوی آدرسهای ایمیل از رجکس استفاده می کنیم.\n",
        "</br>\n",
        "در الگوهای منظم کاراکترهایی وجود دارند که به معنی خاصی می دهند. این علائم عبارتند از\n",
        "</br>\n",
        ". ^ $ * + ? [] {} | () \\\n",
        "</br>\n",
        "در ادامه به بررسی آنها می پردازیم.\n",
        "</br>\n",
        "علائم رجکس\n",
        "</br>\n",
        "علامت . :\n",
        "تمام کاراکترها با . مطابقت دارند.\n",
        "</br>\n",
        "سوال : الگوی ... با چه رشته هایی مطابقت دارد؟\n",
        "</br>\n",
        "علامت d\\:\n",
        "</br>\n",
        "این علامت با کاراکترهای 0 تا 9 مطابقت دارد.\n",
        "</br>\n",
        "سوال: الگوی .sd\\d با کدام یک از رشته های زیر مطابقت دارد؟\n",
        "</br>\n",
        "asd1 sd2 %sd %sd45\n",
        "</br>\n",
        "علامت D\\ : \n",
        "</br>\n",
        "با همه کاراکترها به کاراکترهای 0 تا 9 مطابقت دارد.\n",
        "</br>\n",
        "علامت w\\:\n",
        "</br>\n",
        "با همه کاراکترهای شامل حروف کوچک و بزرگ انگلیسی، ارقام 0 تا 9 و _ مطابقت دارد.\n",
        "</br>\n",
        "علامت W\\:\n",
        "</br>\n",
        "با کاراکترهای به جز کاراکترهایی که با \\w مطابقت دارند، مطابقت دارد.\n",
        "</br>\n",
        "سوال: با الگوی ..W\\ کدام یک از رشته های زیر مطابقت دارند.\n",
        "</br>\n",
        "124 s!! s!d 12%\n",
        "</br>\n",
        "</div>"
      ],
      "metadata": {
        "id": "6UDJSVJfYbuB"
      }
    },
    {
      "cell_type": "markdown",
      "source": [
        "<div dir=rtl>\n",
        "علائم نشان دهنده تکرار\n",
        "</br>\n",
        "علامت +:\n",
        "</br>\n",
        "این علامت نشان دهنده این است که کاراکتر قبل از آن باید یک بار یا بیشتر تکرار شده باشد.\n",
        "</br>\n",
        "س : الگوی +D\\. را در نظر بگیرید. کدام یک از رشته های زیر در این الگو صدق می کنند.\n",
        "</br>\n",
        "541 $4$ &!_ 1$%T 1#$RY1\n",
        "</br>\n",
        "علامت * : \n",
        "</br>\n",
        "کاراکتر قبل از آن باید 0 بار یا بیشتر تکرار شده باشد.\n",
        "س : رشته هایی که مطابق الگوی *d\\w\\ هستند مشخص کنید.\n",
        "</br>\n",
        "12r s ss s1 s1234\n",
        "</br>\n",
        "علامت ?:\n",
        "</br>\n",
        "نشان دهنده این است که کاراکتر قبل از آن صفر یا یک بار تکرار شده است. (یعنی کاراکتر قبل از آن می تواند بیاید یا نیاید)\n",
        "</br>\n",
        "س : عبارت d?\\d?3\n",
        "</br>\n",
        "رشته ها: 23 33 1243 44 123\n",
        "</br>\n",
        "علامت {}:\n",
        "<br>\n",
        "وقتی می خواهیم کاراکتری به تعداد مشخص تکرار شود، از این علامت استفاده می کنیم.\n",
        "</br>\n",
        "برای مثل a{12} نشان دهنده الگویی که  رشته هایی را مشخص می کند که در آنها a 12 بار تکرار شده است.\n",
        "</br>\n",
        "و s{5,10} مشخص کننده رشته هایی است که در آن s بین 5 تا 10 بار تکرار شده است.\n",
        "</br>\n",
        "سوال: الگوی {2,8}d\\ چه رشته هایی را مشخص می کند؟\n",
        "</div>\n"
      ],
      "metadata": {
        "id": "gstMmw8GdW4t"
      }
    },
    {
      "cell_type": "markdown",
      "source": [
        "<div dir=rtl>\n",
        "علائم انتخاب و دسته بندی\n",
        "</br>\n",
        "علامت []:\n",
        "</br>\n",
        "گاهی مواقع می خواهیم کاراکتری را از بین تعداد خاصی از کاراکترها انتخاب کنیم. در این حالت کاراکتر ها را بین [] قرار می دهیم.\n",
        "</br>\n",
        "س: الگوی [gh][1245][bcd] با کدام یک از رشته های زیر مطابقت دارد؟\n",
        "</br>\n",
        "b3h a4g d2h\n",
        "</br>\n",
        "برای مشخص کردن بازه ای از کاراکترها در این حالت می توان از - استفاده کرد.\n",
        "برای مثال الگوی [a-j] تمام کاراکترهای بین a تا j را به همراه خود آنها را شامل می شود.\n",
        "</br>\n",
        "در صورتیکه به ابتدای کاراکترهای مشخص شده با [] علامت ^ را اضافه کنیم، بدین معنا است که این هر کاراکتری به جز از کاراکترهای مشخص شده در رشته ظاهر شود.\n",
        "برای مثال الگوی [abc^] با هر کارارکتری به جز a، b و c مطابقت دارد.\n",
        "</br>\n",
        "علامت ()\n",
        "</br>\n",
        "برای جدا کردن گروهی از کاراکترها به کار می رود. برای مثال الگوی +(abc) یعنی به تعداد یک با بیشتر abc رخ دهد.\n",
        "</div>"
      ],
      "metadata": {
        "id": "-QBJ5DQdgLim"
      }
    },
    {
      "cell_type": "markdown",
      "source": [
        "<div dir=rtl>\n",
        "علائم  شروع و پایان\n",
        "</br>\n",
        "علامت ^:\n",
        "</br>\n",
        "اگر علامت ^ در ابتدای الگویی به کاررود به این معنی است که رشته حتما باید با الگو شروع شود.\n",
        "مثلا الگوی *.ham^\n",
        "با رشته های زیر مطابقت دارد.\n",
        "</br>\n",
        "hamsaye   hamkar   hamkelas ham\n",
        "</br>\n",
        "ولی با رشته raham مطابقت ندارد.\n",
        "</br>\n",
        "علامت $:\n",
        "</br>\n",
        "اگر این علامت در اخر الگویی به کار رود به این معنی است که رشته باید با الگو خاتمه یابد.\n",
        "\n",
        "\n",
        "</div>"
      ],
      "metadata": {
        "id": "7nVVO5w5UQA4"
      }
    },
    {
      "cell_type": "markdown",
      "source": [
        "<div dir=rtl>\n",
        "علامت |:\n",
        "<br>\n",
        "علامت | به معنی یا است و در صورتیکه بین دو الگو رجکس قرار گیرد به این معنی است که هر کدام از آنها می تواند اتفاق بیفتد.\n",
        "</div>"
      ],
      "metadata": {
        "id": "E_gN-8GqrBU2"
      }
    },
    {
      "cell_type": "code",
      "source": [
        "a|b|\\d\\*"
      ],
      "metadata": {
        "id": "7G7haFdOWoB1"
      },
      "execution_count": null,
      "outputs": []
    },
    {
      "cell_type": "markdown",
      "source": [
        "<div dir=rtl>\n",
        "علامت \\ : \n",
        "</br>\n",
        "در صورتیکه قبل از یک متاکاراکتر قرار بگیرد باعث می شود که آن متاکاراکتر معنای خودش را بدهد.\n",
        "</br>\n",
        "\n",
        "</div>"
      ],
      "metadata": {
        "id": "p5rSIdywlWXc"
      }
    },
    {
      "cell_type": "code",
      "source": [
        "\n"
      ],
      "metadata": {
        "id": "hkLsSTzzlrMn"
      },
      "execution_count": null,
      "outputs": []
    },
    {
      "cell_type": "markdown",
      "source": [
        "<div dir=rtl>\n",
        "برای استفاده از رجکس در پایتون باید کتابخانه re را import کنیم\n",
        "</br>\n",
        "در ادامه برخی از توابع این ماژول را بررسی می کنیم.\n",
        "</br>\n",
        "تابع findall\n",
        "</br>\n",
        "این تابع دو رشته به عنوان ورودی می گیرد. اولین رشته، الگوی رجکس است. و رشته دوم، رشته ای است که میخواهیم رشته های طبق الگو را در آن پیدا کنیم.\n",
        "</br>\n",
        "این تابع به عنوان خروجی یک لیست برمی گرداند که تمام رشته هایی از رشته دوم که با الگوی رشته اول مطابقت دارند را برمی گرداند\n",
        "</br>\n",
        "</div>"
      ],
      "metadata": {
        "id": "ZWpEkGthVR8a"
      }
    },
    {
      "cell_type": "code",
      "source": [
        "import re\n",
        "re.findall('m[a-z]',\"mohammad medi\")"
      ],
      "metadata": {
        "id": "gnTeKjzsWaeA",
        "colab": {
          "base_uri": "https://localhost:8080/"
        },
        "outputId": "84408f2d-77bb-4118-d1b9-e424ee44fd6d"
      },
      "execution_count": null,
      "outputs": [
        {
          "output_type": "execute_result",
          "data": {
            "text/plain": [
              "['mo', 'mm', 'me']"
            ]
          },
          "metadata": {},
          "execution_count": 3
        }
      ]
    },
    {
      "cell_type": "markdown",
      "source": [
        "<div dir=rtl>\n",
        "تابع split\n",
        "</br>\n",
        "این تابع مشابه تابع split در کتابخانه استاندارد پایتون است.\n",
        "با این تفاوت که به جای رشته، یک الگو برای جدا سازی رشته می گیرد.\n",
        "</br>\n",
        "تابع split از ابتدای رشته شروع کرده و بزرگترین زیر رشته ای را پیدا می کند که با الگو مطابقت داشته باشد.\n",
        "و رشته از از آنجا به دو قسمت می شکند و بعد از ابتدای رشته دوم شروع کرده و باز بزرگترین رشته ای با الگو مطابقت داشته باشد را پیدا کرده و رشته را به دو قسمت می شکند و به همین ترتیب ادامه می دهد.\n",
        "و در نهایت لیستی از زیررشته ها را بر می گرداند.\n",
        "</br>\n",
        "در صورتیکه هیچ زیر رشته ای با الگو مطابقت نداشته باشد، لیستی با یک عضو که همان رشته ورودی است برگردانده می شود.\n",
        "</div>"
      ],
      "metadata": {
        "id": "TP60JX81bSvj"
      }
    },
    {
      "cell_type": "code",
      "source": [
        "import re\n",
        "re.split('[0-9]+', 'I4578am45thirty5years578old340.')"
      ],
      "metadata": {
        "colab": {
          "base_uri": "https://localhost:8080/"
        },
        "id": "l6s3narMboL7",
        "outputId": "0f77ad47-a0e1-4bae-b8e7-615827982132"
      },
      "execution_count": null,
      "outputs": [
        {
          "output_type": "execute_result",
          "data": {
            "text/plain": [
              "['I', 'am', 'thirty', 'years', 'old', '.']"
            ]
          },
          "metadata": {},
          "execution_count": 74
        }
      ]
    },
    {
      "cell_type": "markdown",
      "source": [
        "<div dir=rtl>\n",
        "تابع sub:\n",
        "</br>\n",
        "این تابع یک الگو و دو رشته ورودی را گرفته ، و هر زیر رشته ای از رشته دوم که مطابق الگو بود را با رشته اول جایگزین می کند.\n",
        "</div>"
      ],
      "metadata": {
        "id": "iTTjK4DneOHe"
      }
    },
    {
      "cell_type": "code",
      "source": [
        "import re\n",
        "print(re.sub(\"\\d+\",\"aaa\",\"abc12yu12\"))"
      ],
      "metadata": {
        "id": "5q6HhpueenLE",
        "colab": {
          "base_uri": "https://localhost:8080/"
        },
        "outputId": "26d5fe64-11fc-481a-fd52-876f3783c172"
      },
      "execution_count": null,
      "outputs": [
        {
          "output_type": "stream",
          "name": "stdout",
          "text": [
            "abcaaayuaaa\n"
          ]
        }
      ]
    },
    {
      "cell_type": "markdown",
      "source": [
        "<div dir=rtl>\n",
        "تابع search\n",
        "</br>\n",
        "این تابع به عنوان ورودی، عبارت منظم و یک رشته برای جستجو در آن می گیرد. و عبارت منظم را در رشته جستجو کرده و اولی جایی که آنرا پیدا کرد، بر می گرداند.\n",
        "</br>\n",
        "خروجی این تابع از جنس Match است.\n",
        "که به صورت زیر می توانیم از آن استفاده کنیم\n",
        "</br>\n",
        "اگر فرض کنیم که خروجی تابع را در متغیر m ذخیره کرده ایم با استفاده از متدهای زیر می توانیم از آن استفاده کنیم.\n",
        "</br>\n",
        "m.span() : مکان شروع و پایان زیر رشته پیدا شده را مشخص می کند.\n",
        "</br>\n",
        "m.group() : زیر رشته ای که با الگو تطابق پیدا کرده است را به عنوان خروجی می دهد.\n",
        "</br>\n",
        "در صورتیکه الگو در رشته پیدا نشده ، مقدار m برابر با None قرار می گیرد.\n",
        "</div>"
      ],
      "metadata": {
        "id": "FbKkEup0cC_Z"
      }
    },
    {
      "cell_type": "code",
      "source": [
        "import re\n",
        "s = \"sd123fgj3456\"\n",
        "\n",
        "  \n",
        "#m = re.search(\"\\d+\",s)\n",
        "#print(m.group())\n",
        "\n",
        "print(re.findall(\"\\d+\",s))\n"
      ],
      "metadata": {
        "id": "HSu-vJfReZoA",
        "colab": {
          "base_uri": "https://localhost:8080/"
        },
        "outputId": "f1cd9a61-741c-4330-f956-492d0e6fa473"
      },
      "execution_count": null,
      "outputs": [
        {
          "output_type": "stream",
          "name": "stdout",
          "text": [
            "['123', '3456']\n"
          ]
        }
      ]
    },
    {
      "cell_type": "markdown",
      "source": [
        "<div dir=rtl>\n",
        "س : فرض کنید اطلاعات ایمیل افراد در یک رشته پشت سر هم قرار دارد و با , از هم جدا شده اند.و شما میخواهید ایمیل های درست را جدا کرده و در یک لیست قرار دهید. برنامه ای بنویسید که این کار را انجام دهد.\n",
        "</br>\n",
        "یک آدرس ایمیل معتبر، به صورت زیر تعریف می شود.\n",
        "</br>\n",
        "username@domain.tld\n",
        "</br>\n",
        "usrname : از کاراکترهای انگلیسی، عدد و نقطه و _تشکیل شده است.\n",
        "</br>\n",
        "domain : از کاراکترهای انگلیسی یا عدد تشکیل شده است و حرف اول آن حتما باید عدد باشد.\n",
        "</br>\n",
        "tld : یک کلمه سه یا دو حرفی از حروف انگلیسی است.\n",
        "</div>"
      ],
      "metadata": {
        "id": "dHfBOVbtkIHZ"
      }
    },
    {
      "cell_type": "code",
      "source": [
        "import re\n",
        "\n",
        "emails = 'fmansoori@gmail.com,famsnoori@ut$.ir,famsnoori@ut.ir'\n",
        "\n",
        "email_re = '[\\w\\.]+@[a-zA-Z][a-zA-Z\\d]*\\.[a-zA-Z]{2,3}'\n",
        "\n",
        "corr_emails = re.findall(email_re, emails)\n",
        "\n",
        "print(corr_emails)\n",
        "\n"
      ],
      "metadata": {
        "id": "GAkCwhsWl6rK",
        "colab": {
          "base_uri": "https://localhost:8080/"
        },
        "outputId": "cce5b3f2-1f42-4821-97dc-1e0fbccdfb2f"
      },
      "execution_count": null,
      "outputs": [
        {
          "output_type": "stream",
          "name": "stdout",
          "text": [
            "['fmansoori@gmail.com', 'famsnoori@ut.ir']\n"
          ]
        }
      ]
    },
    {
      "cell_type": "markdown",
      "source": [
        "<div dir=rtl>\n",
        "س : برنامه ای بنویسید که یک شماره موبایل را از کاربر بگیرد، برنامه تا وقتی که کاربر شماره درست را وارد نکرده است باید به او پیغام وارد کردن شماره را بدهد \n",
        "</br>\n",
        "یک شماره موبایل می تواند یکی از حالات زیر باشد:\n",
        "</br>\n",
        "شامل 11 کاراکتر باشد و 09 شروع شود.\n",
        "</br>\n",
        "شامل 13 کاراکتر باشد و با 989+ شروع شود.\n",
        "</br>\n",
        "شامل 14 کاراکتر باشد و با 00989 شروع شود.\n",
        "</br>\n",
        "\n",
        "</div>"
      ],
      "metadata": {
        "id": "2X0qK46DZO08"
      }
    },
    {
      "cell_type": "code",
      "source": [
        "import re\n",
        "mobile_re = '^(09|\\+989|00989)\\d{9}$'\n",
        "\n",
        "while True :\n",
        "  st = input()\n",
        "  m = re.search(mobile_re,st)\n",
        "  if m is not None :\n",
        "    break\n",
        "  print(\"your mobile number is not true, enter again\")\n"
      ],
      "metadata": {
        "id": "5QUyQYXDifEh"
      },
      "execution_count": null,
      "outputs": []
    },
    {
      "cell_type": "code",
      "source": [],
      "metadata": {
        "id": "2Et-EF4YgQSm"
      },
      "execution_count": null,
      "outputs": []
    },
    {
      "cell_type": "markdown",
      "source": [
        "<div dir = rtl>\n",
        "برنامه ای بنویسید که تا وقتی کاربر یک عدد درست وارد نکرده است، از او بخواهد که عدد وارد کند\n",
        "</div>"
      ],
      "metadata": {
        "id": "VXnlZmGXifjp"
      }
    },
    {
      "cell_type": "code",
      "source": [
        "num_re = '^(\\+|-)?\\d+(\\.\\d+)?$'\n",
        "\n",
        "\n",
        "while True :\n",
        "  st = input()\n",
        "  m = re.search(num_re,st)\n",
        "  if m is not None :\n",
        "    break\n",
        "  print(\"your number is not true\")\n"
      ],
      "metadata": {
        "id": "BujX9OT9i8ET"
      },
      "execution_count": null,
      "outputs": []
    }
  ]
}