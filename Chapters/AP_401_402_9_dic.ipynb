{
  "nbformat": 4,
  "nbformat_minor": 0,
  "metadata": {
    "colab": {
      "provenance": [],
      "authorship_tag": "ABX9TyOIds9Ti+mh0piLiEh0Dp3x",
      "include_colab_link": true
    },
    "kernelspec": {
      "name": "python3",
      "display_name": "Python 3"
    },
    "language_info": {
      "name": "python"
    }
  },
  "cells": [
    {
      "cell_type": "markdown",
      "metadata": {
        "id": "view-in-github",
        "colab_type": "text"
      },
      "source": [
        "<a href=\"https://colab.research.google.com/github/uiacap/UIAC_AP_4012/blob/main/Chapters/AP_401_402_9_dic.ipynb\" target=\"_parent\"><img src=\"https://colab.research.google.com/assets/colab-badge.svg\" alt=\"Open In Colab\"/></a>"
      ]
    },
    {
      "cell_type": "markdown",
      "source": [
        "<div dir = rtl>\n",
        "dictionary نوعی داده در زبان پایتون است که مانند لیست، تاپل و مجموعه برای ذخیره سازی چند مقدار تحت یک نام به کار می رود.\n",
        "</br>\n",
        "در دیکشنری عناصر مانند لیست و تاپل دارای ایندکس هستند، با این تفاوت که ایندکس ها عدد نیستند و هر مقداری که توسط کاربر تعریف می شود، می توانند باشند.\n",
        "</br>\n",
        "در دیکشنری به جای مقادیر، جفت (کلید : مقدار) داریم.\n",
        "</br>\n",
        "در دیکشنری کلیدها نمی توانند تکرار باشند، ولی مقادیر می توانند تکراری باشند\n",
        "</br>\n",
        "برای ایجاد دیکشنری از {} استفاده می کنیم. که در آن key:value داریم.\n",
        "</br>\n",
        "برای دستری به مقادیر دیکشنری از اینکدس مقدار که همان کلید است، استفاده می کنیم\n",
        "</div>"
      ],
      "metadata": {
        "id": "2VjpmzwnBIyP"
      }
    },
    {
      "cell_type": "code",
      "source": [
        "ages = {\"ali\": 12, \"amir\": 13, \"ali\":13}\n",
        "print(ages[\"ali\"])"
      ],
      "metadata": {
        "id": "4GeXZcFsEBaU",
        "colab": {
          "base_uri": "https://localhost:8080/"
        },
        "outputId": "9c4151e9-31de-4738-82fc-d37e440398a0"
      },
      "execution_count": null,
      "outputs": [
        {
          "output_type": "stream",
          "name": "stdout",
          "text": [
            "13\n"
          ]
        }
      ]
    },
    {
      "cell_type": "code",
      "source": [
        "a = dict()\n",
        "a = dict({(\"ali\", 12), (\"amir\", 2.3)})\n",
        "print(type(a))\n",
        "print(a[\"ali\"])\n",
        " \n"
      ],
      "metadata": {
        "id": "kp44GQ22EY83",
        "colab": {
          "base_uri": "https://localhost:8080/"
        },
        "outputId": "9184beb1-a20d-4236-d5e0-b560f01eda6b"
      },
      "execution_count": null,
      "outputs": [
        {
          "output_type": "stream",
          "name": "stdout",
          "text": [
            "<class 'dict'>\n",
            "12\n"
          ]
        }
      ]
    },
    {
      "cell_type": "markdown",
      "source": [
        "<div dir=rtl>\n",
        "برای اضافه کردن یک مقدار با کلید key به دیکشنری d بدین شکل عمل می کنیم\n",
        "</br>\n",
        "d[key] = value\n",
        "</br>\n",
        "در صورتی که key در دیکشنری موجود باشد، مقدار آن تغییر می کند ولی اگر وجود نداشته باشد، به دیکشنری اضافه می شود\n",
        "</div>"
      ],
      "metadata": {
        "id": "o-CyeUqIFCZ_"
      }
    },
    {
      "cell_type": "code",
      "source": [
        "ages = {'ali':17}\n",
        "ages['amir'] = 18\n",
        "\n",
        "print(ages)\n"
      ],
      "metadata": {
        "id": "6kvDsdpFFkWR",
        "colab": {
          "base_uri": "https://localhost:8080/"
        },
        "outputId": "74d8fe60-9249-4cb1-bc73-8a49220fef81"
      },
      "execution_count": null,
      "outputs": [
        {
          "output_type": "stream",
          "name": "stdout",
          "text": [
            "{'ali': 17, 'amir': 18}\n"
          ]
        }
      ]
    },
    {
      "cell_type": "markdown",
      "source": [
        "<div dir=rtl>\n",
        "عملگر in بررسی می کند آیا کلیدی در دیکشنری هست یا خیر\n",
        "</div>"
      ],
      "metadata": {
        "id": "ugyCFYDEFtmz"
      }
    },
    {
      "cell_type": "code",
      "source": [
        "ages = {\"ali\": 12, \"amir\": 13}\n",
        "\"ali\" in ages"
      ],
      "metadata": {
        "id": "srwKw6h2GCSA"
      },
      "execution_count": null,
      "outputs": []
    },
    {
      "cell_type": "markdown",
      "source": [
        "<div dir=rtl>\n",
        "برای حذف یک مقدار از دیکشنری از pop یا del استفاده می شود\n",
        "</br>\n",
        "در صورتیکه کلید داده شده در دیکشنری نباشد، خطا داده می شود.\n",
        "</div>"
      ],
      "metadata": {
        "id": "eypt6iiVGVVz"
      }
    },
    {
      "cell_type": "code",
      "source": [
        "square = {1: 1, 2: 4, 3: 9, 4: 16}\n",
        "del square[1]\n",
        "print(square)\n",
        "square.pop(4)\n",
        "print(square)"
      ],
      "metadata": {
        "id": "SSlbZu0fGoyF",
        "colab": {
          "base_uri": "https://localhost:8080/"
        },
        "outputId": "66bf503e-8e2c-4c28-9e70-c0123c01f7dd"
      },
      "execution_count": null,
      "outputs": [
        {
          "output_type": "stream",
          "name": "stdout",
          "text": [
            "{2: 4, 3: 9, 4: 16}\n",
            "{2: 4, 3: 9}\n"
          ]
        }
      ]
    },
    {
      "cell_type": "code",
      "source": [
        "birthdays = {'Alice': 'Apr 1', 'Bob': 'Dec 12', 'Carol': 'Mar 4'}\n",
        "while True:\n",
        "  print('Enter a name: (blank to quit)')\n",
        "  name = input()\n",
        "  if name == '':\n",
        "    break\n",
        "  if name in birthdays:\n",
        "    print(birthdays[name] + ' is the birthday of ' + name)\n",
        "  else:\n",
        "    print('I do not have birthday information for ' + name)\n",
        "    print('What is their birthday?')\n",
        "    bday = input()\n",
        "    birthdays[name] = bday\n",
        "    print('Birthday database updated.')"
      ],
      "metadata": {
        "id": "PXutEW5NJsvn"
      },
      "execution_count": null,
      "outputs": []
    },
    {
      "cell_type": "markdown",
      "source": [
        "<div dir=rtl>\n",
        "برای دسترسی به مقدار یک کلید از دیکشنری d، در صورتیکه به شکل d[key] رفتار کنیم و کلید در دیکشنری نباشد، خطا داده میشود.\n",
        "</br>\n",
        "به جای آن می توانیم از متد getاستفاده کنیم.\n",
        "</br>\n",
        "d.get(key, default)\n",
        "</br>\n",
        "در این حالت، در صورتیکه کلید key در دیکشنری باشد، مقدار آن برگردانده می شود و در صورتیکه در دیکشنری نباشد، مقدار default برگردانده می شود.\n",
        "</div> "
      ],
      "metadata": {
        "id": "vyMlAto7HZYt"
      }
    },
    {
      "cell_type": "code",
      "source": [
        "picnicItems = {'apples': 5, 'cups': 2}\n",
        "print('I am bringing ' + str(picnicItems.get('cups', 0)) + ' cups.')\n",
        "print('I am bringing ' + str(picnicItems.get('eggs', 0)) + ' eggs.')\n",
        "#print('I am bringing ' + str(picnicItems['eggs']) + ' eggs.')"
      ],
      "metadata": {
        "id": "kSl28JFjIXhG",
        "colab": {
          "base_uri": "https://localhost:8080/"
        },
        "outputId": "7d2c60a6-efba-4d69-a521-25f0dd95202b"
      },
      "execution_count": null,
      "outputs": [
        {
          "output_type": "stream",
          "name": "stdout",
          "text": [
            "I am bringing 2 cups.\n",
            "I am bringing 0 eggs.\n"
          ]
        }
      ]
    },
    {
      "cell_type": "code",
      "source": [
        "allGuests = {'Alice': {'apples': 5, 'pretzels': 12},\n",
        "'Bob': {'ham sandwiches': 3, 'apples': 2},\n",
        "'Carol': {'cups': 3, 'apple pies': 1}}\n",
        "\n",
        "def totalBrought(guests, item):\n",
        "  numBrought = 0\n",
        "  for k, v in guests.items():\n",
        "    numBrought = numBrought + v.get(item, 0)\n",
        "  return numBrought\n",
        "\n",
        "print('Number of things being brought:')\n",
        "print(' - Apples ' + str(totalBrought(allGuests, 'apples')))\n",
        "print(' - Cups ' + str(totalBrought(allGuests, 'cups')))\n",
        "print(' - Cakes ' + str(totalBrought(allGuests, 'cakes')))\n",
        "print(' - Ham Sandwiches ' + str(totalBrought(allGuests, 'ham sandwiches')))\n",
        "print(' - Apple Pies ' + str(totalBrought(allGuests, 'apple pies')))"
      ],
      "metadata": {
        "id": "pM6okU79Vieq"
      },
      "execution_count": null,
      "outputs": []
    },
    {
      "cell_type": "markdown",
      "source": [
        "<div dir=rtl>\n",
        "س: برنامه ای بنویسید که تعدادی کلمه را تا وقتی که کاربر یک خط خالی وارد نکرده است، از کاربر گرفته و پس از آن هر کلمه را به همراه تعداد تکرارهای آن چاپ کند.\n",
        "</div>"
      ],
      "metadata": {
        "id": "0G2WZ3zZKswp"
      }
    },
    {
      "cell_type": "code",
      "source": [
        "rep_word = {}\n",
        "while True:\n",
        "  word = input()\n",
        "  if word == '' :\n",
        "    break\n",
        "  if word in rep_word :\n",
        "    rep_word[word] += 1\n",
        "  else :\n",
        "    rep_word[word] = 1\n",
        "\n",
        "print(rep_word)\n"
      ],
      "metadata": {
        "id": "cZbI8H81Lgmq"
      },
      "execution_count": null,
      "outputs": []
    },
    {
      "cell_type": "markdown",
      "source": [
        "<div dir=rtl>\n",
        "متد selectdefault\n",
        "</br>\n",
        "یک کلید و یک مقدار پیش فرض  به عنوان ورودی می گیرد. در صورتیکه کلید در دیکشنری موجود نباشد، آنرا ایجاد کرده و مقدار آنرا برابر مقدار پیش فرض قرار داده و مقدار پیش فرض را به عنوان خروجی بر می گرداند.\n",
        "</br>\n",
        "در صورتیکه کلید در دیکشنری موجود باشد، مقدار آنرا بر می گرداند\n",
        "</div>"
      ],
      "metadata": {
        "id": "7GkA3fHAMf60"
      }
    },
    {
      "cell_type": "markdown",
      "source": [
        "<div dir=rtl>\n",
        "س: نوشتن برنامه بالا با استفاده از متد setdefault\n",
        "</div>"
      ],
      "metadata": {
        "id": "z2RbTVnrNHOb"
      }
    },
    {
      "cell_type": "code",
      "source": [
        "rep_word = {}\n",
        "while True:\n",
        "  word = input()\n",
        "  if word == '' :\n",
        "    break\n",
        "  # second solution\n",
        "  #rep_word.setdefault(word,0)\n",
        "  #rep_word[word] += 1 \n",
        "\n",
        "  #third solution\n",
        "  rep_word[word] = rep_word.get(word,0) + 1\n",
        "\n",
        "print(rep_word)\n"
      ],
      "metadata": {
        "id": "CmiHpqvGNOm7"
      },
      "execution_count": null,
      "outputs": []
    },
    {
      "cell_type": "markdown",
      "source": [
        "<div dir=rtl>\n",
        "س: برنامه ای بنویسید که یک پیام را از کاربر گرفته و تعداد کاراکترهای آنرا شمرده و چاپ کند\n",
        "</div>"
      ],
      "metadata": {
        "id": "OW0_Ch53Klo5"
      }
    },
    {
      "cell_type": "code",
      "source": [],
      "metadata": {
        "id": "haM--39XNxmK"
      },
      "execution_count": null,
      "outputs": []
    },
    {
      "cell_type": "markdown",
      "source": [
        "<div dir=rtl>\n",
        "در صورتیکه بخواهیم یک دیکشنری را از مقادیر یک لیست بسازیم\n",
        "</br>\n",
        "از متد fromkeys در دیکشنری استفاده می کنیم.\n",
        "و به عنوان ورودی به آن لیست کلید ها و یک مقدار که به عنوان مقدار هر کلید قرار می گیرد، می دهیم\n",
        "</div>"
      ],
      "metadata": {
        "id": "QvB26Iz2gE6c"
      }
    },
    {
      "cell_type": "code",
      "source": [
        "marks = {}.fromkeys(['Math','English','Science'], 0)\n",
        "print(marks)"
      ],
      "metadata": {
        "id": "7xWoYRFCgM3u",
        "colab": {
          "base_uri": "https://localhost:8080/"
        },
        "outputId": "5ecb4f84-d192-4f42-e52f-c6fc831fe9aa"
      },
      "execution_count": null,
      "outputs": [
        {
          "output_type": "stream",
          "name": "stdout",
          "text": [
            "{'Math': 0, 'English': 0, 'Science': 0}\n"
          ]
        }
      ]
    },
    {
      "cell_type": "markdown",
      "source": [
        "<div dir=rtl>\n",
        "پیمایش دیکشنری:\n",
        "</br>\n",
        "با استفاده از متدهای keys, values, items\n",
        "</div>"
      ],
      "metadata": {
        "id": "qo69rzkaNx4s"
      }
    },
    {
      "cell_type": "code",
      "source": [
        "ages = {\"ali\": 12, \"amir\": 13, \"hassan\":11}\n",
        "for k in ages :\n",
        "  print(f\"{k} : {ages[k]}\")"
      ],
      "metadata": {
        "id": "useHlN7EOCAa"
      },
      "execution_count": null,
      "outputs": []
    },
    {
      "cell_type": "code",
      "source": [
        "ages = {\"ali\": 12, \"amir\": 13, \"hassan\":11}\n",
        "for v in ages.values() :\n",
        "  print(v)"
      ],
      "metadata": {
        "colab": {
          "base_uri": "https://localhost:8080/"
        },
        "id": "6_PPDa2AOe1V",
        "outputId": "9dc8c66c-4ff9-4d76-a31c-db6ab9946e38"
      },
      "execution_count": null,
      "outputs": [
        {
          "output_type": "stream",
          "name": "stdout",
          "text": [
            "12\n",
            "13\n",
            "11\n"
          ]
        }
      ]
    },
    {
      "cell_type": "code",
      "source": [
        "ages = {\"ali\": 12, \"amir\": 13, \"hassan\":11}\n",
        "#for item in ages.items() :\n",
        "#  print(type(item))\n",
        "#  print(item)\n",
        "\n",
        "for key,val in ages.items() :\n",
        "  print(f\"key ={key} , value={val}\")\n"
      ],
      "metadata": {
        "colab": {
          "base_uri": "https://localhost:8080/"
        },
        "id": "TKHMJCFKOl68",
        "outputId": "cb83c2c6-1245-4938-be19-d98b1156a023"
      },
      "execution_count": null,
      "outputs": [
        {
          "output_type": "stream",
          "name": "stdout",
          "text": [
            "key =ali , value=12\n",
            "key =amir , value=13\n",
            "key =hassan , value=11\n"
          ]
        }
      ]
    },
    {
      "cell_type": "code",
      "source": [
        "ages = {\"ali\": 12, \"amir\": 13, \"hassan\":11}\n",
        "for item in enumerate(ages) :\n",
        "  print(item)\n"
      ],
      "metadata": {
        "id": "sb0dyp4sOw9o"
      },
      "execution_count": null,
      "outputs": []
    },
    {
      "cell_type": "markdown",
      "source": [
        "<div dir = rtl>\n",
        "فرض کنید میخواهید یک بازی بنویسید و هر بازیکن شما مجموعه ای از دارایی ها را دارد\n",
        "</br>\n",
        "دارایی های بازیکن را در یک دیکشنری ذخیره کرده اید.\n",
        "که در آن کلید ، نام دارایی و مقدار، تعداد آن است.\n",
        "</br>\n",
        "تابعی به نام display_inventory(inventory) بنویسید \n",
        "</br>\n",
        "که به عنوان ورودی، دیکشنری دارایی ها را دریافت کرده مانند زیر آنرا نمایش دهد.\n",
        "</br>\n",
        "\n",
        "</br>\n",
        "</div>\n",
        "{'rope': 1, 'torch': 6, 'gold coin': 42, 'dagger': 1, 'arrow': 12}\n",
        "</br>\n",
        "Inventory:\n",
        "</br>\n",
        "12 arrow\n",
        "</br>\n",
        "1 dagger\n",
        "</br>\n",
        "...\n",
        "</br>\n",
        "Total number of items: 62"
      ],
      "metadata": {
        "id": "fr0tGBGUXM15"
      }
    },
    {
      "cell_type": "code",
      "source": [
        "def display_inventory(inventory) :\n",
        "  print(\"Inventory\")\n",
        "  total = 0\n",
        "  for k,v in inventory.items() :\n",
        "    print(f\"{v} {k}\")\n",
        "    total += v\n",
        "  print(f\"Total number of items {total}\")\n",
        "\n",
        "inv = {'rope': 1, 'torch': 6, 'gold coin': 42, 'dagger': 1, 'arrow': 12}\n",
        "display_inventory(inv)"
      ],
      "metadata": {
        "id": "oQ3toZsWXZBo",
        "colab": {
          "base_uri": "https://localhost:8080/"
        },
        "outputId": "8aabbce8-0dcf-4f33-b485-c0bd7d0eb9d7"
      },
      "execution_count": null,
      "outputs": [
        {
          "output_type": "stream",
          "name": "stdout",
          "text": [
            "Inventory\n",
            "1 rope\n",
            "6 torch\n",
            "42 gold coin\n",
            "1 dagger\n",
            "12 arrow\n",
            "Total number of items 62\n"
          ]
        }
      ]
    },
    {
      "cell_type": "markdown",
      "source": [
        "<div dir=rtl>\n",
        "در صورتیکه بخواهیم تابع دارایی ها را مرتب شده نشان دهد، تابع را چگونه پیاده سازی می کنید\n",
        "</div>"
      ],
      "metadata": {
        "id": "NB517QnQYfLk"
      }
    },
    {
      "cell_type": "code",
      "source": [
        "def display_inventory(inventory) :\n",
        "  ks = list(inventory.keys())\n",
        "  ks.sort()\n",
        "  print(\"Inventory\")\n",
        "  total = 0\n",
        "  for k in ks:\n",
        "    print(f\"{inventory[k]} {k}\")\n",
        "    total += inventory[k]\n",
        "  print(f\"Total number of items {total}\")\n",
        "\n",
        "inv = {'rope': 1, 'torch': 6, 'gold coin': 42, 'dagger': 1, 'arrow': 12}\n",
        "display_inventory(inv)\n"
      ],
      "metadata": {
        "id": "NeooGFosYtwS",
        "colab": {
          "base_uri": "https://localhost:8080/"
        },
        "outputId": "49edd5e9-92f1-4185-93b8-b4e0cb584fd8"
      },
      "execution_count": null,
      "outputs": [
        {
          "output_type": "stream",
          "name": "stdout",
          "text": [
            "Inventory\n",
            "12 arrow\n",
            "1 dagger\n",
            "42 gold coin\n",
            "1 rope\n",
            "6 torch\n",
            "Total number of items 62\n"
          ]
        }
      ]
    },
    {
      "cell_type": "markdown",
      "source": [
        "<div dir=rtl>\n",
        "س: پیاده سازی بازی tic tac toe با استفاده از dictionary\n",
        "</div>"
      ],
      "metadata": {
        "id": "ui0rVFnGP5M6"
      }
    },
    {
      "cell_type": "code",
      "source": [
        "the_board = {'top-L': 'X', 'top-M': ' ', 'top-R': ' ',\n",
        "'mid-L': ' ', 'mid-M': ' ', 'mid-R': ' ',\n",
        "'low-L': ' ', 'low-M': ' ', 'low-R': 'O'}\n",
        "\n",
        "def print_board(board) :\n",
        "  print(board['top-L'] + '|' + board['top-M'] + '|' + board['top-R'])\n",
        "  print('-+-+-')\n",
        "  print(board['mid-L'] + '|' + board['mid-M'] + '|' + board['mid-R'])\n",
        "  print('-+-+-')\n",
        "  print(board['low-L'] + '|' + board['low-M'] + '|' + board['low-R'])\n",
        "\n",
        "def get_input() :\n",
        "  pass\n",
        "\n",
        "def is_win(the_board, turn):\n",
        "  pass\n",
        "\n",
        "def system_choice(board):\n",
        "  pass\n",
        "\n",
        "\n",
        "print_board(the_board)"
      ],
      "metadata": {
        "id": "QuR_X8tLQFml",
        "colab": {
          "base_uri": "https://localhost:8080/"
        },
        "outputId": "f997545e-a1db-481f-ba14-eb38d3308872"
      },
      "execution_count": null,
      "outputs": [
        {
          "output_type": "stream",
          "name": "stdout",
          "text": [
            "X| | \n",
            "-+-+-\n",
            " | | \n",
            "-+-+-\n",
            " | |O\n"
          ]
        }
      ]
    },
    {
      "cell_type": "markdown",
      "source": [
        "<div dir=rtl>\n",
        "متدهای ماژول random\n",
        "</br>\n",
        "</div>\n",
        "choice()\n",
        "</br>\n",
        "choices()\n",
        "</br>\n",
        "shuffle()\n",
        "</br>\n",
        "sample()\n",
        "</br>"
      ],
      "metadata": {
        "id": "VLGNKapIQv4E"
      }
    },
    {
      "cell_type": "code",
      "source": [
        "import random\n",
        "mylist = [\"apple\", \"banana\", \"cherry\"]\n",
        "random.shuffle(mylist)\n",
        "print(mylist)\n"
      ],
      "metadata": {
        "id": "uLyFP67iSiso",
        "colab": {
          "base_uri": "https://localhost:8080/"
        },
        "outputId": "3ea9c48c-8ab4-461e-bbca-4c9c39a92ff4"
      },
      "execution_count": null,
      "outputs": [
        {
          "output_type": "stream",
          "name": "stdout",
          "text": [
            "['cherry', 'banana', 'apple']\n"
          ]
        }
      ]
    },
    {
      "cell_type": "code",
      "source": [
        "import random\n",
        "mylist = [\"apple\", \"banana\", \"cherry\"]\n",
        "print(random.choice(mylist))"
      ],
      "metadata": {
        "colab": {
          "base_uri": "https://localhost:8080/"
        },
        "id": "wiNmIR-ySrSm",
        "outputId": "08dea60a-aa6a-4e9c-d453-a9f57f929733"
      },
      "execution_count": null,
      "outputs": [
        {
          "output_type": "stream",
          "name": "stdout",
          "text": [
            "apple\n"
          ]
        }
      ]
    },
    {
      "cell_type": "code",
      "source": [
        "import random\n",
        "\n",
        "mylist = [\"apple\", \"banana\", \"cherry\"]\n",
        "\n",
        "print(random.choices(mylist, weights = [10, 1, 1]))\n"
      ],
      "metadata": {
        "colab": {
          "base_uri": "https://localhost:8080/"
        },
        "id": "Ur13I20lTDeB",
        "outputId": "f8fd0ed3-d2f0-4add-92a3-20199278982b"
      },
      "execution_count": null,
      "outputs": [
        {
          "output_type": "stream",
          "name": "stdout",
          "text": [
            "['apple']\n"
          ]
        }
      ]
    },
    {
      "cell_type": "code",
      "source": [
        "import random\n",
        "\n",
        "mylist = [\"apple\", \"banana\", \"cherry\"]\n",
        "\n",
        "print(random.sample(mylist, k=2))"
      ],
      "metadata": {
        "colab": {
          "base_uri": "https://localhost:8080/"
        },
        "id": "m2peMw99TVoz",
        "outputId": "71131098-2b8f-4475-92f3-53d42500d717"
      },
      "execution_count": null,
      "outputs": [
        {
          "output_type": "stream",
          "name": "stdout",
          "text": [
            "['cherry', 'banana']\n"
          ]
        }
      ]
    },
    {
      "cell_type": "markdown",
      "source": [],
      "metadata": {
        "id": "0fZ6ErrUWD3H"
      }
    }
  ]
}