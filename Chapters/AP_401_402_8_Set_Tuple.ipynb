{
  "nbformat": 4,
  "nbformat_minor": 0,
  "metadata": {
    "colab": {
      "provenance": [],
      "authorship_tag": "ABX9TyO+OhHcRYJlcTCnpBkH7DMe",
      "include_colab_link": true
    },
    "kernelspec": {
      "name": "python3",
      "display_name": "Python 3"
    },
    "language_info": {
      "name": "python"
    }
  },
  "cells": [
    {
      "cell_type": "markdown",
      "metadata": {
        "id": "view-in-github",
        "colab_type": "text"
      },
      "source": [
        "<a href=\"https://colab.research.google.com/github/uiacap/UIAC_AP_4012/blob/main/Chapters/AP_401_402_8_Set_Tuple.ipynb\" target=\"_parent\"><img src=\"https://colab.research.google.com/assets/colab-badge.svg\" alt=\"Open In Colab\"/></a>"
      ]
    },
    {
      "cell_type": "markdown",
      "source": [
        "<div dir =rtl>\n",
        "نوع مجموعه (SET)\n",
        "</br>\n",
        "این نوع نیز مانند لیست برای ذخیره سازی مجموعه ای از مقادیر تحت یک نام استفاده می شود.\n",
        "</br>\n",
        "فرق مجموعه با لیست این است که اعضا در مجموعه ترتیب ندارند و بنابراین نمی توان اعضای تکراری در یک مجموعه داشت\n",
        "</br>\n",
        "برای تعریف مجموعه از اکولاد باز و بسته استفاده می کنیم. {}\n",
        "</br>\n",
        "اعضای مجموعه می توانند انواع مختلف داشته باشند.\n",
        "</div>"
      ],
      "metadata": {
        "id": "buf97nt4O0aj"
      }
    },
    {
      "cell_type": "code",
      "source": [
        "A = {3,1,2,3}\n",
        "print(type(A))\n",
        "print(A)\n",
        "B = {'abc', 2, 4.5}"
      ],
      "metadata": {
        "colab": {
          "base_uri": "https://localhost:8080/"
        },
        "id": "9tAWdODiPe5y",
        "outputId": "fa9c0463-16f8-45d8-aa95-984c1d60805d"
      },
      "execution_count": null,
      "outputs": [
        {
          "output_type": "stream",
          "name": "stdout",
          "text": [
            "<class 'set'>\n",
            "{1, 2, 3}\n"
          ]
        }
      ]
    },
    {
      "cell_type": "markdown",
      "source": [
        "<div dir=rtl>\n",
        "برای تعریف مجموعه خالی نمی توان از {} به صورتی که عضوی در آن نیست استفاده کرد.\n",
        "زیر در این حالت متغیر را از نوع dictionatry در نظر می گیرد.\n",
        "</br>\n",
        "برای تعریف یک مجموعه خالی از set() استفاده می کنیم.\n",
        "</div>"
      ],
      "metadata": {
        "id": "MqM3jYTBPvgV"
      }
    },
    {
      "cell_type": "code",
      "source": [
        "C= {}\n",
        "print(type(C))\n",
        "C = set()\n",
        "print(type(C))"
      ],
      "metadata": {
        "colab": {
          "base_uri": "https://localhost:8080/"
        },
        "id": "ILrPoQkYQC5A",
        "outputId": "cf8bf19d-1cda-4851-91a0-68c782fbe15a"
      },
      "execution_count": null,
      "outputs": [
        {
          "output_type": "stream",
          "name": "stdout",
          "text": [
            "<class 'dict'>\n",
            "<class 'set'>\n"
          ]
        }
      ]
    },
    {
      "cell_type": "markdown",
      "source": [
        "<div dir=rtl>\n",
        "برای اضافه کردن یک عنصر به مجموعه از متد add استفاده می کنیم\n",
        "</div>"
      ],
      "metadata": {
        "id": "tmMRxU8YQOL6"
      }
    },
    {
      "cell_type": "code",
      "source": [
        "a = {2,3,4}\n",
        "2 in a"
      ],
      "metadata": {
        "id": "JrrwhNO1Qdks"
      },
      "execution_count": null,
      "outputs": []
    },
    {
      "cell_type": "markdown",
      "source": [
        "<div dir =rtl>\n",
        "عملگرهای مجموعه ها:\n",
        "</br>\n",
        "عملگرهای + و * برای مجموعه ها تعریف نشده اند.\n",
        "عملگر in: برای بررسی عضویت یک مقدار در مجموعه\n",
        "</br>\n",
        "عملگر | : برای به دست آوردن اجتماع دو مجموعه\n",
        "</br>\n",
        "عملگر &: برای به دست آوردن اشتراک دو مجموعه\n",
        "</br>\n",
        "عملگر -: برای به دست آوردن تفاضل دو مجحوعه\n",
        "</br>\n",
        "عملگر ^ : برای به دست آوردن تفاضل متقارن دو مجموعه\n",
        "</div>\n"
      ],
      "metadata": {
        "id": "g6FVYX6_QgeG"
      }
    },
    {
      "cell_type": "code",
      "source": [
        "A = {1,2,3,4}\n",
        "B = {4,5,6,7}\n",
        "C1 = A | B\n",
        "C2 = A.union(B)\n",
        "C3 = A.update(B)\n",
        "print(C1)\n",
        "print(C2)\n",
        "print(C3)\n",
        "print(A)"
      ],
      "metadata": {
        "colab": {
          "base_uri": "https://localhost:8080/"
        },
        "id": "xg-Gd92sWcpU",
        "outputId": "09304e8a-53ce-49d8-961e-8826cb8b5dc9"
      },
      "execution_count": null,
      "outputs": [
        {
          "output_type": "stream",
          "name": "stdout",
          "text": [
            "{1, 2, 3, 4, 5, 6, 7}\n",
            "{1, 2, 3, 4, 5, 6, 7}\n",
            "None\n",
            "{1, 2, 3, 4, 5, 6, 7}\n"
          ]
        }
      ]
    },
    {
      "cell_type": "code",
      "source": [
        "A = {1,2,3,4}\n",
        "B = {4,5,6,7}\n",
        "C1 = A & B\n",
        "C2 = A.intersection(B)\n",
        "C3 = A.intersection_update(B)\n",
        "print(C1)\n",
        "print(C2)\n",
        "print(C3)\n",
        "print(A)"
      ],
      "metadata": {
        "colab": {
          "base_uri": "https://localhost:8080/"
        },
        "id": "C9tVb5nOW-lO",
        "outputId": "d9ba4f51-cb3f-4941-f994-291226ebf881"
      },
      "execution_count": null,
      "outputs": [
        {
          "output_type": "stream",
          "name": "stdout",
          "text": [
            "{4}\n",
            "{4}\n",
            "None\n",
            "{4}\n"
          ]
        }
      ]
    },
    {
      "cell_type": "code",
      "source": [
        "A = {1,2,3,4}\n",
        "B = {4,5,6,7}\n",
        "C1 = A - B\n",
        "C2 = A.difference(B)\n",
        "C3 = A.difference_update(B)\n",
        "print(C)\n",
        "print(C2)\n",
        "print(C3)"
      ],
      "metadata": {
        "id": "j1IQemFOXOlu"
      },
      "execution_count": null,
      "outputs": []
    },
    {
      "cell_type": "code",
      "source": [
        "A = {1,2,3,4}\n",
        "B = {4,5,6,7}\n",
        "C1 = A ^ B\n",
        "C2 = A.symmetric_difference(B)\n",
        "C3 = A.symmetric_difference_update(B)\n",
        "print(C)\n",
        "print(C2)\n",
        "print(C3)"
      ],
      "metadata": {
        "id": "_I4eiwShXYiV"
      },
      "execution_count": null,
      "outputs": []
    },
    {
      "cell_type": "code",
      "source": [
        "A = {2,3}\n",
        "B = {'a', 1, 'd'}\n",
        "print(A.isdisjoint(B))"
      ],
      "metadata": {
        "colab": {
          "base_uri": "https://localhost:8080/"
        },
        "id": "etM7ZWm7XkEa",
        "outputId": "927a714f-6471-4aea-dea4-5b09205b674b"
      },
      "execution_count": null,
      "outputs": [
        {
          "output_type": "stream",
          "name": "stdout",
          "text": [
            "True\n"
          ]
        }
      ]
    },
    {
      "cell_type": "code",
      "source": [
        "A = {1}\n",
        "B = {'a', 1, 'd'}\n",
        "print(A.issubset(B))\n",
        "print(B.issuperset(A))"
      ],
      "metadata": {
        "colab": {
          "base_uri": "https://localhost:8080/"
        },
        "id": "14ceyF_AXs1Y",
        "outputId": "fb024a32-3010-4e2a-89f7-06938ad5d523"
      },
      "execution_count": null,
      "outputs": [
        {
          "output_type": "stream",
          "name": "stdout",
          "text": [
            "True\n",
            "True\n"
          ]
        }
      ]
    },
    {
      "cell_type": "markdown",
      "source": [
        "<div dir=rtl>\n",
        "برای حذف یک مقدار از مجموعه از دو متد remove و discard می توانیم استفاده کنیم\n",
        "</br>\n",
        "</div>\n",
        "If the item to remove does not exist, remove() will raise an error.\n",
        "If the item to remove does not exist, discard() will NOT raise an error."
      ],
      "metadata": {
        "id": "m2mNgXdyX5CA"
      }
    },
    {
      "cell_type": "code",
      "source": [
        "thisset = {\"apple\", \"banana\", \"cherry\"}\n",
        "thisset.add(\"ab\")\n",
        "print(thisset)\n",
        "thisset.remove(\"apple\")\n",
        "print(thisset)\n",
        "thisset.discard(\"orange\")\n",
        "print(thisset)\n",
        "thisset.remove(\"orange\")\n",
        "print(thisset)\n",
        "\n"
      ],
      "metadata": {
        "colab": {
          "base_uri": "https://localhost:8080/",
          "height": 288
        },
        "id": "E_NJdB4-YC5-",
        "outputId": "4ddeb637-0da0-478c-d1f9-6309a51ae4df"
      },
      "execution_count": null,
      "outputs": [
        {
          "output_type": "stream",
          "name": "stdout",
          "text": [
            "{'ab', 'apple', 'cherry', 'banana'}\n",
            "{'ab', 'cherry', 'banana'}\n",
            "{'ab', 'cherry', 'banana'}\n"
          ]
        },
        {
          "output_type": "error",
          "ename": "KeyError",
          "evalue": "ignored",
          "traceback": [
            "\u001b[0;31m---------------------------------------------------------------------------\u001b[0m",
            "\u001b[0;31mKeyError\u001b[0m                                  Traceback (most recent call last)",
            "\u001b[0;32m<ipython-input-14-a2ef4caf817c>\u001b[0m in \u001b[0;36m<module>\u001b[0;34m\u001b[0m\n\u001b[1;32m      6\u001b[0m \u001b[0mthisset\u001b[0m\u001b[0;34m.\u001b[0m\u001b[0mdiscard\u001b[0m\u001b[0;34m(\u001b[0m\u001b[0;34m\"orange\"\u001b[0m\u001b[0;34m)\u001b[0m\u001b[0;34m\u001b[0m\u001b[0;34m\u001b[0m\u001b[0m\n\u001b[1;32m      7\u001b[0m \u001b[0mprint\u001b[0m\u001b[0;34m(\u001b[0m\u001b[0mthisset\u001b[0m\u001b[0;34m)\u001b[0m\u001b[0;34m\u001b[0m\u001b[0;34m\u001b[0m\u001b[0m\n\u001b[0;32m----> 8\u001b[0;31m \u001b[0mthisset\u001b[0m\u001b[0;34m.\u001b[0m\u001b[0mremove\u001b[0m\u001b[0;34m(\u001b[0m\u001b[0;34m\"orange\"\u001b[0m\u001b[0;34m)\u001b[0m\u001b[0;34m\u001b[0m\u001b[0;34m\u001b[0m\u001b[0m\n\u001b[0m\u001b[1;32m      9\u001b[0m \u001b[0mprint\u001b[0m\u001b[0;34m(\u001b[0m\u001b[0mthisset\u001b[0m\u001b[0;34m)\u001b[0m\u001b[0;34m\u001b[0m\u001b[0;34m\u001b[0m\u001b[0m\n\u001b[1;32m     10\u001b[0m \u001b[0;34m\u001b[0m\u001b[0m\n",
            "\u001b[0;31mKeyError\u001b[0m: 'orange'"
          ]
        }
      ]
    },
    {
      "cell_type": "markdown",
      "source": [
        "<div dir =rtl>\n",
        "متد clear برای حذف تمام اعضای مجموعه به کار می رود.\n",
        "</div>"
      ],
      "metadata": {
        "id": "xJ-JV8X5ZB-0"
      }
    },
    {
      "cell_type": "code",
      "source": [
        "thisset = {\"apple\", \"banana\", \"cherry\"}\n",
        "thisset.clear()\n",
        "print(thisset)"
      ],
      "metadata": {
        "colab": {
          "base_uri": "https://localhost:8080/"
        },
        "id": "QMb1RNglZLHA",
        "outputId": "7ed05227-256a-4264-b3d9-0a495cd15562"
      },
      "execution_count": null,
      "outputs": [
        {
          "output_type": "stream",
          "name": "stdout",
          "text": [
            "set()\n"
          ]
        }
      ]
    },
    {
      "cell_type": "markdown",
      "source": [
        "<div dir=rtl>\n",
        "س: تابع isdisjoint را پیاده سازی کنید\n",
        "</div>"
      ],
      "metadata": {
        "id": "ZRx36Y7xkKPn"
      }
    },
    {
      "cell_type": "code",
      "source": [
        "def isdisjoint(A,B) :\n",
        "  for item in A :\n",
        "    if item in B:\n",
        "      return False\n",
        "  return True\n"
      ],
      "metadata": {
        "id": "RD2Sh07FkWm9"
      },
      "execution_count": null,
      "outputs": []
    },
    {
      "cell_type": "markdown",
      "source": [
        "<div dir = rtl>\n",
        "س : تابع issubset را پیاده سازی کنید.\n",
        "</div>"
      ],
      "metadata": {
        "id": "DQKwnxRnlcZH"
      }
    },
    {
      "cell_type": "code",
      "source": [
        "def issubset(A,B) :\n",
        "  for item in B:\n",
        "    if item not in A :\n",
        "      return False\n",
        "  return True"
      ],
      "metadata": {
        "id": "n3_sTBY9li8F"
      },
      "execution_count": null,
      "outputs": []
    },
    {
      "cell_type": "markdown",
      "source": [
        "<div dir=rtl>\n",
        "tuple\n",
        "</br>\n",
        "نوع دیگری از مجموعه مقادیر، نوع tuple است.\n",
        "</br>\n",
        "این نوع، دارای ترتیب می باشد ولی قابل تغییر نیست.\n",
        "</br>\n",
        "رشته ها نوع tuple می باشند\n",
        "</br>\n",
        "در صورتیکه چند مقدار از تابع return کنیم. نوع خروجی از نوع tuple است.\n",
        "</br>\n",
        "برای تعریف tuple از () استفاده می کنیم\n",
        "</br>\n",
        "در صورتیکه () قرار داده نشود و بین متغیرها ,قرار داده شود، نوع داده ها از نوع tuple در نظر گرفته می شود.\n",
        "</div>"
      ],
      "metadata": {
        "id": "DdHRP_JKZUK9"
      }
    },
    {
      "cell_type": "code",
      "source": [
        "t1 = (\"apple\", \"banana\", \"cherry\")\n",
        "t2 = (1,)\n",
        "print(type(t2))\n",
        "t3 = 1,2,3\n",
        "print(type(t3))\n",
        "print(t3[0])\n",
        "#t2 = (\"apple\",)\n",
        "#t3 = tuple(\"apple\")\n",
        "#t4 = (1,2,\"ABV\")\n",
        "#t5 = 1,2,3,4\n",
        "#print(t5)\n"
      ],
      "metadata": {
        "colab": {
          "base_uri": "https://localhost:8080/"
        },
        "id": "AVygxm6OaTTy",
        "outputId": "306358df-bb14-4cca-a5b2-4ff791e7f102"
      },
      "execution_count": null,
      "outputs": [
        {
          "output_type": "stream",
          "name": "stdout",
          "text": [
            "<class 'tuple'>\n",
            "<class 'tuple'>\n",
            "1\n"
          ]
        }
      ]
    },
    {
      "cell_type": "markdown",
      "source": [
        "<div dir = rtl>\n",
        "تعریف یک tupleخالی :\n",
        "</br>\n",
        "</div>"
      ],
      "metadata": {
        "id": "greeYdSKawm2"
      }
    },
    {
      "cell_type": "code",
      "source": [
        "my_tuple = ()\n",
        "print(type(my_tuple))\n",
        "print(my_tuple)"
      ],
      "metadata": {
        "id": "ZFNB2vkCbDrl"
      },
      "execution_count": null,
      "outputs": []
    },
    {
      "cell_type": "markdown",
      "source": [
        "<div dir=rtl>\n",
        "تعریف tuple با یک عضو\n",
        "</div>\n"
      ],
      "metadata": {
        "id": "UeRXkzFEbEhY"
      }
    },
    {
      "cell_type": "code",
      "source": [],
      "metadata": {
        "id": "vdXAeP9GbVZw"
      },
      "execution_count": null,
      "outputs": []
    },
    {
      "cell_type": "code",
      "source": [
        "# tuple unpacking\n",
        "t = (2,3,4)\n",
        "a, b, c = t\n",
        "print(a)\n",
        "print(b)\n",
        "print(c)"
      ],
      "metadata": {
        "colab": {
          "base_uri": "https://localhost:8080/"
        },
        "id": "NCsjZBGXbhhM",
        "outputId": "ca2e9c2a-9a04-4ae7-c7ba-dd0b65595783"
      },
      "execution_count": null,
      "outputs": [
        {
          "output_type": "stream",
          "name": "stdout",
          "text": [
            "a\n",
            "3\n",
            "b\n"
          ]
        }
      ]
    },
    {
      "cell_type": "markdown",
      "source": [
        "<div dir=rtl>\n",
        "tuple از نوع داده های دارای ترتیب است. بنابراین با استفاده از اندیس آعضای می توان به هر یک از آنها دسترسی داشت\n",
        "</br>\n",
        "ولی tuple قابل تغییر نیست و در صورتیکه مقداری را از نوع tuple تعریف کردید، نمی توانید عناصر آنرا تغییر دهید.\n",
        "</div>"
      ],
      "metadata": {
        "id": "OqKKXRpWbtEp"
      }
    },
    {
      "cell_type": "code",
      "source": [
        "my_tuple = (4, 2, 3, [6, 5])\n"
      ],
      "metadata": {
        "id": "ByhzFFa4cCHV"
      },
      "execution_count": null,
      "outputs": []
    },
    {
      "cell_type": "markdown",
      "source": [
        "<div dir = rtl>\n",
        "عملگرهای + و * را برای tupleها داریم. \n",
        "</div>"
      ],
      "metadata": {
        "id": "0EVFaNlLcZVl"
      }
    },
    {
      "cell_type": "markdown",
      "source": [
        "<div dir = rtl>\n",
        "تابع enumerate:\n",
        "</br>\n",
        "</div>"
      ],
      "metadata": {
        "id": "_Bgr4A-Kclho"
      }
    },
    {
      "cell_type": "code",
      "source": [
        "l = ['ab', 'ac', 'af']\n",
        "#for item in enumerate(l) : \n",
        "#  print(item)\n",
        "#  print(type(item))\n",
        "#  print(f'Index  {item[0]} : in l is: {item[1]}')\n",
        "\n",
        "for idx,val in enumerate(l) :\n",
        "  print(f\"item number{idx} = {val}\")\n"
      ],
      "metadata": {
        "id": "hJ37gkYKc5yn",
        "colab": {
          "base_uri": "https://localhost:8080/"
        },
        "outputId": "25970264-70a1-4f0c-8a3d-5fdb88db0d21"
      },
      "execution_count": null,
      "outputs": [
        {
          "output_type": "stream",
          "name": "stdout",
          "text": [
            "item number0 = ab\n",
            "item number1 = ac\n",
            "item number2 = af\n"
          ]
        }
      ]
    },
    {
      "cell_type": "code",
      "source": [
        "l = ['ab', 'ac', 'af']\n",
        "for idx,val in enumerate(l) :\n",
        "  print(f'Index  {idx} : in l is: {val}')"
      ],
      "metadata": {
        "id": "8DjT2rtZdS_U"
      },
      "execution_count": null,
      "outputs": []
    },
    {
      "cell_type": "markdown",
      "source": [
        "<div dir =rtl>\n",
        "س: تابعی بنویسید که یک لیست در ورودی می‌گیرد و در خروجی یک سه‌تایی بر می‌گرداند که به ترتیب میانگین و میانه و بیشینه اعضای این چندتایی را برگرداند.\n",
        "</div>"
      ],
      "metadata": {
        "id": "pktJf-oqjmjp"
      }
    },
    {
      "cell_type": "code",
      "source": [
        "def statistic(l) :\n",
        "  l.sort()\n",
        "  length = len(l)\n",
        "  if length % 2 == 0:\n",
        "    mean = l[int(length/2)] + l[int(length/2)+1]\n",
        "  else :\n",
        "    mean = l[int(length/2)]\n",
        "  return sum(l)/len(l) , mean, max(l)\n",
        "\n",
        "l = [1,4,5,6,2]\n",
        "t = statistic(l)\n",
        "print(f\"mean = {t[1]}\")"
      ],
      "metadata": {
        "colab": {
          "base_uri": "https://localhost:8080/"
        },
        "id": "qoPomg5C6s35",
        "outputId": "5bffffab-140c-431d-9cd4-ef059af07f76"
      },
      "execution_count": null,
      "outputs": [
        {
          "output_type": "stream",
          "name": "stdout",
          "text": [
            "mean = 4\n"
          ]
        }
      ]
    }
  ]
}