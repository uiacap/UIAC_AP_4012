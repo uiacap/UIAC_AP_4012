{
  "nbformat": 4,
  "nbformat_minor": 0,
  "metadata": {
    "colab": {
      "provenance": [],
      "include_colab_link": true
    },
    "kernelspec": {
      "name": "python3",
      "display_name": "Python 3"
    },
    "language_info": {
      "name": "python"
    }
  },
  "cells": [
    {
      "cell_type": "markdown",
      "metadata": {
        "id": "view-in-github",
        "colab_type": "text"
      },
      "source": [
        "<a href=\"https://colab.research.google.com/github/uiacap/UIAC_AP/blob/main/AP_401_402_1.ipynb\" target=\"_parent\"><img src=\"https://colab.research.google.com/assets/colab-badge.svg\" alt=\"Open In Colab\"/></a>"
      ]
    },
    {
      "cell_type": "markdown",
      "source": [
        "<div dir=rtl>\n",
        "زبان برنامه نویسی پایتون\n",
        "</div>\n",
        "\n",
        "\n"
      ],
      "metadata": {
        "id": "Tw04vsP5OJbp"
      }
    },
    {
      "cell_type": "markdown",
      "source": [
        "\n",
        "<div dir=rtl>\n",
        "استفاده از پوسته تعاملی پایتون interactive shell:\n",
        "</br>\n",
        "با استفاده از پوسته تعاملی می توان دستورات را یکی یکی به مفسر داد و در لحظه حاصل اجرای آنرا مشاهده کرد\n",
        "</br>\n",
        "دستور زیر را  اجرا کنید:\n",
        "</div>"
      ],
      "metadata": {
        "id": "v1ToGDTnOoSI"
      }
    },
    {
      "cell_type": "code",
      "source": [
        "print('Hello, world!')"
      ],
      "metadata": {
        "colab": {
          "base_uri": "https://localhost:8080/"
        },
        "id": "rvjfHWiNP-_3",
        "outputId": "4e66daa9-efc6-4514-d4d4-309be4f4fcbb"
      },
      "execution_count": null,
      "outputs": [
        {
          "output_type": "stream",
          "name": "stdout",
          "text": [
            "Hello, world!\n"
          ]
        }
      ]
    },
    {
      "cell_type": "code",
      "source": [
        "2+2"
      ],
      "metadata": {
        "id": "qnPx7XJ3Sw6X"
      },
      "execution_count": null,
      "outputs": []
    },
    {
      "cell_type": "code",
      "source": [],
      "metadata": {
        "id": "b5z7TyZXpgDl"
      },
      "execution_count": null,
      "outputs": []
    },
    {
      "cell_type": "markdown",
      "source": [
        "<div dir=rtl>\n",
        "به 2+2 یک عبارت(expression) می گوییم\n",
        "</br>\n",
        "عبارت ابتدایی ترین دستور برنامه نویسی است\n",
        "عبارت ها از مقادیر (value) مثل 2\n",
        "یا عملگر مثل + تشکیل شده اند\n",
        "</br>\n",
        "عبارت ها به یک مقدار ارزیابی می شوند و این بدان معنا است که شما در هر جایی از دستورات پایتون که یک مقدار دارید می توانید یک عبارت قرار دهید\n",
        "</div>\n",
        "\n"
      ],
      "metadata": {
        "id": "d1wk2yKoSuyr"
      }
    },
    {
      "cell_type": "markdown",
      "source": [
        "<div dir=rtl>\n",
        "انواع عبارت و به همراه عملگرهای ریاضی در پایتون\n",
        "</div>"
      ],
      "metadata": {
        "id": "-JVymL82S1p7"
      }
    },
    {
      "cell_type": "code",
      "source": [
        "2 ** 3"
      ],
      "metadata": {
        "id": "v7TKGSrGUdEM"
      },
      "execution_count": null,
      "outputs": []
    },
    {
      "cell_type": "code",
      "source": [
        "22 % 8"
      ],
      "metadata": {
        "id": "19QryJzsUwTi"
      },
      "execution_count": null,
      "outputs": []
    },
    {
      "cell_type": "code",
      "source": [
        "22 // 8"
      ],
      "metadata": {
        "id": "uYIWTu3JUxhm"
      },
      "execution_count": null,
      "outputs": []
    },
    {
      "cell_type": "code",
      "source": [
        "22 / 8"
      ],
      "metadata": {
        "id": "Hii3pKrgUzpD"
      },
      "execution_count": null,
      "outputs": []
    },
    {
      "cell_type": "code",
      "source": [
        "3 * 5"
      ],
      "metadata": {
        "id": "OPde_4H7U1bl"
      },
      "execution_count": null,
      "outputs": []
    },
    {
      "cell_type": "code",
      "source": [
        "5 - 2"
      ],
      "metadata": {
        "id": "XleWtAjNU3wT"
      },
      "execution_count": null,
      "outputs": []
    },
    {
      "cell_type": "code",
      "source": [
        "2 + 2"
      ],
      "metadata": {
        "id": "I-ZZA52fU58d"
      },
      "execution_count": null,
      "outputs": []
    },
    {
      "cell_type": "markdown",
      "source": [
        "<div dir=rtl>\n",
        "اولویت عملگر:\n",
        "</br>\n",
        "عملگرهای ریاضی:\n",
        "</br>\n",
        "**\n",
        "</br>\n",
        "%,//,/,*\n",
        "</br>\n",
        "-,+\n",
        "</div>"
      ],
      "metadata": {
        "id": "e2o_C4xGU8_S"
      }
    },
    {
      "cell_type": "code",
      "source": [
        "2 + 3 * 6"
      ],
      "metadata": {
        "id": "mBMNcFz_VRez"
      },
      "execution_count": null,
      "outputs": []
    },
    {
      "cell_type": "code",
      "source": [
        "(2 + 3) * 6"
      ],
      "metadata": {
        "id": "zW3u9yyjVUNh"
      },
      "execution_count": null,
      "outputs": []
    },
    {
      "cell_type": "code",
      "source": [
        "(5 - 1) * ((7 + 1) / (3 - 1))"
      ],
      "metadata": {
        "id": "InxW67PCVVom"
      },
      "execution_count": null,
      "outputs": []
    },
    {
      "cell_type": "code",
      "source": [
        "5 +"
      ],
      "metadata": {
        "id": "PTkVJ6hLVZgQ"
      },
      "execution_count": null,
      "outputs": []
    },
    {
      "cell_type": "markdown",
      "source": [
        "<div dir=rtl>\n",
        "نوع داده (Data types)\n",
        "</br>\n",
        "تا اینجا آموختیم که یک عبارت از مقادیر و عملگرها تشکیل شده است.\n",
        "نوع داده یا datatype یک دسته بندی از مقادیر است\n",
        "</br>\n",
        "هر مقدار به یک دسته تعلق دارد\n",
        "</br>\n",
        "datatypeهای رایج پایتون ، integer, float و stringهستند.\n",
        "</div>"
      ],
      "metadata": {
        "id": "yFork4jKVvTm"
      }
    },
    {
      "cell_type": "markdown",
      "source": [
        "<div dir=rtl>\n",
        "مقادیر متنی (text) دارای نوع stringهستند\n",
        "</br>\n",
        "برای مشخص کردن مقدار string از '' یا \"\" استفاده می شود\n",
        "</div>"
      ],
      "metadata": {
        "id": "TdYR4ki4XmnR"
      }
    },
    {
      "cell_type": "code",
      "source": [
        "''"
      ],
      "metadata": {
        "id": "SbWhX_OPWJ9K"
      },
      "execution_count": null,
      "outputs": []
    },
    {
      "cell_type": "code",
      "source": [
        "'Hello, world!"
      ],
      "metadata": {
        "id": "ExpR9M_xYINF"
      },
      "execution_count": null,
      "outputs": []
    },
    {
      "cell_type": "markdown",
      "source": [
        "<div dir=rtl>\n",
        "معنای عملگرها بر اساس اینکه روی چه نوع مقداری (data type)اعمال می شوند، فرق می کنند.\n",
        "</br>\n",
        "برای مثال + اگر روی دو مقدار از نوع int یا float اعمل شود، به معنای اضافه کردن آنها به یکدیگر است.\n",
        "</br>\n",
        "در صورتیکه روی دو مقدار از نوع رشته تعریف شود، به معنای الحاق آنها است.\n",
        "</div>"
      ],
      "metadata": {
        "id": "FXYPA9_4YBNB"
      }
    },
    {
      "cell_type": "code",
      "source": [
        "'Alice ' + 'Bob'"
      ],
      "metadata": {
        "id": "7NZg1aYcY92d",
        "colab": {
          "base_uri": "https://localhost:8080/",
          "height": 35
        },
        "outputId": "b0ec55d2-52fc-4656-c788-a7731cbbc88a"
      },
      "execution_count": null,
      "outputs": [
        {
          "output_type": "execute_result",
          "data": {
            "text/plain": [
              "'Alice Bob'"
            ],
            "application/vnd.google.colaboratory.intrinsic+json": {
              "type": "string"
            }
          },
          "metadata": {},
          "execution_count": 4
        }
      ]
    },
    {
      "cell_type": "code",
      "source": [
        "'Alice' + 42"
      ],
      "metadata": {
        "id": "gAcobJmKY_dz"
      },
      "execution_count": null,
      "outputs": []
    },
    {
      "cell_type": "code",
      "source": [
        "'Alice' * 5"
      ],
      "metadata": {
        "id": "strq4IaeZEvr",
        "colab": {
          "base_uri": "https://localhost:8080/",
          "height": 35
        },
        "outputId": "7d0ae983-6201-4024-bd1d-ae58199d5e5d"
      },
      "execution_count": null,
      "outputs": [
        {
          "output_type": "execute_result",
          "data": {
            "text/plain": [
              "'AliceAliceAliceAliceAlice'"
            ],
            "application/vnd.google.colaboratory.intrinsic+json": {
              "type": "string"
            }
          },
          "metadata": {},
          "execution_count": 5
        }
      ]
    },
    {
      "cell_type": "code",
      "source": [
        "'Alice' * 'Bob'"
      ],
      "metadata": {
        "id": "h9WTzv10ZHxB"
      },
      "execution_count": null,
      "outputs": []
    },
    {
      "cell_type": "code",
      "source": [
        "'Alice' * 5.0"
      ],
      "metadata": {
        "id": "sJpp_5CkZJ5S"
      },
      "execution_count": null,
      "outputs": []
    },
    {
      "cell_type": "markdown",
      "source": [
        "<div dir=rtl>\n",
        "ذخیره کردن مقادیر در متغیر:\n",
        "</br>\n",
        "متغیر مانند یک جعبه در حافظه سیستم است که از آن برای ذخیره سازی یک مقدار استفاده می کنیم.\n",
        "اگر بخواهیم حاصل یک عبارت را بعدا در برنامه استفاده کنیم، آنرا در یک متغیر ذخیره می کنیم.\n",
        "</br>\n",
        "در پایتون برخلاف زبان های دیگر مانند جاوا یا سی، لازم نیست که متغیر ابتدا تعریف شود.\n",
        "</br>\n",
        "به محض اینکه مقداری را در یک متغیر قرار دادیم، آن متغیر تعریف شده و نوع متغیر برابر با نوع مقدار قرار داده شده در آن می شود.\n",
        "</br>\n",
        "جمله assignment\n",
        "</br>\n",
        "با استفاده جمله assignment می توان مقداری را در یک متغیر ذخیره کرد.\n",
        "</br>\n",
        "جمله assignment از یک متغیر، عملگر، = و مقدار تشکیل شده است\n",
        "</br>\n",
        "جمله a = 2 بدین معنا است که متغیری به نام a تعریف کرده و مقدار 2 در آن قرار بگیرد.\n",
        "</div>"
      ],
      "metadata": {
        "id": "gfCbp-YmLvj1"
      }
    },
    {
      "cell_type": "code",
      "source": [
        "a = 40\n",
        "b = 10\n",
        "print(a+b)"
      ],
      "metadata": {
        "id": "fP2SDmwvZLsT"
      },
      "execution_count": null,
      "outputs": []
    },
    {
      "cell_type": "markdown",
      "source": [
        "<div dir=rtl>\n",
        "اولین باری که مقداری در یک متغیر ریخته می شود، آن متغیر تعریف می شود.\n",
        "نوع متغیربرابر با نوع مقدار ریخته شده در آن است.\n",
        "</br>\n",
        "در صورتیکه مقداری از نوعی دیگر در متغیر ریخته شود، نوع آن ها تغییر می کند.\n",
        "</br>\n",
        "با استفاده از تابع type می توانیم نوع یک متغیر را به دست آوریم.\n",
        "</div>"
      ],
      "metadata": {
        "id": "TtcCt0zJNmRP"
      }
    },
    {
      "cell_type": "code",
      "source": [
        "a = 50\n",
        "print(type(a))\n",
        "a = '50'\n",
        "print(type(a))"
      ],
      "metadata": {
        "id": "XDiZgiZHPCL0"
      },
      "execution_count": null,
      "outputs": []
    },
    {
      "cell_type": "markdown",
      "source": [
        "<div dir=rtl>\n",
        "نام گذاری متغیر:\n",
        "</br>\n",
        "1- نام یک متغیر فقط شامل حرف، عدد و _ است.\n",
        "2- نام می تواند با عدد شروع شود\n",
        "3- حروف بزرگ و کوچک در نام گذاری متغیر ها متفاوت هستند\n",
        "</br>\n",
        "بهتر است، نام متغیر به صورتی باشد که مشخص کننده مقدار ذخیره شده در آن باشد.\n",
        "\n",
        "</div>"
      ],
      "metadata": {
        "id": "ZAK-iZnUPX9S"
      }
    },
    {
      "cell_type": "code",
      "source": [
        "1bnm = 2"
      ],
      "metadata": {
        "id": "ciKdDvZUQm5M"
      },
      "execution_count": null,
      "outputs": []
    },
    {
      "cell_type": "markdown",
      "source": [
        "<div dir=rtl>\n",
        "ایجاد اولین برنامه:\n",
        "</br>\n",
        "برای ایجاد یک برنامه پایتون بهتر است از یک ادیتور استفاده کنیم.\n",
        "</br>\n",
        "می توان از یک ادیتور معمولی مثل notpad یا IDLE استفاده کنیم.\n",
        "یا اینکه می توان از ادیتورهایی که ویژگی های بیشتری در اختیار ما قرار می دهند استفاده کنیم. مانند pycharm یا vscode\n",
        "</br>\n",
        "</div>"
      ],
      "metadata": {
        "id": "MC0nsz9VRIus"
      }
    },
    {
      "cell_type": "markdown",
      "source": [
        "<div dir=rtl>\n",
        "نوشتن اولین برنامه:\n",
        "</br>\n",
        "برنامه ای بنویسید که ابتدا نام کاربر را بپرسید و سپس عبارت hello .... را چاپ کند.\n",
        "</br>\n",
        "برای خواندن از ورودی در پایتون از تابع inputاستفاده می شود.\n",
        "</br>\n",
        "این تابع یک ورودی از نوع رشت دارد، که اختیاری می باشد، در صورتیکه این ورودی به تابع داده شود، قبل از اینکه چیزی از کاربر دریافت شود، این رشته نوشته می شود. و سپس ورودی کاربر دریافت می شود.\n",
        "</br>\n",
        "ورودی کاربر در خروجی تابع input قرار می گیرد.\n",
        " و از نوع رشته است.\n",
        "\n",
        "</div>"
      ],
      "metadata": {
        "id": "KF_eAJwvRwIN"
      }
    },
    {
      "cell_type": "code",
      "source": [
        "name = input('Enter your name:')\n",
        "print(name)"
      ],
      "metadata": {
        "id": "QLgxcdHhTHA1"
      },
      "execution_count": null,
      "outputs": []
    },
    {
      "cell_type": "markdown",
      "source": [
        "<div dir=rtl>\n",
        "خروجی تابع input از نوع رشته است.\n",
        "در صورتیکه بخواهیم این نوع را به نوع دیگری تبدیل کینم. می توانیم از توابع با نام همان نوع استفاده کنیم.\n",
        "</br>\n",
        "مثلا برای تبدیل به int از تابع int() استفاده می شود.\n",
        "</br>\n",
        "برای تبدیل به flot از تابعی به نام float() استفاده می شود.\n",
        "</br>\n",
        "برای تبدیل به str از تابعی با نام str() استفاده می شود.\n",
        "</div>"
      ],
      "metadata": {
        "id": "TXrfw6PHUCE1"
      }
    },
    {
      "cell_type": "code",
      "source": [
        "n = float(input(\"Enter a number:\"))\n",
        "print(n+5)\n"
      ],
      "metadata": {
        "id": "Dgbx5hBHUqal",
        "colab": {
          "base_uri": "https://localhost:8080/"
        },
        "outputId": "ba8b653c-ac46-4bc7-f3d9-a4472e666d1f"
      },
      "execution_count": null,
      "outputs": [
        {
          "output_type": "stream",
          "name": "stdout",
          "text": [
            "Enter a number:7.2\n",
            "12.2\n"
          ]
        }
      ]
    },
    {
      "cell_type": "markdown",
      "source": [
        "<div dir=rtl>\n",
        "برنامه ای که به کاربر سلام کرده و سن اش را می پرسد.\n",
        "</br>\n",
        "تابع len یک رشته را از ورودی گرفته و طول آنرا بر می گرداند.\n",
        "</div>\n"
      ],
      "metadata": {
        "id": "zNlC2d2rVECF"
      }
    },
    {
      "cell_type": "code",
      "source": [
        "print('Hello, world!')\n",
        "print('What is your name?') \n",
        "myName = input()\n",
        "print('It is good to meet you, ')\n",
        "print('The length of your name is:')\n",
        "print(len(myName))\n",
        "print('What is your age?') # ask for their age\n",
        "age = int(input())\n",
        "age_str = f'you will be {age+1} in year'\n",
        "#print(age_str)\n",
        "print(f'you will be {age+1} in year')\n",
        "#print('You will be ' + str(age+1) +' in a year.')"
      ],
      "metadata": {
        "id": "RSoyaG0aVXn0",
        "colab": {
          "base_uri": "https://localhost:8080/"
        },
        "outputId": "654b143b-fd57-4d22-cbaf-9c5a665d26df"
      },
      "execution_count": null,
      "outputs": [
        {
          "output_type": "stream",
          "name": "stdout",
          "text": [
            "Hello, world!\n",
            "What is your name?\n",
            "fa\n",
            "It is good to meet you, \n",
            "The length of your name is:\n",
            "2\n",
            "What is your age?\n",
            "30\n",
            "you will be 31 in year\n"
          ]
        }
      ]
    },
    {
      "cell_type": "markdown",
      "source": [
        "<div dir=rtl>\n",
        "تابع print برای نمایش مقادیر در خروجی استاندارد است.\n",
        "</br>\n",
        "این تابع به عنوان ورودی یک رشته می گیرد و آنرا در خروجی چاپ می کند.\n",
        "</br>\n",
        "برای قرار دادن مقادیر متغیرهای در یک رشته می توانیم از f-string استفاده کنیم.\n",
        "</br>\n",
        "f\"Your name is : {name}\"\n",
        "</br>\n",
        "در صورت استفاده از fstring می توانیم نام متغیر را در داخل {} قرار دهیم و هنگام اجرا، رشته به صورتی ساخته می شود که نام متغیر با مقدار آن جایگزین شده است.\n",
        "</div>"
      ],
      "metadata": {
        "id": "Y841Aw25Y6s0"
      }
    },
    {
      "cell_type": "code",
      "source": [],
      "metadata": {
        "id": "c-D1ciShZsQl"
      },
      "execution_count": null,
      "outputs": []
    },
    {
      "cell_type": "markdown",
      "source": [
        "<div dir=rtl>\n",
        "برنامه ای بنویسید که قاعده و ارتفاع مثلث را بگیرد و مساحت آن را به دست آورد.\n",
        "</div>"
      ],
      "metadata": {
        "id": "aVmSregPZlqg"
      }
    },
    {
      "cell_type": "code",
      "source": [
        "h = float(input())\n",
        "d = float(input())\n",
        "\n",
        "area = h * d /2\n",
        "area_r = round(area)\n",
        "print(f\"The area is {area}\")\n",
        "print(f\"The area is {area:0.6f}\")\n",
        "print(f\"The area using round: {area_r}\")\n"
      ],
      "metadata": {
        "id": "kPSs2Uq2Z1Qu",
        "colab": {
          "base_uri": "https://localhost:8080/"
        },
        "outputId": "f947f1c2-1166-43cd-dc60-8fd718cae382"
      },
      "execution_count": null,
      "outputs": [
        {
          "output_type": "stream",
          "name": "stdout",
          "text": [
            "67.8457837489\n",
            "78.78797899\n",
            "The area is 2672.7160922842086\n",
            "The area is 2672.716092\n",
            "The area using round: 2673\n"
          ]
        }
      ]
    }
  ]
}