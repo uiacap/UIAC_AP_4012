{
  "nbformat": 4,
  "nbformat_minor": 0,
  "metadata": {
    "colab": {
      "provenance": [],
      "authorship_tag": "ABX9TyPOUNm6mmWQDFoAY3BCS6rd",
      "include_colab_link": true
    },
    "kernelspec": {
      "name": "python3",
      "display_name": "Python 3"
    },
    "language_info": {
      "name": "python"
    }
  },
  "cells": [
    {
      "cell_type": "markdown",
      "metadata": {
        "id": "view-in-github",
        "colab_type": "text"
      },
      "source": [
        "<a href=\"https://colab.research.google.com/github/uiacap/UIAC_AP_4012/blob/main/Chapters/AP_401_402_18_Exception.ipynb\" target=\"_parent\"><img src=\"https://colab.research.google.com/assets/colab-badge.svg\" alt=\"Open In Colab\"/></a>"
      ]
    },
    {
      "cell_type": "markdown",
      "source": [
        "<div dir=rtl>\n",
        "برای مدیریت استثنا ها از بخش try except استفاده می کنیم\n",
        "</br>\n",
        "بخش try مانند یک بلوک کد عادی اجرا می شود.\n",
        "اگر در این بلاک خطایی رخ داد بلافاصله وارد بخش excpet می شود.\n",
        "</div>"
      ],
      "metadata": {
        "id": "giJdjXL7x4q8"
      }
    },
    {
      "cell_type": "code",
      "execution_count": null,
      "metadata": {
        "id": "do121QoLxv1u"
      },
      "outputs": [],
      "source": [
        "try :\n",
        "  x = int(input())\n",
        "  y = 5/x\n",
        "  z = 1\n",
        "  w = 2\n",
        "except :\n",
        "  print(\"The error\")"
      ]
    },
    {
      "cell_type": "code",
      "source": [
        "try:\n",
        "    x = int(input())\n",
        "    print(\"It's a int number!\")\n",
        "except:\n",
        "    print(\"It's not a int number!\")"
      ],
      "metadata": {
        "id": "NpxbUapDzD16"
      },
      "execution_count": null,
      "outputs": []
    },
    {
      "cell_type": "markdown",
      "source": [
        "<div dir=rtl>\n",
        "یک دستور try می‌تواند چندین except داشته باشد و استثنا‌های مختلفی را مدیریت کند. برای این کار نوع استثنا مقابل except نوشته می‌شود.\n",
        "</br>\n",
        "در ساختار try و except، ابتدا درون بخش try اجرا شده و اگر خطایی رخ دهد مفسر به exceptها توجه می‌کند؛ اگر در یکی از except‍ها خطایی از همان کلاس خطای رخ داده شده (و یا کلاسی که خطای رخ داده شده از آن ارث برده باشد) پیش‌بینی شده باشد، بخش درون آن except اجرا می‌شود. اگر چند except با این خاصیت وجود داشت؛ مفسر اولین (بالاترین از لحاظ متنی) except را انتخاب و بخش درون آن را اجرا می‌کند.\n",
        "\n",
        "مدیریت‌کننده‌ی (except)ها فقط می‌توانند استثنا‌هایی که در محدوده try رخ می‌دهد را مدیریت کنند و نمی‌توانند به استثنا‌های درون محدوده همدیگر دسترسی داشته باشند.\n",
        "\n",
        "اگر جلوی هیچ exceptای خطای رخ داده شده پیش‌بینی نشده باشد unhandled exception رخ می‌دهد و اجرای برنامه متوقف می‌شود.\n",
        "</div>"
      ],
      "metadata": {
        "id": "801DOTiRzRn1"
      }
    },
    {
      "cell_type": "code",
      "source": [
        "for i in range(3):\n",
        "  try:\n",
        "    if i == 0:\n",
        "      1/0\n",
        "    if i == 1:\n",
        "      int(\"salam\")\n",
        "    if i == 2:\n",
        "      \"salam\" + 1\n",
        "  #z= 1\n",
        "  #except Excpetion :\n",
        "  #  print(\"and Excpetion\")\n",
        "\n",
        "  except ZeroDivisionError:\n",
        "    print(\"ZeroDivisionError called\") # 1/0\n",
        "  except TypeError:\n",
        "    print(\"TypeError called\") # \"salam\" + 1\n",
        "  except ValueError:\n",
        "    print(\"ValueError called\") # int(\"salam\")\n",
        "  #except (ZeroDivisionError, TypeError, ValueError):\n",
        "  #  print(\"all of them\")\n",
        "  \n",
        "\n",
        "  \n",
        "  z = 1"
      ],
      "metadata": {
        "id": "iZnYjUEUzko4",
        "colab": {
          "base_uri": "https://localhost:8080/"
        },
        "outputId": "818a2728-0043-486c-f710-926e08e2f948"
      },
      "execution_count": null,
      "outputs": [
        {
          "output_type": "stream",
          "name": "stdout",
          "text": [
            "ZeroDivisionError called\n",
            "ValueError called\n",
            "TypeError called\n"
          ]
        }
      ]
    },
    {
      "cell_type": "markdown",
      "source": [
        "<div dir =rtl>\n",
        "<strong>\n",
        "پرتاب کردن استثنا\n",
        "</strong>\n",
        "\n",
        "با دستور raise می‌توان یک استثنا را پرتاب کرد (یعنی کاری کنیم که یک استثنایی که خودمان می‌خواهیم داده شود).\n",
        "</br>\n",
        "بعد از دستور raise باید یک شی از کلاس Exception یا یک کلاس Exception ( یا کلاسی که از Exception ارث برده است) بیاید. اگر یک کلاس به دستور raise داده شود یک شی با سازنده بدون آرگومان ساخته و آن را صدا می‌کند.\n",
        "</div>"
      ],
      "metadata": {
        "id": "4S5INMjA0urn"
      }
    },
    {
      "cell_type": "code",
      "source": [
        "raise NameError # 'raise NameError()'\n"
      ],
      "metadata": {
        "id": "FWyKl_ZE1S0q"
      },
      "execution_count": null,
      "outputs": []
    },
    {
      "cell_type": "markdown",
      "source": [
        "<div dir=rtl>\n",
        "اگر بخواهیم استثنای صدا زده شده را مدیریت کنیم و دوباره آن را صدا کنیم؛ می‌توانیم یک دستور raise خالی بنویسیم تا خطای مدیریت شده را دوباره صدا کند.\n",
        "</div>"
      ],
      "metadata": {
        "id": "qykikdgv1fTg"
      }
    },
    {
      "cell_type": "code",
      "source": [
        "try:\n",
        "  raise NameError('salam')\n",
        "except NameError:\n",
        "  print('an exception raised')\n",
        "  raise\n"
      ],
      "metadata": {
        "id": "yLZ4O-Lg1esI"
      },
      "execution_count": null,
      "outputs": []
    },
    {
      "cell_type": "markdown",
      "source": [
        "<div dir=rtl>\n",
        "برای تعریف استثناهای‌ خود می‌توانیم یک کلاس تعریف کنیم که مستقیم یا غیرمستقیم از کلاس Exception ارث ببرد.\n",
        "\n",
        "کلاس‌های استثنا می‌توانند مانند بقیه کلاس‌ها خصوصیات مختلفی داشته باشند ولی معمولا ساده تعریف می‌شوند .\n",
        "</div>"
      ],
      "metadata": {
        "id": "pFTUKFew1r8d"
      }
    },
    {
      "cell_type": "code",
      "source": [
        "class A(Exception):\n",
        "  pass\n",
        "\n",
        "class B(A):\n",
        "  pass\n",
        "\n",
        "class C(B):\n",
        "  pass\n",
        "\n",
        "try :\n",
        "  raise C(\"C is raised\")\n",
        "except C :\n",
        "  print(\"C\")\n",
        "except B :\n",
        "  print(\"B\")\n",
        "except A :\n",
        "  print(\"A\")\n",
        "\n",
        "try:\n",
        "  raise C(\"C is raised\")\n",
        "except A as e:\n",
        "  print('exception found', e)\n"
      ],
      "metadata": {
        "id": "TBLaxAKW1-D1",
        "colab": {
          "base_uri": "https://localhost:8080/"
        },
        "outputId": "fa91be76-9327-41d6-fb45-a979622c44d1"
      },
      "execution_count": 5,
      "outputs": [
        {
          "output_type": "stream",
          "name": "stdout",
          "text": [
            "C\n",
            "exception found C is raised\n"
          ]
        }
      ]
    },
    {
      "cell_type": "code",
      "source": [
        "class A(Exception) :\n",
        "  pass\n",
        "\n",
        "\n",
        "try :\n",
        "  raise A('A Exception!')\n",
        "except A as a :\n",
        "  print(\"The str of the exception:\", a)"
      ],
      "metadata": {
        "colab": {
          "base_uri": "https://localhost:8080/"
        },
        "id": "FLYoWkkmYBGF",
        "outputId": "5f54615b-8d4d-4e8a-d86f-323238c70dcf"
      },
      "execution_count": null,
      "outputs": [
        {
          "output_type": "stream",
          "name": "stdout",
          "text": [
            "The str of the exception: A Exception!\n"
          ]
        }
      ]
    },
    {
      "cell_type": "markdown",
      "source": [
        "<div dir=rtl>\n",
        "استفاده از finally\n",
        "</br>\n",
        "دستوراتی که در محدوده بعد از finally نوشته می‌شوند، در هر شرایطی که برای محدوده try رخ دهد اجرا می‌شوند.\n",
        "</div>"
      ],
      "metadata": {
        "id": "l8Af2T232dWV"
      }
    },
    {
      "cell_type": "code",
      "source": [
        "try:\n",
        "    x = int(input())\n",
        "    y = 1/x\n",
        "except:\n",
        "    print('error!!')\n",
        "    raise\n",
        "finally:\n",
        "    print('finally is running')\n",
        "\n",
        "print(\"after block\")"
      ],
      "metadata": {
        "id": "vzGNx9n02qHj"
      },
      "execution_count": null,
      "outputs": []
    },
    {
      "cell_type": "markdown",
      "source": [],
      "metadata": {
        "id": "qjD7akPLx3rH"
      }
    }
  ]
}