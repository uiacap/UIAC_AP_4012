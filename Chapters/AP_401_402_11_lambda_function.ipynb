{
  "nbformat": 4,
  "nbformat_minor": 0,
  "metadata": {
    "colab": {
      "provenance": [],
      "name": "AP_401_402_11_lambda_function.ipynb",
      "authorship_tag": "ABX9TyMMzJz37pI5Y9I3ACOFHGI4",
      "include_colab_link": true
    },
    "kernelspec": {
      "name": "python3",
      "display_name": "Python 3"
    },
    "language_info": {
      "name": "python"
    }
  },
  "cells": [
    {
      "cell_type": "markdown",
      "metadata": {
        "id": "view-in-github",
        "colab_type": "text"
      },
      "source": [
        "<a href=\"https://colab.research.google.com/github/uiacap/UIAC_AP_4012/blob/main/Chapters/AP_401_402_11_lambda_function.ipynb\" target=\"_parent\"><img src=\"https://colab.research.google.com/assets/colab-badge.svg\" alt=\"Open In Colab\"/></a>"
      ]
    },
    {
      "cell_type": "markdown",
      "source": [
        "<div dir=rtl>\n",
        "گاهی اوقات نیاز به توابع برای انجام کاری کوچک و یا ارسال به توابع دیگر داریم.\n",
        "</br>\n",
        "این توابع معمولا یک بار مصرف هستند. بنابراین \n",
        " نمی خواهیم سربار def را برای تعریف توابع تحمل کنیم.\n",
        "</br>\n",
        "بنابراین سراغ تعریف توابع ناشناس یا lambda functionها می رویم\n",
        "</br>\n",
        "برای تعریف توابع lambda به صورت زیر عمل می کنیم:\n",
        "</br>\n",
        "</div>\n",
        "lambda argumets:expression\n",
        "<div dir=rtl>\n",
        "توابع lambda می توانند هر تعداد ورودی قبول کنند. و پس از ورودی ها : و بعد از آن یک عبارت قرار داده می شود. مقدار عبارت، به عنوان خروجی تابع در نظر گرفته می شود.\n",
        "</div>"
      ],
      "metadata": {
        "id": "sZ3xhg09XHBs"
      }
    },
    {
      "cell_type": "code",
      "source": [
        "def double(x) :\n",
        "  return x * 2\n",
        "\n",
        "print(double(5))\n"
      ],
      "metadata": {
        "id": "vofdMQrpaDD1"
      },
      "execution_count": null,
      "outputs": []
    },
    {
      "cell_type": "code",
      "source": [
        "print((lambda x: x * x)(2))\n"
      ],
      "metadata": {
        "id": "KPjwM2Wyck2i",
        "colab": {
          "base_uri": "https://localhost:8080/"
        },
        "outputId": "5e3f7ca2-9e61-4528-b62e-b71b9ea51f4c"
      },
      "execution_count": null,
      "outputs": [
        {
          "output_type": "stream",
          "name": "stdout",
          "text": [
            "4\n"
          ]
        }
      ]
    },
    {
      "cell_type": "markdown",
      "source": [
        "<div dir = rtl>\n",
        "می توانیم به توابع lambda نام هم بدهیم\n",
        "</div>"
      ],
      "metadata": {
        "id": "65mqiPr4cwEL"
      }
    },
    {
      "cell_type": "code",
      "source": [
        "my_double=(lambda x:x*2)\n",
        "\n",
        "print(my_double(4))"
      ],
      "metadata": {
        "id": "1GPs2yw7c22g"
      },
      "execution_count": null,
      "outputs": []
    },
    {
      "cell_type": "markdown",
      "source": [
        "<div dir = rtl>\n",
        "توابع lambda می توانند بیش از یک ورودی داشته باشند.\n",
        "</br>\n",
        "یک تابع lambda بنویسید که دو عدد را گرفته و حاصل ضرب آنها را محاسبه کند\n",
        "</div>"
      ],
      "metadata": {
        "id": "tC_yOH0ldDps"
      }
    },
    {
      "cell_type": "code",
      "source": [
        "print((lambda x,y:x*y)(3,4))"
      ],
      "metadata": {
        "id": "t-DVlrX4eeJz"
      },
      "execution_count": null,
      "outputs": []
    },
    {
      "cell_type": "markdown",
      "source": [
        "<div dir=rtl>\n",
        "توابع lambda می توانند بیش از یک خروجی داشته باشند.\n",
        "</br>\n",
        "س: یک تابع lambda بنویسید که دو عدد را گرفته و به عنوان خروجی میانگین و ماکزیمم آنها را برگرداند\n",
        "</div>"
      ],
      "metadata": {
        "id": "q0kiUnQug_gO"
      }
    },
    {
      "cell_type": "code",
      "source": [
        "print((lambda x,y:((x+y)/2,max([x,y])))(4,5))"
      ],
      "metadata": {
        "id": "VnRoIe3lhG3m",
        "colab": {
          "base_uri": "https://localhost:8080/"
        },
        "outputId": "07cf234b-0e5c-4fb5-f160-a7f260170385"
      },
      "execution_count": null,
      "outputs": [
        {
          "output_type": "stream",
          "name": "stdout",
          "text": [
            "(4.5, 5)\n"
          ]
        }
      ]
    },
    {
      "cell_type": "markdown",
      "source": [
        "<div dir=rtl>\n",
        "استفاده از توابع lambda در تابع map\n",
        "</br>\n",
        "برنامه ای بنویسید که تعدادی عدد صحیح را از ورودی گرفته و توان 2 آنها را در خروجی چاپ کند. \n",
        "</div>"
      ],
      "metadata": {
        "id": "cDSaJXgOiBEI"
      }
    },
    {
      "cell_type": "code",
      "source": [
        "print(list(map(lambda x:int(x)**2,input().split(' '))))"
      ],
      "metadata": {
        "id": "y4cFs6OEcswm",
        "colab": {
          "base_uri": "https://localhost:8080/"
        },
        "outputId": "f41ce912-c5b2-42bb-e39b-6d841c9fed5d"
      },
      "execution_count": null,
      "outputs": [
        {
          "output_type": "stream",
          "name": "stdout",
          "text": [
            "1 3 4 5\n",
            "[1, 9, 16, 25]\n"
          ]
        }
      ]
    },
    {
      "cell_type": "markdown",
      "source": [
        "<div dir=rtl>\n",
        "دو لیست l1و l2 را در نظر بگیرید.\n",
        "</br>\n",
        "برنامه ای بنویسید که با استفاده از تابع map، اعضای لیست 1 را به اعضای لیست 2 تقسیم کرده و حاصل را در لیست دیگری قرار دهد.\n",
        "</div>"
      ],
      "metadata": {
        "id": "bvQFF364jTpe"
      }
    },
    {
      "cell_type": "code",
      "source": [
        "l1 = [2, 10, 5.1, 4, 0]\n",
        "l2 = [2, 2.5, 1.7, 0, 10]\n",
        "\n",
        "print(list(map(lambda x,y:x/y,l1,l2)))"
      ],
      "metadata": {
        "id": "_znHHBl8joTG"
      },
      "execution_count": null,
      "outputs": []
    },
    {
      "cell_type": "markdown",
      "source": [
        "<div dir = rtl>\n",
        "از توابع lambda می توان درون توابع دیگر استفاده کرد و دسته ای از توابع پارامتری را تولید کرد\n",
        "</div>"
      ],
      "metadata": {
        "id": "sp4CwNySkOnj"
      }
    },
    {
      "cell_type": "code",
      "source": [
        "def myfunc(n):\n",
        "  return lambda a : a * n\n",
        "\n",
        "mydoubler = myfunc(2)\n",
        "print(mydoubler(11))\n",
        "\n",
        "mytripler = myfunc(3)\n",
        "print(mytripler(11))\n"
      ],
      "metadata": {
        "id": "xOq89xlSnYD2"
      },
      "execution_count": null,
      "outputs": []
    },
    {
      "cell_type": "markdown",
      "source": [
        "<div dir=rtl>\n",
        "استفاده از تابع filter\n",
        "</br>\n",
        "\n",
        "</div>"
      ],
      "metadata": {
        "id": "o5qQFVd51LK1"
      }
    },
    {
      "cell_type": "code",
      "source": [
        "li = [12, 13, -4, 10, -12, 20, -2]\n",
        "\n",
        "print(list(filter(lambda x:x>0,li)))"
      ],
      "metadata": {
        "colab": {
          "base_uri": "https://localhost:8080/"
        },
        "id": "OigLNTU81Q6s",
        "outputId": "8eec8de3-e6aa-4889-9d3d-1ed491185dad"
      },
      "execution_count": null,
      "outputs": [
        {
          "output_type": "stream",
          "name": "stdout",
          "text": [
            "[12, 13, 10, 20]\n"
          ]
        }
      ]
    },
    {
      "cell_type": "markdown",
      "source": [],
      "metadata": {
        "id": "c4-UTIOBoMeI"
      }
    },
    {
      "cell_type": "code",
      "source": [
        "def double(x) :\n",
        "  return 2 * x\n",
        "\n",
        "l = [1,2,3,4,5]\n",
        "\n",
        "#print(list(map(double,l)))\n",
        "print(list(map(lambda x:2*x,l)))"
      ],
      "metadata": {
        "colab": {
          "base_uri": "https://localhost:8080/"
        },
        "id": "F6cdXXCmD0Xs",
        "outputId": "ef9172d7-8f46-43d2-a646-955d72cb4564"
      },
      "execution_count": null,
      "outputs": [
        {
          "output_type": "stream",
          "name": "stdout",
          "text": [
            "[2, 4, 6, 8, 10]\n"
          ]
        }
      ]
    }
  ]
}