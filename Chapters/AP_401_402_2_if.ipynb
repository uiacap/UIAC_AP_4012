{
  "nbformat": 4,
  "nbformat_minor": 0,
  "metadata": {
    "colab": {
      "provenance": [],
      "authorship_tag": "ABX9TyOxKQZobi7V/jtZohqZgpIp",
      "include_colab_link": true
    },
    "kernelspec": {
      "name": "python3",
      "display_name": "Python 3"
    },
    "language_info": {
      "name": "python"
    }
  },
  "cells": [
    {
      "cell_type": "markdown",
      "metadata": {
        "id": "view-in-github",
        "colab_type": "text"
      },
      "source": [
        "<a href=\"https://colab.research.google.com/github/uiacap/UIAC_AP_4012/blob/main/Chapters/AP_401_402_2_if.ipynb\" target=\"_parent\"><img src=\"https://colab.research.google.com/assets/colab-badge.svg\" alt=\"Open In Colab\"/></a>"
      ]
    },
    {
      "cell_type": "markdown",
      "source": [
        "<div dir=rtl>\n",
        "نوع بولین در پایتون دارای دو مقدار True , False است\n",
        "</br>\n",
        "عملگرهای مقایسه در پایتون:\n",
        "</br>\n",
        "==, != , < , >, <= , >=\n",
        "</br>\n",
        "حاصل عبارت هایی که دارای عملگرهای مقایسه ای هستند به True یا Falseارزیابی می شوند.\n",
        "</div>"
      ],
      "metadata": {
        "id": "z16p3zaIZokh"
      }
    },
    {
      "cell_type": "code",
      "source": [
        "42 == 42"
      ],
      "metadata": {
        "id": "4UkgDlbpallE"
      },
      "execution_count": null,
      "outputs": []
    },
    {
      "cell_type": "code",
      "execution_count": null,
      "metadata": {
        "id": "pcWhXBFyZZBQ"
      },
      "outputs": [],
      "source": [
        "42 == '42'"
      ]
    },
    {
      "cell_type": "code",
      "source": [
        "2 != 3"
      ],
      "metadata": {
        "id": "vEtrOPQGap64"
      },
      "execution_count": null,
      "outputs": []
    },
    {
      "cell_type": "code",
      "source": [
        "2 != 2"
      ],
      "metadata": {
        "id": "WFEvFVi-asuG"
      },
      "execution_count": null,
      "outputs": []
    },
    {
      "cell_type": "markdown",
      "source": [
        "<div dir=rtl>\n",
        "فرق = و == چیست؟\n",
        "</dir>"
      ],
      "metadata": {
        "id": "2rHmg4xYaw9j"
      }
    },
    {
      "cell_type": "markdown",
      "source": [
        "<div dir=rtl>\n",
        "عملگرهای boolean:\n",
        "</br>\n",
        " عملگرهای بولین and, or , not را در پایتون داریم.\n",
        "</dir>"
      ],
      "metadata": {
        "id": "v9VG4r7rbYj7"
      }
    },
    {
      "cell_type": "code",
      "source": [
        "True and True"
      ],
      "metadata": {
        "id": "z4Y1w0F0b63c"
      },
      "execution_count": null,
      "outputs": []
    },
    {
      "cell_type": "code",
      "source": [
        "True and False"
      ],
      "metadata": {
        "id": "2V9bcnikb1tU"
      },
      "execution_count": null,
      "outputs": []
    },
    {
      "cell_type": "code",
      "source": [
        "False and False"
      ],
      "metadata": {
        "id": "Zsvc5eXfcAOw"
      },
      "execution_count": null,
      "outputs": []
    },
    {
      "cell_type": "code",
      "source": [
        "True or True"
      ],
      "metadata": {
        "id": "ShGUwd8mcHgS"
      },
      "execution_count": null,
      "outputs": []
    },
    {
      "cell_type": "code",
      "source": [
        "True or False"
      ],
      "metadata": {
        "id": "FMaxtj6pcDab"
      },
      "execution_count": null,
      "outputs": []
    },
    {
      "cell_type": "code",
      "source": [
        "False or False"
      ],
      "metadata": {
        "id": "dZehYTlYcMr-"
      },
      "execution_count": null,
      "outputs": []
    },
    {
      "cell_type": "code",
      "source": [
        "not True"
      ],
      "metadata": {
        "id": "bqkZWQThcSa6"
      },
      "execution_count": null,
      "outputs": []
    },
    {
      "cell_type": "code",
      "source": [
        "(4 < 5) and (5 < 6)"
      ],
      "metadata": {
        "id": "rQYipqvQcZ8D",
        "colab": {
          "base_uri": "https://localhost:8080/"
        },
        "outputId": "1388c721-3bc2-4a48-a618-b6acf3f146b2"
      },
      "execution_count": null,
      "outputs": [
        {
          "output_type": "execute_result",
          "data": {
            "text/plain": [
              "True"
            ]
          },
          "metadata": {},
          "execution_count": 1
        }
      ]
    },
    {
      "cell_type": "code",
      "source": [
        "(1 == 2) or (2 == 2)"
      ],
      "metadata": {
        "id": "ruNZvhKccbD6"
      },
      "execution_count": null,
      "outputs": []
    },
    {
      "cell_type": "markdown",
      "source": [
        "<div dir=rtl>\n",
        "جملات شرطی:\n",
        "</br>\n",
        "جملات شرطی از if و سپس condition (عبارتی که به True یا False ارزیابی شود) و سپس : تشکیل شده اند.\n",
        "</div>\n",
        "if condition : \n",
        "</br>\n",
        "  بلوک if"
      ],
      "metadata": {
        "id": "OGff85SDi24_"
      }
    },
    {
      "cell_type": "markdown",
      "source": [
        "<div dir=rtl>\n",
        "بلوک های کد:\n",
        "</br>\n",
        "در پایتون بلوک های کد با تورفتگی ایجاد می شوند\n",
        "</br>\n",
        "</dir>"
      ],
      "metadata": {
        "id": "NcgeMFR1cU2b"
      }
    },
    {
      "cell_type": "code",
      "source": [
        "name = input()\n",
        "if name == 'Alice' :\n",
        "  print(\"Hi, Alice!\")"
      ],
      "metadata": {
        "id": "kvvow9HWiziJ"
      },
      "execution_count": null,
      "outputs": []
    },
    {
      "cell_type": "markdown",
      "source": [
        "<div dir=rtl>\n",
        "کد زیر خطا دارد، زیرا جمله ای که شامل تابع printاست، بدون تورفتگی نوشته شده است. \n",
        "</br>\n",
        "چون جمله قبلی، جمله شامل if است، پایتون انتظار دارد که حداقل یک دستور به عنوان بلوک if داده شده باشد.\n",
        "</div>"
      ],
      "metadata": {
        "id": "1vSfkJh7ESc7"
      }
    },
    {
      "cell_type": "code",
      "source": [
        "name = input()\n",
        "if name == 'Alice' :\n",
        "print(\"Hi, Alice!\")"
      ],
      "metadata": {
        "id": "ZdbkO1LhkTeh"
      },
      "execution_count": null,
      "outputs": []
    },
    {
      "cell_type": "markdown",
      "source": [
        "<div dir=rtl>\n",
        "جملات if شامل else :\n",
        "</div>"
      ],
      "metadata": {
        "id": "tzlJ2ZoRExV0"
      }
    },
    {
      "cell_type": "code",
      "source": [
        "name = input()\n",
        "if name == 'Alice' :\n",
        "  print(\"Hi, Alice!\")\n",
        "else :\n",
        "  print(\"Hello, Stranger!\")"
      ],
      "metadata": {
        "id": "FGAeCYYlkE5J"
      },
      "execution_count": null,
      "outputs": []
    },
    {
      "cell_type": "markdown",
      "source": [
        "<div dir=rtl>\n",
        "در پایتون به جای else if های طولانی که حالت پله ای پیدا خواهند کرد، میتوان از elif استفاده کرد.\n",
        "دو کد زیر معادل هستند. یکی با else if و دیگری با elif نوشته شده است\n",
        "ساختار کلی جمله if, elif مطابق زیر است.\n",
        "در این ساختار ابتدا شرط1 بررسی می شود. در صورتیکه True بود، بلوک 1 اجرا شده و پس از آن next statement اجرا می شود. (یعنی اولین دستور پس از دستور if elif)\n",
        "در صورتیکه شرط 1 (condition1) درست نبود. سراع شرط 2 (condtion 2) می رود.\n",
        "در صورتیکه condition2 برابر با True بود. block2 اجرا شده و پس از آن next statement اجرا می شود.\n",
        "به همین ترتیب ادامه می پیدا می کند. و در صورتیکه که هیچ کدام از شرط ها درست نبود، بلوک n+1 که مربوط به else است، اجرا می شود.\n",
        "در این ساختار داشتن else اختیاری است\n",
        "elif نمی تواند قبل از if یا بعد از else قرار بگیرد.\n",
        "</div>"
      ],
      "metadata": {
        "id": "5c8YkyUFetbu"
      }
    },
    {
      "cell_type": "code",
      "source": [
        "name = input()\n",
        "age = int(input())\n",
        "if name == \"Alice\" :\n",
        "  print(\"Hi, Alice!\")\n",
        "else :\n",
        "  if age < 14 :\n",
        "    print(\"You are not Alice, Kiddo!\")\n",
        "  else:\n",
        "    print(\"You are not Alice\")"
      ],
      "metadata": {
        "id": "M3cdtmfFFbuE"
      },
      "execution_count": null,
      "outputs": []
    },
    {
      "cell_type": "code",
      "source": [
        "name = input()\n",
        "age = int(input())\n",
        "if name == \"Alice\" :\n",
        "  print(\"Hi, Alice!\")\n",
        "elif age < 14 :\n",
        "  print(\"You are not Alice, Kiddo!\")\n",
        "else:\n",
        "  print(\"You are not Alice\")"
      ],
      "metadata": {
        "id": "2c7r7RD6lZGH"
      },
      "execution_count": null,
      "outputs": []
    },
    {
      "cell_type": "markdown",
      "source": [
        "\n",
        "\n",
        "<div dir=rtl>\n",
        "ساختار کلی جمله if, elif مطابق زیر است.\n",
        "</br>\n",
        "در این ساختار ابتدا شرط1 بررسی می شود. در صورتیکه True بود، بلوک 1 اجرا شده و پس از آن next statement اجرا می شود. (یعنی اولین دستور پس از دستور if elif)\n",
        "</br>\n",
        "در صورتیکه شرط 1 (condition1) درست نبود. سراع شرط 2 (condtion 2) می رود. \n",
        "</br>\n",
        "در صورتیکه condition2 برابر با True بود. block2 اجرا شده و پس از آن next statement اجرا می شود.\n",
        "</br>\n",
        "به همین ترتیب ادامه می پیدا می کند. و در صورتیکه که هیچ کدام از شرط ها درست نبود، بلوک n+1 که مربوط به else است، اجرا می شود.\n",
        "</br>\n",
        "در این ساختار داشتن else اختیاری است \n",
        "</br>\n",
        "elif نمی تواند قبل از if یا بعد از else قرار بگیرد.\n",
        "</div>"
      ],
      "metadata": {
        "id": "fPjgVh8-e9rA"
      }
    },
    {
      "cell_type": "code",
      "source": [
        "if condition1 :\n",
        "  <block1>\n",
        "elif conditon2 :\n",
        "  <block2>\n",
        "...\n",
        "elif condition n:\n",
        "  <block n>\n",
        "else:\n",
        "  <block n+1>\n",
        "<next statement>"
      ],
      "metadata": {
        "id": "bIexRzzde-ka"
      },
      "execution_count": null,
      "outputs": []
    },
    {
      "cell_type": "markdown",
      "source": [
        "<div dir=rtl>\n",
        "به دست آوردن BMI فرد با گرفتن وزن به کیلوگرم و قد به سانتی متر\n",
        "</br>\n",
        "BMI < 18  : Underweight\n",
        "</br>\n",
        "18-25 : Healthy weight\n",
        "</br>\n",
        "25 < BMI < 30 : over weight\n",
        "</br> \n",
        " 30 <= BMI  : obese\n",
        "</div>"
      ],
      "metadata": {
        "id": "b2N6Ru7nm-Nr"
      }
    },
    {
      "cell_type": "code",
      "source": [
        "w = float(input(\"Enter Your weight in (kg):\"))\n",
        "h = float(input(\"Enter your height in (cm):\"))\n",
        "\n",
        "bmi = w / (h/100) ** 2\n",
        "print(bmi)\n",
        "bmi = round(bmi,3)\n",
        "print(bmi)\n",
        "\n",
        "if 0 < bmi < 18 :\n",
        "  print(f\"bmi = {bmi}. you are underwight\")\n",
        "elif bmi <= 25 :\n",
        "  print(f\"bmi = {bmi}. you have healthy wight\")\n",
        "elif bmi < 30 :\n",
        "  print(f\"bmi = {bmi}. you are over wight\")\n",
        "else :\n",
        "  print(f\"bmi = {bmi:0.3f}. you are obese\")\n",
        "\n"
      ],
      "metadata": {
        "id": "IwEWhSSJqVlE",
        "colab": {
          "base_uri": "https://localhost:8080/"
        },
        "outputId": "49549dd5-2383-4325-f318-51c5a86dca88"
      },
      "execution_count": null,
      "outputs": [
        {
          "output_type": "stream",
          "name": "stdout",
          "text": [
            "Enter Your weight in (kg):100\n",
            "Enter your height in (cm):164\n",
            "37.18024985127901\n",
            "37.18\n",
            "bmi = 37.180. you are obese\n"
          ]
        }
      ]
    },
    {
      "cell_type": "markdown",
      "source": [
        "</br>"
      ],
      "metadata": {
        "id": "Lb0lNqI4qgCC"
      }
    },
    {
      "cell_type": "markdown",
      "source": [
        "<div dir = rtl>\n",
        "تابع round که در کد بالا به کار برده شده است، برای گرد کردن یک مقدار اعشاری به کار می رود.\n",
        "توضیحات در مورد این تابع را می توانید در لینک زیر مشاهده کنید:\n",
        "</br>\n",
        "https://docs.python.org/3/library/functions.html#round\n",
        "</br>\n",
        "https://www.w3schools.com/python/ref_func_round.asp\n",
        "</div>"
      ],
      "metadata": {
        "id": "ICJzuzpOFrXH"
      }
    },
    {
      "cell_type": "markdown",
      "source": [],
      "metadata": {
        "id": "GOVvoqiaqUWL"
      }
    }
  ]
}