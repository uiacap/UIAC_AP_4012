{
  "nbformat": 4,
  "nbformat_minor": 0,
  "metadata": {
    "colab": {
      "provenance": [],
      "authorship_tag": "ABX9TyPT5NrWjtF2aE4vmXrnYeJX",
      "include_colab_link": true
    },
    "kernelspec": {
      "name": "python3",
      "display_name": "Python 3"
    },
    "language_info": {
      "name": "python"
    }
  },
  "cells": [
    {
      "cell_type": "markdown",
      "metadata": {
        "id": "view-in-github",
        "colab_type": "text"
      },
      "source": [
        "<a href=\"https://colab.research.google.com/github/uiacap/UIAC_AP_4012/blob/main/Chapters/AP_401_402_16_Class_inheritance.ipynb\" target=\"_parent\"><img src=\"https://colab.research.google.com/assets/colab-badge.svg\" alt=\"Open In Colab\"/></a>"
      ]
    },
    {
      "cell_type": "markdown",
      "source": [
        "<div dir=rtl>\n",
        "در ارث‌بری یک کلاس می‌تواند تمام ویژگی‌ها، شامل توابع و متغیرهایی که در یک کلاس دیگر تعریف شده‌اند را به خودش انتقال دهد. در این عملیات به کلاسی که ويژگی‌ها را می‌گیرد فرزند و به کلاسی که ویژگی‌ها را می‌دهد پدر می‌گویند.\n",
        "</br>\n",
        "در کد زیر، Person کلاس پدر است و کلاس Student از آن ارث برده است.\n",
        "</br>\n",
        "برای ارث‌بری در پایتون کافی‌ست در زمان تعریف کلاس فرزند، نام کلاس پدر را به عنوان ورودی به فرزند بدهیم. توجه کنید که برای این کار کلاس پدر حتما باید قبل از کلاس فرزند تعریف شده‌‌باشد. همچنین اگر برای یک کلاس پدری مشخص نکنیم، به طور پیش‌فرض object به‌عنوان پدرش در نظر گرفته می‌شود.\n",
        "</dir>"
      ],
      "metadata": {
        "id": "b0VB6EaMF4-L"
      }
    },
    {
      "cell_type": "code",
      "execution_count": null,
      "metadata": {
        "id": "fBEiGCdnFwkM",
        "colab": {
          "base_uri": "https://localhost:8080/",
          "height": 201
        },
        "outputId": "68f5c8ec-254f-480a-aaa0-6a9f42ab831b"
      },
      "outputs": [
        {
          "output_type": "error",
          "ename": "AttributeError",
          "evalue": "ignored",
          "traceback": [
            "\u001b[0;31m---------------------------------------------------------------------------\u001b[0m",
            "\u001b[0;31mAttributeError\u001b[0m                            Traceback (most recent call last)",
            "\u001b[0;32m<ipython-input-26-50eb9686baba>\u001b[0m in \u001b[0;36m<cell line: 12>\u001b[0;34m()\u001b[0m\n\u001b[1;32m     10\u001b[0m \u001b[0;34m\u001b[0m\u001b[0m\n\u001b[1;32m     11\u001b[0m \u001b[0mst\u001b[0m \u001b[0;34m=\u001b[0m \u001b[0mStudent\u001b[0m\u001b[0;34m(\u001b[0m\u001b[0;34m\"1234\"\u001b[0m\u001b[0;34m)\u001b[0m\u001b[0;34m\u001b[0m\u001b[0;34m\u001b[0m\u001b[0m\n\u001b[0;32m---> 12\u001b[0;31m \u001b[0mprint\u001b[0m\u001b[0;34m(\u001b[0m\u001b[0mst\u001b[0m\u001b[0;34m.\u001b[0m\u001b[0mget_name\u001b[0m\u001b[0;34m(\u001b[0m\u001b[0;34m)\u001b[0m\u001b[0;34m)\u001b[0m\u001b[0;34m\u001b[0m\u001b[0;34m\u001b[0m\u001b[0m\n\u001b[0m",
            "\u001b[0;31mAttributeError\u001b[0m: 'Student' object has no attribute 'get_name'"
          ]
        }
      ],
      "source": [
        "class Person:\n",
        "    def __init__(self, name=\"no name\"):\n",
        "        self.name = name\n",
        "\n",
        "class Student(Person):\n",
        "  pass\n",
        "    #def __init__(self, stnumber):\n",
        "    #    self.st_number = stnumber\n",
        "    #    Person.__init__(self)\n",
        "\n",
        "st = Student(\"1234\")\n",
        "print(st.name)\n"
      ]
    },
    {
      "cell_type": "markdown",
      "source": [
        "<div dir=rtl>\n",
        "برای مثال فرض کنید می‌خواهیم کلاس‌های مربوط به دانشجو، استاد، کارمند را پیاده‌سازی کنیم. این سه تعدادی ویژگی یکسان مانند کدملی و نام دارند. اگر بخواهیم به ازای هر کدام این ویژگی ها را تعریف کنیم، باعث می‌شود کد تا حد زیادی تکراری شود و در صورتی که بخواهیم یک تکه از کد را تغییر دهیم، مجبوریم چند جا از کد را تغییر دهیم؛ همچنین کدی که نوشته‌ایم، استانداردهای کد تمیز (clean-code) را نخواهد داشت. به همین علت بهتر است که ابتدا یک کلاس ‍‍Person داشته‌باشیم که شامل ویژگی‌های مشترک باشد که کلاس‌های Employee و Professor و Student از آن ارث ببرند.\n",
        "هر سه کلاس از آن ارث می‌برند. ‍‍‍\n",
        "</div>"
      ],
      "metadata": {
        "id": "EKx8ap8IF4ZN"
      }
    },
    {
      "cell_type": "code",
      "source": [],
      "metadata": {
        "id": "k9i41KnhIEDa"
      },
      "execution_count": null,
      "outputs": []
    },
    {
      "cell_type": "code",
      "source": [
        "class Person:\n",
        "    def __init__(self, name=\"no name\"):\n",
        "        self.name = name\n",
        "\n",
        "class Student(Person):\n",
        "    def __init__(self, stnumber):\n",
        "        self.st_number = stnumber\n",
        "        \n",
        "\n",
        "st = Student(\"1234\")\n",
        "print(st.st_number)\n",
        "print(st.name)"
      ],
      "metadata": {
        "colab": {
          "base_uri": "https://localhost:8080/"
        },
        "id": "fxosyPAoIR9J",
        "outputId": "9a0bd5fc-cbb5-44e6-83d7-fab16fc1c8c1"
      },
      "execution_count": null,
      "outputs": [
        {
          "output_type": "stream",
          "name": "stdout",
          "text": [
            "1234\n",
            "no name\n"
          ]
        }
      ]
    },
    {
      "cell_type": "markdown",
      "source": [
        "<div dir = rtl>\n",
        "چهار کلاس ، UniversityMember, Student, Employee و Professor را پیاده سازی کنید.\n",
        "</br>\n",
        "Studentو Professor , ٍEmployee هر سه نوعی UniversityMember هستند.\n",
        "</br>\n",
        "Professor نوعی Employee است.\n",
        "</br>\n",
        "UniversityMember دو ویژگی نام و کدملی دارد. \n",
        "</br>\n",
        "ٍEmployee ویژگی pnum, base_salary  دارد\n",
        "</br>\n",
        "ُStudent ویژگی snum دارد\n",
        "</br>\n",
        "در تمام کلاس ها متدی به نام who_are_you داریم که بسته به نوع کلاس، عبارتی چاپ می کند \n",
        "</br>\n",
        "در کلاس Employee و Professor متد calc_salary را داریم که به عنوان خروجی حقوق را بر می گرداند\n",
        "</br>\n",
        "در کلاس Student متد is_international() را داریم که بر اساس کدملی مشخص می کند که دانشجو internationl هست یا خیر.\n",
        "</br>\n",
        "\n",
        "\n",
        "\n",
        "</div>\n"
      ],
      "metadata": {
        "id": "yWIr4hWfj-_2"
      }
    },
    {
      "cell_type": "code",
      "source": [
        "class UniversityMember :\n",
        "  def __init__(self, name, icode):\n",
        "    self.name = name\n",
        "    self.icode = icode\n",
        "\n",
        "class Student(UniversityMember) :\n",
        "  def __init__(self, name, icode, snum) :\n",
        "    self.snum = snum\n",
        "    UniversityMember.__init__(self, name, icode)\n",
        "\n",
        "  def is_international(self) :\n",
        "    pass\n",
        "\n",
        "  def who_are_you() :\n",
        "    print(\"I am a student\")\n",
        "\n",
        "class Employee(UniversityMember) :\n",
        "  def __init__(self, name, icode, pnum, base_salary):\n",
        "    self.pnum = pnum\n",
        "    self.base_salary = base_salary\n",
        "    UniversityMember.__init__(self, name, icode)\n",
        "\n",
        "  def who_are_you() :\n",
        "    print(\"I am a Employee\")\n",
        "\n",
        "  def calc_salary(self) :\n",
        "    return (self.base_salary * 1.2)\n",
        "\n",
        "class Professor(Employee) :\n",
        "  def __init__(self, name, icode, pnum, base_salary):\n",
        "    Employee.__init__(self,name, icode, pnum, base_salary)\n",
        "\n",
        "  def who_are_you() :\n",
        "    print(\"I am a professor\")\n",
        "\n",
        "  def cals_salary(self) :\n",
        "    return (self.base_salary*1.8)\n",
        "\n"
      ],
      "metadata": {
        "id": "8ZGbTJojm7Vk"
      },
      "execution_count": null,
      "outputs": []
    },
    {
      "cell_type": "markdown",
      "source": [
        "<div dir=rtl>\n",
        "مشکل در ارث بری چندگانه\n",
        "</br>\n",
        "فرض کنید در کلاس های بالا یک کلاس Assistant داریم که هم نوعی professor است و هم نوعی دانشجو\n",
        "</div>"
      ],
      "metadata": {
        "id": "PjoZ1gAeI-E-"
      }
    },
    {
      "cell_type": "markdown",
      "source": [],
      "metadata": {
        "id": "uG7eCp3vHRIz"
      }
    }
  ]
}