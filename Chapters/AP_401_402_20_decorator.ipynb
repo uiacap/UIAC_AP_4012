{
  "nbformat": 4,
  "nbformat_minor": 0,
  "metadata": {
    "colab": {
      "provenance": [],
      "authorship_tag": "ABX9TyNL1h2T8xHbhSAoXDqeorNl",
      "include_colab_link": true
    },
    "kernelspec": {
      "name": "python3",
      "display_name": "Python 3"
    },
    "language_info": {
      "name": "python"
    }
  },
  "cells": [
    {
      "cell_type": "markdown",
      "metadata": {
        "id": "view-in-github",
        "colab_type": "text"
      },
      "source": [
        "<a href=\"https://colab.research.google.com/github/uiacap/UIAC_AP_4012/blob/main/Chapters/AP_401_402_20_decorator.ipynb\" target=\"_parent\"><img src=\"https://colab.research.google.com/assets/colab-badge.svg\" alt=\"Open In Colab\"/></a>"
      ]
    },
    {
      "cell_type": "markdown",
      "source": [
        "<div dir=rtl>\n",
        "\n",
        "تعریف decorator:\n",
        "</br>\n",
        "decorator یک تابع است که تابعی دیگری را می گیرد، رفتار آنرا extend می کند، بدون اینکه تابع را تغییر دهد.\n",
        "</div>"
      ],
      "metadata": {
        "id": "kNTI6dZJE5ad"
      }
    },
    {
      "cell_type": "markdown",
      "source": [
        "<div dir=rtl>\n",
        "در پایتون توابع ، خود شی هستند. این بدان معنی است که می توان آنرا را به عنوان آرگومان به توابع دیگر داد\n",
        "</div>"
      ],
      "metadata": {
        "id": "S12MVZoeGvvY"
      }
    },
    {
      "cell_type": "code",
      "source": [
        "def say_hello(name):\n",
        "    return f\"Hello {name}\"\n",
        "\n",
        "def say_greeting(name):\n",
        "    return f\"{name}!, How is everything with you!\"\n",
        "\n",
        "def greet_Ali(greeter_func):\n",
        "    return greeter_func(\"Ali\") \n",
        "\n",
        "#greet_Ali(say_hello)\n",
        "greet_Ali(say_greeting)"
      ],
      "metadata": {
        "id": "Vc-z42dbGvGg",
        "colab": {
          "base_uri": "https://localhost:8080/",
          "height": 35
        },
        "outputId": "a614b97b-6a56-4529-ed49-9ee0278e5780"
      },
      "execution_count": null,
      "outputs": [
        {
          "output_type": "execute_result",
          "data": {
            "text/plain": [
              "'Ali!, How is everything with you!'"
            ],
            "application/vnd.google.colaboratory.intrinsic+json": {
              "type": "string"
            }
          },
          "metadata": {},
          "execution_count": 27
        }
      ]
    },
    {
      "cell_type": "markdown",
      "source": [
        "<div dir=rtl>\n",
        "inner function:\n",
        "</br>\n",
        "امکان اینکه یک تابع را داخل تابع دیگری تعریف کنیم وجود دارد، به این توابع inner function می گویند.\n",
        "\n",
        "</div>"
      ],
      "metadata": {
        "id": "Fma1JHC3IE3Z"
      }
    },
    {
      "cell_type": "code",
      "execution_count": null,
      "metadata": {
        "id": "UmMP_UOyEuD5"
      },
      "outputs": [],
      "source": [
        "def parent_func():\n",
        "    \n",
        "    def child_func1():\n",
        "        print(\"Printing from the child_func1() function\")\n",
        "\n",
        "    def child_func2():\n",
        "        print(\"Printing from the child_func2() function\")\n",
        "    \n",
        "    print(\"Printing from the parent() function\")\n",
        "\n",
        "    child_func1()\n",
        "    child_func2()\n",
        "\n",
        "parent_func()\n",
        "#child_func2()"
      ]
    },
    {
      "cell_type": "markdown",
      "source": [
        "<div dir=rtl>\n",
        "چون توابع در پایتون یک شی هستند، می توان آنرا را به عنوان خروجی از تابع دیگری return کرد\n",
        "</div>"
      ],
      "metadata": {
        "id": "If_fMjmeJFHh"
      }
    },
    {
      "cell_type": "code",
      "source": [
        "def parent_func(num):\n",
        "    print(\"Printing from the parent() function\")\n",
        "\n",
        "    def child_func1():\n",
        "        print(\"Printing from the child_func1() function\")\n",
        "\n",
        "    def child_func2():\n",
        "        print(\"Printing from the child_func2() function\")\n",
        "    if num == 1:\n",
        "      return child_func1\n",
        "    else:\n",
        "      return child_func2\n",
        "\n",
        "first = parent_func(1)\n",
        "second = parent_func(2)\n",
        "\n",
        "print(first)\n",
        "first()"
      ],
      "metadata": {
        "id": "r7w6tyRzJWI5",
        "colab": {
          "base_uri": "https://localhost:8080/"
        },
        "outputId": "f0dcf5e5-8b97-4da3-b1a2-2fc293f9b326"
      },
      "execution_count": null,
      "outputs": [
        {
          "output_type": "stream",
          "name": "stdout",
          "text": [
            "Printing from the parent() function\n",
            "Printing from the parent() function\n",
            "<function parent_func.<locals>.child_func1 at 0x7fddbdd628c0>\n",
            "Printing from the child_func1() function\n"
          ]
        }
      ]
    },
    {
      "cell_type": "markdown",
      "source": [
        "<div dir=rtl>\n",
        "decorator ساده:\n",
        "</br>\n",
        "\n",
        "</div>"
      ],
      "metadata": {
        "id": "G9ZAZnZeJtIp"
      }
    },
    {
      "cell_type": "code",
      "source": [
        "def my_decorator(func):\n",
        "    def wrapper():\n",
        "        print(\"Something is happening before the function is called.\")\n",
        "        func()\n",
        "        print(\"Something is happening after the function is called.\")\n",
        "    return wrapper\n",
        "\n",
        "def say_hello():\n",
        "    print(\"hello!\")\n",
        "say_hello()\n",
        "say_hello = my_decorator(say_hello)\n",
        "\n",
        "say_hello()"
      ],
      "metadata": {
        "id": "GwSanFYRpSxt"
      },
      "execution_count": null,
      "outputs": []
    },
    {
      "cell_type": "code",
      "source": [
        "from datetime import datetime\n",
        "\n",
        "def not_during_the_night(func):\n",
        "    def wrapper():\n",
        "        if 7 <= datetime.now().hour < 22:\n",
        "            func()\n",
        "        else:\n",
        "            pass  # Hush, the neighbors are asleep\n",
        "    return wrapper\n",
        "\n",
        "def say_hello():\n",
        "    print(\"hello!\")\n",
        "\n",
        "say_hello = not_during_the_night(say_hello)\n",
        "say_hello()"
      ],
      "metadata": {
        "id": "VrwiPCZSq3IW"
      },
      "execution_count": null,
      "outputs": []
    },
    {
      "cell_type": "markdown",
      "source": [
        "<div dir =rtl>\n",
        "پایتون اجازه می دهد که decorator را به نحوی آسان تر با استفاده از @ تعریف کنیم.\n",
        "</br>\n",
        "@my_decorator مثل این است که دستور زیر را نوشته باشیم.\n",
        "</br>\n",
        "say_hello = my_decorator(say_hello)\n",
        "</div>"
      ],
      "metadata": {
        "id": "qZ4p8VuYrwIN"
      }
    },
    {
      "cell_type": "code",
      "source": [
        "def my_decorator(func):\n",
        "    def wrapper():\n",
        "        print(\"Something is happening before the function is called.\")\n",
        "        func()\n",
        "        print(\"Something is happening after the function is called.\")\n",
        "    return wrapper\n",
        "\n",
        "\n",
        "@my_decorator\n",
        "def say_hello():\n",
        "    print(\"hello!\")\n",
        "   \n",
        "\n",
        "#say_hello = my_decorator(say_hello)"
      ],
      "metadata": {
        "id": "OVGe9oBBsAQC"
      },
      "execution_count": null,
      "outputs": []
    },
    {
      "cell_type": "code",
      "source": [
        "def do_twice(func):\n",
        "    def wrapper_do_twice():\n",
        "        func()\n",
        "        func()\n",
        "    return wrapper_do_twice\n",
        "\n",
        "@do_twice\n",
        "def say_hello():\n",
        "    print(\"hello!\")\n",
        "\n",
        "say_hello()\n",
        "say_hello()"
      ],
      "metadata": {
        "id": "j4dw49rSuAfO"
      },
      "execution_count": null,
      "outputs": []
    },
    {
      "cell_type": "markdown",
      "source": [
        "<div dir=rtl>\n",
        "در صورتی که توابع دارای آرگومان ورودی باشن\n",
        "</div>"
      ],
      "metadata": {
        "id": "y1nh1fFnuhwm"
      }
    },
    {
      "cell_type": "code",
      "source": [
        "def do_twice(func):\n",
        "    def wrapper_do_twice():\n",
        "        func()\n",
        "        func()\n",
        "    return wrapper_do_twice\n",
        "\n",
        "@do_twice\n",
        "def greet(name):\n",
        "    print(f\"Hello {name}\")\n",
        "\n",
        "@do_twice\n",
        "def say_hello() :\n",
        "  print(\"hello\")\n",
        "\n",
        "#greet = do_twice(greet)\n",
        "\n",
        "greet(\"Ali\")\n"
      ],
      "metadata": {
        "id": "r70mpnm-vHGm"
      },
      "execution_count": null,
      "outputs": []
    },
    {
      "cell_type": "code",
      "source": [
        "def do_twice(func):\n",
        "    def wrapper_do_twice(*args, **kwargs):\n",
        "        func(*args,**kwargs)\n",
        "        func(*args,**kwargs)\n",
        "    return wrapper_do_twice\n",
        "\n",
        "@do_twice\n",
        "def greet(name):\n",
        "    print(f\"Hello {name}\")\n",
        "\n",
        "\n",
        "@do_twice\n",
        "def say_hello() :\n",
        "  print(\"hello\")\n",
        "\n",
        "#greet = do_twice(greet)\n",
        "\n",
        "greet(\"Ali\")\n",
        "say_hello()"
      ],
      "metadata": {
        "id": "5aaK6eLzviMe",
        "colab": {
          "base_uri": "https://localhost:8080/"
        },
        "outputId": "3675cdbb-d6e2-4237-c77a-993cfb30ca87"
      },
      "execution_count": null,
      "outputs": [
        {
          "output_type": "stream",
          "name": "stdout",
          "text": [
            "Hello Ali\n",
            "Hello Ali\n",
            "hello\n",
            "hello\n"
          ]
        }
      ]
    },
    {
      "cell_type": "markdown",
      "source": [
        "<div dir=rtl>\n",
        "</br>\n",
        "داشتن return در تابع اصلی\n",
        "</div>"
      ],
      "metadata": {
        "id": "xTuRZwYsv43X"
      }
    },
    {
      "cell_type": "code",
      "source": [
        "def do_twice(func):\n",
        "    def wrapper_do_twice(*args, **kwargs):\n",
        "        func(*args, **kwargs)\n",
        "        func(*args, **kwargs)\n",
        "    return wrapper_do_twice\n",
        "\n",
        "@do_twice\n",
        "def return_greeting(name):\n",
        "    print(\"Creating greeting\")\n",
        "    return f\"Hi {name}\"\n",
        "\n",
        "print(return_greeting(\"ali\"))"
      ],
      "metadata": {
        "id": "foK2SNNVwfYh",
        "colab": {
          "base_uri": "https://localhost:8080/"
        },
        "outputId": "abeb7b69-df5b-4467-cf81-07ed1a9bb22a"
      },
      "execution_count": null,
      "outputs": [
        {
          "output_type": "stream",
          "name": "stdout",
          "text": [
            "Creating greeting\n",
            "Creating greeting\n",
            "None\n"
          ]
        }
      ]
    },
    {
      "cell_type": "code",
      "source": [
        "def do_twice(func):\n",
        "    def wrapper_do_twice(*args, **kwargs):\n",
        "        func(*args, **kwargs)\n",
        "        return func(*args, **kwargs)\n",
        "    return wrapper_do_twice\n",
        "\n",
        "@do_twice\n",
        "def return_greeting(name):\n",
        "    print(\"Creating greeting\")\n",
        "    return f\"Hi {name}\"\n",
        "    \n",
        "print(return_greeting(\"ali\"))"
      ],
      "metadata": {
        "colab": {
          "base_uri": "https://localhost:8080/"
        },
        "id": "ocJh1ce5R_90",
        "outputId": "7e3f561f-51e5-46b1-d9b4-877f7ada2001"
      },
      "execution_count": null,
      "outputs": [
        {
          "output_type": "stream",
          "name": "stdout",
          "text": [
            "Creating greeting\n",
            "Creating greeting\n",
            "Hi ali\n"
          ]
        }
      ]
    },
    {
      "cell_type": "code",
      "source": [
        "def decorator(func):\n",
        "    def wrapper_func(*args, **kwargs):\n",
        "        # do somthing\n",
        "        value = func(*args, **kwargs)\n",
        "        # do somthing\n",
        "        return value\n",
        "    return wrapper_func"
      ],
      "metadata": {
        "id": "shsENGNlz7z5"
      },
      "execution_count": null,
      "outputs": []
    },
    {
      "cell_type": "markdown",
      "source": [
        "<div dir=rtl>\n",
        "ثابت نگه داشتن نام تابع\n",
        "</div>"
      ],
      "metadata": {
        "id": "PtL2JzdP1JOR"
      }
    },
    {
      "cell_type": "code",
      "source": [
        "print(print.__name__)"
      ],
      "metadata": {
        "id": "UABpGC-k1PQi",
        "colab": {
          "base_uri": "https://localhost:8080/"
        },
        "outputId": "f66c0ee7-0226-4dad-f4bc-3fba4655e3f8"
      },
      "execution_count": null,
      "outputs": [
        {
          "output_type": "stream",
          "name": "stdout",
          "text": [
            "print\n"
          ]
        }
      ]
    },
    {
      "cell_type": "code",
      "source": [
        "@do_twice\n",
        "def say_hello() :\n",
        "  print(\"Hello!\")\n",
        "\n",
        "say_hello()\n",
        "print(say_hello.__name__)"
      ],
      "metadata": {
        "id": "vxgvIIKL1gLB",
        "colab": {
          "base_uri": "https://localhost:8080/"
        },
        "outputId": "4bdf7e7f-f393-4b61-b1d8-a76fcb2b8e18"
      },
      "execution_count": null,
      "outputs": [
        {
          "output_type": "stream",
          "name": "stdout",
          "text": [
            "Hello!\n",
            "Hello!\n",
            "wrapper_do_twice\n"
          ]
        }
      ]
    },
    {
      "cell_type": "code",
      "source": [
        "import functools\n",
        "\n",
        "def do_twice(func):\n",
        "    @functools.wraps(func)\n",
        "    def wrapper_do_twice(*args, **kwargs):\n",
        "        func(*args, **kwargs)\n",
        "        return func(*args, **kwargs)\n",
        "    return wrapper_do_twice\n",
        "\n",
        "@do_twice\n",
        "def say_hello() :\n",
        "  print(\"Hello!\")\n",
        "\n",
        "say_hello()\n",
        "print(say_hello.__name__)\n"
      ],
      "metadata": {
        "id": "zg4GzkOX1yvZ"
      },
      "execution_count": null,
      "outputs": []
    },
    {
      "cell_type": "code",
      "source": [
        "\n",
        "def decorator(func):\n",
        "    def wrapper_decorator(*args, **kwargs):\n",
        "        # Do something before\n",
        "        value = func(*args, **kwargs)\n",
        "        # Do something after\n",
        "        return value\n",
        "    return wrapper_decorator"
      ],
      "metadata": {
        "id": "tz8iptu_z9Qx"
      },
      "execution_count": null,
      "outputs": []
    },
    {
      "cell_type": "markdown",
      "source": [
        "<div dir=rtl>\n",
        "یک decorator بنویسید که ورودی تابع را بررسی کند و در صورتیکه int نبود، خطا بدهد\n",
        "</div>"
      ],
      "metadata": {
        "id": "ETN3K7vNwQXn"
      }
    },
    {
      "cell_type": "code",
      "source": [
        "def int_checker(func) :\n",
        "  def wrapper_checker(x) :\n",
        "    if isinstance(x,int) :\n",
        "      return func(x)\n",
        "    else :\n",
        "      raise TypeError(\"type is not int\")\n",
        "  return wrapper_checker\n",
        "\n",
        "@int_checker\n",
        "def test(x):\n",
        "  print(x)\n",
        "\n",
        "@int_checker\n",
        "def test2(y) :\n",
        "  return y ** 2\n",
        "\n",
        "#test(34)\n",
        "#test('salam')\n",
        "test2('a')"
      ],
      "metadata": {
        "id": "Bu579GGXwYed"
      },
      "execution_count": null,
      "outputs": []
    },
    {
      "cell_type": "markdown",
      "source": [
        "<div dir=rtl>\n",
        "Timing Functions\n",
        "</br>\n",
        "میخواهیم تابعی ایجاد کنیم که زمان اجرای توابع دیگر را محاسبه کند\n",
        "</div>"
      ],
      "metadata": {
        "id": "r_nX0ztZ0kaq"
      }
    },
    {
      "cell_type": "code",
      "source": [
        "import time\n",
        "\n",
        "def timer(func):\n",
        "    \"\"\"Print the runtime of the decorated function\"\"\"\n",
        "    def wrapper_timer(*args, **kwargs):\n",
        "        start_time = time.perf_counter()    # 1\n",
        "        value = func(*args, **kwargs)\n",
        "        end_time = time.perf_counter()      # 2\n",
        "        run_time = end_time - start_time    # 3\n",
        "        print(f\"Finished '{func.__name__}' in {run_time:.4f} secs\")\n",
        "        return value\n",
        "    return wrapper_timer\n",
        "\n",
        "@timer\n",
        "def waste_some_time(num_times):\n",
        "    for _ in range(num_times):\n",
        "        sum([i**2 for i in range(10000)])\n",
        "\n",
        "waste_some_time(10000)"
      ],
      "metadata": {
        "id": "bI3q9t4c0o75",
        "colab": {
          "base_uri": "https://localhost:8080/"
        },
        "outputId": "2e5d0a02-65b1-4ee9-cf4d-dfaf32b1290d"
      },
      "execution_count": null,
      "outputs": [
        {
          "output_type": "stream",
          "name": "stdout",
          "text": [
            "Finished 'waste_some_time' in 38.8048 secs\n"
          ]
        }
      ]
    },
    {
      "cell_type": "markdown",
      "source": [
        "<div dir=rtl>\n",
        "یک decorator بنویسید که به ازای هر تابع، آرگومان های ورودی آن و مقادیر آنها به همراه مقدار خروجی را چاپ کند\n",
        "</div>"
      ],
      "metadata": {
        "id": "B68y10vY4nrh"
      }
    },
    {
      "cell_type": "code",
      "source": [
        "import functools\n",
        "\n",
        "def signature(func) :\n",
        "  @functools.wraps(func)\n",
        "  def wrapper_func(*args,**kwargs) :\n",
        "\n",
        "    value = func(*args,**kwargs)\n",
        "    str_args = ''\n",
        "    for item in args :\n",
        "      str_args += str(item)\n",
        "    for k,v in kwargs.items() :\n",
        "      str_args += f\"{k} : {v}\"\n",
        "    sig_str = \"running \" + func.__name__ + str_args +\" : \" + str(value)\n",
        "    print(sig_str)\n",
        "    \n",
        "    return value\n",
        "  return wrapper_func\n",
        "\n",
        "@signature\n",
        "def test(name,age) :\n",
        "  print(f\"your are {age} years old\")\n",
        "  return name\n",
        "\n",
        "\n",
        "print(test(\"ali\",age=12))"
      ],
      "metadata": {
        "id": "Yfhr8ZmZ4zWY",
        "colab": {
          "base_uri": "https://localhost:8080/"
        },
        "outputId": "7f26e3c6-7e39-4768-ae5f-1ef7ba1c8108"
      },
      "execution_count": null,
      "outputs": [
        {
          "output_type": "stream",
          "name": "stdout",
          "text": [
            "your are 12 years old\n",
            "running testaliage : 12 : ali\n",
            "ali\n"
          ]
        }
      ]
    },
    {
      "cell_type": "code",
      "source": [
        "import functools\n",
        "import time\n",
        "\n",
        "def slow_down(func):\n",
        "    \"\"\"Sleep 1 second before calling the function\"\"\"\n",
        "    @functools.wraps(func)\n",
        "    def wrapper_slow_down(*args, **kwargs):\n",
        "        time.sleep(1)\n",
        "        return func(*args, **kwargs)\n",
        "    return wrapper_slow_down\n",
        "\n",
        "@slow_down\n",
        "def countdown(from_number):\n",
        "    if from_number < 1:\n",
        "        print(\"Liftoff!\")\n",
        "    else:\n",
        "        print(from_number)\n",
        "        countdown(from_number - 1)"
      ],
      "metadata": {
        "id": "QKljSMOK7S9a"
      },
      "execution_count": null,
      "outputs": []
    },
    {
      "cell_type": "markdown",
      "source": [
        "<div dir=rtl>\n",
        "decoratorای بنویسید که هر تابعی که روی آن صدا می شود را به یک لیستی از توابع اضافه کند\n",
        "</div>"
      ],
      "metadata": {
        "id": "WbEW5mCL7aRn"
      }
    },
    {
      "cell_type": "code",
      "source": [
        "import random\n",
        "PLUGINS = dict()\n"
      ],
      "metadata": {
        "id": "IgClmLUi7nGt"
      },
      "execution_count": null,
      "outputs": []
    },
    {
      "cell_type": "markdown",
      "source": [
        "<div dir=rtl>\n",
        "decoratorای بنویسید که تعداد صدا زدن هر تابع را بشمارد\n",
        "</div>"
      ],
      "metadata": {
        "id": "MW0qn5qKAKvE"
      }
    },
    {
      "cell_type": "code",
      "source": [
        "import functools\n",
        "func_calls = {}\n",
        "\n",
        "def call_num(func) :\n",
        "  @functools.wraps(func)\n",
        "  def wrapper(*args, **kwargs) :\n",
        "    cnt_func = func_calls.get(func.__name__,0)\n",
        "    func_calls[func.__name__] = cnt_func + 1\n",
        "    value = func(*args,**kwargs)\n",
        "    return value\n",
        "  return wrapper\n",
        "\n",
        "@call_num\n",
        "def f():\n",
        "  pass\n",
        "\n",
        "@call_num\n",
        "def g() :\n",
        "  f()\n",
        "  \n",
        "\n",
        "f()\n",
        "g()\n",
        "f()\n",
        "g()\n",
        "\n",
        "print(func_calls[g.__name__])\n"
      ],
      "metadata": {
        "id": "TnEFo_lIuMTH",
        "colab": {
          "base_uri": "https://localhost:8080/"
        },
        "outputId": "11e46418-65bd-4cf4-baa9-fa52da116a6f"
      },
      "execution_count": null,
      "outputs": [
        {
          "output_type": "stream",
          "name": "stdout",
          "text": [
            "2\n"
          ]
        }
      ]
    },
    {
      "cell_type": "code",
      "source": [
        "def decorator_builder(check_class):\n",
        "    def type_checker(func):\n",
        "        def wrapper_func(x):\n",
        "            if not isinstance(x, check_class):\n",
        "                return \"Argument must be \" + check_class.__name__\n",
        "            else:\n",
        "                return func(x)\n",
        "        return wrapper_func\n",
        "    return type_checker\n",
        "\n",
        "@decorator_builder(int)\n",
        "def f(x):\n",
        "    return 2**x\n",
        "\n",
        "f('salam')"
      ],
      "metadata": {
        "colab": {
          "base_uri": "https://localhost:8080/",
          "height": 35
        },
        "id": "6g8f3vdDAdN0",
        "outputId": "c2da9c27-3f3f-40ef-a9a0-3b6594b8023d"
      },
      "execution_count": null,
      "outputs": [
        {
          "output_type": "execute_result",
          "data": {
            "text/plain": [
              "'Argument must be int'"
            ],
            "application/vnd.google.colaboratory.intrinsic+json": {
              "type": "string"
            }
          },
          "metadata": {},
          "execution_count": 22
        }
      ]
    },
    {
      "cell_type": "markdown",
      "source": [
        "<div dir=rtl>\n",
        "یک decorator بنویسید که به عنوان ورودی یک تابع validator بگیرد.\n",
        "و اگر ورودی های تابع اصلی معتبر نبودند خطا بدهد\n",
        "</div>"
      ],
      "metadata": {
        "id": "8jdNq457A7XM"
      }
    },
    {
      "cell_type": "code",
      "source": [
        "def validator(x):\n",
        "    return x>=0\n",
        "\n",
        "@decorator(validator)\n",
        "def f(x):\n",
        "    return x**0.5\n",
        "\n",
        "f(-10)"
      ],
      "metadata": {
        "id": "jfvw-kebBUr7"
      },
      "execution_count": null,
      "outputs": []
    }
  ]
}