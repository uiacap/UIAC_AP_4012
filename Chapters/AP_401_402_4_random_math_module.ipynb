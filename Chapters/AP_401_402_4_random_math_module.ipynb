{
  "nbformat": 4,
  "nbformat_minor": 0,
  "metadata": {
    "colab": {
      "provenance": [],
      "authorship_tag": "ABX9TyO68vrM0DhsXYBP5v/4Uqij",
      "include_colab_link": true
    },
    "kernelspec": {
      "name": "python3",
      "display_name": "Python 3"
    },
    "language_info": {
      "name": "python"
    }
  },
  "cells": [
    {
      "cell_type": "markdown",
      "metadata": {
        "id": "view-in-github",
        "colab_type": "text"
      },
      "source": [
        "<a href=\"https://colab.research.google.com/github/uiacap/UIAC_AP_4012/blob/main/Chapters/AP_401_402_4_random_math_module.ipynb\" target=\"_parent\"><img src=\"https://colab.research.google.com/assets/colab-badge.svg\" alt=\"Open In Colab\"/></a>"
      ]
    },
    {
      "cell_type": "markdown",
      "source": [
        "<div dir=rtl>\n",
        "استفاده از ماژول ها در پایتون\n",
        "</br>\n",
        "معرفی ماژول های math و random\n",
        "</div>"
      ],
      "metadata": {
        "id": "opiPT3MdSbMJ"
      }
    },
    {
      "cell_type": "markdown",
      "source": [
        "<div dir=rtl>\n",
        "تمام برنامه های پایتون می توانند از یک سری توابع استاندارد پایتون که به آن ها built-in function می گویند استفاده کنند.\n",
        "</br>\n",
        "لیست این توابع را می توانید در لینک زیر مشاهده کنید.\n",
        "</br>\n",
        "https://docs.python.org/3/library/functions.html\n",
        "</br>\n",
        "نمونه هایی از این توابع، توابع print()، input و len() هستند که قبلا با آنها کار کرده اید.\n",
        "</br>\n",
        "علاوه بر این توابع، می توان از یک سری از moduleها که به آنها کتابخانه های استاندارد (یعنی خود پایتون پشتیبانی آن را انجام می‌دهد و در ابتدا هم کنار پایتون وجود دارد). می گوییم استفاده کنیم.\n",
        "</br>\n",
        "هر module یک برنامه پایتون است که شامل تعدادی تابع مرتبط به هم می باشد. که این توابع می توانند در برنامه های ما تعبیه (embed) شوند.\n",
        "</br>\n",
        "برای مثال ماژول math، شامل توابع ریاضی می باشد. \n",
        "</br>\n",
        "ماژول random شامل تعدادی تابع برای ایجاد اعداد تصادفی می باشد.\n",
        "</br>\n",
        "قبل از اینکه بخواهیم از یک تابع در یک ماژول در برنامه خود استفاده کنیم باید آن ماژول را در برنامه خود import کنیم.\n",
        "</br>\n",
        "این کار را با استفاده از دستور import انجام می دهیم.\n",
        "</br>\n",
        "دستور import شامل ، کلمه import و اسم ماژول می باشد.\n",
        "</br>\n",
        "اگر بخواهیم چند ماژول را import کنیم آنها را با کاما از یکدیگر جدا می کنیم.\n",
        "</br>\n",
        "وقتی یک ماژول را import می کنیم ، می توانیم از تمام توابع آن استفاده کنیم\n",
        "</br>\n",
        "\n",
        "</div>"
      ],
      "metadata": {
        "id": "E5dyvn6Y947A"
      }
    },
    {
      "cell_type": "markdown",
      "source": [
        "<div dir=rtl>\n",
        "یکی از مفیدترین کتابخانه‌های پایتون که در کارهای محاسباتی بسیار پرکاربرد است\n",
        "</br>\n",
        "برای استفاده از این کتابخانه قرار می دهیم:\n",
        "</br>\n",
        "import math\n",
        "<br>\n",
        "برخی از توابع این ماژول:\n",
        "</br>\n",
        "ceil(x) : عدد x را به سمت بالا گرد می کند.\n",
        "</br>\n",
        "floor(x) : عدد x را به پایین گرد می کند.\n",
        "</br>\n",
        "fabs(x) : قدر مطلق x\n",
        "</br>\n",
        "factorial(x) : فاکتوریل x\n",
        "</br>\n",
        "gcd(x,y): بزرگترین شمارنده مشترک x , y\n",
        "</br>\n",
        "log(x): مقدار لگاریتم طبیعی x\n",
        "</br>\n",
        "log(x,b) : مقدار لگاریتم x در پایه b\n",
        "</br>\n",
        "sqrt(x): مقدار رادیکال x\n",
        "</br>\n",
        "sin(x) : مقدار سینوس x\n",
        "</br>\n",
        "cos(x)\n",
        "</br>\n",
        "tan(x)\n",
        "</br>\n",
        "asin(x) : مقدار 1 روی sin(x)\n",
        "</br>\n",
        "acos(x)\n",
        "</br>\n",
        "atan(x)\n",
        "</br>\n",
        "ثابت ها:\n",
        "</br>\n",
        "pi : مقدار عدد پی\n",
        "</br>\n",
        "e : مقدار عدد e\n",
        "</br>\n",
        "inf : بزرگترین عدد صحیح ممکن. این عدد اگر با هر عددی مقایسه شود از آن عدد بزرگتر خواهد بود.\n",
        "</div>"
      ],
      "metadata": {
        "id": "ZqtiRMsZDq7M"
      }
    },
    {
      "cell_type": "markdown",
      "source": [
        "<div dir=rtl>\n",
        "برای استفاده از توابع هر ماژول در صورتیکه ماژول را با استفاده از دستور زیر import کرده ایم\n",
        "</br>\n",
        "import (madule_name)\n",
        "</br>\n",
        "باید نام ماژول را قبل از نام تابع قرار دهیم.\n",
        "</br>\n",
        "برای مثال اگر تابع A را در ماژول داشته باشیم باید مطابق زیر از آن استفاده کنیم\n",
        "</br>\n",
        "</div>\n",
        "import (module_name)\n",
        "</br>\n",
        "(module_name).A\n"
      ],
      "metadata": {
        "id": "xRi37ZquGy7w"
      }
    },
    {
      "cell_type": "code",
      "source": [
        "import math\n",
        "x = 5.2\n",
        "print(math.ceil(x))"
      ],
      "metadata": {
        "colab": {
          "base_uri": "https://localhost:8080/"
        },
        "id": "rojQ2WCcEt1r",
        "outputId": "2c8b9a7b-1992-4e77-d2ca-c4335271896a"
      },
      "execution_count": null,
      "outputs": [
        {
          "output_type": "stream",
          "name": "stdout",
          "text": [
            "6\n"
          ]
        }
      ]
    },
    {
      "cell_type": "markdown",
      "source": [
        "<div dir=rtl>\n",
        "ورودی توابع مثلثاتی باید به صورت رادیان باشد.\n",
        "</div>"
      ],
      "metadata": {
        "id": "5wmYShf0Hfkz"
      }
    },
    {
      "cell_type": "code",
      "source": [
        "math.sin(math.radians(30))"
      ],
      "metadata": {
        "id": "S4RrMOt-HqzG"
      },
      "execution_count": null,
      "outputs": []
    },
    {
      "cell_type": "markdown",
      "source": [
        "<div dir=rtl>\n",
        "برنامه ای بنویسید که تعداد و طول اضلاع یک چند ضلعی منتظم را گرفته و مساحت آنرا محاسبه کند.\n",
        "</br>\n",
        "از لینک زیر می توانید برای به دست آوردن فرمول استفاده کنید:\n",
        "</br>\n",
        "https://blog.faradars.org/%D9%85%D8%B3%D8%A7%D8%AD%D8%AA-%DA%86%D9%86%D8%AF-%D8%B6%D9%84%D8%B9%DB%8C-%D9%85%D9%86%D8%AA%D8%B8%D9%85/\n",
        "</div>"
      ],
      "metadata": {
        "id": "0vW7z234LZ6E"
      }
    },
    {
      "cell_type": "code",
      "source": [],
      "metadata": {
        "id": "o8lyBNnULYaj"
      },
      "execution_count": null,
      "outputs": []
    },
    {
      "cell_type": "markdown",
      "source": [
        "<div dir=rtl>\n",
        "دستور import را می توان به سه صورت زیر نیز به کار برد.\n",
        "</br>\n",
        "</div>\n",
        "from (module_name) import *\n",
        "</br>\n",
        "form (module_name) import (func_name1),(func_name2)\n",
        "</br>\n",
        "form (module_name) import (funct_name1) as func_name\n",
        "<div dir=rtl>\n",
        "فرض کنید از می خواهیم ماژول math را import کنیم.\n",
        "می توانیم آنرا به صورت زیر بنویسیم:\n",
        "</br>\n",
        "</div>\n",
        "from math import *\n",
        "<div dir=rtl>\n",
        "در این صورت تمام توابع کتابخانه math در برنامه ما import خواهد شد و دیگر برای استفاده از آنها نیاز نیست، math را قبل از نام تابع قرار دهیم.\n",
        "</br>\n",
        "بهتر است در برنامه های خود از این روش import کردن استفاده نکنیم. زیر در صورتیکه تابعی هم نام یکی از توابع ماژول در برنامه خود داشته باشیم. این دو جایگزین می شوند.\n",
        "</br>\n",
        "در صورتیکه از تعدادی از توابع math میخواهیم استفاده کنیم مانند tan و sin \n",
        "و نمیخواهیم قبل از استفاده از آنها نام math را به صورت مکرر قرار دهیم.\n",
        "می توانیم به صورت زیر بنویسیم\n",
        "</div>\n",
        "</br>\n",
        "from math import tan,sin\n",
        "<div dir=rtl>\n",
        "در این صورت فقط دو تابع sin و tan در برنامه import می شوند و دیگر لازم نیست قبل از استفاده از آنها نام ماژول به کار برده شود.\n",
        "</br>\n",
        "مزیت این روش نسبت به روشی که از * استفاده می کنیم چیست؟\n",
        "</br>\n",
        "به نظر شما استفاده از دستور import به صورت زیر چه کاربردی دارد؟\n",
        "</div>\n",
        "from math import factorial as fact"
      ],
      "metadata": {
        "id": "HaUm0S4gL2Wa"
      }
    },
    {
      "cell_type": "code",
      "source": [],
      "metadata": {
        "id": "FNxLjWksLz0F"
      },
      "execution_count": null,
      "outputs": []
    },
    {
      "cell_type": "markdown",
      "source": [
        "<div dir=rtl>\n",
        "استفاده از ماژول random:\n",
        "</br>\n",
        "توابع این ماژول برای ایجاد اعداد شبه تصادفی به کار می روند.\n",
        "</br>\n",
        "randint(a,b) : عدد صحیح و تصادفی در بازه a و b برمی گرداند. خود a و b نیز جز بازه انتخابی هستند\n",
        "</br>\n",
        "random() : عددی اعشاری و تصادفی در بازه 0 تا 1 ایجاد می کند. 1 در بازه اعداد قرار نمی گیرد.\n",
        "</br>\n",
        "seed(a) : عددی a را به عنوان شروع کننده، تولید کننده تصادفی (random number generator) در نظر می گیرد.\n",
        "</div>"
      ],
      "metadata": {
        "id": "bTCRo5hJPBrs"
      }
    },
    {
      "cell_type": "code",
      "execution_count": null,
      "metadata": {
        "id": "8KCtjj7o4SE6"
      },
      "outputs": [],
      "source": [
        "import random\n",
        "for i in range(5):\n",
        "  print(random.randint(1, 10))\n"
      ]
    },
    {
      "cell_type": "code",
      "source": [
        "import random\n",
        "random.seed(10)\n",
        "for i in range(5):\n",
        "  print(random.randint(1, 10))"
      ],
      "metadata": {
        "id": "5jY_5PmmNiw2"
      },
      "execution_count": null,
      "outputs": []
    },
    {
      "cell_type": "markdown",
      "source": [
        "<div dir=rtl>\n",
        "س: برنامه ای بنویسید که عددی را در بازه 1 تا 100 به صورت تصادفی انتخاب کند. و سپس از کاربر درخواست کند که عدد انتخاب شده سیستم را حدس بزند. به ازای هر حدس، برنامه باید به کاربر بازخورد مناسب بدهد. مثلا اگر عدد حدس زده شده کاربر از عدد انتخاب برنامه کوچکتر بود، به کاربر بازخورد دهد که عدد انتخابی او کوچکتر است.\n",
        "</br>\n",
        "برنامه در صورتی پایان می پذیرد که کاربر عدد را درست حدس بزند یا اینکه تعداد حدس های او از 10 بیشتر شود.\n",
        "</div>"
      ],
      "metadata": {
        "id": "oQiQvg0nQ5fU"
      }
    },
    {
      "cell_type": "code",
      "source": [],
      "metadata": {
        "id": "2UASkKmpRzyn"
      },
      "execution_count": null,
      "outputs": []
    }
  ]
}