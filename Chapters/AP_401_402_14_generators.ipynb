{
  "nbformat": 4,
  "nbformat_minor": 0,
  "metadata": {
    "colab": {
      "provenance": [],
      "authorship_tag": "ABX9TyMPzvZ6N3/Z9LGuI4AJHlDk",
      "include_colab_link": true
    },
    "kernelspec": {
      "name": "python3",
      "display_name": "Python 3"
    },
    "language_info": {
      "name": "python"
    }
  },
  "cells": [
    {
      "cell_type": "markdown",
      "metadata": {
        "id": "view-in-github",
        "colab_type": "text"
      },
      "source": [
        "<a href=\"https://colab.research.google.com/github/uiacap/UIAC_AP_4012/blob/main/Chapters/AP_401_402_14_generators.ipynb\" target=\"_parent\"><img src=\"https://colab.research.google.com/assets/colab-badge.svg\" alt=\"Open In Colab\"/></a>"
      ]
    },
    {
      "cell_type": "markdown",
      "source": [
        "<div dir=rtl>\n",
        "تولید کننده ها برای تولید یک دنباله بدون آنکه آن دنباله را در حافظه نگه دارند، به وجود آمده اند.\n",
        "</br>\n",
        "برای تولید generator به generator function نیاز داریم\n",
        "</div>"
      ],
      "metadata": {
        "id": "1Eu708or0fXR"
      }
    },
    {
      "cell_type": "code",
      "execution_count": null,
      "metadata": {
        "colab": {
          "base_uri": "https://localhost:8080/"
        },
        "id": "KP7qeUhUxAeM",
        "outputId": "e29a3b86-74ec-4b8b-de7f-fdbea2c45ac9"
      },
      "outputs": [
        {
          "output_type": "stream",
          "name": "stdout",
          "text": [
            "1\n",
            "1\n"
          ]
        }
      ],
      "source": [
        "def count_up_to (max) :\n",
        "  count = 1\n",
        "  while count < max :\n",
        "    return count\n",
        "    count +=1\n",
        "\n",
        "print(count_up_to(10))\n",
        "print(count_up_to(10))"
      ]
    },
    {
      "cell_type": "code",
      "source": [
        "def count_up_to (max) :\n",
        "  count = 1\n",
        "  while count < max :\n",
        "    yield count\n",
        "    count +=1\n",
        "\n",
        "print(count_up_to(10))\n",
        "#counter = count_up_to(10)\n",
        "#print(next(counter))\n",
        "#print(next(counter))\n",
        "\n",
        "#if (c:=next(div_gen, None)) is not None :\n",
        "#  print(c)\n",
        "#for elm in div_gen:\n",
        "#  print(elm)"
      ],
      "metadata": {
        "id": "qm4MTekT1GPy",
        "colab": {
          "base_uri": "https://localhost:8080/"
        },
        "outputId": "0bba01ac-eecf-4a79-a57e-43ed44994749"
      },
      "execution_count": null,
      "outputs": [
        {
          "output_type": "stream",
          "name": "stdout",
          "text": [
            "<generator object count_up_to at 0x7fc6b3270d60>\n"
          ]
        }
      ]
    },
    {
      "cell_type": "markdown",
      "source": [
        "<div dir=rtl>\n",
        "یک تابع تولید کننده بنویسید که شمارنده های عدد n را تولید کند\n",
        "</div>"
      ],
      "metadata": {
        "id": "tuKYFk6Y1ebp"
      }
    },
    {
      "cell_type": "code",
      "source": [],
      "metadata": {
        "id": "B2orLmNxx1jk"
      },
      "execution_count": null,
      "outputs": []
    },
    {
      "cell_type": "markdown",
      "source": [
        "<div dir=rtl>\n",
        "یک تابع تولید کننده بنویسید که لیست اعداد فیبوناچی تا n را به ما بدهد\n",
        "</div>"
      ],
      "metadata": {
        "id": "QDjSVAsI2BDx"
      }
    },
    {
      "cell_type": "code",
      "source": [],
      "metadata": {
        "id": "1RCE0KSl16Jc"
      },
      "execution_count": null,
      "outputs": []
    },
    {
      "cell_type": "markdown",
      "source": [
        "<div dir=rtl>\n",
        "مزیت تولید کننده:\n",
        "</br>\n",
        "برای تولید داده های طولانی، استفاده می شود.\n",
        "</div>"
      ],
      "metadata": {
        "id": "27AQurUNtzX2"
      }
    },
    {
      "cell_type": "code",
      "source": [
        "def num_gen(n) :\n",
        "  for i in range(n) :\n",
        "    yield i\n",
        "\n",
        "def num_list(n) :\n",
        "  l = []\n",
        "  for i in range(n) :\n",
        "    l.append(i)\n",
        "\n",
        "\n",
        "print(num_list(100000))\n",
        "#for i in num_list(10) :\n",
        "#  print(i)"
      ],
      "metadata": {
        "colab": {
          "base_uri": "https://localhost:8080/"
        },
        "id": "MlIdD-EouCYR",
        "outputId": "1bff8f39-2b35-43da-de85-592a6a8c9c9c"
      },
      "execution_count": null,
      "outputs": [
        {
          "output_type": "stream",
          "name": "stdout",
          "text": [
            "None\n"
          ]
        }
      ]
    },
    {
      "cell_type": "markdown",
      "source": [
        "<div dir=rtl>\n",
        "خواندن از یک فایل CSV\n",
        "</div>"
      ],
      "metadata": {
        "id": "j0ozNSSA39sR"
      }
    },
    {
      "cell_type": "code",
      "source": [
        " def csv_reader(path):\n",
        "    with open(path) as csv:\n",
        "        for row in csv.readlines():\n",
        "            yield row.rstrip().split(',')"
      ],
      "metadata": {
        "id": "hOiB2Zuj4GAb"
      },
      "execution_count": null,
      "outputs": []
    },
    {
      "cell_type": "markdown",
      "source": [],
      "metadata": {
        "id": "2cu2yhI84JXz"
      }
    }
  ]
}