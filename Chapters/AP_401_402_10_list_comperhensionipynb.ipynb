{
  "nbformat": 4,
  "nbformat_minor": 0,
  "metadata": {
    "colab": {
      "provenance": [],
      "authorship_tag": "ABX9TyM80hNh8EI/Dj5hShHPc0Cj",
      "include_colab_link": true
    },
    "kernelspec": {
      "name": "python3",
      "display_name": "Python 3"
    },
    "language_info": {
      "name": "python"
    }
  },
  "cells": [
    {
      "cell_type": "markdown",
      "metadata": {
        "id": "view-in-github",
        "colab_type": "text"
      },
      "source": [
        "<a href=\"https://colab.research.google.com/github/uiacap/UIAC_AP_4012/blob/main/Chapters/AP_401_402_10_list_comperhensionipynb.ipynb\" target=\"_parent\"><img src=\"https://colab.research.google.com/assets/colab-badge.svg\" alt=\"Open In Colab\"/></a>"
      ]
    },
    {
      "cell_type": "markdown",
      "source": [
        "<div dir=rtl>\n",
        "با استفاده از list comperhension یا معرف لیست می توانیم لیست را بر اساس الگوی خاصی یا از روی لیست های دیگر بسازیم\n",
        "</div>"
      ],
      "metadata": {
        "id": "N8PMGyWrZ16y"
      }
    },
    {
      "cell_type": "code",
      "execution_count": null,
      "metadata": {
        "id": "eeXgM-BJZUjC"
      },
      "outputs": [],
      "source": [
        "qubes = []\n",
        "for x in range(10):\n",
        "  qubes.append(x**3)\n",
        "print(qubes)"
      ]
    },
    {
      "cell_type": "code",
      "source": [
        "qubes = [x**3 for x in range(10)]\n",
        "print(qubes)"
      ],
      "metadata": {
        "id": "S9Vt8CRdaqa4",
        "colab": {
          "base_uri": "https://localhost:8080/"
        },
        "outputId": "d36a18a2-f622-4a40-e5a4-76ea1db25332"
      },
      "execution_count": null,
      "outputs": [
        {
          "output_type": "stream",
          "name": "stdout",
          "text": [
            "[0, 1, 8, 27, 64, 125, 216, 343, 512, 729]\n"
          ]
        }
      ]
    },
    {
      "cell_type": "markdown",
      "source": [
        "<div dir=rtl>\n",
        "در یک معرف لیست، ابتدا یک عبارت داده می شود که لیست بر اساس آن عبارت ساخته می شود.\n",
        "</br>\n",
        "در صورتیکه عبارت شامل متغیر باشد، پس از دادن عبارت باید تعیین کنید که از چه رنجی انتحاب شود که این کار را به دستور for و ifمی توان انجام داد.\n",
        "</dir>"
      ],
      "metadata": {
        "id": "2fFj-LX5a-Zi"
      }
    },
    {
      "cell_type": "code",
      "source": [
        "print([0 for x in range(5)])"
      ],
      "metadata": {
        "id": "RBlLdpwUbYdB",
        "colab": {
          "base_uri": "https://localhost:8080/"
        },
        "outputId": "1bdb40b6-981e-4d0d-8ae2-662b80f2d44c"
      },
      "execution_count": null,
      "outputs": [
        {
          "output_type": "stream",
          "name": "stdout",
          "text": [
            "[0, 0, 0, 0, 0]\n"
          ]
        }
      ]
    },
    {
      "cell_type": "code",
      "source": [
        "print([x+y for x in range(10) for y in range(5)])"
      ],
      "metadata": {
        "id": "xl5kS-jRbcVW",
        "colab": {
          "base_uri": "https://localhost:8080/"
        },
        "outputId": "5f85b9a0-0905-40c2-cc8d-bd70d05e3b93"
      },
      "execution_count": null,
      "outputs": [
        {
          "output_type": "stream",
          "name": "stdout",
          "text": [
            "[0, 1, 2, 3, 4, 1, 2, 3, 4, 5, 2, 3, 4, 5, 6, 3, 4, 5, 6, 7, 4, 5, 6, 7, 8, 5, 6, 7, 8, 9, 6, 7, 8, 9, 10, 7, 8, 9, 10, 11, 8, 9, 10, 11, 12, 9, 10, 11, 12, 13]\n"
          ]
        }
      ]
    },
    {
      "cell_type": "code",
      "source": [
        "print([str(x)+y for x in [1,2,3] for y in ['A','B']])"
      ],
      "metadata": {
        "id": "GxQY6rSfcHbb",
        "colab": {
          "base_uri": "https://localhost:8080/"
        },
        "outputId": "57b31966-3abe-43e9-e5e1-a6912535321b"
      },
      "execution_count": null,
      "outputs": [
        {
          "output_type": "stream",
          "name": "stdout",
          "text": [
            "['1A', '1B', '2A', '2B', '3A', '3B']\n"
          ]
        }
      ]
    },
    {
      "cell_type": "code",
      "source": [
        "[(x, y) for x in [1, 2, 3] for y in [1, 2, 3] if x != y]"
      ],
      "metadata": {
        "id": "JVvqDKa0a97J",
        "colab": {
          "base_uri": "https://localhost:8080/"
        },
        "outputId": "abec24f5-dd51-4b11-f3a5-36823fe51919"
      },
      "execution_count": null,
      "outputs": [
        {
          "output_type": "execute_result",
          "data": {
            "text/plain": [
              "[(1, 2), (1, 3), (2, 1), (2, 3), (3, 1), (3, 2)]"
            ]
          },
          "metadata": {},
          "execution_count": 6
        }
      ]
    },
    {
      "cell_type": "code",
      "source": [
        "data = [10, -4, 53, 122, 0]\n",
        "[2**x for x in data if x > 0]"
      ],
      "metadata": {
        "id": "sOE_pkk1cjxz",
        "colab": {
          "base_uri": "https://localhost:8080/"
        },
        "outputId": "410049c3-347a-434e-87f0-a7505614dbf2"
      },
      "execution_count": null,
      "outputs": [
        {
          "output_type": "execute_result",
          "data": {
            "text/plain": [
              "[1024, 9007199254740992, 5316911983139663491615228241121378304]"
            ]
          },
          "metadata": {},
          "execution_count": 7
        }
      ]
    },
    {
      "cell_type": "code",
      "source": [
        "fruits = [\"apple\", \"banana\", \"cherry\", \"kiwi\", \"mango\"]\n",
        "print([x.upper() for x in fruits])\n",
        "newlist = [x for x in fruits if 'a' in x]\n",
        "print(newlist)"
      ],
      "metadata": {
        "id": "TYU-E5Xngv2h",
        "colab": {
          "base_uri": "https://localhost:8080/"
        },
        "outputId": "6d1147e3-20ef-46c3-f26e-1f83fd76d140"
      },
      "execution_count": null,
      "outputs": [
        {
          "output_type": "stream",
          "name": "stdout",
          "text": [
            "['APPLE', 'BANANA', 'CHERRY', 'KIWI', 'MANGO']\n",
            "['apple', 'banana', 'mango']\n"
          ]
        }
      ]
    },
    {
      "cell_type": "markdown",
      "source": [
        "<div dir=rtl>\n",
        "لیست های تو در تو\n",
        "</br>\n",
        "آرایه های چند بعدی و ماتریس ها را می توان با استفاده از لیست های تو در تو ساخت\n",
        "</div>"
      ],
      "metadata": {
        "id": "UeCcDkYaczas"
      }
    },
    {
      "cell_type": "code",
      "source": [
        "m = [[1, 2, 3], [4, 5, 6], [7, 8, 9]]\n",
        "for i in range(3):\n",
        "  for j in range(3):\n",
        "    print(m[i][j], end=' ')\n",
        "  print()"
      ],
      "metadata": {
        "id": "s4T2_X3tdZy_"
      },
      "execution_count": null,
      "outputs": []
    },
    {
      "cell_type": "code",
      "source": [
        "matrix = [[i for i in range(1,4)],[i for i in range(4,7)], [i for i in range(7,10)]]\n",
        "print(matrix)\n",
        "\n",
        "matrix = [[x,y,z] for x in range(1,4)for y in range(4,7)for z in range(7,10)]\n",
        "print(matrix)"
      ],
      "metadata": {
        "id": "kmm8f7sshKWP"
      },
      "execution_count": null,
      "outputs": []
    },
    {
      "cell_type": "markdown",
      "source": [
        "<div dir=rtl>\n",
        "یک لیست دارای m سطر و n ستون از مقادیر اولیه 0 بسازید.\n",
        "</div>"
      ],
      "metadata": {
        "id": "p2NTKMUwe3xU"
      }
    },
    {
      "cell_type": "code",
      "source": [
        "m = 2\n",
        "n = 3\n"
      ],
      "metadata": {
        "id": "5nAkzzJMe3Wh"
      },
      "execution_count": null,
      "outputs": []
    },
    {
      "cell_type": "code",
      "source": [],
      "metadata": {
        "id": "pyM9PXhehfQr"
      },
      "execution_count": null,
      "outputs": []
    },
    {
      "cell_type": "markdown",
      "source": [],
      "metadata": {
        "id": "DjqWwBlffgks"
      }
    }
  ]
}