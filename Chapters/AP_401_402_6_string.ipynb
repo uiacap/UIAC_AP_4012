{
  "nbformat": 4,
  "nbformat_minor": 0,
  "metadata": {
    "colab": {
      "provenance": [],
      "authorship_tag": "ABX9TyO07Hqplh7V1IxeX5Nyf+hm",
      "include_colab_link": true
    },
    "kernelspec": {
      "name": "python3",
      "display_name": "Python 3"
    },
    "language_info": {
      "name": "python"
    }
  },
  "cells": [
    {
      "cell_type": "markdown",
      "metadata": {
        "id": "view-in-github",
        "colab_type": "text"
      },
      "source": [
        "<a href=\"https://colab.research.google.com/github/uiacap/UIAC_AP_4012/blob/main/Chapters/AP_401_402_6_string.ipynb\" target=\"_parent\"><img src=\"https://colab.research.google.com/assets/colab-badge.svg\" alt=\"Open In Colab\"/></a>"
      ]
    },
    {
      "cell_type": "markdown",
      "source": [
        "<div dir=rtl>\n",
        "رشته های در پایتون:\n",
        "</br>\n",
        "برای تعریف کردن رشته در پایتون مقدار رشته را درون \" یا ' قرار می دهیم.\n",
        "</br>\n",
        "عملگر های رشته ها\n",
        "</br>\n",
        "+ :\n",
        "</br>\n",
        "* :\n",
        "</br>\n",
        "in :\n",
        "</br>\n",
        "not int :\n",
        "</div>"
      ],
      "metadata": {
        "id": "yinoGwkPUujZ"
      }
    },
    {
      "cell_type": "code",
      "execution_count": null,
      "metadata": {
        "colab": {
          "base_uri": "https://localhost:8080/"
        },
        "id": "-53pVQWvUnyF",
        "outputId": "69d0eb83-1e07-4b7c-b000-a97f54fac257"
      },
      "outputs": [
        {
          "output_type": "stream",
          "name": "stdout",
          "text": [
            "True\n",
            "False\n"
          ]
        }
      ],
      "source": [
        "s = 'Hello'\n",
        "print('He' in s)\n",
        "print('he' in s)"
      ]
    },
    {
      "cell_type": "markdown",
      "source": [
        "<div dir=rtl>\n",
        "دسترسی به کاراکترهای رشته ها در پایتون:\n",
        "</br>\n",
        " برای دسترسی به کاراکترهای یک رشته می توانیم از ایندکس آن کاراکتر استفاده کنیم.\n",
        " </br>\n",
        " ایندکس کاراکترهای یک رشته از چپ به راست 0 تا یکی کمتر از طول رشته است\n",
        " </br>\n",
        " ایندکس کاراکترهای یک رشته از راست به چپ از -1 تا -طول رشته است.\n",
        " </br>\n",
        " برای دسترسی به کاراکتر های یک رشته از [] استفاده می کنیم و در داخل [] ایندکس کاراکتر مورد نظر را قرار می دهیم. \n",
        "</div>\n"
      ],
      "metadata": {
        "id": "zpPO1onrWA7e"
      }
    },
    {
      "cell_type": "code",
      "source": [
        "s = 'Hello'\n",
        "print(s[1])\n",
        "print(s[2]+s[4])\n",
        "print(s[5]*3)"
      ],
      "metadata": {
        "id": "d4aPxZMkZB42"
      },
      "execution_count": null,
      "outputs": []
    },
    {
      "cell_type": "markdown",
      "source": [
        "<div dir=rtl>\n",
        "در صورتیکه بخواهیم به یک زیر رشته ای از رشته دست پیدا کنیم می توانیم از عملگر : استفاده کنیم\n",
        "</br>\n",
        "s[n:m]\n",
        "</br>\n",
        "زیر رشته ای از s که با ایندکس شماره n شروع شده و با زیر رشته شماره m-1 خاتمه می یابد را به ما می دهد.\n",
        "</div>"
      ],
      "metadata": {
        "id": "YcmGTsJEZNGM"
      }
    },
    {
      "cell_type": "code",
      "source": [
        "s = 'Hi everyone!'\n",
        "#print(s[2:6])\n",
        "#print(s[1:])\n",
        "#print(s[:5])\n",
        "print(s[-7:8])"
      ],
      "metadata": {
        "colab": {
          "base_uri": "https://localhost:8080/"
        },
        "id": "rYTIrkKUZxBm",
        "outputId": "4b5703de-bb0a-4990-da95-7f567257148a"
      },
      "execution_count": null,
      "outputs": [
        {
          "output_type": "stream",
          "name": "stdout",
          "text": [
            "ery\n"
          ]
        }
      ]
    },
    {
      "cell_type": "markdown",
      "source": [
        "<div dir=rtl>\n",
        "س : تابعی بنویسید که دو رشته را به عنوان ورودی گرفته و دومی را  وسط اولی قرار دهد.\n",
        "</div>\n"
      ],
      "metadata": {
        "id": "pQrLX4_gepb-"
      }
    },
    {
      "cell_type": "code",
      "source": [
        "def put_between(s1,s2) :\n",
        "  c_idx = int(len(s1) /2)\n",
        "  return s1[:c_idx] + s2 + s1[c_idx:]\n",
        "\n",
        "print(put_between('abcde','EFG'))\n",
        "print(put_between('abcd','EFG'))\n"
      ],
      "metadata": {
        "colab": {
          "base_uri": "https://localhost:8080/"
        },
        "id": "HmCYKHPOe4bz",
        "outputId": "05ef6624-3bd1-459e-ed84-6ffcba38415c"
      },
      "execution_count": null,
      "outputs": [
        {
          "output_type": "stream",
          "name": "stdout",
          "text": [
            "abEFGcde\n",
            "abEFGcd\n"
          ]
        }
      ]
    },
    {
      "cell_type": "markdown",
      "source": [
        "<div dir =rtl>\n",
        "س : تابعی بنویسید که یک مقدار رشته ای را از ورودی خوانده و در صورتیکه مشخص کننده یک عدد صحیح با علامت درست است، True و در غیراینصورت False برگرداند.\n",
        "</div>"
      ],
      "metadata": {
        "id": "akqBMUeufPaF"
      }
    },
    {
      "cell_type": "markdown",
      "source": [
        "<div dir=rtl>\n",
        "توابع رشته های\n",
        "</br>\n",
        "نوع رشته ، یک کلاس است که برای آن متدهایی تعریف شده است.\n",
        "لیست برخی از این متدها را می توانید در ادامه مشاهده کنید\n",
        "</br>\n",
        "این متدها اعمال مورد نظر را روی روی رشته ای که برای آن صدا زده شده اند، اجرا می کنند\n",
        "</br>\n",
        "در صورتیکه اعمال موزد نظر تابع، طوری باشد که متحویات رشت تغییر می کند، رشته مورد نظر به عنوان خروجی متد برگشت داده می شود.\n",
        "</br>\n",
        "و مقدار رشته ای، متد برای آن صدا زده شده است تغییری نمی کند.\n",
        "زیرا در پایتون رشته ها غیرقابل تغییر هستند.\n",
        "</br>\n",
        "lower() : تمام حروف رشته را به حروف کوچک تبدیل می کند.\n",
        "</br>\n",
        "upper() : تمام حروف رشته به حروف بزرگ تبدیل می کند.\n",
        "</br>\n",
        "isalpha() : در صورتیکه تمام کاراکترهای رشته، حروف الفبا باشند True و در غیر اینصورت False بر می گرداند.\n",
        "</br>\n",
        "isdigit(): در صورتیکه تمام کاراکترهای رشته عدد باشند، True و در غیراینصورت False بر می گرداند.\n",
        "</br>\n",
        "find() : رشته ای را گرفته و مکان اولین تکرار آن در رشته اصلی را بر می گرداند. در صورتیکه رشته را پیدا نکرد، -1 برمی گرداند.\n",
        "</br>\n",
        "replace() : دو رشته را از ورودی گرفته و به جای هر تکرار رشته اول در رشته اصلی، رشته دوم را قرار می دهد.\n",
        "</br>\n",
        "count() : رشته ای را به عنوان ورودی گرفته و تعداد تکرار آنرا در رشته اصلی به عنوان خروجی بر می گرداند.\n",
        "</br>\n",
        "لیست کامل این متدها را می توانید در لینک زیر مشاهده کنید:\n",
        "</br>\n",
        "https://www.w3schools.com/python/python_ref_string.asp\n",
        "</div>"
      ],
      "metadata": {
        "id": "IAZTKlY5bZYn"
      }
    },
    {
      "cell_type": "markdown",
      "source": [],
      "metadata": {
        "id": "9JwerPE8giu3"
      }
    },
    {
      "cell_type": "markdown",
      "source": [
        "<div dir=rtl>\n",
        "س : تابعی بنویسید که یک عدد به صورت رشته را از ورودی دریافت کرده و در صورتیکه نشان دهنده یک عدد اعشاری دارای علامت درست است، True برگرداند.\n",
        "</br>\n",
        "عدد می تواند به صورت زیر باشد:\n",
        "</br>\n",
        "</div>\n",
        "+12 , 12.4, -13.543 , ...\n"
      ],
      "metadata": {
        "id": "z0bWgP_0fyqb"
      }
    },
    {
      "cell_type": "code",
      "source": [
        "def is_number(s) :\n",
        "  if s[0] == '+' or s[0] == '-' :\n",
        "    s = s[1:]\n",
        "  cidx = s.find('.')\n",
        "  \n",
        "  return s[:cidx].isdigit() and s[cidx+1:].isdigit()\n",
        "  \n",
        "\n",
        "print(is_number(\"+12\"))\n",
        "\n",
        "#str_num = input()\n",
        "#if is_number(str_num) :\n",
        "#  print(\"True\")\n",
        "#else :\n",
        "#  print(\"Enter again\")\n",
        "\n"
      ],
      "metadata": {
        "id": "iQck5SRQgBaq",
        "colab": {
          "base_uri": "https://localhost:8080/"
        },
        "outputId": "f5240150-ca1a-4266-e441-54ca42ecb301"
      },
      "execution_count": null,
      "outputs": [
        {
          "output_type": "stream",
          "name": "stdout",
          "text": [
            "True\n"
          ]
        }
      ]
    },
    {
      "cell_type": "markdown",
      "source": [
        "<div dir =rtl>\n",
        "برای پیمایش رشته های می توانیم از حلقه for استفاده کنیم.\n",
        "</br>\n",
        "یک روش این است که متغیر حلقه را از 0 تا طول رشته حرکت دهیم.\n",
        "مانند آنچه در ادامه آمده است.\n",
        "</div>"
      ],
      "metadata": {
        "id": "cznoJ7HFhRP1"
      }
    },
    {
      "cell_type": "code",
      "source": [
        "s = 'abcd'\n",
        "for i in range(len(s)) :\n",
        "  print(s[i])"
      ],
      "metadata": {
        "id": "9qYle1F5hj1V",
        "colab": {
          "base_uri": "https://localhost:8080/"
        },
        "outputId": "398de903-267a-457e-b540-2c3380052b4a"
      },
      "execution_count": null,
      "outputs": [
        {
          "output_type": "stream",
          "name": "stdout",
          "text": [
            "a\n",
            "b\n",
            "c\n",
            "d\n"
          ]
        }
      ]
    },
    {
      "cell_type": "markdown",
      "source": [
        "<div dir=rtl>\n",
        "روش دوم پیمایش رشته ها با استفاده دستور for \n",
        "</br>\n",
        "for ch in s :\n",
        "</br>\n",
        "در صورتیکه در دستور بالا s یک متغیر از نوع رشته باشد، \n",
        "متغیر ch در هر بار تکرار حلقه for به ترتیب کاراکترهای s را می پذیرد.\n",
        "</div>"
      ],
      "metadata": {
        "id": "IyG6NoZ_goAR"
      }
    },
    {
      "cell_type": "code",
      "source": [
        "s = 'ABCD'\n",
        "for ch in s :\n",
        "  print(ch)"
      ],
      "metadata": {
        "colab": {
          "base_uri": "https://localhost:8080/"
        },
        "id": "Xx07YdlYwEci",
        "outputId": "86702967-14cb-44e9-d28a-afd9b1af6ed3"
      },
      "execution_count": null,
      "outputs": [
        {
          "output_type": "stream",
          "name": "stdout",
          "text": [
            "A\n",
            "B\n",
            "C\n",
            "D\n"
          ]
        }
      ]
    },
    {
      "cell_type": "markdown",
      "source": [
        "<div dir = rtl>\n",
        "تابعی بنویسید که یک رشته را از ورودی گرفته و مجموع کاراکترهای عددی آنرا را به دست آورد.\n",
        "</div>"
      ],
      "metadata": {
        "id": "-5Ih9pQugHrI"
      }
    },
    {
      "cell_type": "code",
      "source": [
        "def count_digits(s) :\n",
        "  sum = 0\n",
        "  for ch in s :\n",
        "    if ch.isdigit() :\n",
        "      sum += int(ch)\n",
        "  return sum\n",
        "\n",
        "print(count_digits('abv67p^'))"
      ],
      "metadata": {
        "id": "xtOZlGCLgVQX",
        "colab": {
          "base_uri": "https://localhost:8080/"
        },
        "outputId": "a373f017-f081-4087-9132-20690dff76b6"
      },
      "execution_count": null,
      "outputs": [
        {
          "output_type": "stream",
          "name": "stdout",
          "text": [
            "13\n"
          ]
        }
      ]
    },
    {
      "cell_type": "markdown",
      "source": [
        "<div dir=rtl>\n",
        "س: تابعی بنویسید که رشته ای را از ورودی گرفته به جای کاراکترهای غیر عددی آن # قرار دهد.\n",
        "</div>"
      ],
      "metadata": {
        "id": "p3OwQvBjgVkP"
      }
    },
    {
      "cell_type": "code",
      "source": [
        "def replace_not_digit(s) :\n",
        "  s1 = ''\n",
        "  for ch in s :\n",
        "    if not ch.isdigit() :\n",
        "      s1 += '#'\n",
        "    else :\n",
        "      s1 += ch\n",
        "\n",
        "  return s1\n",
        "\n",
        "print(replace_not_digit(\"12fg&\"))"
      ],
      "metadata": {
        "id": "zPIfmJiCtePd",
        "colab": {
          "base_uri": "https://localhost:8080/"
        },
        "outputId": "22bada80-02f8-45a0-ddd8-9d25f16872f6"
      },
      "execution_count": null,
      "outputs": [
        {
          "output_type": "stream",
          "name": "stdout",
          "text": [
            "12###\n"
          ]
        }
      ]
    },
    {
      "cell_type": "markdown",
      "source": [
        "<div dir=rtl>\n",
        "س : تابعی بنویسید که یک رشته را از ورودی گرفته و اگر تعداد حروف بزرگ در رشته بیشتر از حروف کوچک باشد، تمام حروف را به بزرگ و در صورتیکه، تعداد حروف کوچک بیشتر باشد، تمام حروف را به حروف کوچک تبدیل کند.\n",
        "در صورت برابر بودن حروف کوچک و حروف بزرگ، رشته را به حروف کوچک تبدیل کند\n",
        "</div>"
      ],
      "metadata": {
        "id": "XY4_7JFN12d3"
      }
    },
    {
      "cell_type": "code",
      "source": [
        "def change_upper_lower(s) :\n",
        "  sumu = 0\n",
        "  suml = 0\n",
        "  for ch in s :\n",
        "    if ch.isupper() :\n",
        "      sumu += 1\n",
        "    elif ch.islower() :\n",
        "      suml += 1\n",
        "  if sumu > suml :\n",
        "    return s.upper()\n",
        "  else:\n",
        "    return s.lower()\n",
        "\n",
        "print(change_upper_lower(\"Bca123cD%\"))\n"
      ],
      "metadata": {
        "id": "su71Q9C62aOl",
        "colab": {
          "base_uri": "https://localhost:8080/"
        },
        "outputId": "4fba4616-b608-4695-c2b8-ac3877d62608"
      },
      "execution_count": null,
      "outputs": [
        {
          "output_type": "stream",
          "name": "stdout",
          "text": [
            "bca123cd%\n",
            "False\n"
          ]
        }
      ]
    },
    {
      "cell_type": "markdown",
      "source": [
        "<div dir=rtl>\n",
        "س: برنامه ای بنویسید که رشته ای را از ورودی گرفته و کاراکترهای غیر حرفی آنرا حذف نمیاد.\n",
        "</div>"
      ],
      "metadata": {
        "id": "jAIXlQ3uyuGa"
      }
    },
    {
      "cell_type": "code",
      "source": [],
      "metadata": {
        "id": "9EgXtNKZy7ge"
      },
      "execution_count": null,
      "outputs": []
    },
    {
      "cell_type": "markdown",
      "source": [
        "<div dir=rtl>\n",
        "برنامه ای بنویسید که تابع count را پیاده سازی کند.\n",
        "</div>"
      ],
      "metadata": {
        "id": "bWgrIJgLte1T"
      }
    },
    {
      "cell_type": "code",
      "source": [
        "def count(s,s1) \n"
      ],
      "metadata": {
        "id": "BuoQo9ucttxU"
      },
      "execution_count": null,
      "outputs": []
    },
    {
      "cell_type": "markdown",
      "source": [
        "<div dir=rtl>\n",
        "برنامه ای بنویسید که تعیین کند یک رشته palindrome هست یا خیر؟\n",
        "</div>"
      ],
      "metadata": {
        "id": "YI5xaGDDxj_y"
      }
    },
    {
      "cell_type": "code",
      "source": [
        "def is_palindrome (s) :\n",
        "  return s == s[::-1]\n",
        "\n",
        "s = 'ABCDEG'\n",
        "print(s[::-1])\n",
        "print(is_palindrome(\"abnhba\"))"
      ],
      "metadata": {
        "id": "uGkWNyWGxy2E",
        "colab": {
          "base_uri": "https://localhost:8080/"
        },
        "outputId": "90be1d99-a498-41e1-e006-7d450fab6cf7"
      },
      "execution_count": null,
      "outputs": [
        {
          "output_type": "stream",
          "name": "stdout",
          "text": [
            "GEDCBA\n",
            "False\n"
          ]
        }
      ]
    }
  ]
}