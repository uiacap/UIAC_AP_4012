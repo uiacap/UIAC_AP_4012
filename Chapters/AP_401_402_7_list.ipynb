{
  "nbformat": 4,
  "nbformat_minor": 0,
  "metadata": {
    "colab": {
      "provenance": [],
      "authorship_tag": "ABX9TyOX10XQTBtBEDBk/586TOK4",
      "include_colab_link": true
    },
    "kernelspec": {
      "name": "python3",
      "display_name": "Python 3"
    },
    "language_info": {
      "name": "python"
    }
  },
  "cells": [
    {
      "cell_type": "markdown",
      "metadata": {
        "id": "view-in-github",
        "colab_type": "text"
      },
      "source": [
        "<a href=\"https://colab.research.google.com/github/uiacap/UIAC_AP_4012/blob/main/Chapters/AP_401_402_7_list.ipynb\" target=\"_parent\"><img src=\"https://colab.research.google.com/assets/colab-badge.svg\" alt=\"Open In Colab\"/></a>"
      ]
    },
    {
      "cell_type": "markdown",
      "source": [
        "<div dir=rtl>\n",
        "نوع داده لیست در پایتون:\n",
        "</br>\n",
        "در صورتیکه بخواهیم نوع داده ای داشته باشیم که به جای یک مقدار از تعدادی از مقادیر تشکیل شده باشد، می توانیم از نوع داده list، Tuple، Set یا dictionary استفاده کنیم\n",
        "</br>\n",
        "نوع داده list:\n",
        "</br>\n",
        "لیست مقداری است که شامل تعدادی مقدار است.\n",
        "</br>\n",
        "برای تعریف لیست از [ , ] استفاده می کنیم\n",
        "</br>\n",
        "برای مثال متغیر a در زیر مقدار دهی شده است، شامل یک لیست با چهار عنصر می باشد.\n",
        "</div>"
      ],
      "metadata": {
        "id": "GKrG-hqQzOlb"
      }
    },
    {
      "cell_type": "code",
      "execution_count": null,
      "metadata": {
        "id": "0fw_zqBCzH4v",
        "colab": {
          "base_uri": "https://localhost:8080/"
        },
        "outputId": "b0c7c12b-f601-4535-e5db-f35839c46a3d"
      },
      "outputs": [
        {
          "output_type": "stream",
          "name": "stdout",
          "text": [
            "17\n"
          ]
        }
      ],
      "source": [
        "a = [1,2,4, 17]\n",
        "b = ['abc', 'a', 'abv', 'adgh']\n",
        "c = [1,2, 'abc', 2.3]\n",
        "d = [[1,2,4.5], 'sd']\n",
        "print(a[3])"
      ]
    },
    {
      "cell_type": "markdown",
      "source": [
        "<div dir = rtl>\n",
        "عملگرهای + و * را برای لیست ها داریم.\n",
        "</div>"
      ],
      "metadata": {
        "id": "Z1FJllQmLFWl"
      }
    },
    {
      "cell_type": "code",
      "source": [
        "l = [2,4,\"abi\", 2.4]\n",
        "l1 = [3,5]\n",
        "print(l+l1)\n",
        "print(l1*2)\n",
        "print(l[-1])\n"
      ],
      "metadata": {
        "id": "Dzi6N31WLOco",
        "colab": {
          "base_uri": "https://localhost:8080/"
        },
        "outputId": "8e11c738-4a82-4a58-f697-aaf5e81e5bfb"
      },
      "execution_count": null,
      "outputs": [
        {
          "output_type": "stream",
          "name": "stdout",
          "text": [
            "[2, 4, 'abi', 2.4, 3, 5]\n",
            "[3, 5, 3, 5]\n",
            "2.4\n"
          ]
        }
      ]
    },
    {
      "cell_type": "markdown",
      "source": [
        "<div dir=rtl>\n",
        "برای دسترسی به عناصر لیست مانند رشته های از ایندکس عناصر استفاده می کنیم.\n",
        "</br>\n",
        "عناصر از ایندکس 0 شروع می شوند.\n",
        "</br>\n",
        "با استفاده از عملگر : نیز می توان یک زیر لیست از لیست داشت\n",
        "</br>\n",
        "عناصر لیست از آخر به اول با اندیس های منفی شماره گذاری می شوند که از 1- شروع می شود.\n",
        "</div>"
      ],
      "metadata": {
        "id": "Hcp_fnmM9l5Z"
      }
    },
    {
      "cell_type": "code",
      "source": [],
      "metadata": {
        "id": "lPF8-QPG-rFj"
      },
      "execution_count": null,
      "outputs": []
    },
    {
      "cell_type": "markdown",
      "source": [
        "Nested indexing\n",
        "</br>\n"
      ],
      "metadata": {
        "id": "v6nziNXi-rfd"
      }
    },
    {
      "cell_type": "code",
      "source": [
        "nl = [\"python\", [2,0,[4,'b'],5]]\n",
        "print(nl[1][2][1])\n"
      ],
      "metadata": {
        "id": "nNwIl7eSI7e6"
      },
      "execution_count": null,
      "outputs": []
    },
    {
      "cell_type": "markdown",
      "source": [
        "<div dir=rtl>\n",
        "لیست ها قابل تغییر هستند\n",
        "</br>\n",
        "میخواهیم عنصر 4 از لیست زیر را تغییر دهیم\n",
        "</div>\n"
      ],
      "metadata": {
        "id": "NK91K_87JZLD"
      }
    },
    {
      "cell_type": "code",
      "source": [
        "odd_list = [2, 4, 6, 8, 10, 12]\n",
        "odd_list[3] = 14\n",
        "print(odd_list)"
      ],
      "metadata": {
        "id": "X2RLANG_Jmrq",
        "colab": {
          "base_uri": "https://localhost:8080/"
        },
        "outputId": "f2c3cf19-cec5-4244-9ff3-fea244eab5c1"
      },
      "execution_count": null,
      "outputs": [
        {
          "output_type": "stream",
          "name": "stdout",
          "text": [
            "[2, 4, 6, 14, 10, 12]\n"
          ]
        }
      ]
    },
    {
      "cell_type": "markdown",
      "source": [
        "change 2nd to 4th element"
      ],
      "metadata": {
        "id": "xtyN1zMQJ2Ye"
      }
    },
    {
      "cell_type": "code",
      "source": [
        "odd_list = [2, 4, 6, 8, 10, 12]\n",
        "odd_list[1:4] = [[5,7],9]\n",
        "print(odd_list)"
      ],
      "metadata": {
        "id": "Yf0jbvR-J7CH",
        "colab": {
          "base_uri": "https://localhost:8080/"
        },
        "outputId": "bee04ca9-4042-46b4-96df-cd3ea9601ac2"
      },
      "execution_count": null,
      "outputs": [
        {
          "output_type": "stream",
          "name": "stdout",
          "text": [
            "[2, [5, 7], 9, 10, 12]\n"
          ]
        }
      ]
    },
    {
      "cell_type": "markdown",
      "source": [
        "<div dir=rtl>\n",
        "برای اضافه کردن یک مقدار به ته لیست از دستور append استفاده می کنیم.\n",
        "</br>\n",
        "در صورتیکه به عنوان ورودی list مجموعه ای از مقادیر را بدهیم تمام آنها به لیست اضافه می شوند.\n",
        "</div>"
      ],
      "metadata": {
        "id": "D-I43_WcKb0U"
      }
    },
    {
      "cell_type": "code",
      "source": [
        "odd_list = [2, 4, 6, 8, 10, 12]\n",
        "odd_list.append(20)\n",
        "print(odd_list)"
      ],
      "metadata": {
        "id": "LxWOw1eDKpEF",
        "colab": {
          "base_uri": "https://localhost:8080/"
        },
        "outputId": "0c21265f-8db2-451e-ad7c-fad6219c41be"
      },
      "execution_count": null,
      "outputs": [
        {
          "output_type": "stream",
          "name": "stdout",
          "text": [
            "[2, 4, 6, 8, 10, 12, 20]\n"
          ]
        }
      ]
    },
    {
      "cell_type": "markdown",
      "source": [
        "<div dir=rtl>\n",
        "اگر بخواهیم در مکانی از لیست مقداری را اضافه کنیم از تابع insert استفاده می کنیم.\n",
        "</br>\n",
        "در صورتیکه بخواهیم تعدادی مقدار را در مکانی از لیست اضافه کنیم. از زیر لیست با ابتدا و انتهای یکسان استفاده می کنیم.\n",
        "</div>"
      ],
      "metadata": {
        "id": "BrhzRf1yKszO"
      }
    },
    {
      "cell_type": "code",
      "source": [
        "l = [1,3,4,56,10]\n",
        "l.insert(1,10)\n",
        "print(l)\n",
        "l[2:2] = [1.3,4.5]\n",
        "print(l)"
      ],
      "metadata": {
        "id": "uD63SqbhLzZJ",
        "colab": {
          "base_uri": "https://localhost:8080/"
        },
        "outputId": "70c1de75-c6eb-4bfc-ed27-f5d442880946"
      },
      "execution_count": null,
      "outputs": [
        {
          "output_type": "stream",
          "name": "stdout",
          "text": [
            "[1, 10, 3, 4, 56, 10]\n",
            "[1, 10, 1.3, 4.5, 3, 4, 56, 10]\n"
          ]
        }
      ]
    },
    {
      "cell_type": "markdown",
      "source": [
        "<div dir=rtl>\n",
        "برای حذف یک مقدار از لیست از متد popاستفاده می کنیم. \n",
        "</br>\n",
        "متد pop به عنوان ورودی، ایندکس عنصر را گرفته ، آنرا حذف کرده و سپس مقدار آنرا بر می گرداند.\n",
        "</div>"
      ],
      "metadata": {
        "id": "OcV-Vf20MQ5-"
      }
    },
    {
      "cell_type": "code",
      "source": [
        "l = [1,3,4,56,10]\n",
        "print(l.pop())\n",
        "print(l)\n",
        "print(l.pop(3))\n",
        "print(l)"
      ],
      "metadata": {
        "colab": {
          "base_uri": "https://localhost:8080/"
        },
        "id": "WCUFTss6M21I",
        "outputId": "58e39b3c-2730-4a80-8f68-2b939f74d784"
      },
      "execution_count": 33,
      "outputs": [
        {
          "output_type": "stream",
          "name": "stdout",
          "text": [
            "10\n",
            "[1, 3, 4, 56]\n",
            "56\n",
            "[1, 3, 4]\n"
          ]
        }
      ]
    },
    {
      "cell_type": "markdown",
      "source": [
        "<div dir=rtl>\n",
        "با استفاده از دستور del می توان هر متغیری را حذف کرد.\n",
        "</br>\n",
        "از این دستور می توانیم برای حذف عناصر لیست یا یک زیر لیست از لیست استفاده کرد.\n",
        "</dir>"
      ],
      "metadata": {
        "id": "NAVAWGFENAry"
      }
    },
    {
      "cell_type": "code",
      "source": [
        "a = 12\n",
        "print(a)\n",
        "del a\n",
        "print(a)"
      ],
      "metadata": {
        "id": "Unpyrju3rnIm"
      },
      "execution_count": null,
      "outputs": []
    },
    {
      "cell_type": "code",
      "source": [
        "l = [1,3,4,56,10,'cv']\n",
        "del l[1]\n",
        "print(l)\n",
        "del l[2:4]\n",
        "print(l)"
      ],
      "metadata": {
        "id": "TV7LSo_jNQH6",
        "colab": {
          "base_uri": "https://localhost:8080/"
        },
        "outputId": "ab1408c6-7331-402f-fefe-cfbdc209f534"
      },
      "execution_count": 39,
      "outputs": [
        {
          "output_type": "stream",
          "name": "stdout",
          "text": [
            "[1, 4, 56, 10, 'cv']\n",
            "[1, 4, 'cv']\n"
          ]
        }
      ]
    },
    {
      "cell_type": "markdown",
      "source": [
        "<div dir=rtl>\n",
        "با استفاده از متد remove نیز می توان عنصری را از لیست حذف کرد.\n",
        "</br>\n",
        "تفاوت remove با pop این است که به جای ایندکس یک مقدار می گیرد و آنرا حذف کرده و در صورتیکه مقدار مورد نظر در لیست نبود، خطا بر می گرداند.\n",
        "</div>"
      ],
      "metadata": {
        "id": "Nrz6751QOtTW"
      }
    },
    {
      "cell_type": "code",
      "source": [
        "l = ['a','b','a','c','a']\n",
        "'a' not in l\n",
        "\n",
        "while 'a' in l :\n",
        "  l.remove('a')\n",
        "\n",
        "print(l)\n"
      ],
      "metadata": {
        "id": "GPRyucVTO_Du",
        "colab": {
          "base_uri": "https://localhost:8080/"
        },
        "outputId": "70cef584-242a-4810-e9b0-76fa060639ff"
      },
      "execution_count": 37,
      "outputs": [
        {
          "output_type": "stream",
          "name": "stdout",
          "text": [
            "['b', 'c']\n"
          ]
        }
      ]
    },
    {
      "cell_type": "markdown",
      "source": [],
      "metadata": {
        "id": "8QHAV2evN8Yn"
      }
    },
    {
      "cell_type": "code",
      "source": [
        "l = [1,3,4,56,10,'cv']\n",
        "l.reverse()\n",
        "print(l)"
      ],
      "metadata": {
        "colab": {
          "base_uri": "https://localhost:8080/"
        },
        "id": "Be1zH-URMhFo",
        "outputId": "db2f4d62-b665-41a2-ee08-b52d7e1a3b85"
      },
      "execution_count": null,
      "outputs": [
        {
          "output_type": "stream",
          "name": "stdout",
          "text": [
            "['cv', 10, 56, 4, 3, 1]\n"
          ]
        }
      ]
    },
    {
      "cell_type": "markdown",
      "source": [],
      "metadata": {
        "id": "T1_U51RdOIOP"
      }
    },
    {
      "cell_type": "code",
      "source": [
        "l = [1,3,4,56,10,'cv']\n",
        "l.clear()\n",
        "print(l)\n"
      ],
      "metadata": {
        "id": "X_i7jyB2OLRq"
      },
      "execution_count": null,
      "outputs": []
    },
    {
      "cell_type": "markdown",
      "source": [
        "<div dir = rtl>\n",
        "متد index :\n",
        "</br>\n",
        "با استفاده از این متد می توان، مقداری را در لیست جستجو کرد. در صورتیکه مقدار موجود باشد، ایندکس آن و در غیر اینصورت خطا داده می شود.\n",
        "</br>\n",
        "می توانیم با دادن ایندکس شروع و پایان، زیر لیستی از لیست را برای جستجو مشخص کرد.\n",
        "</div>"
      ],
      "metadata": {
        "id": "ZAZggiAYOTiw"
      }
    },
    {
      "cell_type": "code",
      "source": [
        "myList = [\"amir\", \"ali\", \"amir\", \"ali\",\"hasan\", \"abbas\", \"ali\"]\n",
        "myList.index(\"ali\")\n",
        "myList.index(\"ali\", 2,6)"
      ],
      "metadata": {
        "colab": {
          "base_uri": "https://localhost:8080/"
        },
        "id": "AQCvOocYOUM7",
        "outputId": "b4c89fac-3f50-4806-e38b-a6d2bb646c81"
      },
      "execution_count": 42,
      "outputs": [
        {
          "output_type": "execute_result",
          "data": {
            "text/plain": [
              "3"
            ]
          },
          "metadata": {},
          "execution_count": 42
        }
      ]
    },
    {
      "cell_type": "markdown",
      "source": [
        "<div dir=rtl>\n",
        "برای شمردن مقادیر یک لیست می توان از متد count استفاده کرد.\n",
        "</div>"
      ],
      "metadata": {
        "id": "KFBeHSA5ff0F"
      }
    },
    {
      "cell_type": "code",
      "source": [
        "myList = [\"amir\", \"ali\", \"amir\", \"ali\",\"hasan\", \"abbas\", \"ali\"]\n",
        "print(myList.count(\"ali\"))"
      ],
      "metadata": {
        "colab": {
          "base_uri": "https://localhost:8080/"
        },
        "id": "UIUSr2Tuft6G",
        "outputId": "721588b6-b8c2-4c16-c110-2f733557ecb3"
      },
      "execution_count": 43,
      "outputs": [
        {
          "output_type": "stream",
          "name": "stdout",
          "text": [
            "3\n"
          ]
        }
      ]
    },
    {
      "cell_type": "markdown",
      "source": [
        "<div dir=rtl>\n",
        "تابعی بنویسید که اعضای تکراری یک لیست را حذف کند.\n",
        "</div>"
      ],
      "metadata": {
        "id": "2FZPWvkpQHuJ"
      }
    },
    {
      "cell_type": "code",
      "source": [],
      "metadata": {
        "id": "YKAVVohRQPlU"
      },
      "execution_count": null,
      "outputs": []
    },
    {
      "cell_type": "markdown",
      "source": [
        "<div dir =rtl>\n",
        "پیمایش لیست ها\n",
        "</br>\n",
        "لیست ها را نیز مانند رشته ها می توان در for به کار برد و عناصر لیست را پیمایش کرد.\n",
        "</div>"
      ],
      "metadata": {
        "id": "EMBdTXzqKQ1v"
      }
    },
    {
      "cell_type": "code",
      "source": [
        "l = [34, 2, 3.2, 4.5]\n",
        "for i in range(len(l)) :\n",
        "  print(l[i])\n"
      ],
      "metadata": {
        "id": "fyvaRvotKrWy"
      },
      "execution_count": null,
      "outputs": []
    },
    {
      "cell_type": "code",
      "source": [
        "l = [34, 2, 3.2, 4.5]\n",
        "\n",
        "for item in l :\n",
        "  print(item)\n"
      ],
      "metadata": {
        "id": "PVv_QOsaK92g",
        "colab": {
          "base_uri": "https://localhost:8080/"
        },
        "outputId": "d325fba1-e29d-4f40-a48f-bcd602935535"
      },
      "execution_count": 44,
      "outputs": [
        {
          "output_type": "stream",
          "name": "stdout",
          "text": [
            "34\n",
            "2\n",
            "3.2\n",
            "4.5\n"
          ]
        }
      ]
    },
    {
      "cell_type": "markdown",
      "source": [
        "<div dir=rtl>\n",
        "برنامه ای که تعدادی کلمه را از کاربر بگیرد تا وقتی که کاربر یک خط خالی وارد کند\n",
        "و سپس کلمات تکراری را حذف کرده و کلمات خوانده شده را چاپ کند\n",
        "</div>"
      ],
      "metadata": {
        "id": "eLS2ChJwQP1A"
      }
    },
    {
      "cell_type": "code",
      "source": [
        "l = []\n",
        "l_all = []\n",
        "while True:\n",
        "  word = input()\n",
        "  if word == \"\" :\n",
        "    break\n",
        "  l_all.append(word)\n",
        "  if word not in l :\n",
        "    l.append(word)\n",
        "\n",
        "for item in l :\n",
        "  print(item)"
      ],
      "metadata": {
        "id": "V_mF2UFIRQKz"
      },
      "execution_count": null,
      "outputs": []
    },
    {
      "cell_type": "markdown",
      "source": [
        "<div dir=rtl>\n",
        "س: برنامه ای بنویسید که تا وقتی کاربر خط خالی وارد نکرده است، از ورودی عدد بخواند.\n",
        "</br>\n",
        "پس از خواندن اعداد ابتدا اعداد منفی در یک خط\n",
        "و پس از آن 0ها\n",
        "و پس از آن اعداد مثبت در یک خط چاپ شوند.\n",
        "</br>\n",
        "اعداد به همان ترتیبی که خوانده شده اند، چاپ شوند.\n",
        "</div>"
      ],
      "metadata": {
        "id": "u-kcoHJNIjmw"
      }
    },
    {
      "cell_type": "code",
      "source": [
        "l_neg = []\n",
        "l_zero = []\n",
        "l_pos = []\n",
        "while True:\n",
        "  n_str = input()\n",
        "  if n_str == \"\" :\n",
        "    break\n",
        "  n = float(n_str)\n",
        "  if n < 0 :\n",
        "    l_neg.append(str(n))\n",
        "  elif n > 0 :\n",
        "    l_pos.append(n)\n",
        "  else :\n",
        "    l_zero.append(n)\n",
        "\n",
        "#for item in l_neg :\n",
        "#  print(item, end=\" \")\n",
        "\n",
        "print(\" \".join(l_neg))\n",
        "print()\n",
        "for item in l_zero :\n",
        "  print(item, end= \" \")\n",
        "print()\n",
        "for item in l_pos :\n",
        "  print(item, end=\" \")"
      ],
      "metadata": {
        "id": "KodM5nE3JHiV",
        "colab": {
          "base_uri": "https://localhost:8080/"
        },
        "outputId": "a8d04d1d-bcbc-4d14-e148-faf28b66ab6a"
      },
      "execution_count": 49,
      "outputs": [
        {
          "output_type": "stream",
          "name": "stdout",
          "text": [
            "3.5\n",
            "-.67\n",
            "-0.9\n",
            "0\n",
            "2\n",
            "\n",
            "-0.67 -0.9 -0.67 -0.9\n",
            "\n",
            "0.0 \n",
            "3.5 2.0 "
          ]
        }
      ]
    },
    {
      "cell_type": "markdown",
      "source": [
        "<div dir=rtl>\n",
        "توابع join و slpit\n",
        "</br>\n",
        "متد join یک از متدهای رشته ها است. \n",
        "</br>\n",
        "این متد برای یک رشته که به عنوان جدا کننده استفاده می شود، صدا زده می شود. این متد به عنوان ورودی یکی از متغیرهای مجموعه ای مانند (لیست یا تاپل ) را گرفته (اعضای این لیست باید همه از نوع رشته باشند) و اعضای مجموعه را در یک رشته قرار می دهد به طوریکه این اعضا با جدا کننده از هم جدا شده باشند.\n",
        "</div>"
      ],
      "metadata": {
        "id": "qAW27bQrLVJF"
      }
    },
    {
      "cell_type": "code",
      "source": [
        "\n",
        "a = [\"1\", \"2\", \"3\", \"4\"]\n",
        "print('-'.join(a))"
      ],
      "metadata": {
        "id": "oGIItB9zMQjx",
        "colab": {
          "base_uri": "https://localhost:8080/"
        },
        "outputId": "b6b09783-0391-4ee2-8401-1fbd13e9dcfe"
      },
      "execution_count": 47,
      "outputs": [
        {
          "output_type": "stream",
          "name": "stdout",
          "text": [
            "1-2-3-4\n"
          ]
        }
      ]
    },
    {
      "cell_type": "markdown",
      "source": [
        "<div dir=rtl>\n",
        "متد split از متد های رشته ها می باشد.\n",
        "</br>\n",
        "این متد رشته ای را برای آن صدا زده می شود را بر اساس جدا کننده ای که دریافت می کند به زیر رشته ها جدا می کند و این زیر رشته ها را در قالب یک لیست به عنوان خروجی بر می گرداند.\n",
        "</div>"
      ],
      "metadata": {
        "id": "eXQiEGccN2cf"
      }
    },
    {
      "cell_type": "code",
      "source": [
        "s = \"ab,dc,er,ac\"\n",
        "l = s.split(\",\")\n",
        "print(l[0])\n",
        "print(s.split(\",\"))"
      ],
      "metadata": {
        "id": "84cfjMcyOS2n",
        "colab": {
          "base_uri": "https://localhost:8080/"
        },
        "outputId": "c739c95e-53c9-4be0-c303-cd7718a1f5e3"
      },
      "execution_count": 51,
      "outputs": [
        {
          "output_type": "stream",
          "name": "stdout",
          "text": [
            "ab\n",
            "['ab', 'dc', 'er', 'ac']\n"
          ]
        }
      ]
    },
    {
      "cell_type": "code",
      "source": [
        "st = input()\n",
        "l = st.split(\" \")\n",
        "print(l)"
      ],
      "metadata": {
        "colab": {
          "base_uri": "https://localhost:8080/"
        },
        "id": "nJEtJASqxzhv",
        "outputId": "1c2921d8-f7b8-4cec-e410-0502993f045c"
      },
      "execution_count": 53,
      "outputs": [
        {
          "output_type": "stream",
          "name": "stdout",
          "text": [
            "2 3\n",
            "['2', '3']\n"
          ]
        }
      ]
    },
    {
      "cell_type": "markdown",
      "source": [
        "<div dir=rtl>\n",
        "تابع map:\n",
        "</br>\n",
        "این تابع به عنوان ورودی، نام یک تابع و یک متغیر قابل پیمایش (مانند لیست) را می گیرد. و تابع را به ترتیب روی اعضای لیست اعمال می کند.\n",
        "و نتیجه را در قالب یک شی قابل پیمایش برمی گرداند. که می توان آن را به یک لیست تبدیل کرد.\n",
        "</div>"
      ],
      "metadata": {
        "id": "XQedjGm_gh-2"
      }
    },
    {
      "cell_type": "code",
      "source": [
        "def f(x):\n",
        "  return int(x)\n",
        "\n",
        "l = [2, '4', False, 3.14]\n",
        "m = map(f, l)\n",
        "print(type(m))\n",
        "\n",
        "print(list(m))\n",
        "\n",
        "for x in list(m) :\n",
        "  print(x)\n"
      ],
      "metadata": {
        "id": "jEG-GhRthWEr",
        "colab": {
          "base_uri": "https://localhost:8080/"
        },
        "outputId": "ba635b4b-b535-4710-b268-ebc4a2fa9967"
      },
      "execution_count": 56,
      "outputs": [
        {
          "output_type": "stream",
          "name": "stdout",
          "text": [
            "<class 'map'>\n",
            "[2, 4, 0, 3]\n"
          ]
        }
      ]
    },
    {
      "cell_type": "markdown",
      "source": [
        "<div dir=rtl>\n",
        "برنامه ای که تعدادی ورودی را در یک خط گرفته و آنها را به int تبدیل کند.\n",
        "</div>"
      ],
      "metadata": {
        "id": "9jayXXdZiDjD"
      }
    },
    {
      "cell_type": "code",
      "source": [
        "l = map(float, input().split(\" \"))\n",
        "print(list(l))"
      ],
      "metadata": {
        "id": "kiJLQjRgiQ8q"
      },
      "execution_count": null,
      "outputs": []
    },
    {
      "cell_type": "markdown",
      "source": [
        "<div dir=rtl>\n",
        "استفاده از توابع sum، min و max\n",
        "</div>"
      ],
      "metadata": {
        "id": "AKIxeVNoikm3"
      }
    },
    {
      "cell_type": "code",
      "source": [
        "l = [1,2,3,4]\n",
        "print(sum(l))\n",
        "print(min(l))\n",
        "print(max(l))"
      ],
      "metadata": {
        "id": "yeAd7MmBiuoH",
        "colab": {
          "base_uri": "https://localhost:8080/"
        },
        "outputId": "fc843d45-5e06-41ac-e0b6-9a81dcb2fb72"
      },
      "execution_count": 60,
      "outputs": [
        {
          "output_type": "stream",
          "name": "stdout",
          "text": [
            "10\n",
            "1\n",
            "4\n"
          ]
        }
      ]
    }
  ]
}