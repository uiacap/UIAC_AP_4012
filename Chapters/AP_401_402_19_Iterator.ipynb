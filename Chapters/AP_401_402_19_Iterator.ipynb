{
  "nbformat": 4,
  "nbformat_minor": 0,
  "metadata": {
    "colab": {
      "provenance": [],
      "authorship_tag": "ABX9TyP5WySTS9JXEy5yr9Zmz5C5",
      "include_colab_link": true
    },
    "kernelspec": {
      "name": "python3",
      "display_name": "Python 3"
    },
    "language_info": {
      "name": "python"
    }
  },
  "cells": [
    {
      "cell_type": "markdown",
      "metadata": {
        "id": "view-in-github",
        "colab_type": "text"
      },
      "source": [
        "<a href=\"https://colab.research.google.com/github/uiacap/UIAC_AP_4012/blob/main/Chapters/AP_401_402_19_Iterator.ipynb\" target=\"_parent\"><img src=\"https://colab.research.google.com/assets/colab-badge.svg\" alt=\"Open In Colab\"/></a>"
      ]
    },
    {
      "cell_type": "markdown",
      "source": [
        "<div dir=rtl>\n",
        "به اشیا ای که دارای چند شی دیگر درون خود هستند، container می گوییم.\n",
        "</br>\n",
        "این اشیا معمولا قابل پیشمایش شده به وسیله حلقه for هستند.\n",
        "</br>\n",
        "برای پیمایش کردن این توابع باید در ابتدا شی iterator آنها را با استفاده از تابع iter گرفت.\n",
        "بنابراین در تمام containerها باید تابع __iter__ را داشته باشیم که یک شی iterator را بر می گرداند.\n",
        "</br>\n",
        "شی ای یک iterator است که تابع __next__ آن پیاده سازی شده باشد.\n",
        "</br>\n",
        "در تابع next باید iterator یک واحد حرکت کند (که  نوع این حرکت بسته به نوع container متفاوت است) و سپس مقدار فعلی iterator بازگردانده شود.\n",
        "</div>"
      ],
      "metadata": {
        "id": "e_eMzuAMAaH2"
      }
    },
    {
      "cell_type": "markdown",
      "source": [
        "<div dir=rtl>\n",
        "س : یک کلاس لیست به نام ReverseList تعریف کنید که به عنوان ورودی یک لیست دریافت کرده و وقتی این کلاس پیمایش می شود، اعضای لیست به صورت اخر به اول برگردانده می شوند.\n",
        "</br>\n",
        "باید متد های __iter__ __next__  را پیاده سازی کیند.\n",
        "</br>\n",
        "در متد next خطای StopIteration در پایان برگردانده شود\n",
        "</div>"
      ],
      "metadata": {
        "id": "0VmtUqwjCO0e"
      }
    },
    {
      "cell_type": "code",
      "source": [
        "class ReverseList :\n",
        "\n",
        "  def __init__(self,l) :\n",
        "    self.__l = l\n",
        "    self.__curr = len(l)\n",
        "\n",
        "  def __iter__(self) :\n",
        "    self.__curr = len(self.__l)\n",
        "    return self\n",
        "\n",
        "  def __next__(self) :\n",
        "    if self.__curr > 0 :\n",
        "      self.__curr -= 1\n",
        "      return self.__l[self.__curr]\n",
        "    else:\n",
        "      raise StopIteration\n",
        "\n",
        "l = ReverseList([1,2,3,4])\n",
        "\n",
        "for item in l :\n",
        "  print(item)\n",
        "\n",
        "#for item in l :\n",
        "#  print(item)\n"
      ],
      "metadata": {
        "colab": {
          "base_uri": "https://localhost:8080/"
        },
        "id": "-mWcpYxdPSLW",
        "outputId": "7e57579f-b7b4-4ed8-fa9f-2bd874f8f6fa"
      },
      "execution_count": null,
      "outputs": [
        {
          "output_type": "stream",
          "name": "stdout",
          "text": [
            "4\n",
            "3\n",
            "2\n",
            "1\n"
          ]
        }
      ]
    },
    {
      "cell_type": "markdown",
      "source": [],
      "metadata": {
        "id": "Da-TIkiMCOxo"
      }
    },
    {
      "cell_type": "markdown",
      "source": [
        "<div dir=rtl>\n",
        "س : یک کلاس لیست به نام RandomList تعریف کنید که به عنوان ورودی یک لیست دریافت کرده و وقتی این کلاس پیمایش می شود، اعضای لیست به صورت تصادفی برگردانده می شوند.\n",
        "</div>im"
      ],
      "metadata": {
        "id": "8GEVrgx3CxYA"
      }
    },
    {
      "cell_type": "code",
      "execution_count": null,
      "metadata": {
        "id": "5ro6E4c8ALIb",
        "colab": {
          "base_uri": "https://localhost:8080/"
        },
        "outputId": "7c4f4af1-dc7a-4b31-fdb8-0d67a0fe3554"
      },
      "outputs": [
        {
          "output_type": "stream",
          "name": "stdout",
          "text": [
            "1\n",
            "4\n",
            "3\n",
            "2\n"
          ]
        }
      ],
      "source": [
        "import random\n",
        "\n",
        "class RandomList :\n",
        "  def __init__(self,l) :\n",
        "    self.__l = l\n",
        "\n",
        "  def __iter__(self) :\n",
        "    random.shuffle(self.__l)\n",
        "    self.__curr = -1\n",
        "    return self\n",
        "\n",
        "  def __next__(self) :\n",
        "    if self.__curr < len(self.__l)-1 :\n",
        "      self.__curr += 1\n",
        "      return self.__l[self.__curr]\n",
        "    else :\n",
        "      raise StopIteration\n",
        "\n",
        "\n",
        "lr = RandomList([1,2,3,4])\n",
        "for item in lr :\n",
        "  print(item)\n",
        "\n",
        "\n"
      ]
    },
    {
      "cell_type": "code",
      "source": [
        "import random\n",
        "class RandomList(list) :\n",
        "  def __init__(self,l) :\n",
        "    random.shuffle(l)\n",
        "    super().__init__(l)\n",
        "  \n",
        "\n",
        "lr = RandomList([1,2,3,4])\n",
        "for item in lr :\n",
        "  print(item)\n"
      ],
      "metadata": {
        "id": "kr_1aXCw-XbY",
        "colab": {
          "base_uri": "https://localhost:8080/"
        },
        "outputId": "e3869548-d61c-416b-f278-cdc079e1ff26"
      },
      "execution_count": null,
      "outputs": [
        {
          "output_type": "stream",
          "name": "stdout",
          "text": [
            "4\n",
            "2\n",
            "3\n",
            "1\n"
          ]
        }
      ]
    }
  ]
}