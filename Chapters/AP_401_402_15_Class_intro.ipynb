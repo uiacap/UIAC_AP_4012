{
  "nbformat": 4,
  "nbformat_minor": 0,
  "metadata": {
    "colab": {
      "provenance": [],
      "authorship_tag": "ABX9TyP8APHM1ZYDaDbrcagjdpBV",
      "include_colab_link": true
    },
    "kernelspec": {
      "name": "python3",
      "display_name": "Python 3"
    },
    "language_info": {
      "name": "python"
    }
  },
  "cells": [
    {
      "cell_type": "markdown",
      "metadata": {
        "id": "view-in-github",
        "colab_type": "text"
      },
      "source": [
        "<a href=\"https://colab.research.google.com/github/uiacap/UIAC_AP_4012/blob/main/Chapters/AP_401_402_15_Class_intro.ipynb\" target=\"_parent\"><img src=\"https://colab.research.google.com/assets/colab-badge.svg\" alt=\"Open In Colab\"/></a>"
      ]
    },
    {
      "cell_type": "markdown",
      "source": [
        "<div dir=rtl>\n",
        "مفهوم کلاس:\n",
        "</br>\n",
        "مقایسه با الگو دوخت لباس\n",
        "</br>\n",
        "اصول شی گرایی\n",
        "</br>\n",
        "abstraction: تمام داده ها به غیر از داده های مورد نیاز از دید کاربر مخفی می شود.\n",
        "این کار باعث کاهش پیچیدگی می شود.\n",
        "</br>\n",
        "encapsulation:\n",
        "داده ها و متدهایی که برای تغییر آنها نیاز است در یک واحد مجزا قرار دهیم\n",
        "</br>\n",
        "inheritance:\n",
        "یک کلاس ویژگی ها و متدهای یک کلاس دیگر را به ارث می برد.\n",
        "</br>\n",
        "polymorphism (چند ریختی)\n",
        "</dir>"
      ],
      "metadata": {
        "id": "XV8oizIQ5ZJZ"
      }
    },
    {
      "cell_type": "markdown",
      "source": [
        "<div dir=rtl>\n",
        "برای تعریف کلاس ازکلمه کلیدی class استفاده می کنیم.\n",
        "</div>"
      ],
      "metadata": {
        "id": "Sb5UDyNF55gk"
      }
    },
    {
      "cell_type": "code",
      "source": [
        "class User:\n",
        "  pass\n",
        "\n",
        "user = User()"
      ],
      "metadata": {
        "id": "AX0uEOH85rXc"
      },
      "execution_count": null,
      "outputs": []
    },
    {
      "cell_type": "markdown",
      "source": [
        "<div dir=rtl>\n",
        "تعریف متغیر برای شئ (property)\n",
        "</br>\n",
        "در پایتون برای تعریف متغیر برای اشیاء لزومی ندارد که این متغیر در کلاس تعریف شود و هر زمان که لازم شود می‌توان بعد از نام شئ و نقطه، یک متغیر بنویسیم و مقدار آن را تعیین کنیم. سپس آن متغیر به ویژگی‌های آن شئ اضافه می‌شود. یعنی دو شئ متفاوت از یک کلاس می‌توانند متغیرهای مختلفی داشته باشند.\n",
        "</br>\n",
        "هر زمان که بعد از نام یک شی یک نقطه قرار داده و بعد نام یک متغیر را قرار دهیم.\n",
        "آن متغیر به متغیرهای آن شی اضافه خواهد شد.\n",
        "</br>\n",
        "در کد زیر یک کلاس به نام User تعریف کرده ایم.\n",
        "</br>\n",
        "و سپس دو شی u1 و u2 را از نوع این کلاس تعریف کرده ایم.\n",
        "</br>\n",
        "برای متغیر u1 دو ویژگی username و password و برای متغیر u2 ویژگی username را اضافه کرده ایم.\n",
        "</div>"
      ],
      "metadata": {
        "id": "NCvUi5x-5D7A"
      }
    },
    {
      "cell_type": "code",
      "source": [
        "class User :\n",
        "  pass\n",
        "\n",
        "u1 = User()\n",
        "u2 = User()\n",
        "u1.name = \"Fa\"\n",
        "u1.password = \"1234\"\n",
        "\n",
        "print(u1.name)\n",
        "\n",
        "u2.name = \"Ma\"\n",
        "\n",
        "print(u1.name)\n",
        "print(u1.password)\n",
        "print(u2.name)\n",
        "print(u2.password)"
      ],
      "metadata": {
        "id": "qjdogsMD6wBa",
        "colab": {
          "base_uri": "https://localhost:8080/",
          "height": 270
        },
        "outputId": "63d3e249-47e2-4828-b202-17c42edf8108"
      },
      "execution_count": null,
      "outputs": [
        {
          "output_type": "stream",
          "name": "stdout",
          "text": [
            "Fa\n",
            "Fa\n",
            "1234\n",
            "Ma\n"
          ]
        },
        {
          "output_type": "error",
          "ename": "AttributeError",
          "evalue": "ignored",
          "traceback": [
            "\u001b[0;31m---------------------------------------------------------------------------\u001b[0m",
            "\u001b[0;31mAttributeError\u001b[0m                            Traceback (most recent call last)",
            "\u001b[0;32m<ipython-input-32-bdae8cc28088>\u001b[0m in \u001b[0;36m<cell line: 16>\u001b[0;34m()\u001b[0m\n\u001b[1;32m     14\u001b[0m \u001b[0mprint\u001b[0m\u001b[0;34m(\u001b[0m\u001b[0mu1\u001b[0m\u001b[0;34m.\u001b[0m\u001b[0mpassword\u001b[0m\u001b[0;34m)\u001b[0m\u001b[0;34m\u001b[0m\u001b[0;34m\u001b[0m\u001b[0m\n\u001b[1;32m     15\u001b[0m \u001b[0mprint\u001b[0m\u001b[0;34m(\u001b[0m\u001b[0mu2\u001b[0m\u001b[0;34m.\u001b[0m\u001b[0mname\u001b[0m\u001b[0;34m)\u001b[0m\u001b[0;34m\u001b[0m\u001b[0;34m\u001b[0m\u001b[0m\n\u001b[0;32m---> 16\u001b[0;31m \u001b[0mprint\u001b[0m\u001b[0;34m(\u001b[0m\u001b[0mu2\u001b[0m\u001b[0;34m.\u001b[0m\u001b[0mpassword\u001b[0m\u001b[0;34m)\u001b[0m\u001b[0;34m\u001b[0m\u001b[0;34m\u001b[0m\u001b[0m\n\u001b[0m",
            "\u001b[0;31mAttributeError\u001b[0m: 'User' object has no attribute 'password'"
          ]
        }
      ]
    },
    {
      "cell_type": "markdown",
      "source": [
        "<div dir=rtl>\n",
        "تعریف تابع برای شئ (method)\n",
        "</br>\n",
        "برای هر کلاس می توان تابع که به آن method می گویند تعریف کرد.\n",
        "</br>\n",
        "به وسیله متدها عملی روی ویژگی های کلاس انجام می شود. \n",
        "</br>\n",
        "برای تعریف متد، باید یک تابع درون کلاس تعریف کرد. \n",
        "</br>\n",
        "اولین ورودی این تابع باید self باشد.\n",
        "</br>\n",
        "self نام یک متغیر پیش فرض است که هنگامی که متد روی یک شی فراخوانی می شود، مقدار متغیر self برابر با آن شی قرار می گیرد.\n",
        "و بدین شکل هر متد می تواند ویژگی های شی ای را که روی آن فراخوانی شده است را تغییر دهد.\n",
        "</br>\n",
        "فرض کنید که در مثال بالا میخواهیم یک تابع برای کلاس User بنویسیم که بررسی کند که آیا password وارد شده قوی هست یا خیر؟\n",
        "</br>\n",
        "یک تابع بنویسیم که مقدار password را در صورتیکه قوی است، ست کند\n",
        "</div>\n"
      ],
      "metadata": {
        "id": "HjVe9GEg7ppo"
      }
    },
    {
      "cell_type": "code",
      "source": [
        "# password shoud have upper charachters, lower characters, digits and other carachters\n",
        "# check_strength\n",
        "    \n",
        "class User() :\n",
        "\n",
        "  def set_name(self,name) :\n",
        "    self.name = name\n",
        "\n",
        "\n",
        "user = User()\n",
        "user.set_name(\"abcd\")\n",
        "print(user.name)\n",
        "\n",
        "user2 = User()\n",
        "print(user2.name)\n",
        "\n"
      ],
      "metadata": {
        "id": "7_YL4TwJ9bzF"
      },
      "execution_count": null,
      "outputs": []
    },
    {
      "cell_type": "markdown",
      "source": [
        "<div dir=rtl>\n",
        "تابع سازنده (constructor)\n",
        "</br>\n",
        "در صورتیکه بخواهیم هنگام ساخته شدن اشیا یک کلاس، ویژگی هایی به آنها اختصاص داده شود باید این ویژگی ها را در متد __init__ مقداردهی کنیم.\n",
        "</br>\n",
        "این متد در هنگام ساخته شدن شی از یک کلاس صدا زده می شود.\n",
        "به عنوان ورودی می توانیم ویژگی های مورد نظر را به این متد بدهیم.\n",
        "</br>\n",
        "مثال: فرض کنید میخواهیم برای کلاس user دو ویژگی نام و password را ست کنیم\n",
        "</br>\n",
        "به طوریکه password مقدار پیش فرض 1234 را بگیرد. \n",
        "</div>"
      ],
      "metadata": {
        "id": "jmGdr14R7GqP"
      }
    },
    {
      "cell_type": "code",
      "source": [
        "class User :\n",
        "\n",
        "  def __init__(self,name,password) :\n",
        "    self.name = name\n",
        "    self.password = password\n",
        "\n",
        "  def get_name(self) :\n",
        "    return self.name\n",
        "\n",
        "user = User(\"ali\",\"ABCD\")\n",
        "user2 = User(\"Ali2\",\"abcde\")\n",
        "\n",
        "print(user.name)\n",
        "print(user2.name)\n",
        "print(user.get_name())"
      ],
      "metadata": {
        "id": "zIohV0__7_ph",
        "colab": {
          "base_uri": "https://localhost:8080/"
        },
        "outputId": "b51438a9-171f-4728-ac7a-758c5c6f908b"
      },
      "execution_count": null,
      "outputs": [
        {
          "output_type": "stream",
          "name": "stdout",
          "text": [
            "ali\n",
            "Ali2\n",
            "ali\n"
          ]
        }
      ]
    },
    {
      "cell_type": "markdown",
      "source": [
        "<div dir=rtl>\n",
        "متغیر ایستا\n",
        "</br>\n",
        "متغیر ایستا یا static متغیری است که مربوط به خود کلاس است و این متغیر برای تمام اشیا یکسان خواهد بود.\n",
        "</br>\n",
        "از هر شی می توان به متغیر static دسترسی داشت ولی نمی توان مقدار آنرا تغییر داد\n",
        "</br>\n",
        "در صورتیکه که یک ویژگی به کلاس اضافه کنیم آن ویژگی به صورت static در نظر گرفته خواهد شد.\n",
        "</br>\n",
        "فرض کنید میخواهیم تعداد اشیا user ساخته شده را نگهداری کنیم\n",
        "</div>"
      ],
      "metadata": {
        "id": "6aoVZxgp_rY1"
      }
    },
    {
      "cell_type": "code",
      "source": [
        "class User:\n",
        "  x = 10\n",
        "\n",
        "\n",
        "print(User.x)\n",
        "user = User()\n",
        "print(user.x)\n",
        "user.x = 20\n",
        "print(User.x)\n",
        "print(user.x)\n",
        "user2 = User()\n",
        "print(user2.x)\n",
        "User.x = 30\n",
        "print(user2.x)\n",
        "print(user.x)\n",
        "del user.x\n",
        "print(user.x)"
      ],
      "metadata": {
        "colab": {
          "base_uri": "https://localhost:8080/"
        },
        "id": "yKB_4hPF_xtT",
        "outputId": "f130dc04-402e-4e07-e1e1-624fff8c2d1f"
      },
      "execution_count": null,
      "outputs": [
        {
          "output_type": "stream",
          "name": "stdout",
          "text": [
            "10\n",
            "10\n",
            "10\n",
            "20\n",
            "10\n",
            "30\n",
            "20\n",
            "30\n"
          ]
        }
      ]
    },
    {
      "cell_type": "markdown",
      "source": [
        "<div dir=rtl>\n",
        "تابع ایستا\n",
        "</br>\n",
        "تابع static تابعی است که برای کلاس تعریف می شود.\n",
        "</br>\n",
        "به این توابع بدون ساختن شی هم می توان دسترسی داشت.\n",
        "</br>\n",
        "برای تعریف چنین توابعی قبل از تعریف توابع @staticmethod قرار می دهیم.\n",
        "</br>\n",
        "متغیری برای کلاس User تعریف کنید که max کلاس های User تعریف شده را نگهداری کند و متدی برای set کردن آن تعریف کنید.\n",
        "</br>\n",
        "آیا متد check_strength را می توانیم به صورت استاتیک تعریف کینم؟\n",
        "</div>"
      ],
      "metadata": {
        "id": "xbmhlGbFA8aA"
      }
    },
    {
      "cell_type": "code",
      "source": [
        "class User :\n",
        "  create_user = 0\n",
        "  def __init__(self, password) :\n",
        "    User.create_user += 1\n",
        "    self.password = password\n",
        "\n",
        "  def check_strength(self) :\n",
        "    pass\n",
        "\n",
        "  @staticmethod\n",
        "  def check_strength(password) :\n",
        "    pass\n",
        "\n",
        "user = User()\n",
        "print(user.create_user)\n",
        "\n",
        "user2 = User()\n",
        "print(user2.create_user)\n",
        "\n",
        "print(User.create_user)\n",
        "\n",
        "password = \"abcd\"\n",
        "User.check_strength(password)\n",
        "\n"
      ],
      "metadata": {
        "colab": {
          "base_uri": "https://localhost:8080/"
        },
        "id": "G5G-F_vWEX1I",
        "outputId": "a12ed81f-ab3e-4f70-a5eb-e027956da771"
      },
      "execution_count": null,
      "outputs": [
        {
          "output_type": "stream",
          "name": "stdout",
          "text": [
            "1\n",
            "2\n",
            "2\n"
          ]
        }
      ]
    },
    {
      "cell_type": "markdown",
      "source": [
        "<div dir=rtl>\n",
        "مثال:\n",
        "</br>\n",
        "میخواهیم برای یک کتاب فروشی برنامه بنویسیم.\n",
        "در این برنامه دو شی تعریف می کنیم\n",
        "</br>\n",
        "book و bookstore\n",
        "</br>\n",
        "کلاس book ویژگی های name, amount, price دارد.\n",
        "و در هنگام ساخته شدن باید این مقادیر برای کتاب set شوند.\n",
        "</br>\n",
        "کلاس bookstore\n",
        "مربوط به فروشگاه کتاب است .\n",
        "</br>\n",
        "فروشگاه دارای ویژگی های نام و لیستی از کتاب ها(books) و لیست از کارکنان (employees) می باشد\n",
        "</br>\n",
        "متد add_book:\n",
        "</br>\n",
        "این متد به عنوان ورودی یک شی از نوع کتاب گرفته و آنرا به لیست کتاب های موجود اضافه می کند.\n",
        "</br>\n",
        "متد add_employee\n",
        "</br>\n",
        "این تابع نام، نام خانوادگی و سن کارمند را گرفته و در قالب یک دیکشنری به لیست کارمندان اضافه می کند.\n",
        "</br>\n",
        "متد total_value\n",
        "</br>\n",
        "مجموع قیمت تمام کتاب های کتاب فروشی را برمی گرداند.\n",
        "مجموع قیمت حاصل جمع amout*price است\n",
        "</br>\n",
        "متد employee_summary\n",
        "</br>\n",
        "خلاصه ای از اطلاعات کارمندان کتاب فروشی را چاپ می کند.\n",
        "</br>\n",
        "ٍEmployees :\n",
        "</br>\n",
        "The employee number {i} is {firstname} {lastname} who is {age} years old.\n",
        "</div>"
      ],
      "metadata": {
        "id": "hwR-WXI8GZIj"
      }
    },
    {
      "cell_type": "code",
      "source": [
        "class Book :\n",
        "  def __init__(self, name, amount, price):\n",
        "    self.name = name\n",
        "    self.amount = amount\n",
        "    self.price = price\n",
        "\n",
        "class BookStore :\n",
        "  def __init__(self,name):\n",
        "    self.name = name\n",
        "    self.books = []\n",
        "    self.employees = []\n",
        "\n",
        "  def add_book(self, book):\n",
        "    self.books.append(book)\n",
        "\n",
        "  def add_employee(self, name, fname, age):\n",
        "    self.employees.append({'name':name, 'fname':fname, 'age':age})\n",
        "\n",
        "  def total_price(self):\n",
        "    totalp = 0\n",
        "    for b in self.books :\n",
        "      totalp += b.price * b.amount\n",
        "    return totalp\n",
        "  \n",
        "  def employee_summary (self) :\n",
        "    print('Employees')\n",
        "    for e in self.employees :\n",
        "      print(f\"The employee number {self.employees.index(e)+1} is {e['name']} {e['fname']} who is {e['age']} years old\")\n",
        "\n",
        "book1 = Book(\"A1\", 2, 200)\n",
        "book2 = Book(\"A2\", 2, 300)\n",
        "\n",
        "book_store = BookStore(\"abcd\")\n",
        "book_store.add_book(book1)\n",
        "book_store.add_book(book2)\n",
        "\n",
        "book_store.add_employee(\"ali1\", \"alavi1\", 20)\n",
        "book_store.add_employee(\"ali2\", \"alavi2\", 20)\n",
        "\n",
        "\n",
        "print(book_store.total_price())\n",
        "book_store.employee_summary()\n"
      ],
      "metadata": {
        "colab": {
          "base_uri": "https://localhost:8080/"
        },
        "id": "Gh1JIkvldx-O",
        "outputId": "bd791c7a-4938-4783-e512-2335e10136fd"
      },
      "execution_count": null,
      "outputs": [
        {
          "output_type": "stream",
          "name": "stdout",
          "text": [
            "1000\n",
            "Employees\n",
            "The employee number 1 is ali1 alavi1 who is 20 years old\n",
            "The employee number 2 is ali2 alavi2 who is 20 years old\n"
          ]
        }
      ]
    },
    {
      "cell_type": "markdown",
      "source": [
        "<div dir=rtl>\n",
        "در بیشتر زبان های برنامه نویسی مانند C++ یا JAVA شما امکان این را دارید که متغیر های خصوصی برای کلاس تان تعریف کنی.\n",
        "</br>\n",
        "متغیر خصوصی بدین معنی است که از خارج از کلاس نمی توان به آن دسترسی داشت و \n",
        "در صورتیکه شی ای از کلاس تعریف شده باشد و بخواهد مقدار این متغیر را تغییر دهد، باید از متدهای getter و setter استفاده کند.\n",
        "</br>\n",
        "در پایتون چیزی به نام private نداریم و تمام ویژگی ها به صورت public تعریف شده اند.\n",
        "</br>\n",
        "در صورتیکه بخواهیم وِیژگی ای را به عنوان private تعریف کنیم، می توانیم قبل از __ قرار دهیم.\n",
        "</br>\n",
        "که البته در این حالت هم به طور کامل private نمی شود، و باز هم امکان دسترسی به آن از خارج از کلاس وجود دارد. اینگونه تعریف کردن متغیر به کاربر کلاس این را می گوید که این متغیر یک متغیر داخلی است و تغییر آن ممکن است در عملکرد شی اختلال ایجاد کند.\n",
        "</div>"
      ],
      "metadata": {
        "id": "ZM5tSL3h1d2_"
      }
    },
    {
      "cell_type": "code",
      "source": [
        "class User : \n",
        "  def __init__(self,name) :\n",
        "    self.__name = name\n",
        "    self.y = 20\n",
        "  \n",
        "  def set_name(self,name) :\n",
        "    if name != \"\" :\n",
        "      self.__name = name\n",
        "\n",
        "  def get_name(self):\n",
        "    return self.__name\n",
        "\n",
        "user = User(\"abcd\")\n",
        "user.__name = \"\"\n",
        "user.set_name(\"abc\")\n",
        "print(user.get_name())\n",
        "#print(user.__y)\n",
        "#print(user.get_y())\n",
        "#print(user._User__name)"
      ],
      "metadata": {
        "id": "y9ycENr42knG",
        "colab": {
          "base_uri": "https://localhost:8080/"
        },
        "outputId": "8d170a9a-6442-4c03-90e0-43c9f60394bc"
      },
      "execution_count": null,
      "outputs": [
        {
          "output_type": "stream",
          "name": "stdout",
          "text": [
            "abc\n"
          ]
        }
      ]
    },
    {
      "cell_type": "markdown",
      "source": [
        "<div dir=rtl>\n",
        "setter & getter\n",
        "</br>\n",
        "یکی از دلایل تعریف کردن ویژگی ها به صورت private این است که در\n",
        "برخی مواقع میخواهیم وقتی مقدار یک ویژگی ست می شود، قبل از ست شدن درستی مقدار آن چک شود.\n",
        "</br>\n",
        "مثلا در مثال کتاب فروشی، نمیخواهیم اجازه دهیم، قیمت کمتر از 0 به عنوان قیمت کتاب set شود.\n",
        "</br>\n",
        "\n",
        "</div>"
      ],
      "metadata": {
        "id": "z5YHlEFj9-8W"
      }
    },
    {
      "cell_type": "code",
      "source": [
        "class User :\n",
        "  def __init__(self,x):\n",
        "    self.__x = x\n",
        "\n",
        "  def get_x(self) :\n",
        "    return self.__x\n",
        "\n",
        "  def set_x(self,x) :\n",
        "    self.__x=x\n",
        "\n",
        "user = User(10)\n",
        "print(user._User__x)"
      ],
      "metadata": {
        "colab": {
          "base_uri": "https://localhost:8080/"
        },
        "id": "PFMLoXo_zzms",
        "outputId": "22a0403c-7f98-4680-c7d0-876b632a12db"
      },
      "execution_count": null,
      "outputs": [
        {
          "output_type": "stream",
          "name": "stdout",
          "text": [
            "10\n"
          ]
        }
      ]
    },
    {
      "cell_type": "markdown",
      "source": [
        "<div dir=rtl>\n",
        "در حالت بالا، در صورتیکه بخواهیم مقدار x را یکی اضافه کنیم، باید بصورت زیر بنویسیم:\n",
        "</br>\n",
        "</div>"
      ],
      "metadata": {
        "id": "L-gGB8Ot5rLu"
      }
    },
    {
      "cell_type": "code",
      "source": [
        "class User :\n",
        "  def __init__(self,x):\n",
        "    self.__x = x\n",
        "\n",
        "  def get_x(self) :\n",
        "    return self.__x\n",
        "\n",
        "  def set_x(self,x) :\n",
        "    self.__x=x\n",
        "\n",
        "user = User(10)\n",
        "user.set_x(user.get_x()+1)\n",
        "user.x += 1"
      ],
      "metadata": {
        "id": "pxAtdVacEiJu"
      },
      "execution_count": null,
      "outputs": []
    },
    {
      "cell_type": "code",
      "source": [
        "class User :\n",
        "  def __init__(self,x):\n",
        "    self.__x = x\n",
        "\n",
        "  def get_x(self) :\n",
        "    return self.__x\n",
        "\n",
        "  def set_x(self,x) :\n",
        "    self.__x=x\n",
        "\n",
        "user = User()\n",
        "user.set_x(user.get_x()+1)\n",
        "# user.x +=1 #this line is more readable\n"
      ],
      "metadata": {
        "id": "5iaGqJm558Fw"
      },
      "execution_count": null,
      "outputs": []
    },
    {
      "cell_type": "markdown",
      "source": [
        "<div dir=rtl>\n",
        "در مثال بالا نوشتن user.x+=1 بسایر خوانا تر است\n",
        "</br>\n",
        "ولی در صورتیکه بخواهیم قبل از اینکه مقدار x را ست کنیم، چکی انجام شود، دیگر نمی توان بدین صورت عمل کرد.\n",
        "</br>\n",
        "راه حلی که پایتون پیشنهاد می کند استفاده از propery است\n",
        "\n",
        "</div>"
      ],
      "metadata": {
        "id": "38zDgMxm62cU"
      }
    },
    {
      "cell_type": "code",
      "source": [
        "class User :\n",
        "  def __init__(self,x):\n",
        "    self.__x = x\n",
        "\n",
        "  def get_x(self) :\n",
        "    return self.__x\n",
        "\n",
        "  def set_x(self,x) :\n",
        "    if x > 0 :\n",
        "      self.__x=0\n",
        "    else :\n",
        "      self.__x = x"
      ],
      "metadata": {
        "id": "sbdNWugT7VuA"
      },
      "execution_count": null,
      "outputs": []
    },
    {
      "cell_type": "code",
      "source": [
        "class User :\n",
        "  def __init__(self,x):\n",
        "    self.x = x\n",
        "\n",
        "  @property\n",
        "  def x(self):\n",
        "    return self.__x\n",
        "\n",
        "  @x.setter\n",
        "  def x(self,x) :\n",
        "    if x < 0 :\n",
        "      self.__x=0\n",
        "    else :\n",
        "      self.__x = x\n",
        "\n",
        "user = User(-1)\n",
        "print(user.x)\n",
        "user.x = 2\n",
        "print(user.x)"
      ],
      "metadata": {
        "colab": {
          "base_uri": "https://localhost:8080/"
        },
        "id": "UM709t2Y7tFS",
        "outputId": "e4e372ea-fc93-4bc5-faa0-feae734fe4bb"
      },
      "execution_count": null,
      "outputs": [
        {
          "output_type": "stream",
          "name": "stdout",
          "text": [
            "0\n",
            "2\n"
          ]
        }
      ]
    },
    {
      "cell_type": "markdown",
      "source": [
        "<div dir=rtl>\n",
        "همیشه به ازای هر متغیری لازم نیست مانند بالا رفتار کنیم. برخی از متغیر ها فقط برای استفاده داخلی هستند و لازم نیست از بیرون کلاس به آنها دسترسی داشت\n",
        "</div>"
      ],
      "metadata": {
        "id": "D_rj6_2l9MKi"
      }
    },
    {
      "cell_type": "markdown",
      "source": [
        "<div dir=rtl>\n",
        "از property می توان برای ایجاد ویژگی های استنباطی نیز استفاده کرد\n",
        "</br>\n",
        "\n",
        "</div>"
      ],
      "metadata": {
        "id": "qNQ43wEz-8M7"
      }
    },
    {
      "cell_type": "code",
      "source": [
        "class Robot:\n",
        "\n",
        "    def __init__(self, name, build_year, lk = 0.5, lp = 0.5 ):\n",
        "        self.name = name\n",
        "        self.build_year = build_year\n",
        "        self.__potential_physical = lk\n",
        "        self.__potential_psychic = lp\n",
        "\n",
        "    @property\n",
        "    def condition(self):\n",
        "        s = self.__potential_physical + self.__potential_psychic\n",
        "        if s <= -1:\n",
        "           return \"I feel miserable!\"\n",
        "        elif s <= 0:\n",
        "           return \"I feel bad!\"\n",
        "        elif s <= 0.5:\n",
        "           return \"Could be worse!\"\n",
        "        elif s <= 1:\n",
        "           return \"Seems to be okay!\"\n",
        "        else:\n",
        "           return \"Great!\" \n",
        "\n",
        "Wall_E= Robot(\"Wall-E\", 1979, 0.2, 0.4 )\n",
        "Hal = Robot(\"Hal\", 1993, -0.4, 0.3)\n",
        "print(Wall_E.condition)\n",
        "print(Hal.condition)\n"
      ],
      "metadata": {
        "id": "gC7ieA8q_Gt1"
      },
      "execution_count": null,
      "outputs": []
    },
    {
      "cell_type": "markdown",
      "source": [
        "<div dir=rtl>\n",
        "کلاسی به نام temperature بنویسید.\n",
        "که دو ویژگی celsius و farenheit داشته باشد.\n",
        "</br>\n",
        "ویژگی celsius قابل set کردن است و \n",
        "ویژگی farenheit از روی celsius به دست می آید.\n",
        "</div>\n"
      ],
      "metadata": {
        "id": "yCBXSke3-U36"
      }
    },
    {
      "cell_type": "code",
      "source": [
        "class Temperature :\n",
        "  def __init__(self, celsius) :\n",
        "    self.celsius = celsius\n",
        "\n",
        "  @property\n",
        "  def celsius(self) :\n",
        "    return self.__celsius\n",
        "\n",
        "  @celsius.setter\n",
        "  def celsius(self,c) :\n",
        "    if c < -273 :\n",
        "      print(\"temperature should be more than -273\")\n",
        "      self.__celsius = -273\n",
        "    else :\n",
        "      self.__celsius = c\n",
        "\n",
        "  @property\n",
        "  def farenheit(self) :\n",
        "    return (self.__celsius * 1.8) + 32\n",
        "\n",
        "t = Temperature(-280)\n",
        "print(t.celsius)\n",
        "print(t.farenheit)\n",
        "t.celsius = 30\n",
        "print(t.celsius)\n",
        "print(t.farenheit)\n",
        "\n",
        "\n"
      ],
      "metadata": {
        "colab": {
          "base_uri": "https://localhost:8080/"
        },
        "id": "KaA6Av8PH1rO",
        "outputId": "d9c3e53b-eb4d-4c53-8dfa-091ddfe3e8dd"
      },
      "execution_count": null,
      "outputs": [
        {
          "output_type": "stream",
          "name": "stdout",
          "text": [
            "temperature should be more than -273\n",
            "-273\n"
          ]
        }
      ]
    }
  ]
}