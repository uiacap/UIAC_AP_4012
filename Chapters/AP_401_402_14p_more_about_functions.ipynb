{
  "nbformat": 4,
  "nbformat_minor": 0,
  "metadata": {
    "colab": {
      "provenance": [],
      "authorship_tag": "ABX9TyOU+tgOhNBH9gPAryxiigmn",
      "include_colab_link": true
    },
    "kernelspec": {
      "name": "python3",
      "display_name": "Python 3"
    },
    "language_info": {
      "name": "python"
    }
  },
  "cells": [
    {
      "cell_type": "markdown",
      "metadata": {
        "id": "view-in-github",
        "colab_type": "text"
      },
      "source": [
        "<a href=\"https://colab.research.google.com/github/uiacap/UIAC_AP_4012/blob/main/Chapters/AP_401_402_14p_more_about_functions.ipynb\" target=\"_parent\"><img src=\"https://colab.research.google.com/assets/colab-badge.svg\" alt=\"Open In Colab\"/></a>"
      ]
    },
    {
      "cell_type": "markdown",
      "source": [
        "\n",
        "<div dir=rtl>\n",
        "در پایتون می توان توابع با تعداد ورودی متغیر داشت.\n",
        "برای این کار در کنار ورودی  یک * قرار می دهیم. در این حالت تعداد ورودی  می تواند به هر تعداد دلخواه باشد.\n",
        "</div>"
      ],
      "metadata": {
        "id": "zpIGLTYtn0PC"
      }
    },
    {
      "cell_type": "code",
      "execution_count": null,
      "metadata": {
        "id": "J1QESlLZnrJG"
      },
      "outputs": [],
      "source": [
        "a = 10\n",
        "b = 20\n",
        "c = 30\n",
        "\n",
        "\n",
        "\n",
        "\n",
        "print(a)\n",
        "print(a,b)\n",
        "print(a,b,c)\n",
        "\n"
      ]
    },
    {
      "cell_type": "markdown",
      "source": [
        "<div dir = rtl>\n",
        "تابعی که هر تعداد ورودی داشته باشد آنها را در هم ضرب کرده و به عنوان خروجی بر می گرداند.\n",
        "</div>"
      ],
      "metadata": {
        "id": "SaQBEvm2nyyY"
      }
    },
    {
      "cell_type": "code",
      "source": [
        "\n",
        "def mult(*a) :\n",
        "  #print(type(a))\n",
        "  z = 1\n",
        "  for i in range(len(a)) :\n",
        "    z *= a[i]\n",
        "  return z\n",
        "\n",
        "print(mult(2,3,4,5))"
      ],
      "metadata": {
        "colab": {
          "base_uri": "https://localhost:8080/"
        },
        "id": "2XY8r8QSp23_",
        "outputId": "8739ab44-3273-4f40-897a-4b73eb0899ac"
      },
      "execution_count": null,
      "outputs": [
        {
          "output_type": "stream",
          "name": "stdout",
          "text": [
            "120\n"
          ]
        }
      ]
    },
    {
      "cell_type": "code",
      "source": [
        "def test(a,b) :\n",
        "  print(f\"a={a},b={b}\")\n",
        "\n",
        "def vtest(a,*b) :\n",
        "  print(f\"a={a},b={b}\")\n",
        "\n",
        "def v2test(*b,a) :\n",
        "  print(f\"a={a},b={b}\")\n",
        "\n",
        "v2test(1,2,3,a=4)"
      ],
      "metadata": {
        "colab": {
          "base_uri": "https://localhost:8080/"
        },
        "id": "psUIF_Zkq7lx",
        "outputId": "3d925203-6d54-4b16-9a64-1af79e825d59"
      },
      "execution_count": null,
      "outputs": [
        {
          "output_type": "stream",
          "name": "stdout",
          "text": [
            "a=4,b=(1, 2, 3)\n"
          ]
        }
      ]
    },
    {
      "cell_type": "markdown",
      "source": [
        "<div dir=rtl>\n",
        "استفاده از ** برای تعریف پارامترهای تابع\n",
        "</div>"
      ],
      "metadata": {
        "id": "BugK-HHfr2UU"
      }
    },
    {
      "cell_type": "code",
      "source": [
        "def kargs_func(**k) :\n",
        "  print(type(k))\n",
        "  print(k)\n",
        "\n",
        "kargs_func(a=10,b=30,c=20)\n",
        "\n"
      ],
      "metadata": {
        "colab": {
          "base_uri": "https://localhost:8080/"
        },
        "id": "K9Y3RWBarT0D",
        "outputId": "87d6290b-4797-4527-9b80-41506aa00891"
      },
      "execution_count": null,
      "outputs": [
        {
          "output_type": "stream",
          "name": "stdout",
          "text": [
            "<class 'dict'>\n",
            "{'a': 10, 'b': 30, 'c': 20}\n"
          ]
        }
      ]
    },
    {
      "cell_type": "markdown",
      "source": [
        "<div dir=rtl>\n",
        "ذخیره سازی متغیرهای در حافظه و لیست ها\n",
        "</div>"
      ],
      "metadata": {
        "id": "tb6Fl7bfsDCh"
      }
    },
    {
      "cell_type": "code",
      "source": [
        "a = 5\n",
        "print(id(a))\n",
        "b = 5\n",
        "print(id(b))\n",
        "\n",
        "print('list')\n",
        "c = [10,5]\n",
        "print(id(c[1]))\n"
      ],
      "metadata": {
        "colab": {
          "base_uri": "https://localhost:8080/"
        },
        "id": "MNKhwKNYsW8r",
        "outputId": "146f5792-81fe-4501-9d03-e433b8df6040"
      },
      "execution_count": null,
      "outputs": [
        {
          "output_type": "stream",
          "name": "stdout",
          "text": [
            "139637500412272\n",
            "139637500412272\n",
            "list\n",
            "139637500412272\n"
          ]
        }
      ]
    },
    {
      "cell_type": "markdown",
      "source": [
        "<div dir=rtl>\n",
        "کپی کردن لیست\n",
        "</div>"
      ],
      "metadata": {
        "id": "kv7ivghFtvEs"
      }
    },
    {
      "cell_type": "code",
      "source": [
        "l = [10,20,30]\n",
        "l1 = l.copy()\n",
        "print(l1)\n",
        "l1.append(40)\n",
        "print(l1)\n",
        "print(l)"
      ],
      "metadata": {
        "id": "3vzxx14dtjV1"
      },
      "execution_count": null,
      "outputs": []
    },
    {
      "cell_type": "markdown",
      "source": [
        "<div dir=rtl>\n",
        "استفاده از لیست ، شی از یک کلاس تعریف شده و مقادیر دارای نوع ساده در توابع\n",
        "</div>"
      ],
      "metadata": {
        "id": "joSI-fwsuU4F"
      }
    },
    {
      "cell_type": "code",
      "source": [
        "class A :\n",
        "  pass\n",
        "\n",
        "def list_change(l,a,b) :\n",
        "  l.append(10)\n",
        "  a.t = 10\n",
        "  b = 11\n",
        "\n",
        "\n",
        "\n",
        "l1 = [2,3,4]\n",
        "a = A()\n",
        "c = 10\n",
        "list_change(l1,a,c)\n",
        "print(l1)\n",
        "print(a.t)\n",
        "print(c)"
      ],
      "metadata": {
        "colab": {
          "base_uri": "https://localhost:8080/"
        },
        "id": "zheCoVJ9udIj",
        "outputId": "9e291921-9634-4fcc-e217-428aa0a5cc91"
      },
      "execution_count": null,
      "outputs": [
        {
          "output_type": "stream",
          "name": "stdout",
          "text": [
            "[2, 3, 4, 10]\n",
            "10\n",
            "10\n"
          ]
        }
      ]
    },
    {
      "cell_type": "markdown",
      "source": [
        "<div dir=rtl>\n",
        "متغیر های local , global\n",
        "</div>"
      ],
      "metadata": {
        "id": "_85Hof35xPN9"
      }
    },
    {
      "cell_type": "code",
      "source": [
        "def spam():\n",
        "  eggs = 31337\n",
        "spam()\n",
        "print(eggs)"
      ],
      "metadata": {
        "id": "tAm5EXYPxW2Z"
      },
      "execution_count": null,
      "outputs": []
    },
    {
      "cell_type": "code",
      "source": [
        "def func1():\n",
        "  eggs = 99\n",
        "  func2()\n",
        "  print(eggs)\n",
        "def func2():\n",
        "  ham = 101\n",
        "  print(ham)\n",
        "  print(eggs)\n",
        "  #eggs = 0\n",
        "\n",
        "eggs = 100\n",
        "func1()"
      ],
      "metadata": {
        "colab": {
          "base_uri": "https://localhost:8080/"
        },
        "id": "gMh-in7Wx4w0",
        "outputId": "c1055b49-8011-4f26-f1fe-0ebe52ce5020"
      },
      "execution_count": null,
      "outputs": [
        {
          "output_type": "stream",
          "name": "stdout",
          "text": [
            "101\n",
            "100\n",
            "99\n"
          ]
        }
      ]
    },
    {
      "cell_type": "code",
      "source": [
        "def func1():\n",
        "  print(eggs)\n",
        "eggs = 42\n",
        "func1()\n",
        "print(eggs)"
      ],
      "metadata": {
        "id": "5TF2zqdfyTCu"
      },
      "execution_count": null,
      "outputs": []
    },
    {
      "cell_type": "code",
      "source": [
        "def func1():\n",
        "  eggs = '1 local'\n",
        "  print(eggs) # prints func1 local'\n",
        "def func2():\n",
        "  eggs = '2 local'\n",
        "  print(eggs) # prints func2 local'\n",
        "  func1()\n",
        "  print(eggs) # prints 'func2 local'\n",
        "eggs = 'global'\n",
        "func2()\n",
        "print(eggs) # prints 'global'"
      ],
      "metadata": {
        "id": "Rx7K7o3ryYT4"
      },
      "execution_count": null,
      "outputs": []
    },
    {
      "cell_type": "code",
      "source": [
        "def func1():\n",
        "  global eggs\n",
        "  eggs = 'func1'\n",
        "\n",
        "eggs = 'global'\n",
        "func1()\n",
        "print(eggs)"
      ],
      "metadata": {
        "id": "fBL0gN4yyyfL"
      },
      "execution_count": null,
      "outputs": []
    },
    {
      "cell_type": "code",
      "source": [
        "def func1():\n",
        "  global eggs\n",
        "  eggs = 'func1'\n",
        "def func2():\n",
        "  eggs = 'bacon'\n",
        "def ham() :\n",
        "  print(eggs)\n",
        "eggs = 42\n",
        "func1()\n",
        "print(eggs)"
      ],
      "metadata": {
        "id": "MaJi5OiXzWDd"
      },
      "execution_count": null,
      "outputs": []
    },
    {
      "cell_type": "code",
      "source": [],
      "metadata": {
        "id": "E9O06ig4yMsG"
      },
      "execution_count": null,
      "outputs": []
    }
  ]
}