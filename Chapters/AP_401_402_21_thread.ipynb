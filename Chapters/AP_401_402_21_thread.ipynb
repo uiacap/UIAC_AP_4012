{
  "nbformat": 4,
  "nbformat_minor": 0,
  "metadata": {
    "colab": {
      "provenance": [],
      "authorship_tag": "ABX9TyOG4woMtCfn8EnTWf/gvSeB",
      "include_colab_link": true
    },
    "kernelspec": {
      "name": "python3",
      "display_name": "Python 3"
    },
    "language_info": {
      "name": "python"
    }
  },
  "cells": [
    {
      "cell_type": "markdown",
      "metadata": {
        "id": "view-in-github",
        "colab_type": "text"
      },
      "source": [
        "<a href=\"https://colab.research.google.com/github/uiacap/UIAC_AP_4012/blob/main/Chapters/AP_401_402_21_thread.ipynb\" target=\"_parent\"><img src=\"https://colab.research.google.com/assets/colab-badge.svg\" alt=\"Open In Colab\"/></a>"
      ]
    },
    {
      "cell_type": "markdown",
      "source": [
        "<div dir=rtl>\n",
        "آشنایی با Thread\n",
        "</br>\n",
        "Thread یک اجزای مجزا است.\n",
        "</br>\n",
        "برای انجام چند کار به صورت همزمان از thread استفاده می شود.\n",
        "</br>\n",
        "برای کار با thread در پایتون از ماژول threading استفاده می شود.\n",
        "</div>"
      ],
      "metadata": {
        "id": "BqYLeJTcHpwN"
      }
    },
    {
      "cell_type": "markdown",
      "source": [
        "<div dir=rtl>\n",
        "کلاس Thread:\n",
        "</br>\n",
        "این کلاس در ماژول threading تعریف شده است.\n",
        "</br>\n",
        "به عنوان ورودی به سازنده Thread باید یک شی صدا شونده (مثل یک تابع) داده شود. و thread در هنگام شروع به کار آن شی را فراخوانی کرده و پس از اتمام اجرای آن ، تمام می شود.\n",
        "</br>\n",
        "برای شروع به کار thread باید متد strat مربوط به آن صدا زده شود.\n",
        "</div>"
      ],
      "metadata": {
        "id": "GzpielnIIh5M"
      }
    },
    {
      "cell_type": "code",
      "execution_count": null,
      "metadata": {
        "colab": {
          "base_uri": "https://localhost:8080/"
        },
        "id": "X3uRQDoVGhQj",
        "outputId": "cc766f3a-140b-48c8-cfcd-cfa8af4a8c66"
      },
      "outputs": [
        {
          "output_type": "stream",
          "name": "stdout",
          "text": [
            "Enter thread functionmain\n",
            "\n",
            "thread is working\n"
          ]
        }
      ],
      "source": [
        "import threading\n",
        "import time\n",
        "def f():\n",
        "  print('Enter thread function')\n",
        "  time.sleep(10)\n",
        "  print('thread is working')\n",
        "\n",
        "t = threading.Thread(target=f)\n",
        "t.start()\n",
        "print('main')\n",
        "#t.join()"
      ]
    },
    {
      "cell_type": "markdown",
      "source": [
        "<div dir=rtl>\n",
        "در صورتیکه تابع ای که به عنوان ورودی به سازنده thread می دهیم خود دارای پارامترهای ورودی بود، این پارامترها را با استفاده از پارامتر args در سازنده thread مشخص می کنیم.\n",
        "</br>\n",
        "پارامتر args یک tuple می گیرد که ایتم های tuple را به عنوان ورودیهای تابع ای که به سازنده thread داده ایم در نظر می گیرد.\n",
        "</div>"
      ],
      "metadata": {
        "id": "S9ncOAT5MFcJ"
      }
    },
    {
      "cell_type": "code",
      "source": [
        "import threading\n",
        "def f(name):\n",
        "  print(f'thread with name={name} is working')\n",
        "\n",
        "for i in range(0, 3):\n",
        "  threading.Thread(target=f, args=(\"thread\"+str(i),)).start()\n"
      ],
      "metadata": {
        "colab": {
          "base_uri": "https://localhost:8080/"
        },
        "id": "hQ7Dq6ezMlkz",
        "outputId": "0803a350-a79f-4f62-cff0-b00fcbcdfd68"
      },
      "execution_count": null,
      "outputs": [
        {
          "output_type": "stream",
          "name": "stdout",
          "text": [
            "thread with name=thread0 is working\n",
            "thread with name=thread1 is working\n",
            "thread with name=thread2 is working\n"
          ]
        }
      ]
    },
    {
      "cell_type": "markdown",
      "source": [
        "<div dir=rtl>\n",
        "س : برنامه ای بنویسید که 4 thread بسازد. که هر thread به عنوان ورودی name و sleeptime داشته باشد. و در ابتدا به اندازه sleeptime صبر کرده و سپس نام اش را چاپ کند.\n",
        "</div>"
      ],
      "metadata": {
        "id": "oMyJV52uNvqS"
      }
    },
    {
      "cell_type": "code",
      "source": [
        "import time, random\n",
        "from threading import Thread\n",
        "\n",
        "\n",
        "def f(name, sleeptime) :\n",
        "  time.sleep(sleeptime)\n",
        "  print(f\"thread{name} is finished!\")\n",
        "\n",
        "for i in range(4) :\n",
        "  Thread(target=f, args=(f\"thread{i+1}\", random.randint(1,10))).start()\n",
        "\n"
      ],
      "metadata": {
        "id": "0ZbIjTnfNCJh"
      },
      "execution_count": null,
      "outputs": []
    },
    {
      "cell_type": "markdown",
      "source": [
        "<div dir=rtl>\n",
        "thread daemon\n",
        "</br>\n",
        "در مثال های بالا tread اصلی یعنی همان main، منتظر بقیه threadهای می ماند تا پایان یابند و سپس تمام برنامه تمام می شود.\n",
        "</br>\n",
        "در صورتیکه thread به صورت daemon باشد، به ترد اصلی بدون اینکه منتظر پایان یافتن آن باشد، تمام می شود و پس از آن ترد daemon خود به خود تمام می شود.\n",
        "</br>\n",
        " در هنگام ساختن یک شی از نوع Thread پارامتر daemon آنرا برابر True قرار داد.\n",
        "</br>\n",
        "یا اینکه ویژگی daemon را پس از ساخته شدن شی، مقداردهی کرد\n",
        "</div"
      ],
      "metadata": {
        "id": "hVd53gEpOG2q"
      }
    },
    {
      "cell_type": "code",
      "source": [
        "import time\n",
        "from threading import Thread\n",
        "\n",
        "def f():\n",
        "    print('(' + threading.current_thread().name + ') started')\n",
        "    time.sleep(1)\n",
        "    print('(' + threading.current_thread().name + ') finished')\n",
        "\n",
        "\n",
        "t = Thread(name = 'non-daemon thread', target=f)\n",
        "t.daemon = True\n",
        "\n",
        "t.start()\n",
        "print(\"Thread main\")"
      ],
      "metadata": {
        "colab": {
          "base_uri": "https://localhost:8080/"
        },
        "id": "NvM91N2iQ2Wx",
        "outputId": "29095d3d-084b-4eee-97ef-b42d64e3fc3b"
      },
      "execution_count": null,
      "outputs": [
        {
          "output_type": "stream",
          "name": "stdout",
          "text": [
            "(non-daemon thread) started\n",
            "Thread main\n"
          ]
        }
      ]
    },
    {
      "cell_type": "markdown",
      "source": [
        "<div dir=rtl>\n",
        "تابع join\n",
        "</br>\n",
        "در صورتیکه این تابع را برای یک شی ترد صدا بزنیم، ترد کنونی را مجبور می کند که منتظر تردی که تابع join را برای آن صدا زده ایم بماند تا آن تمام شود.\n",
        "</br>\n",
        "به عنوان ورودی می توانیم یک مقدار به تابع join بدهیم که مشخص می کند چند ثانیه منتظر ترد بمانیم و سپس ادامه دهیم\n",
        "</div>"
      ],
      "metadata": {
        "id": "WXNNbxBSSxqH"
      }
    },
    {
      "cell_type": "code",
      "source": [
        "import threading, time\n",
        "from threading import Thread\n",
        "\n",
        "def f():\n",
        "    print('(' + threading.current_thread().name + ') started')\n",
        "    time.sleep(2)\n",
        "    print('(' + threading.current_thread().name + ') finished')\n",
        "\n",
        "\n",
        "t = Thread(name = 'thread1', target=f)\n",
        "t.start()\n",
        "t.join()\n",
        "print('After '+t.name)\n",
        "print(t.is_alive())\n",
        "print(\"---------------------\")\n",
        "\n",
        "t = Thread(name = 'thread2', target=f)\n",
        "t.start()\n",
        "t.join(10)\n",
        "print('After '+t.name)\n",
        "print(t.is_alive())\n",
        "print(\"---------------------\")\n",
        "\n",
        "t = Thread(name='thread 3',target=f)\n",
        "t.start()\n",
        "print('after '+t.name)\n",
        "print(t.is_alive())\n",
        "print(\"---------------------\")"
      ],
      "metadata": {
        "id": "7IHRVDXiTKlO",
        "colab": {
          "base_uri": "https://localhost:8080/"
        },
        "outputId": "952a9904-8671-4233-e9a7-2f0f6711d05c"
      },
      "execution_count": null,
      "outputs": [
        {
          "output_type": "stream",
          "name": "stdout",
          "text": [
            "(thread1) started\n",
            "(thread1) finished\n",
            "After thread1\n",
            "False\n",
            "---------------------\n",
            "(thread2) started\n",
            "After thread2\n",
            "True\n",
            "---------------------\n",
            "(thread 3) started\n",
            "after thread 3\n",
            "True\n",
            "---------------------\n"
          ]
        }
      ]
    },
    {
      "cell_type": "markdown",
      "source": [],
      "metadata": {
        "id": "uH1QYHGjUtQo"
      }
    }
  ]
}