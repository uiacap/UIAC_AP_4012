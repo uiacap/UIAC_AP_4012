{
  "nbformat": 4,
  "nbformat_minor": 0,
  "metadata": {
    "colab": {
      "provenance": [],
      "authorship_tag": "ABX9TyONn0XlI9+Zk03Us6gneYl4",
      "include_colab_link": true
    },
    "kernelspec": {
      "name": "python3",
      "display_name": "Python 3"
    },
    "language_info": {
      "name": "python"
    }
  },
  "cells": [
    {
      "cell_type": "markdown",
      "metadata": {
        "id": "view-in-github",
        "colab_type": "text"
      },
      "source": [
        "<a href=\"https://colab.research.google.com/github/uiacap/UIAC_AP_4012/blob/main/Chapters/AP_401_402_17_operator_overloading.ipynb\" target=\"_parent\"><img src=\"https://colab.research.google.com/assets/colab-badge.svg\" alt=\"Open In Colab\"/></a>"
      ]
    },
    {
      "cell_type": "code",
      "execution_count": null,
      "metadata": {
        "id": "8pXf6dFVgLE7"
      },
      "outputs": [],
      "source": []
    },
    {
      "cell_type": "markdown",
      "source": [
        "<div dir =rtl>\n",
        "<span style=\"font-size:16px; font-family:xb zar\">\n",
        "     <strong>\n",
        "متدهای جادویی (magic methods) یا dunder methods\n",
        "</strong>\n",
        "متدهایی که در ابتدا و انتهای نام آنها __  قرار دارد.\n",
        "</br>\n",
        "هر کدام از این متدهای به طور پیش فرض عملی را انجام می دهند که با override کردن آنها می توان عمل جدیدی برای کلاس تعریف کرد.\n",
        "</br>\n",
        "در ادامه برخی از این متدها را تعریف می کنیم.\n",
        "</span>\n",
        "</div>\n"
      ],
      "metadata": {
        "id": "a5P1ZjvYgczD"
      }
    },
    {
      "cell_type": "markdown",
      "source": [
        "<div dir =rtl>\n",
        "<span style=\"font-size:16px; font-family:xb zar\">\n",
        "برخی اوقات می خواهیم به اشیایی از یک نوع کلاس، توانایی این را بدهیم که بتوان عملگرهایی مانند + , - را بین آنها به کار برد و اشیا با هم دیگر جمع یا مثلا تفریق شوند.\n",
        "برای این کار باید از متدهای جادویی مربوطه را override کنیم.\n",
        "\n",
        "</span>\n",
        "</div>"
      ],
      "metadata": {
        "id": "L9huQtu4is5-"
      }
    },
    {
      "cell_type": "markdown",
      "source": [
        "<div dir =rtl>\n",
        "<span style=\"font-size:16px; font-family:xb zar\">\n",
        "مثال:\n",
        "کلاسی برای تعریف مختصات یک نقطه بنویسید.\n",
        "</br>\n",
        "ویژگی های هر شی از این کلاس مقدار مختصات x و y می باشد.\n",
        "</br>\n",
        "نقطه ها درون یک نقشه تعریف می شوند بنابراین نقطه ابتدایی آنها،(0,0) و نقطه انتهایی به صورت استاتیک در کلاس ست می شود.\n",
        "</span>\n",
        "</div>"
      ],
      "metadata": {
        "id": "2kq5QugsjMKs"
      }
    },
    {
      "cell_type": "code",
      "source": [
        "import math\n",
        "class Point :\n",
        "  xe = 100\n",
        "  ye = 100\n",
        "  def __init__(self,xp,yp) :\n",
        "    self.x = xp\n",
        "    self.y = yp\n",
        "    \n",
        "  @property\n",
        "  def x(self) :\n",
        "    return self.__x\n",
        "  @x.setter\n",
        "  def x(self,xp):\n",
        "    if xp < Point.xe :\n",
        "      self.__x = xp\n",
        "    else :\n",
        "      raise Exception(\"x is not in range\")\n",
        "  @property\n",
        "  def y(self) :\n",
        "    return self.__y\n",
        "  @y.setter\n",
        "  def y(self,yp):\n",
        "    if yp < Point.ye :\n",
        "      self.__y = yp\n",
        "    else :\n",
        "      raise Exception(\"y is not in range\")\n",
        "\n",
        "  def __str__(self) :\n",
        "    return f'({self.x},{self.y})'\n",
        "\n",
        "  def __add__(self,other) :\n",
        "    if isinstance(other,int) :\n",
        "      return Point(self.x+other, self.y+other)\n",
        "    elif isinstance(other,Point) :\n",
        "      return Point(self.x+other.x, self.y+other.y)\n",
        "    else:\n",
        "      raise Exception(\"not supported\")\n",
        "\n",
        "  def __gt__(self,other) :\n",
        "    return math.sqrt(self.x**2+self.y**2) < math.sqrt(other.x**2+other.y**2)\n",
        "    \n",
        "\n",
        "\n",
        "p1 = Point(1,3) \n",
        "print(p1.x)\n",
        "#p1.x = 200\n",
        "\n",
        "print(p1)\n",
        "\n",
        "p1 = Point(1,3) \n",
        "p2 = Point(4,5) \n",
        "p3 = p1 + p2 + p1\n",
        "p3 = p1 + 2\n",
        "print(p3)\n",
        "if p1  >  p2 :\n",
        "  print(\"p2 is greater\")  \n",
        "\n",
        "\n",
        "\n"
      ],
      "metadata": {
        "colab": {
          "base_uri": "https://localhost:8080/"
        },
        "id": "fHgjWw0TjLc0",
        "outputId": "09f21066-98fa-4232-ab9b-e56369a93cf5"
      },
      "execution_count": 52,
      "outputs": [
        {
          "output_type": "stream",
          "name": "stdout",
          "text": [
            "1\n",
            "(1,3)\n",
            "(3,5)\n",
            "p2 is greater\n"
          ]
        }
      ]
    },
    {
      "cell_type": "markdown",
      "source": [
        "<div dir=rtl>\n",
        "می خواهیم وقتی یک شی نقطه را در پرینت قرار دادیم، به صورت (x,y) چاپ شود.\n",
        "</div>"
      ],
      "metadata": {
        "id": "38XvzVmXm0SZ"
      }
    },
    {
      "cell_type": "code",
      "source": [],
      "metadata": {
        "id": "WVgebIXPnNHt"
      },
      "execution_count": null,
      "outputs": []
    },
    {
      "cell_type": "markdown",
      "source": [
        "<div dir=rtl>\n",
        "برخی از توابع جادویی \n",
        "</br>\n",
        "__add__\n",
        "__sub__\n",
        "__mul__\n",
        "__truediv__\n",
        "__floordiv__\n",
        "__mod__\n",
        "__eq__\n",
        "__nq__\n",
        "__gt__\n",
        "__lt__\n",
        "__ge__\n",
        "__le__\n",
        "__str__\n",
        "</div>"
      ],
      "metadata": {
        "id": "evYyS2bstQ5-"
      }
    },
    {
      "cell_type": "code",
      "source": [
        "class Point :\n",
        "  pass\n",
        "\n",
        "dir(Point)"
      ],
      "metadata": {
        "colab": {
          "base_uri": "https://localhost:8080/"
        },
        "id": "Tz4sZVX5veHM",
        "outputId": "3b7a8c53-0f99-4251-ed25-a09481714ac8"
      },
      "execution_count": 32,
      "outputs": [
        {
          "output_type": "execute_result",
          "data": {
            "text/plain": [
              "['__class__',\n",
              " '__delattr__',\n",
              " '__dict__',\n",
              " '__dir__',\n",
              " '__doc__',\n",
              " '__eq__',\n",
              " '__format__',\n",
              " '__ge__',\n",
              " '__getattribute__',\n",
              " '__gt__',\n",
              " '__hash__',\n",
              " '__init__',\n",
              " '__init_subclass__',\n",
              " '__le__',\n",
              " '__lt__',\n",
              " '__module__',\n",
              " '__ne__',\n",
              " '__new__',\n",
              " '__reduce__',\n",
              " '__reduce_ex__',\n",
              " '__repr__',\n",
              " '__setattr__',\n",
              " '__sizeof__',\n",
              " '__str__',\n",
              " '__subclasshook__',\n",
              " '__weakref__']"
            ]
          },
          "metadata": {},
          "execution_count": 32
        }
      ]
    },
    {
      "cell_type": "markdown",
      "source": [
        "<div dir=rtl>\n",
        "کلاسی برای اعداد گویا بنویسید به طوریکه اعمال + * / - را بتوان انجام داد.\n",
        "</div>"
      ],
      "metadata": {
        "id": "f8raKEU6vjve"
      }
    },
    {
      "cell_type": "code",
      "source": [
        "class Rational :\n",
        "  soorat\n",
        "  makhraj\n",
        "\n",
        "\n",
        "\n",
        "r1 = Rational(2,3)\n",
        "r2 = Rational(4,5)\n",
        "r3 = r1 + r2\n"
      ],
      "metadata": {
        "id": "UK3-j8QRR27o"
      },
      "execution_count": null,
      "outputs": []
    }
  ]
}