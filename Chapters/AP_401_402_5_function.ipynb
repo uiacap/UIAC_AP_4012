{
  "nbformat": 4,
  "nbformat_minor": 0,
  "metadata": {
    "colab": {
      "provenance": [],
      "authorship_tag": "ABX9TyNGTVYYxIc+gkw/zb4u32rN",
      "include_colab_link": true
    },
    "kernelspec": {
      "name": "python3",
      "display_name": "Python 3"
    },
    "language_info": {
      "name": "python"
    }
  },
  "cells": [
    {
      "cell_type": "markdown",
      "metadata": {
        "id": "view-in-github",
        "colab_type": "text"
      },
      "source": [
        "<a href=\"https://colab.research.google.com/github/uiacap/UIAC_AP_4012/blob/main/Chapters/AP_401_402_5_function.ipynb\" target=\"_parent\"><img src=\"https://colab.research.google.com/assets/colab-badge.svg\" alt=\"Open In Colab\"/></a>"
      ]
    },
    {
      "cell_type": "markdown",
      "source": [
        "<div dir=rtl>\n",
        "توابع در پایتون:\n",
        "</br>\n",
        "تابع مانند یک برنامه کوچک (mini program) در داخل یک برنامه دیگر است\n",
        "</br>\n",
        "</br>\n",
        "از کلمه کلیدی def برای تعریف تابع در پایتون استفاده می کنیم\n",
        "</br>\n",
        "پس از def، نام تابع قرار می گیرد  که استاندارد نام گذاری تابع، مانند استاندارد نام گذاری متغیرهاست.\n",
        "</br>\n",
        "پس از نام تابع () قرار می گیرید. در صورتیکه تابع دارای پارامتر ورودی باشد، پارامتر ها در داخل () قرار می گیرد. و در صورتیکه تابع پارامتر ورودی نداشته باشد، () به صورت خالی به قرار داده می شود.\n",
        "</br>\n",
        "تابع می تواند خروجی داشته باشد، که برای مشخص کردن خروجی تابع از کلمه کلیدی return استفاده می شود.\n",
        "</br> \n",
        "در ادامه در مورد return و آرگومان های ورودی بیشتر توضیح داده خواهد شد.\n",
        "</br>\n",
        "در زیر دستور کلی یک تابع نوشته شده است.\n",
        "</br>\n",
        "</div>"
      ],
      "metadata": {
        "id": "tD5800x1LZcQ"
      }
    },
    {
      "cell_type": "code",
      "source": [
        "def (function_name)([parameter_list]):\n",
        "  [return (a value)]"
      ],
      "metadata": {
        "id": "BjJhif6QNlrx"
      },
      "execution_count": null,
      "outputs": []
    },
    {
      "cell_type": "markdown",
      "source": [
        "<div dir=rtl>\n",
        "در ادامه یک تابع ساده برای حال و احوال پرسی با کاربر نوشته شده است.\n",
        "مزیت نوشتن تابع چیست؟\n",
        "</div>"
      ],
      "metadata": {
        "id": "KAhEjJoPNva0"
      }
    },
    {
      "cell_type": "code",
      "execution_count": 1,
      "metadata": {
        "colab": {
          "base_uri": "https://localhost:8080/"
        },
        "id": "EZgfG68yFo31",
        "outputId": "8b186f05-e249-44e0-e9d7-5de74d933e0c"
      },
      "outputs": [
        {
          "output_type": "stream",
          "name": "stdout",
          "text": [
            "Howdy!!\n",
            "How is everything with you!\n",
            "Howdy!!\n",
            "How is everything with you!\n"
          ]
        }
      ],
      "source": [
        "def hello() :\n",
        "  print('Howdy!!')\n",
        "  print(\"How is everything with you!\")\n",
        "\n",
        "hello()\n",
        "hello()"
      ]
    },
    {
      "cell_type": "markdown",
      "source": [
        "<div dir=rtl>\n",
        "یک مزیت بزرگ تابع این است که از کد تکراری جلوگیری می کند.\n",
        "بدون تابع در مثال بالا مجبور بودیم عبارت حال و احوال را به ازای تعداد حالاتی که میخواهیم این کار را انجام دهیم، تکرار کنیم.\n",
        "</br>\n",
        "جلوگیری از انجام عمل تکرار در خطا یابی و اصلاح خطا کمک کننده است\n",
        "</br>\n",
        "عدم انجام عمل تکراری، در کوتاه شدن کد، خوانایی و به روزرسانی کد موثر است\n",
        "</br>\n",
        "نوشتن تابع در reuseکد هم کمک کننده است.\n",
        "</div>"
      ],
      "metadata": {
        "id": "5GrNZYjsNVEB"
      }
    },
    {
      "cell_type": "markdown",
      "source": [
        "<div dir=rtl>\n",
        "تابع بالا را در نظر بگیرید. فرض کنید که میخواهیم، تابع را به صورتی بنویسیم که در حال و احوال، نام کاربر را هم قرار دهد.\n",
        "</div>"
      ],
      "metadata": {
        "id": "bQ4KU1v_R5P-"
      }
    },
    {
      "cell_type": "code",
      "source": [],
      "metadata": {
        "id": "ZL4HNQUMR1Dv"
      },
      "execution_count": null,
      "outputs": []
    },
    {
      "cell_type": "markdown",
      "source": [
        "<div dir=rtl>\n",
        "هنگامی که تابع صدا زده می شود، مقادیری را به تابع می فرستیم. به این مقادیر آرگومان (argument) می گوییم.\n",
        "</br>\n",
        "هنگامی که تابع صدا زده می شود، آرگومان ها در داخل پارامترهای تابع کپی می شوند.\n",
        "</br>\n",
        "متغیرهایی که آرگومان ها در آنها ریخته می شوند، پارامتر نام دارند.\n",
        "</br>\n",
        "نکته ای که در مورد پارامترها باید بدانیم این است که مقادیر که در آنها قرار می گیرد، هنگام اتمام تابع و خروج از آن، از بین می روند.\n",
        "</div>"
      ],
      "metadata": {
        "id": "XTaVPIPESQ2I"
      }
    },
    {
      "cell_type": "markdown",
      "source": [
        "<div dir=rtl>\n",
        "دستور return:\n",
        "</br>\n",
        "هنگامی که تابع len() را در پایتون صدا میزنیم، و یک آرگومان مانند 'Hello' را به آن پاس می دهیم، این تابع به مقدار 5 ارزیابی می شود.\n",
        "</br>\n",
        "به طور کلی، مقداری که تابع به آن ارزیابی می شود، return value تابع می نامیم\n",
        "</br>\n",
        "هنگام تعریف تابع با استفاده از کلمه کلید return می توان مقدار (return value) تابع را مشخص کرد.\n",
        "</br>\n",
        "برنامه زیر، براساس اینکه پارامتر ورودی اش چه مقداری باشد، رشته متفاوتی را به عنوان خروجی بر می گرداند.\n",
        "</div>"
      ],
      "metadata": {
        "id": "jMcVL_zjUpIW"
      }
    },
    {
      "cell_type": "code",
      "source": [
        "import random\n",
        "\n",
        "def getAnswer(answerNumber):\n",
        "  if answerNumber == 1:\n",
        "    return 'It is certain'\n",
        "  elif answerNumber == 2:\n",
        "    return 'It is decidedly so'\n",
        "  elif answerNumber == 3:\n",
        "    return 'Yes'\n",
        "  elif answerNumber == 4:\n",
        "    return 'Reply hazy try again'\n",
        "  elif answerNumber == 5:\n",
        "    return 'Ask again later'\n",
        "  elif answerNumber == 6:\n",
        "    return 'Concentrate and ask again'\n",
        "  elif answerNumber == 7:\n",
        "    return 'My reply is no'\n",
        "  elif answerNumber == 8:\n",
        "    return 'Outlook not so good'\n",
        "  elif answerNumber == 9:\n",
        "    return 'Very doubtful'\n",
        "    \n",
        "r = random.randint(1, 9)\n",
        "fortune = getAnswer(r)\n",
        "print(fortune)"
      ],
      "metadata": {
        "id": "gNVG0xAsWEg_"
      },
      "execution_count": null,
      "outputs": []
    },
    {
      "cell_type": "markdown",
      "source": [
        "<div dir=rtl>\n",
        "سه خط آخر برنامه بالا را چگونه در یک خط بنویسیم\n",
        "</div>"
      ],
      "metadata": {
        "id": "qXJ5uaWcWgCY"
      }
    },
    {
      "cell_type": "code",
      "source": [],
      "metadata": {
        "id": "KP_R7XD_WySK"
      },
      "execution_count": null,
      "outputs": []
    },
    {
      "cell_type": "markdown",
      "source": [
        "<div dir=rtl>\n",
        "در پایتون یک مقدار به نام None وجود دارد که به معنای عدم وجود مقدار است\n",
        "</br>\n",
        "این مقدار معادل null یا nil در زبان های دیگر است\n",
        "</br>\n",
        "در صورتیکه تابعی مقدار خروجی نداشته باشد، خروجی آن None قرار می گیرد.\n",
        "</div>"
      ],
      "metadata": {
        "id": "hfKdnduYWyrV"
      }
    },
    {
      "cell_type": "markdown",
      "source": [
        "<div dir=rtl>\n",
        "تابعی بنویسید که تشخیص دهد یک عدد اول است یا خیر\n",
        "</div>"
      ],
      "metadata": {
        "id": "J4_lj-gDXXo9"
      }
    },
    {
      "cell_type": "code",
      "source": [],
      "metadata": {
        "id": "NVEZAwfsZTNV"
      },
      "execution_count": null,
      "outputs": []
    },
    {
      "cell_type": "markdown",
      "source": [
        "<div dir=rtl>\n",
        "تابع بنویسید که عددی را به عنوان ورودی گرفته و مغلوب عدد را برگرداند.\n",
        "</div>\n"
      ],
      "metadata": {
        "id": "ydNlSukrZTt9"
      }
    },
    {
      "cell_type": "code",
      "source": [],
      "metadata": {
        "id": "D5H2vbhhaP4f"
      },
      "execution_count": null,
      "outputs": []
    },
    {
      "cell_type": "markdown",
      "source": [
        "<div dir=rtl>\n",
        "برنامه ای بنویسید که بازی سنگ، کاغذ، قیچی را پیاده سازی کند.\n",
        "</br>\n",
        "خروجی برنامه باید مطابق زیر باشد.\n",
        "</br>\n",
        "</div>\n",
        "ROCK, PAPER, SCISSORS\n",
        "</br>\n",
        "0 Wins, 0 Losses, 0 Ties\n",
        "</br>\n",
        "Enter your move: (r)ock (p)aper (s)cissors or (q)uit\n",
        "</br>\n",
        "e\n",
        "</br>\n",
        "Type one of r, p, s, or q.\n",
        "</br>\n",
        "Enter your move: (r)ock (p)aper (s)cissors or (q)uit\n",
        "</br>\n",
        "p\n",
        "</br>\n",
        "PAPER versus...\n",
        "</br>\n",
        "PAPER\n",
        "</br>\n",
        "It is a tie!\n",
        "</br>\n",
        "0 Wins, 1 Losses, 1 Ties\n",
        "</br>\n",
        "Enter your move: (r)ock (p)aper (s)cissors or (q)uit\n",
        "</br>\n",
        "s\n",
        "</br>\n",
        "SCISSORS versus...\n",
        "</br>\n",
        "PAPER\n",
        "</br>\n",
        "You win!\n",
        "</br>\n"
      ],
      "metadata": {
        "id": "xSV6N0K5aQNP"
      }
    },
    {
      "cell_type": "code",
      "source": [
        "\n"
      ],
      "metadata": {
        "id": "pLqblUZadcjF"
      },
      "execution_count": null,
      "outputs": []
    }
  ]
}