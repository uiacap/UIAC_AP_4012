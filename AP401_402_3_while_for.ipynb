{
  "nbformat": 4,
  "nbformat_minor": 0,
  "metadata": {
    "colab": {
      "provenance": [],
      "authorship_tag": "ABX9TyO51RRFvcUGQFDTJz27LSrU",
      "include_colab_link": true
    },
    "kernelspec": {
      "name": "python3",
      "display_name": "Python 3"
    },
    "language_info": {
      "name": "python"
    }
  },
  "cells": [
    {
      "cell_type": "markdown",
      "metadata": {
        "id": "view-in-github",
        "colab_type": "text"
      },
      "source": [
        "<a href=\"https://colab.research.google.com/github/uiacap/UIAC_AP_4012/blob/main/AP401_402_3_while_for.ipynb\" target=\"_parent\"><img src=\"https://colab.research.google.com/assets/colab-badge.svg\" alt=\"Open In Colab\"/></a>"
      ]
    },
    {
      "cell_type": "code",
      "execution_count": null,
      "metadata": {
        "id": "A62tjmi6Lsvr"
      },
      "outputs": [],
      "source": []
    },
    {
      "cell_type": "markdown",
      "source": [
        "<div dir=rtl>\n",
        "برای ایجاد حلقه های تکرار از while و for استفاده می کنیم.\n",
        "</br>\n",
        "while condition :\n",
        "</br>\n",
        "  (while block)\n",
        "\n",
        "</div>"
      ],
      "metadata": {
        "id": "T4py6wIymBCd"
      }
    },
    {
      "cell_type": "markdown",
      "source": [
        "<div dir=rtl>\n",
        "سوال: عددی را بخواند و از عدد 1 تا آن عدد را چاپ کند.\n",
        "</div>"
      ],
      "metadata": {
        "id": "Jq53hNOImjqo"
      }
    },
    {
      "cell_type": "code",
      "source": [
        "num = int(input())\n",
        "i = 0\n",
        "while i < num :\n",
        "  print(i+1)\n",
        "  i += 1\n"
      ],
      "metadata": {
        "id": "zhSMos_f_NS4"
      },
      "execution_count": null,
      "outputs": []
    },
    {
      "cell_type": "code",
      "source": [
        "num = int(input())\n",
        "i = 1\n",
        "while i <= num :\n",
        "  print(i)\n",
        "  i += 1"
      ],
      "metadata": {
        "id": "WDqOZYWfzgbO"
      },
      "execution_count": null,
      "outputs": []
    },
    {
      "cell_type": "code",
      "source": [
        "num = int(input())\n",
        "i = 1\n",
        "sum = 0\n",
        "while i <= num :\n",
        "  if num % i == 0 :\n",
        "    sum += i\n",
        "  i += 1\n",
        "\n",
        "print(f\"Sum of divisors={sum}\")"
      ],
      "metadata": {
        "id": "ObpnAHbBof8N"
      },
      "execution_count": null,
      "outputs": []
    },
    {
      "cell_type": "code",
      "execution_count": null,
      "metadata": {
        "id": "qmWvs-xxlv-8"
      },
      "outputs": [],
      "source": []
    },
    {
      "cell_type": "markdown",
      "source": [
        "<div dir=rtl>\n",
        "سوال: تا وقتی کاربر عدد 0 را وارد نکرده، از کاربر عدد بگیرد. و پس از آن ماکزیمم آنها، مینیمم آنها، مجموع و میانگین آنها را محاسبه و چاپ کند.\n",
        "</div>"
      ],
      "metadata": {
        "id": "fNNJGs0El_1P"
      }
    },
    {
      "cell_type": "code",
      "source": [
        "num = float(input())\n",
        "min = num\n",
        "max = num\n",
        "sum = 0\n",
        "cnt = 1\n",
        "while num != 0 :\n",
        "  if num < min :\n",
        "    min = num\n",
        "  if num > max :\n",
        "    max = num\n",
        "  sum += num\n",
        "  num = float(input())\n",
        "  cnt+=1\n",
        "print(f\"The min {min}, The max {max}\")\n",
        "print(f\"The sum {sum}, The average {sum/cnt}\")"
      ],
      "metadata": {
        "id": "6QEGR2u5oEnf",
        "colab": {
          "base_uri": "https://localhost:8080/"
        },
        "outputId": "c353b438-cde2-4bf6-cf68-6962e22e0f78"
      },
      "execution_count": null,
      "outputs": [
        {
          "output_type": "stream",
          "name": "stdout",
          "text": [
            "12\n",
            "13\n",
            "0\n",
            "The min 12.0, The max 13.0\n",
            "The sum 25.0, The average 8.333333333333334\n"
          ]
        }
      ]
    },
    {
      "cell_type": "markdown",
      "source": [
        "<div dir=rtl>\n",
        "اصلاح کد بالا:\n",
        "با استفاده از break\n",
        "</div>"
      ],
      "metadata": {
        "id": "8p3JjyVzO-Y0"
      }
    },
    {
      "cell_type": "code",
      "source": [
        "import math\n",
        "min = math.inf\n",
        "max = -math.inf\n",
        "cnt = 0\n",
        "sum = 0\n",
        "while True :\n",
        "  num = float(input())\n",
        "  if num == 0 :\n",
        "    break\n",
        "  cnt += 1\n",
        "  if num < min :\n",
        "    min = num\n",
        "  if num > max :\n",
        "    max = num\n",
        "  sum += num\n",
        "print(f\"The min {min:.2f}, The max {max}\")"
      ],
      "metadata": {
        "id": "HQncv-UvO7zk"
      },
      "execution_count": null,
      "outputs": []
    },
    {
      "cell_type": "markdown",
      "source": [
        "<div dir=rtl>\n",
        "با استفاده از دستور break می توانیم، از یک حلقه تکرار خارج شویم.\n",
        "</br>\n",
        "هنگامی که کنترل به دستور break که در داخل یک حلقه تکرار قرار داده شده است، برسد\n",
        "</br>\n",
        "به اولین دستور بعد از حلقه تکرار منقل خواهد شد. و آن دستور را اجرا می کند.\n",
        "</div>"
      ],
      "metadata": {
        "id": "x2-adXpb8pOQ"
      }
    },
    {
      "cell_type": "markdown",
      "source": [
        "<div dir=rtl>\n",
        "دستور continue نیز در داخل حلقه های تکرار به کار می رود.\n",
        "</br>\n",
        "هنگامی که کنترل به دستور continue می رسد:\n",
        "به ابتدای حلقه تکرار منتقل شده و در صوتیکه شرط حلقه همچنان برقرار باشد، دستورات حلقه از ابتدای آن اجرا می شوند.\n",
        "</div>"
      ],
      "metadata": {
        "id": "Wm_JYCSi9t7J"
      }
    },
    {
      "cell_type": "code",
      "source": [
        "while True:\n",
        "  print('Who are you?')\n",
        "  name = input()\n",
        "  if name != 'Joe':\n",
        "    continue\n",
        "  print('Hello, Joe. What is the password? (It is a fish.)')\n",
        "  password = input()\n",
        "  if password == 'swordfish':\n",
        "    break\n",
        "print('Access granted.')"
      ],
      "metadata": {
        "id": "FeTi-yT0-cDF"
      },
      "execution_count": null,
      "outputs": []
    },
    {
      "cell_type": "markdown",
      "source": [
        "<div dir=rtl>\n",
        "س: برنامه ای بنویسید که تعدادی عدد را خوانده و تعداد اعدادی را همه ارقام آنها با هم برابر است را به دست آورد.\n",
        "برای خروج از برنامه عدد -99 وارد می شود.\n",
        "</div>"
      ],
      "metadata": {
        "id": "HxnTGNMgRlry"
      }
    },
    {
      "cell_type": "code",
      "source": [
        "cnt = 0\n",
        "while True:\n",
        "  num = int(input())\n",
        "  if num == -99 :\n",
        "    break\n",
        "  \n",
        "  p_digit = num % 10\n",
        "  is_equal_digit = True\n",
        "  while num > 0 :\n",
        "    digit = num % 10\n",
        "    if p_digit != digit:\n",
        "      is_equal_digit = False\n",
        "      break\n",
        "    num = num // 10\n",
        "  if is_equal_digit :\n",
        "    cnt += 1\n",
        "\n",
        "print(f\"The number of the equal digit {cnt}\")"
      ],
      "metadata": {
        "colab": {
          "base_uri": "https://localhost:8080/"
        },
        "id": "x0N2dCj-yOWD",
        "outputId": "e6bac650-fd48-473e-8c1d-a6f0405b5923"
      },
      "execution_count": null,
      "outputs": [
        {
          "output_type": "stream",
          "name": "stdout",
          "text": [
            "123\n",
            "33\n",
            "-99\n",
            "The number of the equal digit 1\n"
          ]
        }
      ]
    },
    {
      "cell_type": "code",
      "source": [
        "cnt = 0\n",
        "while True:\n",
        "  num = int(input())\n",
        "  if num == -99 :\n",
        "    break\n",
        "  \n",
        "  p_digit = num % 10\n",
        "\n",
        "  digit = p_digit\n",
        "  while num > 0 and p_digit == digit:\n",
        "    digit = num % 10\n",
        "    num = num // 10\n",
        "  if p_digit == digit:\n",
        "    cnt += 1\n",
        "\n",
        "print(f\"The number of the equal digit {cnt}\")"
      ],
      "metadata": {
        "colab": {
          "base_uri": "https://localhost:8080/"
        },
        "id": "bDxp-7uS1AI_",
        "outputId": "ae7806af-215d-4ad3-dcb6-f0170e40b2f9"
      },
      "execution_count": null,
      "outputs": [
        {
          "output_type": "stream",
          "name": "stdout",
          "text": [
            "33\n",
            "-99\n",
            "The number of the equal digit 1\n"
          ]
        }
      ]
    },
    {
      "cell_type": "code",
      "source": [
        "while (num := int(input())) != -99 :"
      ],
      "metadata": {
        "id": "yso1r58MSYkt"
      },
      "execution_count": null,
      "outputs": []
    },
    {
      "cell_type": "markdown",
      "source": [
        "<div dir=rtl>\n",
        "نوشتن جملات شرطی در یک خط\n",
        "</br>\n",
        "</div>"
      ],
      "metadata": {
        "id": "DLah04w1ZGUO"
      }
    },
    {
      "cell_type": "code",
      "source": [
        "print('equal') if 1 == 1 else print('not equal')"
      ],
      "metadata": {
        "id": "MFSPjwiRZT7q"
      },
      "execution_count": null,
      "outputs": []
    },
    {
      "cell_type": "code",
      "source": [
        "if 1==1 :\n",
        "  print('equal')\n",
        "else:\n",
        "  print('not equal')"
      ],
      "metadata": {
        "id": "WtiJ8r-23vNV"
      },
      "execution_count": null,
      "outputs": []
    },
    {
      "cell_type": "markdown",
      "source": [
        "<div dir=rtl>\n",
        "استفاده از عبارت های انتسابی:\n",
        "</br>\n",
        "عبارت‌های انتسابی (Assignment Expressions) قابلیت جدیدی است که از نسخه‌ی ۳.۸ به پایتون اضافه شده است و به ما کمک می‌کند کد را ساده‌تر و کوتاه‌تر بنویسیم. این عبارت‌ها با استفاده از عملگر := نوشته می‌شوند.\n",
        "</br>\n",
        "این عملگر ابتدا مقدار مشخص شده را به متغیر نسبت می‌دهد و سپس آن مقدار را برمی‌گرداند. فرض کنید میخواهید یک متغیر را مقداردهی کرده و آن را چاپ کنید.\n",
        "</div>"
      ],
      "metadata": {
        "id": "Fi7sQLspa07V"
      }
    },
    {
      "cell_type": "code",
      "source": [
        "temp = 5\n",
        "print(temp)"
      ],
      "metadata": {
        "id": "6rXDL_babX-s"
      },
      "execution_count": null,
      "outputs": []
    },
    {
      "cell_type": "code",
      "source": [
        "print(temp:=5)"
      ],
      "metadata": {
        "id": "gb0Au6PObfS9"
      },
      "execution_count": null,
      "outputs": []
    },
    {
      "cell_type": "markdown",
      "source": [
        "<div dir =rtl>\n",
        "استفاده از این عملگر در نوشتن حلقه‌ها می‌تواند مفید باشد\n",
        "</br>\n",
        "نوشتن کد سوال قبل با استفاده از عملگرهای انتسابی:\n",
        "</div>"
      ],
      "metadata": {
        "id": "b-LbFnVcbkd0"
      }
    },
    {
      "cell_type": "code",
      "source": [],
      "metadata": {
        "id": "35xow9W_b2_G"
      },
      "execution_count": null,
      "outputs": []
    },
    {
      "cell_type": "markdown",
      "source": [
        "<div dir=rtl>\n",
        "حلقه for و تابع range:\n",
        "</br>\n",
        "در صورتیکه بخواهیم، یک حلقه به تعداد مشخص تکرار شود از حلقه for استفاده می کنیم.\n",
        "</br>\n",
        "در پایتون این کار را با استفاده از حلقه for و تابع range انجام می دهیم.\n",
        "\n",
        "\n",
        "</div>"
      ],
      "metadata": {
        "id": "IswKI4K6oCyU"
      }
    },
    {
      "cell_type": "code",
      "source": [
        "for (a variable name) in range(n,[m,s]) \n",
        "  (for block)"
      ],
      "metadata": {
        "id": "7Fos1EoQFcSJ"
      },
      "execution_count": null,
      "outputs": []
    },
    {
      "cell_type": "code",
      "source": [
        "print('My name is')\n",
        "for i in range(5):\n",
        "  print('Jimmy Five Times (' + str(i) + ')')"
      ],
      "metadata": {
        "id": "6kZAiHn7Fo7d"
      },
      "execution_count": null,
      "outputs": []
    },
    {
      "cell_type": "markdown",
      "source": [
        "<div dir = rtl>\n",
        "تابع range:\n",
        "range(n) : دنباله ای از اعداد صحیح که از 0 شروع شده و با n-1 خاتمه می یابد.\n",
        "</br>\n",
        "range(n,m) : دنباله ای از اعداد صحیح که از n شروع شده و با m-1 خاتمه می باید.\n",
        "</br>\n",
        "range(n,m,s) : دنباله ای از اعداد صحیح که از n شروع شده و حداکثر با m-1 خاتمه می یابد و \n",
        "اعداد s تا s تا اضافه می شوند.\n",
        "</br>\n",
        "</div>"
      ],
      "metadata": {
        "id": "HO4eNalmG1PH"
      }
    },
    {
      "cell_type": "code",
      "source": [
        "for i in range(10) :\n",
        "  print(i,end=\" \")"
      ],
      "metadata": {
        "id": "WppaRacHHnJF",
        "colab": {
          "base_uri": "https://localhost:8080/"
        },
        "outputId": "91e42fc2-cb98-4da4-e500-b3f0997961dd"
      },
      "execution_count": null,
      "outputs": [
        {
          "output_type": "stream",
          "name": "stdout",
          "text": [
            "0 1 2 3 4 5 6 7 8 9 "
          ]
        }
      ]
    },
    {
      "cell_type": "code",
      "source": [
        "for i in range(-1) :\n",
        "  print(i, end=\" \")"
      ],
      "metadata": {
        "id": "-jcCYfofI4t4"
      },
      "execution_count": null,
      "outputs": []
    },
    {
      "cell_type": "code",
      "source": [
        "for i in range(1,-1) :\n",
        "  print(i, end=\" \")"
      ],
      "metadata": {
        "id": "Q-UXrfTVJAoU"
      },
      "execution_count": null,
      "outputs": []
    },
    {
      "cell_type": "code",
      "source": [
        "for i in range(-1,3):\n",
        "  print(i, end=\" \")"
      ],
      "metadata": {
        "id": "HDjjDjsmJHZ9",
        "colab": {
          "base_uri": "https://localhost:8080/"
        },
        "outputId": "7cf8f6af-c6cc-47a9-d6da-0ed76632239b"
      },
      "execution_count": null,
      "outputs": [
        {
          "output_type": "stream",
          "name": "stdout",
          "text": [
            "-1 0 1 2 "
          ]
        }
      ]
    },
    {
      "cell_type": "code",
      "source": [
        "for i in range(2, 10, 3):\n",
        "  print(i, end=\" \")"
      ],
      "metadata": {
        "id": "WJgRTiosJPFy",
        "colab": {
          "base_uri": "https://localhost:8080/"
        },
        "outputId": "c55a4381-b029-4a0f-80c5-7f35a123fd7a"
      },
      "execution_count": null,
      "outputs": [
        {
          "output_type": "stream",
          "name": "stdout",
          "text": [
            "2 5 8 "
          ]
        }
      ]
    },
    {
      "cell_type": "code",
      "source": [
        "for i in range(2, 10, -3):\n",
        "  print(i, end=\" \")"
      ],
      "metadata": {
        "id": "cf6kH23gJtDl"
      },
      "execution_count": null,
      "outputs": []
    },
    {
      "cell_type": "code",
      "source": [
        "for i in range(10, 2, -3):\n",
        "  print(i, end=\" \")"
      ],
      "metadata": {
        "id": "qSN1PlU5J0cd",
        "colab": {
          "base_uri": "https://localhost:8080/"
        },
        "outputId": "5968f40e-78e0-4fc1-9264-d00c871be17e"
      },
      "execution_count": null,
      "outputs": [
        {
          "output_type": "stream",
          "name": "stdout",
          "text": [
            "10 7 4 "
          ]
        }
      ]
    },
    {
      "cell_type": "code",
      "source": [
        "for i in range(-1,5, -1):\n",
        "  print(i, end= \" \")"
      ],
      "metadata": {
        "id": "Gjs05P3GJ-0O"
      },
      "execution_count": null,
      "outputs": []
    },
    {
      "cell_type": "markdown",
      "source": [
        "<div dir=rtl>\n",
        "برنامه ای بنویسید که عددی را از ورودی گرفته و فاکتوریل آن را چاپ کند.\n",
        "</div>"
      ],
      "metadata": {
        "id": "gClbJDeXRAYl"
      }
    },
    {
      "cell_type": "code",
      "source": [
        "num = int(input())\n",
        "fact = 1\n",
        "for i in range(1,num+1):\n",
        "  fact *= i\n",
        "print(f\"factorial of {num} is {fact}\")"
      ],
      "metadata": {
        "id": "AS5AX6RARKmt",
        "colab": {
          "base_uri": "https://localhost:8080/"
        },
        "outputId": "93b65722-e87d-4360-f39e-c878b9f70928"
      },
      "execution_count": null,
      "outputs": [
        {
          "output_type": "stream",
          "name": "stdout",
          "text": [
            "1\n",
            "factorial of 1 is 1\n"
          ]
        }
      ]
    },
    {
      "cell_type": "markdown",
      "source": [
        "<div dir=rtl>\n",
        "سوال: برنامه ای بنویسید که عددی را خوانده و تشخیص بدهد عدد کامل است یا خیر؟\n",
        "</div>\n",
        "\n"
      ],
      "metadata": {
        "id": "CYXPaxn-cFn6"
      }
    },
    {
      "cell_type": "code",
      "source": [
        "num = int(input())\n",
        "sum = 0\n",
        "for i in range(1,num):\n",
        "  if num % i == 0 :\n",
        "    sum += i\n",
        "if sum == num :\n",
        "  print(\"complete\")\n",
        "else:\n",
        "  print(\"not complete\")"
      ],
      "metadata": {
        "id": "BNSWW8R9cbwH",
        "colab": {
          "base_uri": "https://localhost:8080/"
        },
        "outputId": "722ce8c5-f957-47db-b931-b1a7082dae4b"
      },
      "execution_count": null,
      "outputs": [
        {
          "output_type": "stream",
          "name": "stdout",
          "text": [
            "36\n",
            "not complete\n"
          ]
        }
      ]
    },
    {
      "cell_type": "markdown",
      "source": [
        "<div dir = rtl>\n",
        "برنامه ای بنویسید که اعداد کامل کمتر از 10000 را چاپ کند\n",
        "</div>"
      ],
      "metadata": {
        "id": "Ehd27izV_uXD"
      }
    },
    {
      "cell_type": "code",
      "source": [
        "for num in range(1,10001):\n",
        "  sum = 0\n",
        "  for i in range(1,num):\n",
        "    if num % i == 0 :\n",
        "      sum += i\n",
        "  if sum == num :\n",
        "    print(num)\n"
      ],
      "metadata": {
        "colab": {
          "base_uri": "https://localhost:8080/"
        },
        "id": "C7YQyVXX_tMB",
        "outputId": "4ca09d29-148e-4066-da1f-0b712c4c6a16"
      },
      "execution_count": null,
      "outputs": [
        {
          "output_type": "stream",
          "name": "stdout",
          "text": [
            "6\n",
            "28\n",
            "496\n",
            "8128\n"
          ]
        }
      ]
    },
    {
      "cell_type": "markdown",
      "source": [
        "<div dir=rtl>\n",
        "سوال : برنامه ای بنویسید که عدد را از ورودی خوانده و دنباله فیبوناچی تا آن عدد را حساب کند.\n",
        "</div>"
      ],
      "metadata": {
        "id": "ajSHtc1YV0g0"
      }
    },
    {
      "cell_type": "code",
      "source": [
        "n = int(input())\n",
        "a = 1\n",
        "b = 1\n",
        "for i in range(n+1):\n",
        "  if i == 0 or i == 1:\n",
        "    print(1, end=\" \")\n",
        "    continue\n",
        "  print(a+b, end=\" \")\n",
        "  #temp = a\n",
        "  #a = b\n",
        "  #b = temp + b\n",
        "  a,b = b,a+b"
      ],
      "metadata": {
        "id": "dWTHCoveW5wz"
      },
      "execution_count": null,
      "outputs": []
    },
    {
      "cell_type": "markdown",
      "source": [
        "<div dir=rtl>\n",
        "روش دوم برای حل مسئله بالا:\n",
        "</div>"
      ],
      "metadata": {
        "id": "O1UudKTNO84l"
      }
    },
    {
      "cell_type": "code",
      "source": [
        "n = int(input())\n",
        "a = 0\n",
        "b = 1\n",
        "if n >= 0 :\n",
        "  print(1, end=\" \")\n",
        "for i in range(1,n+1):\n",
        "  print(a+b, end=\" \")\n",
        "  a,b = b,a+b"
      ],
      "metadata": {
        "id": "_KNr4m4KGLXl"
      },
      "execution_count": null,
      "outputs": []
    },
    {
      "cell_type": "markdown",
      "source": [
        "<div dir = rtl>\n",
        "برنامه ای بنویسید که n را از ورودی خوانده و جدول ضرب اعداد از 1 تا n را چاپ کند.\n",
        "</div>"
      ],
      "metadata": {
        "id": "nuqq5R97KKQ1"
      }
    },
    {
      "cell_type": "code",
      "source": [],
      "metadata": {
        "id": "ox6Cc41QQj40"
      },
      "execution_count": null,
      "outputs": []
    },
    {
      "cell_type": "markdown",
      "source": [
        "<div dir=rtl>\n",
        "برای ایجاد حلقه های تکرار از while و for استفاده می کنیم.\n",
        "</br>\n",
        "while condition :\n",
        "</br>\n",
        "  (while block)\n",
        "\n",
        "</div>"
      ],
      "metadata": {
        "id": "IFszKvRUMAdV"
      }
    },
    {
      "cell_type": "markdown",
      "source": [
        "<div dir=rtl>\n",
        "سوال: عددی را بخواند و از عدد 1 تا آن عدد را چاپ کند.\n",
        "</div>"
      ],
      "metadata": {
        "id": "NGtD2AH0MAdV"
      }
    },
    {
      "cell_type": "code",
      "source": [
        "num = int(input())\n",
        "i = 0\n",
        "while i < num :\n",
        "  print(i+1)\n",
        "  i += 1\n"
      ],
      "metadata": {
        "id": "IfO2OrWBMAdV"
      },
      "execution_count": null,
      "outputs": []
    },
    {
      "cell_type": "code",
      "source": [
        "num = int(input())\n",
        "i = 1\n",
        "while i <= num :\n",
        "  print(i)\n",
        "  i += 1"
      ],
      "metadata": {
        "id": "N46--5n1MAdV"
      },
      "execution_count": null,
      "outputs": []
    },
    {
      "cell_type": "code",
      "source": [
        "num = int(input())\n",
        "i = 1\n",
        "sum = 0\n",
        "while i <= num :\n",
        "  if num % i == 0 :\n",
        "    sum += i\n",
        "  i += 1\n",
        "\n",
        "print(f\"Sum of divisors={sum}\")"
      ],
      "metadata": {
        "id": "xBFbj6i-MAdW"
      },
      "execution_count": null,
      "outputs": []
    },
    {
      "cell_type": "code",
      "execution_count": null,
      "metadata": {
        "id": "DxoJpYa8MAdW"
      },
      "outputs": [],
      "source": []
    },
    {
      "cell_type": "markdown",
      "source": [
        "<div dir=rtl>\n",
        "سوال: تا وقتی کاربر عدد 0 را وارد نکرده، از کاربر عدد بگیرد. و پس از آن ماکزیمم آنها، مینیمم آنها، مجموع و میانگین آنها را محاسبه و چاپ کند.\n",
        "</div>"
      ],
      "metadata": {
        "id": "ixaP8YhTMAdW"
      }
    },
    {
      "cell_type": "code",
      "source": [
        "num = float(input())\n",
        "min = num\n",
        "max = num\n",
        "sum = 0\n",
        "cnt = 1\n",
        "while num != 0 :\n",
        "  if num < min :\n",
        "    min = num\n",
        "  if num > max :\n",
        "    max = num\n",
        "  sum += num\n",
        "  num = float(input())\n",
        "  cnt+=1\n",
        "print(f\"The min {min}, The max {max}\")\n",
        "print(f\"The sum {sum}, The average {sum/cnt}\")"
      ],
      "metadata": {
        "colab": {
          "base_uri": "https://localhost:8080/"
        },
        "outputId": "c353b438-cde2-4bf6-cf68-6962e22e0f78",
        "id": "EdHOc6EhMAdW"
      },
      "execution_count": null,
      "outputs": [
        {
          "output_type": "stream",
          "name": "stdout",
          "text": [
            "12\n",
            "13\n",
            "0\n",
            "The min 12.0, The max 13.0\n",
            "The sum 25.0, The average 8.333333333333334\n"
          ]
        }
      ]
    },
    {
      "cell_type": "markdown",
      "source": [
        "<div dir=rtl>\n",
        "اصلاح کد بالا:\n",
        "با استفاده از break\n",
        "</div>"
      ],
      "metadata": {
        "id": "DVuAbffnMAdW"
      }
    },
    {
      "cell_type": "code",
      "source": [
        "import math\n",
        "min = math.inf\n",
        "max = -math.inf\n",
        "cnt = 0\n",
        "sum = 0\n",
        "while True :\n",
        "  num = float(input())\n",
        "  if num == 0 :\n",
        "    break\n",
        "  cnt += 1\n",
        "  if num < min :\n",
        "    min = num\n",
        "  if num > max :\n",
        "    max = num\n",
        "  sum += num\n",
        "print(f\"The min {min:.2f}, The max {max}\")"
      ],
      "metadata": {
        "id": "2VJisVITMAdW"
      },
      "execution_count": null,
      "outputs": []
    },
    {
      "cell_type": "markdown",
      "source": [
        "<div dir=rtl>\n",
        "با استفاده از دستور break می توانیم، از یک حلقه تکرار خارج شویم.\n",
        "</br>\n",
        "هنگامی که کنترل به دستور break که در داخل یک حلقه تکرار قرار داده شده است، برسد\n",
        "</br>\n",
        "به اولین دستور بعد از حلقه تکرار منقل خواهد شد. و آن دستور را اجرا می کند.\n",
        "</div>"
      ],
      "metadata": {
        "id": "7DAqitpeMAdY"
      }
    },
    {
      "cell_type": "markdown",
      "source": [
        "<div dir=rtl>\n",
        "دستور continue نیز در داخل حلقه های تکرار به کار می رود.\n",
        "</br>\n",
        "هنگامی که کنترل به دستور continue می رسد:\n",
        "به ابتدای حلقه تکرار منتقل شده و در صوتیکه شرط حلقه همچنان برقرار باشد، دستورات حلقه از ابتدای آن اجرا می شوند.\n",
        "</div>"
      ],
      "metadata": {
        "id": "S17kXpkyMAdZ"
      }
    },
    {
      "cell_type": "code",
      "source": [
        "while True:\n",
        "  print('Who are you?')\n",
        "  name = input()\n",
        "  if name != 'Joe':\n",
        "    continue\n",
        "  print('Hello, Joe. What is the password? (It is a fish.)')\n",
        "  password = input()\n",
        "  if password == 'swordfish':\n",
        "    break\n",
        "print('Access granted.')"
      ],
      "metadata": {
        "id": "ge217vXKMAdZ"
      },
      "execution_count": null,
      "outputs": []
    },
    {
      "cell_type": "markdown",
      "source": [
        "<div dir=rtl>\n",
        "س: برنامه ای بنویسید که تعدادی عدد را خوانده و تعداد اعدادی را همه ارقام آنها با هم برابر است را به دست آورد.\n",
        "برای خروج از برنامه عدد -99 وارد می شود.\n",
        "</div>"
      ],
      "metadata": {
        "id": "W9z5NH1kMAdZ"
      }
    },
    {
      "cell_type": "code",
      "source": [
        "cnt = 0\n",
        "while True:\n",
        "  num = int(input())\n",
        "  if num == -99 :\n",
        "    break\n",
        "  \n",
        "  p_digit = num % 10\n",
        "  is_equal_digit = True\n",
        "  while num > 0 :\n",
        "    digit = num % 10\n",
        "    if p_digit != digit:\n",
        "      is_equal_digit = False\n",
        "      break\n",
        "    num = num // 10\n",
        "  if is_equal_digit :\n",
        "    cnt += 1\n",
        "\n",
        "print(f\"The number of the equal digit {cnt}\")"
      ],
      "metadata": {
        "colab": {
          "base_uri": "https://localhost:8080/"
        },
        "outputId": "e6bac650-fd48-473e-8c1d-a6f0405b5923",
        "id": "EAVWhzNRMAdZ"
      },
      "execution_count": null,
      "outputs": [
        {
          "output_type": "stream",
          "name": "stdout",
          "text": [
            "123\n",
            "33\n",
            "-99\n",
            "The number of the equal digit 1\n"
          ]
        }
      ]
    },
    {
      "cell_type": "code",
      "source": [
        "cnt = 0\n",
        "while True:\n",
        "  num = int(input())\n",
        "  if num == -99 :\n",
        "    break\n",
        "  \n",
        "  p_digit = num % 10\n",
        "\n",
        "  digit = p_digit\n",
        "  while num > 0 and p_digit == digit:\n",
        "    digit = num % 10\n",
        "    num = num // 10\n",
        "  if p_digit == digit:\n",
        "    cnt += 1\n",
        "\n",
        "print(f\"The number of the equal digit {cnt}\")"
      ],
      "metadata": {
        "colab": {
          "base_uri": "https://localhost:8080/"
        },
        "outputId": "ae7806af-215d-4ad3-dcb6-f0170e40b2f9",
        "id": "8RGrq-ktMAda"
      },
      "execution_count": null,
      "outputs": [
        {
          "output_type": "stream",
          "name": "stdout",
          "text": [
            "33\n",
            "-99\n",
            "The number of the equal digit 1\n"
          ]
        }
      ]
    },
    {
      "cell_type": "code",
      "source": [
        "while (num := int(input())) != -99 :"
      ],
      "metadata": {
        "id": "IFZpYlsYMAda"
      },
      "execution_count": null,
      "outputs": []
    },
    {
      "cell_type": "markdown",
      "source": [
        "<div dir=rtl>\n",
        "نوشتن جملات شرطی در یک خط\n",
        "</br>\n",
        "</div>"
      ],
      "metadata": {
        "id": "j5eylhiVMAda"
      }
    },
    {
      "cell_type": "code",
      "source": [
        "print('equal') if 1 == 1 else print('not equal')"
      ],
      "metadata": {
        "id": "Xvm3bbtBMAda"
      },
      "execution_count": null,
      "outputs": []
    },
    {
      "cell_type": "code",
      "source": [
        "if 1==1 :\n",
        "  print('equal')\n",
        "else:\n",
        "  print('not equal')"
      ],
      "metadata": {
        "id": "WpBktnTrMAda"
      },
      "execution_count": null,
      "outputs": []
    },
    {
      "cell_type": "markdown",
      "source": [
        "<div dir=rtl>\n",
        "استفاده از عبارت های انتسابی:\n",
        "</br>\n",
        "عبارت‌های انتسابی (Assignment Expressions) قابلیت جدیدی است که از نسخه‌ی ۳.۸ به پایتون اضافه شده است و به ما کمک می‌کند کد را ساده‌تر و کوتاه‌تر بنویسیم. این عبارت‌ها با استفاده از عملگر := نوشته می‌شوند.\n",
        "</br>\n",
        "این عملگر ابتدا مقدار مشخص شده را به متغیر نسبت می‌دهد و سپس آن مقدار را برمی‌گرداند. فرض کنید میخواهید یک متغیر را مقداردهی کرده و آن را چاپ کنید.\n",
        "</div>"
      ],
      "metadata": {
        "id": "Q-m81H8-MAda"
      }
    },
    {
      "cell_type": "code",
      "source": [
        "temp = 5\n",
        "print(temp)"
      ],
      "metadata": {
        "id": "L1FIzwl-MAdb"
      },
      "execution_count": null,
      "outputs": []
    },
    {
      "cell_type": "code",
      "source": [
        "print(temp:=5)"
      ],
      "metadata": {
        "id": "CWHOTFQpMAdb"
      },
      "execution_count": null,
      "outputs": []
    },
    {
      "cell_type": "markdown",
      "source": [
        "<div dir =rtl>\n",
        "استفاده از این عملگر در نوشتن حلقه‌ها می‌تواند مفید باشد\n",
        "</br>\n",
        "نوشتن کد سوال قبل با استفاده از عملگرهای انتسابی:\n",
        "</div>"
      ],
      "metadata": {
        "id": "hbw7JTl8MAdb"
      }
    },
    {
      "cell_type": "code",
      "source": [],
      "metadata": {
        "id": "041fNLBkMAdb"
      },
      "execution_count": null,
      "outputs": []
    },
    {
      "cell_type": "markdown",
      "source": [
        "<div dir=rtl>\n",
        "حلقه for و تابع range:\n",
        "</br>\n",
        "در صورتیکه بخواهیم، یک حلقه به تعداد مشخص تکرار شود از حلقه for استفاده می کنیم.\n",
        "</br>\n",
        "در پایتون این کار را با استفاده از حلقه for و تابع range انجام می دهیم.\n",
        "\n",
        "\n",
        "</div>"
      ],
      "metadata": {
        "id": "e5t4pbJUMAdb"
      }
    },
    {
      "cell_type": "code",
      "source": [
        "for (a variable name) in range(n,[m,s]) \n",
        "  (for block)"
      ],
      "metadata": {
        "id": "vY2ocuZaMAdb"
      },
      "execution_count": null,
      "outputs": []
    },
    {
      "cell_type": "code",
      "source": [
        "print('My name is')\n",
        "for i in range(5):\n",
        "  print('Jimmy Five Times (' + str(i) + ')')"
      ],
      "metadata": {
        "id": "IlRyLbsEMAdb"
      },
      "execution_count": null,
      "outputs": []
    },
    {
      "cell_type": "markdown",
      "source": [
        "<div dir = rtl>\n",
        "تابع range:\n",
        "range(n) : دنباله ای از اعداد صحیح که از 0 شروع شده و با n-1 خاتمه می یابد.\n",
        "</br>\n",
        "range(n,m) : دنباله ای از اعداد صحیح که از n شروع شده و با m-1 خاتمه می باید.\n",
        "</br>\n",
        "range(n,m,s) : دنباله ای از اعداد صحیح که از n شروع شده و حداکثر با m-1 خاتمه می یابد و \n",
        "اعداد s تا s تا اضافه می شوند.\n",
        "</br>\n",
        "</div>"
      ],
      "metadata": {
        "id": "cXKPQ5-QMAdc"
      }
    },
    {
      "cell_type": "code",
      "source": [
        "for i in range(10) :\n",
        "  print(i,end=\" \")"
      ],
      "metadata": {
        "colab": {
          "base_uri": "https://localhost:8080/"
        },
        "outputId": "91e42fc2-cb98-4da4-e500-b3f0997961dd",
        "id": "Ip666e6KMAdc"
      },
      "execution_count": null,
      "outputs": [
        {
          "output_type": "stream",
          "name": "stdout",
          "text": [
            "0 1 2 3 4 5 6 7 8 9 "
          ]
        }
      ]
    },
    {
      "cell_type": "code",
      "source": [
        "for i in range(-1) :\n",
        "  print(i, end=\" \")"
      ],
      "metadata": {
        "id": "M1U5bUTIMAdc"
      },
      "execution_count": null,
      "outputs": []
    },
    {
      "cell_type": "code",
      "source": [
        "for i in range(1,-1) :\n",
        "  print(i, end=\" \")"
      ],
      "metadata": {
        "id": "HPRSfmL_MAdc"
      },
      "execution_count": null,
      "outputs": []
    },
    {
      "cell_type": "code",
      "source": [
        "for i in range(-1,3):\n",
        "  print(i, end=\" \")"
      ],
      "metadata": {
        "colab": {
          "base_uri": "https://localhost:8080/"
        },
        "outputId": "7cf8f6af-c6cc-47a9-d6da-0ed76632239b",
        "id": "3PRebheAMAdc"
      },
      "execution_count": null,
      "outputs": [
        {
          "output_type": "stream",
          "name": "stdout",
          "text": [
            "-1 0 1 2 "
          ]
        }
      ]
    },
    {
      "cell_type": "code",
      "source": [
        "for i in range(2, 10, 3):\n",
        "  print(i, end=\" \")"
      ],
      "metadata": {
        "colab": {
          "base_uri": "https://localhost:8080/"
        },
        "outputId": "c55a4381-b029-4a0f-80c5-7f35a123fd7a",
        "id": "Ij_gaPsGMAdc"
      },
      "execution_count": null,
      "outputs": [
        {
          "output_type": "stream",
          "name": "stdout",
          "text": [
            "2 5 8 "
          ]
        }
      ]
    },
    {
      "cell_type": "code",
      "source": [
        "for i in range(2, 10, -3):\n",
        "  print(i, end=\" \")"
      ],
      "metadata": {
        "id": "-XWC_VTKMAdd"
      },
      "execution_count": null,
      "outputs": []
    },
    {
      "cell_type": "code",
      "source": [
        "for i in range(10, 2, -3):\n",
        "  print(i, end=\" \")"
      ],
      "metadata": {
        "colab": {
          "base_uri": "https://localhost:8080/"
        },
        "outputId": "5968f40e-78e0-4fc1-9264-d00c871be17e",
        "id": "McEHqH2KMAdd"
      },
      "execution_count": null,
      "outputs": [
        {
          "output_type": "stream",
          "name": "stdout",
          "text": [
            "10 7 4 "
          ]
        }
      ]
    },
    {
      "cell_type": "code",
      "source": [
        "for i in range(-1,5, -1):\n",
        "  print(i, end= \" \")"
      ],
      "metadata": {
        "id": "0u2l_yUyMAdd"
      },
      "execution_count": null,
      "outputs": []
    },
    {
      "cell_type": "markdown",
      "source": [
        "<div dir=rtl>\n",
        "برنامه ای بنویسید که عددی را از ورودی گرفته و فاکتوریل آن را چاپ کند.\n",
        "</div>"
      ],
      "metadata": {
        "id": "C_Xu14AuMAdd"
      }
    },
    {
      "cell_type": "code",
      "source": [
        "num = int(input())\n",
        "fact = 1\n",
        "for i in range(1,num+1):\n",
        "  fact *= i\n",
        "print(f\"factorial of {num} is {fact}\")"
      ],
      "metadata": {
        "colab": {
          "base_uri": "https://localhost:8080/"
        },
        "outputId": "93b65722-e87d-4360-f39e-c878b9f70928",
        "id": "RC-prUylMAdd"
      },
      "execution_count": null,
      "outputs": [
        {
          "output_type": "stream",
          "name": "stdout",
          "text": [
            "1\n",
            "factorial of 1 is 1\n"
          ]
        }
      ]
    },
    {
      "cell_type": "markdown",
      "source": [
        "<div dir=rtl>\n",
        "سوال: برنامه ای بنویسید که عددی را خوانده و تشخیص بدهد عدد کامل است یا خیر؟\n",
        "</div>\n",
        "\n"
      ],
      "metadata": {
        "id": "_4HE2X6WMAdd"
      }
    },
    {
      "cell_type": "code",
      "source": [
        "num = int(input())\n",
        "sum = 0\n",
        "for i in range(1,num):\n",
        "  if num % i == 0 :\n",
        "    sum += i\n",
        "if sum == num :\n",
        "  print(\"complete\")\n",
        "else:\n",
        "  print(\"not complete\")"
      ],
      "metadata": {
        "colab": {
          "base_uri": "https://localhost:8080/"
        },
        "outputId": "722ce8c5-f957-47db-b931-b1a7082dae4b",
        "id": "2q511xGPMAdd"
      },
      "execution_count": null,
      "outputs": [
        {
          "output_type": "stream",
          "name": "stdout",
          "text": [
            "36\n",
            "not complete\n"
          ]
        }
      ]
    },
    {
      "cell_type": "markdown",
      "source": [
        "<div dir = rtl>\n",
        "برنامه ای بنویسید که اعداد کامل کمتر از 10000 را چاپ کند\n",
        "</div>"
      ],
      "metadata": {
        "id": "Tppdvx5nMAde"
      }
    },
    {
      "cell_type": "code",
      "source": [
        "for num in range(1,10001):\n",
        "  sum = 0\n",
        "  for i in range(1,num):\n",
        "    if num % i == 0 :\n",
        "      sum += i\n",
        "  if sum == num :\n",
        "    print(num)\n"
      ],
      "metadata": {
        "colab": {
          "base_uri": "https://localhost:8080/"
        },
        "outputId": "4ca09d29-148e-4066-da1f-0b712c4c6a16",
        "id": "07UmrPkMMAde"
      },
      "execution_count": null,
      "outputs": [
        {
          "output_type": "stream",
          "name": "stdout",
          "text": [
            "6\n",
            "28\n",
            "496\n",
            "8128\n"
          ]
        }
      ]
    },
    {
      "cell_type": "markdown",
      "source": [
        "<div dir=rtl>\n",
        "سوال : برنامه ای بنویسید که عدد را از ورودی خوانده و دنباله فیبوناچی تا آن عدد را حساب کند.\n",
        "</div>"
      ],
      "metadata": {
        "id": "ySEwNqE4MAdf"
      }
    },
    {
      "cell_type": "code",
      "source": [
        "n = int(input())\n",
        "a = 1\n",
        "b = 1\n",
        "for i in range(n+1):\n",
        "  if i == 0 or i == 1:\n",
        "    print(1, end=\" \")\n",
        "    continue\n",
        "  print(a+b, end=\" \")\n",
        "  #temp = a\n",
        "  #a = b\n",
        "  #b = temp + b\n",
        "  a,b = b,a+b"
      ],
      "metadata": {
        "id": "qcg4CUn1MAdg"
      },
      "execution_count": null,
      "outputs": []
    },
    {
      "cell_type": "markdown",
      "source": [
        "<div dir=rtl>\n",
        "روش دوم برای حل مسئله بالا:\n",
        "</div>"
      ],
      "metadata": {
        "id": "cRwanFazMAdg"
      }
    },
    {
      "cell_type": "code",
      "source": [
        "n = int(input())\n",
        "a = 0\n",
        "b = 1\n",
        "if n >= 0 :\n",
        "  print(1, end=\" \")\n",
        "for i in range(1,n+1):\n",
        "  print(a+b, end=\" \")\n",
        "  a,b = b,a+b"
      ],
      "metadata": {
        "id": "VJpvOZ9HMAdg"
      },
      "execution_count": null,
      "outputs": []
    },
    {
      "cell_type": "markdown",
      "source": [
        "<div dir = rtl>\n",
        "برنامه ای بنویسید که n را از ورودی خوانده و جدول ضرب اعداد از 1 تا n را چاپ کند.\n",
        "</div>"
      ],
      "metadata": {
        "id": "gvWzpiw2MAdg"
      }
    },
    {
      "cell_type": "code",
      "source": [],
      "metadata": {
        "id": "GyujjgRQMAdg"
      },
      "execution_count": null,
      "outputs": []
    },
    {
      "cell_type": "markdown",
      "source": [
        "<div dir=rtl>\n",
        "برای ایجاد حلقه های تکرار از while و for استفاده می کنیم.\n",
        "</br>\n",
        "while condition :\n",
        "</br>\n",
        "  (while block)\n",
        "\n",
        "</div>"
      ],
      "metadata": {
        "id": "xrXgGu3tMCON"
      }
    },
    {
      "cell_type": "markdown",
      "source": [
        "<div dir=rtl>\n",
        "سوال: عددی را بخواند و از عدد 1 تا آن عدد را چاپ کند.\n",
        "</div>"
      ],
      "metadata": {
        "id": "Omf1O8yFMCON"
      }
    },
    {
      "cell_type": "code",
      "source": [
        "num = int(input())\n",
        "i = 0\n",
        "while i < num :\n",
        "  print(i+1)\n",
        "  i += 1\n"
      ],
      "metadata": {
        "id": "8YaVBAksMCOO"
      },
      "execution_count": null,
      "outputs": []
    },
    {
      "cell_type": "code",
      "source": [
        "num = int(input())\n",
        "i = 1\n",
        "while i <= num :\n",
        "  print(i)\n",
        "  i += 1"
      ],
      "metadata": {
        "id": "5SjiSh2bMCOO"
      },
      "execution_count": null,
      "outputs": []
    },
    {
      "cell_type": "code",
      "source": [
        "num = int(input())\n",
        "i = 1\n",
        "sum = 0\n",
        "while i <= num :\n",
        "  if num % i == 0 :\n",
        "    sum += i\n",
        "  i += 1\n",
        "\n",
        "print(f\"Sum of divisors={sum}\")"
      ],
      "metadata": {
        "id": "udd_ifKBMCOO"
      },
      "execution_count": null,
      "outputs": []
    },
    {
      "cell_type": "code",
      "execution_count": null,
      "metadata": {
        "id": "o2RfQK8_MCOO"
      },
      "outputs": [],
      "source": []
    },
    {
      "cell_type": "markdown",
      "source": [
        "<div dir=rtl>\n",
        "سوال: تا وقتی کاربر عدد 0 را وارد نکرده، از کاربر عدد بگیرد. و پس از آن ماکزیمم آنها، مینیمم آنها، مجموع و میانگین آنها را محاسبه و چاپ کند.\n",
        "</div>"
      ],
      "metadata": {
        "id": "_0Qg3qD9MCOO"
      }
    },
    {
      "cell_type": "code",
      "source": [
        "num = float(input())\n",
        "min = num\n",
        "max = num\n",
        "sum = 0\n",
        "cnt = 1\n",
        "while num != 0 :\n",
        "  if num < min :\n",
        "    min = num\n",
        "  if num > max :\n",
        "    max = num\n",
        "  sum += num\n",
        "  num = float(input())\n",
        "  cnt+=1\n",
        "print(f\"The min {min}, The max {max}\")\n",
        "print(f\"The sum {sum}, The average {sum/cnt}\")"
      ],
      "metadata": {
        "colab": {
          "base_uri": "https://localhost:8080/"
        },
        "outputId": "c353b438-cde2-4bf6-cf68-6962e22e0f78",
        "id": "bpXkXJFMMCOO"
      },
      "execution_count": null,
      "outputs": [
        {
          "output_type": "stream",
          "name": "stdout",
          "text": [
            "12\n",
            "13\n",
            "0\n",
            "The min 12.0, The max 13.0\n",
            "The sum 25.0, The average 8.333333333333334\n"
          ]
        }
      ]
    },
    {
      "cell_type": "markdown",
      "source": [
        "<div dir=rtl>\n",
        "اصلاح کد بالا:\n",
        "با استفاده از break\n",
        "</div>"
      ],
      "metadata": {
        "id": "6nr35Q5VMCOO"
      }
    },
    {
      "cell_type": "code",
      "source": [
        "import math\n",
        "min = math.inf\n",
        "max = -math.inf\n",
        "cnt = 0\n",
        "sum = 0\n",
        "while True :\n",
        "  num = float(input())\n",
        "  if num == 0 :\n",
        "    break\n",
        "  cnt += 1\n",
        "  if num < min :\n",
        "    min = num\n",
        "  if num > max :\n",
        "    max = num\n",
        "  sum += num\n",
        "print(f\"The min {min:.2f}, The max {max}\")"
      ],
      "metadata": {
        "id": "ba_70ibDMCOP"
      },
      "execution_count": null,
      "outputs": []
    },
    {
      "cell_type": "markdown",
      "source": [
        "<div dir=rtl>\n",
        "با استفاده از دستور break می توانیم، از یک حلقه تکرار خارج شویم.\n",
        "</br>\n",
        "هنگامی که کنترل به دستور break که در داخل یک حلقه تکرار قرار داده شده است، برسد\n",
        "</br>\n",
        "به اولین دستور بعد از حلقه تکرار منقل خواهد شد. و آن دستور را اجرا می کند.\n",
        "</div>"
      ],
      "metadata": {
        "id": "z_zqyghNMCOP"
      }
    },
    {
      "cell_type": "markdown",
      "source": [
        "<div dir=rtl>\n",
        "دستور continue نیز در داخل حلقه های تکرار به کار می رود.\n",
        "</br>\n",
        "هنگامی که کنترل به دستور continue می رسد:\n",
        "به ابتدای حلقه تکرار منتقل شده و در صوتیکه شرط حلقه همچنان برقرار باشد، دستورات حلقه از ابتدای آن اجرا می شوند.\n",
        "</div>"
      ],
      "metadata": {
        "id": "YcPT3gaWMCOP"
      }
    },
    {
      "cell_type": "code",
      "source": [
        "while True:\n",
        "  print('Who are you?')\n",
        "  name = input()\n",
        "  if name != 'Joe':\n",
        "    continue\n",
        "  print('Hello, Joe. What is the password? (It is a fish.)')\n",
        "  password = input()\n",
        "  if password == 'swordfish':\n",
        "    break\n",
        "print('Access granted.')"
      ],
      "metadata": {
        "id": "AYlY5C4eMCOP"
      },
      "execution_count": null,
      "outputs": []
    },
    {
      "cell_type": "markdown",
      "source": [
        "<div dir=rtl>\n",
        "س: برنامه ای بنویسید که تعدادی عدد را خوانده و تعداد اعدادی را همه ارقام آنها با هم برابر است را به دست آورد.\n",
        "برای خروج از برنامه عدد -99 وارد می شود.\n",
        "</div>"
      ],
      "metadata": {
        "id": "GuY7v8WRMCOP"
      }
    },
    {
      "cell_type": "code",
      "source": [
        "cnt = 0\n",
        "while True:\n",
        "  num = int(input())\n",
        "  if num == -99 :\n",
        "    break\n",
        "  \n",
        "  p_digit = num % 10\n",
        "  is_equal_digit = True\n",
        "  while num > 0 :\n",
        "    digit = num % 10\n",
        "    if p_digit != digit:\n",
        "      is_equal_digit = False\n",
        "      break\n",
        "    num = num // 10\n",
        "  if is_equal_digit :\n",
        "    cnt += 1\n",
        "\n",
        "print(f\"The number of the equal digit {cnt}\")"
      ],
      "metadata": {
        "colab": {
          "base_uri": "https://localhost:8080/"
        },
        "outputId": "e6bac650-fd48-473e-8c1d-a6f0405b5923",
        "id": "-avtk7aEMCOP"
      },
      "execution_count": null,
      "outputs": [
        {
          "output_type": "stream",
          "name": "stdout",
          "text": [
            "123\n",
            "33\n",
            "-99\n",
            "The number of the equal digit 1\n"
          ]
        }
      ]
    },
    {
      "cell_type": "code",
      "source": [
        "cnt = 0\n",
        "while True:\n",
        "  num = int(input())\n",
        "  if num == -99 :\n",
        "    break\n",
        "  \n",
        "  p_digit = num % 10\n",
        "\n",
        "  digit = p_digit\n",
        "  while num > 0 and p_digit == digit:\n",
        "    digit = num % 10\n",
        "    num = num // 10\n",
        "  if p_digit == digit:\n",
        "    cnt += 1\n",
        "\n",
        "print(f\"The number of the equal digit {cnt}\")"
      ],
      "metadata": {
        "colab": {
          "base_uri": "https://localhost:8080/"
        },
        "outputId": "ae7806af-215d-4ad3-dcb6-f0170e40b2f9",
        "id": "f-u_l4iRMCOP"
      },
      "execution_count": null,
      "outputs": [
        {
          "output_type": "stream",
          "name": "stdout",
          "text": [
            "33\n",
            "-99\n",
            "The number of the equal digit 1\n"
          ]
        }
      ]
    },
    {
      "cell_type": "code",
      "source": [
        "while (num := int(input())) != -99 :"
      ],
      "metadata": {
        "id": "M3Bl6u4tMCOQ"
      },
      "execution_count": null,
      "outputs": []
    },
    {
      "cell_type": "markdown",
      "source": [
        "<div dir=rtl>\n",
        "نوشتن جملات شرطی در یک خط\n",
        "</br>\n",
        "</div>"
      ],
      "metadata": {
        "id": "KR6RmdBwMCOQ"
      }
    },
    {
      "cell_type": "code",
      "source": [
        "print('equal') if 1 == 1 else print('not equal')"
      ],
      "metadata": {
        "id": "KY5AMRR0MCOQ"
      },
      "execution_count": null,
      "outputs": []
    },
    {
      "cell_type": "code",
      "source": [
        "if 1==1 :\n",
        "  print('equal')\n",
        "else:\n",
        "  print('not equal')"
      ],
      "metadata": {
        "id": "VSrpwyesMCOQ"
      },
      "execution_count": null,
      "outputs": []
    },
    {
      "cell_type": "markdown",
      "source": [
        "<div dir=rtl>\n",
        "استفاده از عبارت های انتسابی:\n",
        "</br>\n",
        "عبارت‌های انتسابی (Assignment Expressions) قابلیت جدیدی است که از نسخه‌ی ۳.۸ به پایتون اضافه شده است و به ما کمک می‌کند کد را ساده‌تر و کوتاه‌تر بنویسیم. این عبارت‌ها با استفاده از عملگر := نوشته می‌شوند.\n",
        "</br>\n",
        "این عملگر ابتدا مقدار مشخص شده را به متغیر نسبت می‌دهد و سپس آن مقدار را برمی‌گرداند. فرض کنید میخواهید یک متغیر را مقداردهی کرده و آن را چاپ کنید.\n",
        "</div>"
      ],
      "metadata": {
        "id": "bkh4tlGEMCOQ"
      }
    },
    {
      "cell_type": "code",
      "source": [
        "temp = 5\n",
        "print(temp)"
      ],
      "metadata": {
        "id": "-TtFMHQVMCOQ"
      },
      "execution_count": null,
      "outputs": []
    },
    {
      "cell_type": "code",
      "source": [
        "print(temp:=5)"
      ],
      "metadata": {
        "id": "0MaA666wMCOQ"
      },
      "execution_count": null,
      "outputs": []
    },
    {
      "cell_type": "markdown",
      "source": [
        "<div dir =rtl>\n",
        "استفاده از این عملگر در نوشتن حلقه‌ها می‌تواند مفید باشد\n",
        "</br>\n",
        "نوشتن کد سوال قبل با استفاده از عملگرهای انتسابی:\n",
        "</div>"
      ],
      "metadata": {
        "id": "ywatf65uMCOQ"
      }
    },
    {
      "cell_type": "code",
      "source": [],
      "metadata": {
        "id": "1Jk8O_mYMCOR"
      },
      "execution_count": null,
      "outputs": []
    },
    {
      "cell_type": "markdown",
      "source": [
        "<div dir=rtl>\n",
        "حلقه for و تابع range:\n",
        "</br>\n",
        "در صورتیکه بخواهیم، یک حلقه به تعداد مشخص تکرار شود از حلقه for استفاده می کنیم.\n",
        "</br>\n",
        "در پایتون این کار را با استفاده از حلقه for و تابع range انجام می دهیم.\n",
        "\n",
        "\n",
        "</div>"
      ],
      "metadata": {
        "id": "pRRTmmB3MCOR"
      }
    },
    {
      "cell_type": "code",
      "source": [
        "for (a variable name) in range(n,[m,s]) \n",
        "  (for block)"
      ],
      "metadata": {
        "id": "Gnr1Yk3IMCOR"
      },
      "execution_count": null,
      "outputs": []
    },
    {
      "cell_type": "code",
      "source": [
        "print('My name is')\n",
        "for i in range(5):\n",
        "  print('Jimmy Five Times (' + str(i) + ')')"
      ],
      "metadata": {
        "id": "2_mvbmmrMCOR"
      },
      "execution_count": null,
      "outputs": []
    },
    {
      "cell_type": "markdown",
      "source": [
        "<div dir = rtl>\n",
        "تابع range:\n",
        "range(n) : دنباله ای از اعداد صحیح که از 0 شروع شده و با n-1 خاتمه می یابد.\n",
        "</br>\n",
        "range(n,m) : دنباله ای از اعداد صحیح که از n شروع شده و با m-1 خاتمه می باید.\n",
        "</br>\n",
        "range(n,m,s) : دنباله ای از اعداد صحیح که از n شروع شده و حداکثر با m-1 خاتمه می یابد و \n",
        "اعداد s تا s تا اضافه می شوند.\n",
        "</br>\n",
        "</div>"
      ],
      "metadata": {
        "id": "RmR9oAaTMCOR"
      }
    },
    {
      "cell_type": "code",
      "source": [
        "for i in range(10) :\n",
        "  print(i,end=\" \")"
      ],
      "metadata": {
        "colab": {
          "base_uri": "https://localhost:8080/"
        },
        "outputId": "91e42fc2-cb98-4da4-e500-b3f0997961dd",
        "id": "fbu-qI-9MCOS"
      },
      "execution_count": null,
      "outputs": [
        {
          "output_type": "stream",
          "name": "stdout",
          "text": [
            "0 1 2 3 4 5 6 7 8 9 "
          ]
        }
      ]
    },
    {
      "cell_type": "code",
      "source": [
        "for i in range(-1) :\n",
        "  print(i, end=\" \")"
      ],
      "metadata": {
        "id": "3zJmXUZHMCOS"
      },
      "execution_count": null,
      "outputs": []
    },
    {
      "cell_type": "code",
      "source": [
        "for i in range(1,-1) :\n",
        "  print(i, end=\" \")"
      ],
      "metadata": {
        "id": "iR6PpATVMCOS"
      },
      "execution_count": null,
      "outputs": []
    },
    {
      "cell_type": "code",
      "source": [
        "for i in range(-1,3):\n",
        "  print(i, end=\" \")"
      ],
      "metadata": {
        "colab": {
          "base_uri": "https://localhost:8080/"
        },
        "outputId": "7cf8f6af-c6cc-47a9-d6da-0ed76632239b",
        "id": "jyeHnLmeMCOS"
      },
      "execution_count": null,
      "outputs": [
        {
          "output_type": "stream",
          "name": "stdout",
          "text": [
            "-1 0 1 2 "
          ]
        }
      ]
    },
    {
      "cell_type": "code",
      "source": [
        "for i in range(2, 10, 3):\n",
        "  print(i, end=\" \")"
      ],
      "metadata": {
        "colab": {
          "base_uri": "https://localhost:8080/"
        },
        "outputId": "c55a4381-b029-4a0f-80c5-7f35a123fd7a",
        "id": "-BgWZdVvMCOS"
      },
      "execution_count": null,
      "outputs": [
        {
          "output_type": "stream",
          "name": "stdout",
          "text": [
            "2 5 8 "
          ]
        }
      ]
    },
    {
      "cell_type": "code",
      "source": [
        "for i in range(2, 10, -3):\n",
        "  print(i, end=\" \")"
      ],
      "metadata": {
        "id": "ta7mihbnMCOS"
      },
      "execution_count": null,
      "outputs": []
    },
    {
      "cell_type": "code",
      "source": [
        "for i in range(10, 2, -3):\n",
        "  print(i, end=\" \")"
      ],
      "metadata": {
        "colab": {
          "base_uri": "https://localhost:8080/"
        },
        "outputId": "5968f40e-78e0-4fc1-9264-d00c871be17e",
        "id": "DrLx5logMCOT"
      },
      "execution_count": null,
      "outputs": [
        {
          "output_type": "stream",
          "name": "stdout",
          "text": [
            "10 7 4 "
          ]
        }
      ]
    },
    {
      "cell_type": "code",
      "source": [
        "for i in range(-1,5, -1):\n",
        "  print(i, end= \" \")"
      ],
      "metadata": {
        "id": "NHjspMhXMCOT"
      },
      "execution_count": null,
      "outputs": []
    },
    {
      "cell_type": "markdown",
      "source": [
        "<div dir=rtl>\n",
        "برنامه ای بنویسید که عددی را از ورودی گرفته و فاکتوریل آن را چاپ کند.\n",
        "</div>"
      ],
      "metadata": {
        "id": "OIMO22IIMCOT"
      }
    },
    {
      "cell_type": "code",
      "source": [
        "num = int(input())\n",
        "fact = 1\n",
        "for i in range(1,num+1):\n",
        "  fact *= i\n",
        "print(f\"factorial of {num} is {fact}\")"
      ],
      "metadata": {
        "colab": {
          "base_uri": "https://localhost:8080/"
        },
        "outputId": "93b65722-e87d-4360-f39e-c878b9f70928",
        "id": "3L-jwNn5MCOT"
      },
      "execution_count": null,
      "outputs": [
        {
          "output_type": "stream",
          "name": "stdout",
          "text": [
            "1\n",
            "factorial of 1 is 1\n"
          ]
        }
      ]
    },
    {
      "cell_type": "markdown",
      "source": [
        "<div dir=rtl>\n",
        "سوال: برنامه ای بنویسید که عددی را خوانده و تشخیص بدهد عدد کامل است یا خیر؟\n",
        "</div>\n",
        "\n"
      ],
      "metadata": {
        "id": "DNjPxsizMCOT"
      }
    },
    {
      "cell_type": "code",
      "source": [
        "num = int(input())\n",
        "sum = 0\n",
        "for i in range(1,num):\n",
        "  if num % i == 0 :\n",
        "    sum += i\n",
        "if sum == num :\n",
        "  print(\"complete\")\n",
        "else:\n",
        "  print(\"not complete\")"
      ],
      "metadata": {
        "colab": {
          "base_uri": "https://localhost:8080/"
        },
        "outputId": "722ce8c5-f957-47db-b931-b1a7082dae4b",
        "id": "KARpyydPMCOT"
      },
      "execution_count": null,
      "outputs": [
        {
          "output_type": "stream",
          "name": "stdout",
          "text": [
            "36\n",
            "not complete\n"
          ]
        }
      ]
    },
    {
      "cell_type": "markdown",
      "source": [
        "<div dir = rtl>\n",
        "برنامه ای بنویسید که اعداد کامل کمتر از 10000 را چاپ کند\n",
        "</div>"
      ],
      "metadata": {
        "id": "XQZ7zBHVMCOT"
      }
    },
    {
      "cell_type": "code",
      "source": [
        "for num in range(1,10001):\n",
        "  sum = 0\n",
        "  for i in range(1,num):\n",
        "    if num % i == 0 :\n",
        "      sum += i\n",
        "  if sum == num :\n",
        "    print(num)\n"
      ],
      "metadata": {
        "colab": {
          "base_uri": "https://localhost:8080/"
        },
        "outputId": "4ca09d29-148e-4066-da1f-0b712c4c6a16",
        "id": "l2SY69jfMCOU"
      },
      "execution_count": null,
      "outputs": [
        {
          "output_type": "stream",
          "name": "stdout",
          "text": [
            "6\n",
            "28\n",
            "496\n",
            "8128\n"
          ]
        }
      ]
    },
    {
      "cell_type": "markdown",
      "source": [
        "<div dir=rtl>\n",
        "سوال : برنامه ای بنویسید که عدد را از ورودی خوانده و دنباله فیبوناچی تا آن عدد را حساب کند.\n",
        "</div>"
      ],
      "metadata": {
        "id": "Qbrb9LwTMCOU"
      }
    },
    {
      "cell_type": "code",
      "source": [
        "n = int(input())\n",
        "a = 1\n",
        "b = 1\n",
        "for i in range(n+1):\n",
        "  if i == 0 or i == 1:\n",
        "    print(1, end=\" \")\n",
        "    continue\n",
        "  print(a+b, end=\" \")\n",
        "  #temp = a\n",
        "  #a = b\n",
        "  #b = temp + b\n",
        "  a,b = b,a+b"
      ],
      "metadata": {
        "id": "QDVazqkIMCOU"
      },
      "execution_count": null,
      "outputs": []
    },
    {
      "cell_type": "markdown",
      "source": [
        "<div dir=rtl>\n",
        "روش دوم برای حل مسئله بالا:\n",
        "</div>"
      ],
      "metadata": {
        "id": "nRjOlEhTMCOU"
      }
    },
    {
      "cell_type": "code",
      "source": [
        "n = int(input())\n",
        "a = 0\n",
        "b = 1\n",
        "if n >= 0 :\n",
        "  print(1, end=\" \")\n",
        "for i in range(1,n+1):\n",
        "  print(a+b, end=\" \")\n",
        "  a,b = b,a+b"
      ],
      "metadata": {
        "id": "Ct9fgPKnMCOU"
      },
      "execution_count": null,
      "outputs": []
    },
    {
      "cell_type": "markdown",
      "source": [
        "<div dir = rtl>\n",
        "برنامه ای بنویسید که n را از ورودی خوانده و جدول ضرب اعداد از 1 تا n را چاپ کند.\n",
        "</div>"
      ],
      "metadata": {
        "id": "4-HQvqrtMCOU"
      }
    },
    {
      "cell_type": "code",
      "source": [],
      "metadata": {
        "id": "_LycCfnsMCOU"
      },
      "execution_count": null,
      "outputs": []
    },
    {
      "cell_type": "markdown",
      "source": [
        "<div dir=rtl>\n",
        "برای ایجاد حلقه های تکرار از while و for استفاده می کنیم.\n",
        "</br>\n",
        "while condition :\n",
        "</br>\n",
        "  (while block)\n",
        "\n",
        "</div>"
      ],
      "metadata": {
        "id": "WhXmYHcEMF1v"
      }
    },
    {
      "cell_type": "markdown",
      "source": [
        "<div dir=rtl>\n",
        "سوال: عددی را بخواند و از عدد 1 تا آن عدد را چاپ کند.\n",
        "</div>"
      ],
      "metadata": {
        "id": "W1ulBhKoMF1v"
      }
    },
    {
      "cell_type": "code",
      "source": [
        "num = int(input())\n",
        "i = 0\n",
        "while i < num :\n",
        "  print(i+1)\n",
        "  i += 1\n"
      ],
      "metadata": {
        "id": "ABU5wbb3MF1w"
      },
      "execution_count": null,
      "outputs": []
    },
    {
      "cell_type": "code",
      "source": [
        "num = int(input())\n",
        "i = 1\n",
        "while i <= num :\n",
        "  print(i)\n",
        "  i += 1"
      ],
      "metadata": {
        "id": "3djQ5HMMMF1w"
      },
      "execution_count": null,
      "outputs": []
    },
    {
      "cell_type": "code",
      "source": [
        "num = int(input())\n",
        "i = 1\n",
        "sum = 0\n",
        "while i <= num :\n",
        "  if num % i == 0 :\n",
        "    sum += i\n",
        "  i += 1\n",
        "\n",
        "print(f\"Sum of divisors={sum}\")"
      ],
      "metadata": {
        "id": "9wpaNgABMF1w"
      },
      "execution_count": null,
      "outputs": []
    },
    {
      "cell_type": "code",
      "execution_count": null,
      "metadata": {
        "id": "S9zPcO33MF1w"
      },
      "outputs": [],
      "source": []
    },
    {
      "cell_type": "markdown",
      "source": [
        "<div dir=rtl>\n",
        "سوال: تا وقتی کاربر عدد 0 را وارد نکرده، از کاربر عدد بگیرد. و پس از آن ماکزیمم آنها، مینیمم آنها، مجموع و میانگین آنها را محاسبه و چاپ کند.\n",
        "</div>"
      ],
      "metadata": {
        "id": "PrdNU992MF1w"
      }
    },
    {
      "cell_type": "code",
      "source": [
        "num = float(input())\n",
        "min = num\n",
        "max = num\n",
        "sum = 0\n",
        "cnt = 1\n",
        "while num != 0 :\n",
        "  if num < min :\n",
        "    min = num\n",
        "  if num > max :\n",
        "    max = num\n",
        "  sum += num\n",
        "  num = float(input())\n",
        "  cnt+=1\n",
        "print(f\"The min {min}, The max {max}\")\n",
        "print(f\"The sum {sum}, The average {sum/cnt}\")"
      ],
      "metadata": {
        "colab": {
          "base_uri": "https://localhost:8080/"
        },
        "outputId": "c353b438-cde2-4bf6-cf68-6962e22e0f78",
        "id": "bp0faFyxMF1w"
      },
      "execution_count": null,
      "outputs": [
        {
          "output_type": "stream",
          "name": "stdout",
          "text": [
            "12\n",
            "13\n",
            "0\n",
            "The min 12.0, The max 13.0\n",
            "The sum 25.0, The average 8.333333333333334\n"
          ]
        }
      ]
    },
    {
      "cell_type": "markdown",
      "source": [
        "<div dir=rtl>\n",
        "اصلاح کد بالا:\n",
        "با استفاده از break\n",
        "</div>"
      ],
      "metadata": {
        "id": "OOwJitq1MF1x"
      }
    },
    {
      "cell_type": "code",
      "source": [
        "import math\n",
        "min = math.inf\n",
        "max = -math.inf\n",
        "cnt = 0\n",
        "sum = 0\n",
        "while True :\n",
        "  num = float(input())\n",
        "  if num == 0 :\n",
        "    break\n",
        "  cnt += 1\n",
        "  if num < min :\n",
        "    min = num\n",
        "  if num > max :\n",
        "    max = num\n",
        "  sum += num\n",
        "print(f\"The min {min:.2f}, The max {max}\")"
      ],
      "metadata": {
        "id": "ecUkbaV8MF1x"
      },
      "execution_count": null,
      "outputs": []
    },
    {
      "cell_type": "markdown",
      "source": [
        "<div dir=rtl>\n",
        "با استفاده از دستور break می توانیم، از یک حلقه تکرار خارج شویم.\n",
        "</br>\n",
        "هنگامی که کنترل به دستور break که در داخل یک حلقه تکرار قرار داده شده است، برسد\n",
        "</br>\n",
        "به اولین دستور بعد از حلقه تکرار منقل خواهد شد. و آن دستور را اجرا می کند.\n",
        "</div>"
      ],
      "metadata": {
        "id": "0K_STV9rMF1x"
      }
    },
    {
      "cell_type": "markdown",
      "source": [
        "<div dir=rtl>\n",
        "دستور continue نیز در داخل حلقه های تکرار به کار می رود.\n",
        "</br>\n",
        "هنگامی که کنترل به دستور continue می رسد:\n",
        "به ابتدای حلقه تکرار منتقل شده و در صوتیکه شرط حلقه همچنان برقرار باشد، دستورات حلقه از ابتدای آن اجرا می شوند.\n",
        "</div>"
      ],
      "metadata": {
        "id": "yGbt-LiXMF1x"
      }
    },
    {
      "cell_type": "code",
      "source": [
        "while True:\n",
        "  print('Who are you?')\n",
        "  name = input()\n",
        "  if name != 'Joe':\n",
        "    continue\n",
        "  print('Hello, Joe. What is the password? (It is a fish.)')\n",
        "  password = input()\n",
        "  if password == 'swordfish':\n",
        "    break\n",
        "print('Access granted.')"
      ],
      "metadata": {
        "id": "FDRjGfizMF1x"
      },
      "execution_count": null,
      "outputs": []
    },
    {
      "cell_type": "markdown",
      "source": [
        "<div dir=rtl>\n",
        "س: برنامه ای بنویسید که تعدادی عدد را خوانده و تعداد اعدادی را همه ارقام آنها با هم برابر است را به دست آورد.\n",
        "برای خروج از برنامه عدد -99 وارد می شود.\n",
        "</div>"
      ],
      "metadata": {
        "id": "73WWUcnYMF1y"
      }
    },
    {
      "cell_type": "code",
      "source": [
        "cnt = 0\n",
        "while True:\n",
        "  num = int(input())\n",
        "  if num == -99 :\n",
        "    break\n",
        "  \n",
        "  p_digit = num % 10\n",
        "  is_equal_digit = True\n",
        "  while num > 0 :\n",
        "    digit = num % 10\n",
        "    if p_digit != digit:\n",
        "      is_equal_digit = False\n",
        "      break\n",
        "    num = num // 10\n",
        "  if is_equal_digit :\n",
        "    cnt += 1\n",
        "\n",
        "print(f\"The number of the equal digit {cnt}\")"
      ],
      "metadata": {
        "colab": {
          "base_uri": "https://localhost:8080/"
        },
        "outputId": "e6bac650-fd48-473e-8c1d-a6f0405b5923",
        "id": "Dng06cyoMF1y"
      },
      "execution_count": null,
      "outputs": [
        {
          "output_type": "stream",
          "name": "stdout",
          "text": [
            "123\n",
            "33\n",
            "-99\n",
            "The number of the equal digit 1\n"
          ]
        }
      ]
    },
    {
      "cell_type": "code",
      "source": [
        "cnt = 0\n",
        "while True:\n",
        "  num = int(input())\n",
        "  if num == -99 :\n",
        "    break\n",
        "  \n",
        "  p_digit = num % 10\n",
        "\n",
        "  digit = p_digit\n",
        "  while num > 0 and p_digit == digit:\n",
        "    digit = num % 10\n",
        "    num = num // 10\n",
        "  if p_digit == digit:\n",
        "    cnt += 1\n",
        "\n",
        "print(f\"The number of the equal digit {cnt}\")"
      ],
      "metadata": {
        "colab": {
          "base_uri": "https://localhost:8080/"
        },
        "outputId": "ae7806af-215d-4ad3-dcb6-f0170e40b2f9",
        "id": "BP-kKtwhMF1y"
      },
      "execution_count": null,
      "outputs": [
        {
          "output_type": "stream",
          "name": "stdout",
          "text": [
            "33\n",
            "-99\n",
            "The number of the equal digit 1\n"
          ]
        }
      ]
    },
    {
      "cell_type": "code",
      "source": [
        "while (num := int(input())) != -99 :"
      ],
      "metadata": {
        "id": "8fGmXn1dMF1y"
      },
      "execution_count": null,
      "outputs": []
    },
    {
      "cell_type": "markdown",
      "source": [
        "<div dir=rtl>\n",
        "نوشتن جملات شرطی در یک خط\n",
        "</br>\n",
        "</div>"
      ],
      "metadata": {
        "id": "cik8VZ0GMF1y"
      }
    },
    {
      "cell_type": "code",
      "source": [
        "print('equal') if 1 == 1 else print('not equal')"
      ],
      "metadata": {
        "id": "PHKyNK3SMF1z"
      },
      "execution_count": null,
      "outputs": []
    },
    {
      "cell_type": "code",
      "source": [
        "if 1==1 :\n",
        "  print('equal')\n",
        "else:\n",
        "  print('not equal')"
      ],
      "metadata": {
        "id": "9aLfeNY9MF1z"
      },
      "execution_count": null,
      "outputs": []
    },
    {
      "cell_type": "markdown",
      "source": [
        "<div dir=rtl>\n",
        "استفاده از عبارت های انتسابی:\n",
        "</br>\n",
        "عبارت‌های انتسابی (Assignment Expressions) قابلیت جدیدی است که از نسخه‌ی ۳.۸ به پایتون اضافه شده است و به ما کمک می‌کند کد را ساده‌تر و کوتاه‌تر بنویسیم. این عبارت‌ها با استفاده از عملگر := نوشته می‌شوند.\n",
        "</br>\n",
        "این عملگر ابتدا مقدار مشخص شده را به متغیر نسبت می‌دهد و سپس آن مقدار را برمی‌گرداند. فرض کنید میخواهید یک متغیر را مقداردهی کرده و آن را چاپ کنید.\n",
        "</div>"
      ],
      "metadata": {
        "id": "CG9XF-lnMF1z"
      }
    },
    {
      "cell_type": "code",
      "source": [
        "temp = 5\n",
        "print(temp)"
      ],
      "metadata": {
        "id": "IcsTFKI7MF1z"
      },
      "execution_count": null,
      "outputs": []
    },
    {
      "cell_type": "code",
      "source": [
        "print(temp:=5)"
      ],
      "metadata": {
        "id": "GeWpTjsJMF1z"
      },
      "execution_count": null,
      "outputs": []
    },
    {
      "cell_type": "markdown",
      "source": [
        "<div dir =rtl>\n",
        "استفاده از این عملگر در نوشتن حلقه‌ها می‌تواند مفید باشد\n",
        "</br>\n",
        "نوشتن کد سوال قبل با استفاده از عملگرهای انتسابی:\n",
        "</div>"
      ],
      "metadata": {
        "id": "oNk_czJ8MF1z"
      }
    },
    {
      "cell_type": "code",
      "source": [],
      "metadata": {
        "id": "VIrqERkiMF1z"
      },
      "execution_count": null,
      "outputs": []
    },
    {
      "cell_type": "markdown",
      "source": [
        "<div dir=rtl>\n",
        "حلقه for و تابع range:\n",
        "</br>\n",
        "در صورتیکه بخواهیم، یک حلقه به تعداد مشخص تکرار شود از حلقه for استفاده می کنیم.\n",
        "</br>\n",
        "در پایتون این کار را با استفاده از حلقه for و تابع range انجام می دهیم.\n",
        "\n",
        "\n",
        "</div>"
      ],
      "metadata": {
        "id": "ZQMm9FPQMF1z"
      }
    },
    {
      "cell_type": "code",
      "source": [
        "for (a variable name) in range(n,[m,s]) \n",
        "  (for block)"
      ],
      "metadata": {
        "id": "MZwkCStqMF10"
      },
      "execution_count": null,
      "outputs": []
    },
    {
      "cell_type": "code",
      "source": [
        "print('My name is')\n",
        "for i in range(5):\n",
        "  print('Jimmy Five Times (' + str(i) + ')')"
      ],
      "metadata": {
        "id": "FXRtG9jcMF10"
      },
      "execution_count": null,
      "outputs": []
    },
    {
      "cell_type": "markdown",
      "source": [
        "<div dir = rtl>\n",
        "تابع range:\n",
        "range(n) : دنباله ای از اعداد صحیح که از 0 شروع شده و با n-1 خاتمه می یابد.\n",
        "</br>\n",
        "range(n,m) : دنباله ای از اعداد صحیح که از n شروع شده و با m-1 خاتمه می باید.\n",
        "</br>\n",
        "range(n,m,s) : دنباله ای از اعداد صحیح که از n شروع شده و حداکثر با m-1 خاتمه می یابد و \n",
        "اعداد s تا s تا اضافه می شوند.\n",
        "</br>\n",
        "</div>"
      ],
      "metadata": {
        "id": "4iZDNE-_MF10"
      }
    },
    {
      "cell_type": "code",
      "source": [
        "for i in range(10) :\n",
        "  print(i,end=\" \")"
      ],
      "metadata": {
        "colab": {
          "base_uri": "https://localhost:8080/"
        },
        "outputId": "91e42fc2-cb98-4da4-e500-b3f0997961dd",
        "id": "ebynJz88MF10"
      },
      "execution_count": null,
      "outputs": [
        {
          "output_type": "stream",
          "name": "stdout",
          "text": [
            "0 1 2 3 4 5 6 7 8 9 "
          ]
        }
      ]
    },
    {
      "cell_type": "code",
      "source": [
        "for i in range(-1) :\n",
        "  print(i, end=\" \")"
      ],
      "metadata": {
        "id": "yR1i1v08MF10"
      },
      "execution_count": null,
      "outputs": []
    },
    {
      "cell_type": "code",
      "source": [
        "for i in range(1,-1) :\n",
        "  print(i, end=\" \")"
      ],
      "metadata": {
        "id": "bmVGPT6dMF10"
      },
      "execution_count": null,
      "outputs": []
    },
    {
      "cell_type": "code",
      "source": [
        "for i in range(-1,3):\n",
        "  print(i, end=\" \")"
      ],
      "metadata": {
        "colab": {
          "base_uri": "https://localhost:8080/"
        },
        "outputId": "7cf8f6af-c6cc-47a9-d6da-0ed76632239b",
        "id": "hHjdIh9tMF10"
      },
      "execution_count": null,
      "outputs": [
        {
          "output_type": "stream",
          "name": "stdout",
          "text": [
            "-1 0 1 2 "
          ]
        }
      ]
    },
    {
      "cell_type": "code",
      "source": [
        "for i in range(2, 10, 3):\n",
        "  print(i, end=\" \")"
      ],
      "metadata": {
        "colab": {
          "base_uri": "https://localhost:8080/"
        },
        "outputId": "c55a4381-b029-4a0f-80c5-7f35a123fd7a",
        "id": "MmIfj-jrMF11"
      },
      "execution_count": null,
      "outputs": [
        {
          "output_type": "stream",
          "name": "stdout",
          "text": [
            "2 5 8 "
          ]
        }
      ]
    },
    {
      "cell_type": "code",
      "source": [
        "for i in range(2, 10, -3):\n",
        "  print(i, end=\" \")"
      ],
      "metadata": {
        "id": "V0CQIwpeMF11"
      },
      "execution_count": null,
      "outputs": []
    },
    {
      "cell_type": "code",
      "source": [
        "for i in range(10, 2, -3):\n",
        "  print(i, end=\" \")"
      ],
      "metadata": {
        "colab": {
          "base_uri": "https://localhost:8080/"
        },
        "outputId": "5968f40e-78e0-4fc1-9264-d00c871be17e",
        "id": "vPrkalcSMF11"
      },
      "execution_count": null,
      "outputs": [
        {
          "output_type": "stream",
          "name": "stdout",
          "text": [
            "10 7 4 "
          ]
        }
      ]
    },
    {
      "cell_type": "code",
      "source": [
        "for i in range(-1,5, -1):\n",
        "  print(i, end= \" \")"
      ],
      "metadata": {
        "id": "pqaxTR2sMF11"
      },
      "execution_count": null,
      "outputs": []
    },
    {
      "cell_type": "markdown",
      "source": [
        "<div dir=rtl>\n",
        "برنامه ای بنویسید که عددی را از ورودی گرفته و فاکتوریل آن را چاپ کند.\n",
        "</div>"
      ],
      "metadata": {
        "id": "fMtPQcYNMF11"
      }
    },
    {
      "cell_type": "code",
      "source": [
        "num = int(input())\n",
        "fact = 1\n",
        "for i in range(1,num+1):\n",
        "  fact *= i\n",
        "print(f\"factorial of {num} is {fact}\")"
      ],
      "metadata": {
        "colab": {
          "base_uri": "https://localhost:8080/"
        },
        "outputId": "93b65722-e87d-4360-f39e-c878b9f70928",
        "id": "625H-jB0MF11"
      },
      "execution_count": null,
      "outputs": [
        {
          "output_type": "stream",
          "name": "stdout",
          "text": [
            "1\n",
            "factorial of 1 is 1\n"
          ]
        }
      ]
    },
    {
      "cell_type": "markdown",
      "source": [
        "<div dir=rtl>\n",
        "سوال: برنامه ای بنویسید که عددی را خوانده و تشخیص بدهد عدد کامل است یا خیر؟\n",
        "</div>\n",
        "\n"
      ],
      "metadata": {
        "id": "7ycdrJsaMF11"
      }
    },
    {
      "cell_type": "code",
      "source": [
        "num = int(input())\n",
        "sum = 0\n",
        "for i in range(1,num):\n",
        "  if num % i == 0 :\n",
        "    sum += i\n",
        "if sum == num :\n",
        "  print(\"complete\")\n",
        "else:\n",
        "  print(\"not complete\")"
      ],
      "metadata": {
        "colab": {
          "base_uri": "https://localhost:8080/"
        },
        "outputId": "722ce8c5-f957-47db-b931-b1a7082dae4b",
        "id": "SBfgDLuSMF12"
      },
      "execution_count": null,
      "outputs": [
        {
          "output_type": "stream",
          "name": "stdout",
          "text": [
            "36\n",
            "not complete\n"
          ]
        }
      ]
    },
    {
      "cell_type": "markdown",
      "source": [
        "<div dir = rtl>\n",
        "برنامه ای بنویسید که اعداد کامل کمتر از 10000 را چاپ کند\n",
        "</div>"
      ],
      "metadata": {
        "id": "PII-cWpxMF12"
      }
    },
    {
      "cell_type": "code",
      "source": [
        "for num in range(1,10001):\n",
        "  sum = 0\n",
        "  for i in range(1,num):\n",
        "    if num % i == 0 :\n",
        "      sum += i\n",
        "  if sum == num :\n",
        "    print(num)\n"
      ],
      "metadata": {
        "colab": {
          "base_uri": "https://localhost:8080/"
        },
        "outputId": "4ca09d29-148e-4066-da1f-0b712c4c6a16",
        "id": "NjI-QKf7MF12"
      },
      "execution_count": null,
      "outputs": [
        {
          "output_type": "stream",
          "name": "stdout",
          "text": [
            "6\n",
            "28\n",
            "496\n",
            "8128\n"
          ]
        }
      ]
    },
    {
      "cell_type": "markdown",
      "source": [
        "<div dir=rtl>\n",
        "سوال : برنامه ای بنویسید که عدد را از ورودی خوانده و دنباله فیبوناچی تا آن عدد را حساب کند.\n",
        "</div>"
      ],
      "metadata": {
        "id": "jM-B2mt6MF12"
      }
    },
    {
      "cell_type": "code",
      "source": [
        "n = int(input())\n",
        "a = 1\n",
        "b = 1\n",
        "for i in range(n+1):\n",
        "  if i == 0 or i == 1:\n",
        "    print(1, end=\" \")\n",
        "    continue\n",
        "  print(a+b, end=\" \")\n",
        "  #temp = a\n",
        "  #a = b\n",
        "  #b = temp + b\n",
        "  a,b = b,a+b"
      ],
      "metadata": {
        "id": "42OamNR9MF12"
      },
      "execution_count": null,
      "outputs": []
    },
    {
      "cell_type": "markdown",
      "source": [
        "<div dir=rtl>\n",
        "روش دوم برای حل مسئله بالا:\n",
        "</div>"
      ],
      "metadata": {
        "id": "4s7ar6LgMF12"
      }
    },
    {
      "cell_type": "code",
      "source": [
        "n = int(input())\n",
        "a = 0\n",
        "b = 1\n",
        "if n >= 0 :\n",
        "  print(1, end=\" \")\n",
        "for i in range(1,n+1):\n",
        "  print(a+b, end=\" \")\n",
        "  a,b = b,a+b"
      ],
      "metadata": {
        "id": "CCrS_AbWMF12"
      },
      "execution_count": null,
      "outputs": []
    },
    {
      "cell_type": "markdown",
      "source": [
        "<div dir = rtl>\n",
        "برنامه ای بنویسید که n را از ورودی خوانده و جدول ضرب اعداد از 1 تا n را چاپ کند.\n",
        "</div>"
      ],
      "metadata": {
        "id": "269f8rFfMF13"
      }
    },
    {
      "cell_type": "code",
      "source": [],
      "metadata": {
        "id": "rK0h3P8gMF13"
      },
      "execution_count": null,
      "outputs": []
    }
  ]
}